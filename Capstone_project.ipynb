{
 "cells": [
  {
   "cell_type": "markdown",
   "metadata": {},
   "source": [
    "# <center> <span style=\"color:Blue\"> **CAPSTONE PROJECT - The Battle of the Neighborhoods** </span> </center>\n",
    "\n",
    "This notebook will be used for the capstone project. This is the final project of \"**IBM Data Science Certificat Professionnel**\" in partnership with Coursera"
   ]
  },
  {
   "cell_type": "markdown",
   "metadata": {},
   "source": [
    "# Table of Content \n",
    "\n",
    "* [Introduction: Business Problem](#introduction)\n",
    "* [Data](#data)\n",
    "* [Methodology](#methodology)\n",
    "* [Analysis](#analysis)\n",
    "* [Results and Discussion](#results)\n",
    "* [Conclusion](#conclusion)"
   ]
  },
  {
   "cell_type": "markdown",
   "metadata": {},
   "source": [
    "# Introduction <a name=\"introduction\"></a>\n",
    "\n",
    "Our goal here is to provide insight on the different neighborhoods in Bordeaux Metropole that will help decider to choose thecorrect place to invest.   \n",
    "Choosing a correct business emplacement will depend on several aspects: the type of business, the target, the population density, the competition, price per square meter of the local …).    \n",
    "Choosing a correct place to live will depend also on several aspects : the age of the buyer, the family structure (single, couple, kids…) , their hobbies, the place of their work, commodities, transport services, price per square meter, type of housing facilities ….    \n",
    "Finally, investors will be mainly interested in the capacity of the borrowers to pay of their loan, but they will also be interested in the potential price trends of the neighborhood in order to secure their investment.    \n",
    "\n",
    "In order to achieve our goal of showing relationships between neighborhoods, a descriptive approach will be conduct. We will aggregate neighborhoods in clusters depending on the following information: \n",
    "* Real estate price \n",
    "* Most common type of real estate properties (apartments, houses…)\n",
    "* Principal venues of the neighborhoods \n"
   ]
  },
  {
   "cell_type": "code",
   "execution_count": 121,
   "metadata": {},
   "outputs": [],
   "source": [
    "import pandas as pd \n",
    "import numpy as np\n",
    "# import of request in order to use FOURSQUARE API \n",
    "import requests\n",
    "import json\n",
    "from pandas.io.json import json_normalize \n",
    "import folium\n",
    "from bs4 import BeautifulSoup\n",
    "import requests"
   ]
  },
  {
   "cell_type": "markdown",
   "metadata": {},
   "source": [
    "# Data <a name=\"data\"></a>\n",
    "\n",
    "First we need to import all the data necessary to conduct our project. We want to create clusters that allow us to decide which activities are most likely to succeed in a given neighborhood, we need to capture some informations like, the location of neighborhoods, the main venues of it, the real estate price, <span style=\"color:red\">the population density</span> and the structure of real estate market. To acheive it, we will use several databases and API : \n",
    "\n",
    "A. We construct a dataset of towns and neighborhoods of Bordeaux Metropole    \n",
    "B. We obtain real estate information from dvf API    \n",
    "C. We enrich our data with FOURSQUARE venue   \n",
    "D. We classify the neighborhoods   \n",
    "E. <span style=\"color:red\">We add population density (INSEE)</span>   "
   ]
  },
  {
   "cell_type": "markdown",
   "metadata": {},
   "source": [
    "Our first objective is to obtain the coordinates of the different neighborhoods of Bordeaux Metropole.   \n",
    "No dataset exists with the coordinates of neighborhoods, and the town to which their are attached. \n",
    "For this reason, we will have to decline our work in 4 parts : \n",
    " * In a first time we found a dataset with all the neighborhoods of Bordeaux Metropole in a json format. This dataset does not contain the towns to witch neighborhoods are attached . The dataset is available here : \n",
    "https://www.data.gouv.fr/fr/datasets/quartiers-des-communes-sur-le-territoire-de-bordeaux-metropole/\n",
    " * In a second time, we will complete this dataset with a second one containing all the towns in the metropole (but without the neighborhoods) https://www.data.gouv.fr/fr/datasets/commune-sur-le-territoire-de-bordeaux-metropole/, \n",
    " * Then, we will enrich our dataframe with the name of the neighborhoods' towns and postal codes using a restful API provided by the city of Bordeaux , \n",
    " * Finally, we will use an geocoder API to complete our dataset with the coordinates of the additional towns.\n",
    "Thanks to that, we will have a complete dataset of Bordeaux Metropole "
   ]
  },
  {
   "cell_type": "markdown",
   "metadata": {},
   "source": [
    "# A. Dataset of Bordeaux Metropole towns and neighborhoods\n",
    "## 1. Bordeaux neighborhoods\n",
    "\n",
    "| data type  | column name | content |\n",
    "| ------------ | ------------- | ----------- |\n",
    "|int  | GID | Primary key|\n",
    "|Geo Point |  Geo point | Geopooints|\n",
    "|Geo Shape |  Geo points  | geoshape of neighborhood|\n",
    "|int  | GEOM_ERR | error code geopoints |\n",
    "|String | NOM | neighborhood name|\n",
    "|String | INSEE |Code INSEE of town |\n",
    "|Boolean | VALIDE | validate neighborhood|\n",
    "|Boolean | QUARPOLI | political neighborhood|\n",
    "|Date | CDATE | creation date|\n",
    "|Date | MDATE | modification date|"
   ]
  },
  {
   "cell_type": "code",
   "execution_count": 2,
   "metadata": {},
   "outputs": [],
   "source": [
    "# we load the data  \n",
    "with open('project_data/se_quart_s.json',encoding=\"UTF-8\") as json_data:\n",
    "    bordeaux_data = json.load(json_data)"
   ]
  },
  {
   "cell_type": "markdown",
   "metadata": {},
   "source": [
    "Let's give a quick look at the data  "
   ]
  },
  {
   "cell_type": "code",
   "execution_count": 3,
   "metadata": {},
   "outputs": [
    {
     "data": {
      "text/plain": [
       "{'nom': 'Toctoucau',\n",
       " 'insee': '33318',\n",
       " 'mdate': '2016/12/02 10:36:56+01',\n",
       " 'valide': '1',\n",
       " 'quarpoli': '1',\n",
       " 'geo_point_2d': [44.766930057, -0.733236943925],\n",
       " 'cdate': '2016/03/31 19:45:28+02',\n",
       " 'gid': 135}"
      ]
     },
     "execution_count": 3,
     "metadata": {},
     "output_type": "execute_result"
    }
   ],
   "source": [
    "# we are interesed by the name of the neighborhood, \n",
    "#by the insee code (key to find town names) \n",
    "#and by the geo_point_2d (FOURSQUARE)\n",
    "bordeaux_data['features'][0]['properties']"
   ]
  },
  {
   "cell_type": "code",
   "execution_count": 4,
   "metadata": {},
   "outputs": [
    {
     "data": {
      "text/plain": [
       "{'type': 'Polygon',\n",
       " 'coordinates': [[[-0.7236434, 44.7806362],\n",
       "   [-0.7263344, 44.7792995],\n",
       "   [-0.7291259, 44.7779141],\n",
       "   [-0.7307535, 44.7770885],\n",
       "   [-0.7332663, 44.7758391],\n",
       "   [-0.7338081, 44.7755676],\n",
       "   [-0.7338882, 44.7755114],\n",
       "   [-0.7339438, 44.7755508],\n",
       "   [-0.7339448, 44.7755444],\n",
       "   [-0.7339489, 44.7755483],\n",
       "   [-0.7343875, 44.7753319],\n",
       "   [-0.7403993, 44.7703313],\n",
       "   [-0.7408029, 44.77],\n",
       "   [-0.7441674, 44.7672699],\n",
       "   [-0.7512356, 44.7615481],\n",
       "   [-0.7517709, 44.761106],\n",
       "   [-0.7522809, 44.7606862],\n",
       "   [-0.752645, 44.7604251],\n",
       "   [-0.7587161, 44.7555004],\n",
       "   [-0.7531676, 44.7516568],\n",
       "   [-0.7506216, 44.7498913],\n",
       "   [-0.7501806, 44.7495772],\n",
       "   [-0.7501583, 44.7495867],\n",
       "   [-0.7461762, 44.7518437],\n",
       "   [-0.744993, 44.7525111],\n",
       "   [-0.7432294, 44.7535073],\n",
       "   [-0.7415752, 44.7544483],\n",
       "   [-0.7398473, 44.7554301],\n",
       "   [-0.7383658, 44.7562666],\n",
       "   [-0.7369807, 44.7570635],\n",
       "   [-0.7358568, 44.7577103],\n",
       "   [-0.7346792, 44.7583909],\n",
       "   [-0.733496, 44.7590618],\n",
       "   [-0.7334125, 44.7591081],\n",
       "   [-0.7318751, 44.7599938],\n",
       "   [-0.7310721, 44.7604924],\n",
       "   [-0.7301527, 44.7610626],\n",
       "   [-0.7298029, 44.7612852],\n",
       "   [-0.7292661, 44.7616309],\n",
       "   [-0.7286767, 44.7620095],\n",
       "   [-0.7279221, 44.7624933],\n",
       "   [-0.7267476, 44.7632629],\n",
       "   [-0.7255845, 44.7640322],\n",
       "   [-0.7247718, 44.7645895],\n",
       "   [-0.7238283, 44.7652324],\n",
       "   [-0.7226662, 44.7660241],\n",
       "   [-0.7219158, 44.7665402],\n",
       "   [-0.7213382, 44.7669292],\n",
       "   [-0.7206889, 44.7673742],\n",
       "   [-0.720003, 44.7678435],\n",
       "   [-0.7193501, 44.7682922],\n",
       "   [-0.718482, 44.7688798],\n",
       "   [-0.7173891, 44.7696183],\n",
       "   [-0.7163044, 44.7703693],\n",
       "   [-0.7159031, 44.7706509],\n",
       "   [-0.7153362, 44.7710018],\n",
       "   [-0.7147121, 44.7714001],\n",
       "   [-0.7141807, 44.7717303],\n",
       "   [-0.7140252, 44.7718271],\n",
       "   [-0.713864, 44.7719106],\n",
       "   [-0.7135251, 44.7720799],\n",
       "   [-0.7133895, 44.7721465],\n",
       "   [-0.7131956, 44.7722317],\n",
       "   [-0.7129189, 44.7723354],\n",
       "   [-0.7122732, 44.7725839],\n",
       "   [-0.7113451, 44.7729425],\n",
       "   [-0.7105917, 44.7732379],\n",
       "   [-0.7093439, 44.773723],\n",
       "   [-0.7085256, 44.7740317],\n",
       "   [-0.7076706, 44.7743628],\n",
       "   [-0.7090333, 44.775623],\n",
       "   [-0.7111102, 44.7775287],\n",
       "   [-0.7135943, 44.7797863],\n",
       "   [-0.7152666, 44.7813197],\n",
       "   [-0.7163516, 44.7822999],\n",
       "   [-0.7177187, 44.7835489],\n",
       "   [-0.7181763, 44.7839586],\n",
       "   [-0.7182575, 44.7838916],\n",
       "   [-0.719818, 44.7829206],\n",
       "   [-0.7201645, 44.7826982],\n",
       "   [-0.7214576, 44.7820243],\n",
       "   [-0.7234886, 44.7809898],\n",
       "   [-0.7236111, 44.7808838],\n",
       "   [-0.7236185, 44.7807896],\n",
       "   [-0.7235718, 44.7806851],\n",
       "   [-0.7236434, 44.7806362]]]}"
      ]
     },
     "execution_count": 4,
     "metadata": {},
     "output_type": "execute_result"
    }
   ],
   "source": [
    "#here we can take the geometry part to demarcate the neighborhood\n",
    "bordeaux_data['features'][0]['geometry']"
   ]
  },
  {
   "cell_type": "code",
   "execution_count": 5,
   "metadata": {},
   "outputs": [
    {
     "data": {
      "text/html": [
       "<div>\n",
       "<style scoped>\n",
       "    .dataframe tbody tr th:only-of-type {\n",
       "        vertical-align: middle;\n",
       "    }\n",
       "\n",
       "    .dataframe tbody tr th {\n",
       "        vertical-align: top;\n",
       "    }\n",
       "\n",
       "    .dataframe thead th {\n",
       "        text-align: right;\n",
       "    }\n",
       "</style>\n",
       "<table border=\"1\" class=\"dataframe\">\n",
       "  <thead>\n",
       "    <tr style=\"text-align: right;\">\n",
       "      <th></th>\n",
       "      <th>Neighborhood</th>\n",
       "      <th>INSEE</th>\n",
       "      <th>Latitude</th>\n",
       "      <th>Longitude</th>\n",
       "      <th>Geometry</th>\n",
       "    </tr>\n",
       "  </thead>\n",
       "  <tbody>\n",
       "  </tbody>\n",
       "</table>\n",
       "</div>"
      ],
      "text/plain": [
       "Empty DataFrame\n",
       "Columns: [Neighborhood, INSEE, Latitude, Longitude, Geometry]\n",
       "Index: []"
      ]
     },
     "execution_count": 5,
     "metadata": {},
     "output_type": "execute_result"
    }
   ],
   "source": [
    "# we create a data frame with the columns we are interested in :\n",
    "#columns \n",
    "columns=['Neighborhood','INSEE','Latitude','Longitude','Geometry']\n",
    "bordeaux_neighborhoods=pd.DataFrame(columns=columns)\n",
    "bordeaux_neighborhoods"
   ]
  },
  {
   "cell_type": "code",
   "execution_count": 6,
   "metadata": {},
   "outputs": [],
   "source": [
    "# loop in json file and fill dataframe a row at a time\n",
    "for data in bordeaux_data['features']:\n",
    "    neighborhood_name = data['properties']['nom']\n",
    "    neighborhodd_insee = data['properties']['insee']\n",
    "    neighborhood_latlon = data['properties']['geo_point_2d']\n",
    "    neighborhood_lat = neighborhood_latlon[0]\n",
    "    neighborhood_lon = neighborhood_latlon[1]\n",
    "    neighborhodd_geometry=data['geometry']\n",
    "    \n",
    "    bordeaux_neighborhoods = bordeaux_neighborhoods.append({'Neighborhood': neighborhood_name,\n",
    "                                                            'INSEE':neighborhodd_insee,\n",
    "                                                            'Latitude': neighborhood_lat,\n",
    "                                                            'Longitude': neighborhood_lon,\n",
    "                                                            'Geometry':neighborhodd_geometry\n",
    "                                                           }, ignore_index=True)"
   ]
  },
  {
   "cell_type": "code",
   "execution_count": 122,
   "metadata": {},
   "outputs": [
    {
     "data": {
      "text/plain": [
       "'https://www.insee.fr/fr/metadonnees/cog/intercommunalite-metropole/EPCI243300316-bordeaux-metropole'"
      ]
     },
     "execution_count": 122,
     "metadata": {},
     "output_type": "execute_result"
    }
   ],
   "source": [
    "url='https://www.insee.fr/fr/metadonnees/cog/intercommunalite-metropole/EPCI243300316-bordeaux-metropole'\n",
    "url"
   ]
  },
  {
   "cell_type": "code",
   "execution_count": 177,
   "metadata": {},
   "outputs": [],
   "source": [
    "#parsing the web page wikipedia\n",
    "page_response=requests.get(url,timeout=5)\n",
    "page_content = BeautifulSoup(page_response.content, 'lxml')"
   ]
  },
  {
   "cell_type": "code",
   "execution_count": 178,
   "metadata": {},
   "outputs": [],
   "source": [
    "tables=page_content.find_all('ul')\n",
    "table= page_content.find_all(\"li\",{\"class\":\"lien-produit chevron\"})\n",
    "rows = [row.get_text() for row in table]"
   ]
  },
  {
   "cell_type": "code",
   "execution_count": 179,
   "metadata": {},
   "outputs": [],
   "source": [
    "df = pd.DataFrame(rows)"
   ]
  },
  {
   "cell_type": "code",
   "execution_count": 180,
   "metadata": {},
   "outputs": [],
   "source": [
    "df=df[0].str.split('(',expand=True)\n",
    "df[1]=df[1].str.split(')',expand=True)\n",
    "df.columns=['Communes','INSEE']"
   ]
  },
  {
   "cell_type": "code",
   "execution_count": 181,
   "metadata": {},
   "outputs": [
    {
     "data": {
      "text/html": [
       "<div>\n",
       "<style scoped>\n",
       "    .dataframe tbody tr th:only-of-type {\n",
       "        vertical-align: middle;\n",
       "    }\n",
       "\n",
       "    .dataframe tbody tr th {\n",
       "        vertical-align: top;\n",
       "    }\n",
       "\n",
       "    .dataframe thead th {\n",
       "        text-align: right;\n",
       "    }\n",
       "</style>\n",
       "<table border=\"1\" class=\"dataframe\">\n",
       "  <thead>\n",
       "    <tr style=\"text-align: right;\">\n",
       "      <th></th>\n",
       "      <th>Communes</th>\n",
       "      <th>INSEE</th>\n",
       "    </tr>\n",
       "  </thead>\n",
       "  <tbody>\n",
       "    <tr>\n",
       "      <th>0</th>\n",
       "      <td>Ambarès-et-Lagrave</td>\n",
       "      <td>33003</td>\n",
       "    </tr>\n",
       "    <tr>\n",
       "      <th>1</th>\n",
       "      <td>Ambès</td>\n",
       "      <td>33004</td>\n",
       "    </tr>\n",
       "    <tr>\n",
       "      <th>2</th>\n",
       "      <td>Artigues-près-Bordeaux</td>\n",
       "      <td>33013</td>\n",
       "    </tr>\n",
       "    <tr>\n",
       "      <th>3</th>\n",
       "      <td>Bassens</td>\n",
       "      <td>33032</td>\n",
       "    </tr>\n",
       "    <tr>\n",
       "      <th>4</th>\n",
       "      <td>Bègles</td>\n",
       "      <td>33039</td>\n",
       "    </tr>\n",
       "    <tr>\n",
       "      <th>5</th>\n",
       "      <td>Blanquefort</td>\n",
       "      <td>33056</td>\n",
       "    </tr>\n",
       "    <tr>\n",
       "      <th>6</th>\n",
       "      <td>Bordeaux</td>\n",
       "      <td>33063</td>\n",
       "    </tr>\n",
       "    <tr>\n",
       "      <th>7</th>\n",
       "      <td>Bouliac</td>\n",
       "      <td>33065</td>\n",
       "    </tr>\n",
       "    <tr>\n",
       "      <th>8</th>\n",
       "      <td>Le Bouscat</td>\n",
       "      <td>33069</td>\n",
       "    </tr>\n",
       "    <tr>\n",
       "      <th>9</th>\n",
       "      <td>Bruges</td>\n",
       "      <td>33075</td>\n",
       "    </tr>\n",
       "    <tr>\n",
       "      <th>10</th>\n",
       "      <td>Carbon-Blanc</td>\n",
       "      <td>33096</td>\n",
       "    </tr>\n",
       "    <tr>\n",
       "      <th>11</th>\n",
       "      <td>Cenon</td>\n",
       "      <td>33119</td>\n",
       "    </tr>\n",
       "    <tr>\n",
       "      <th>12</th>\n",
       "      <td>Eysines</td>\n",
       "      <td>33162</td>\n",
       "    </tr>\n",
       "    <tr>\n",
       "      <th>13</th>\n",
       "      <td>Floirac</td>\n",
       "      <td>33167</td>\n",
       "    </tr>\n",
       "    <tr>\n",
       "      <th>14</th>\n",
       "      <td>Gradignan</td>\n",
       "      <td>33192</td>\n",
       "    </tr>\n",
       "    <tr>\n",
       "      <th>15</th>\n",
       "      <td>Le Haillan</td>\n",
       "      <td>33200</td>\n",
       "    </tr>\n",
       "    <tr>\n",
       "      <th>16</th>\n",
       "      <td>Lormont</td>\n",
       "      <td>33249</td>\n",
       "    </tr>\n",
       "    <tr>\n",
       "      <th>17</th>\n",
       "      <td>Martignas-sur-Jalle</td>\n",
       "      <td>33273</td>\n",
       "    </tr>\n",
       "    <tr>\n",
       "      <th>18</th>\n",
       "      <td>Mérignac</td>\n",
       "      <td>33281</td>\n",
       "    </tr>\n",
       "    <tr>\n",
       "      <th>19</th>\n",
       "      <td>Parempuyre</td>\n",
       "      <td>33312</td>\n",
       "    </tr>\n",
       "    <tr>\n",
       "      <th>20</th>\n",
       "      <td>Pessac</td>\n",
       "      <td>33318</td>\n",
       "    </tr>\n",
       "    <tr>\n",
       "      <th>21</th>\n",
       "      <td>Saint-Aubin-de-Médoc</td>\n",
       "      <td>33376</td>\n",
       "    </tr>\n",
       "    <tr>\n",
       "      <th>22</th>\n",
       "      <td>Saint-Louis-de-Montferrand</td>\n",
       "      <td>33434</td>\n",
       "    </tr>\n",
       "    <tr>\n",
       "      <th>23</th>\n",
       "      <td>Saint-Médard-en-Jalles</td>\n",
       "      <td>33449</td>\n",
       "    </tr>\n",
       "    <tr>\n",
       "      <th>24</th>\n",
       "      <td>Saint-Vincent-de-Paul</td>\n",
       "      <td>33487</td>\n",
       "    </tr>\n",
       "    <tr>\n",
       "      <th>25</th>\n",
       "      <td>Le Taillan-Médoc</td>\n",
       "      <td>33519</td>\n",
       "    </tr>\n",
       "    <tr>\n",
       "      <th>26</th>\n",
       "      <td>Talence</td>\n",
       "      <td>33522</td>\n",
       "    </tr>\n",
       "    <tr>\n",
       "      <th>27</th>\n",
       "      <td>Villenave-d'Ornon</td>\n",
       "      <td>33550</td>\n",
       "    </tr>\n",
       "  </tbody>\n",
       "</table>\n",
       "</div>"
      ],
      "text/plain": [
       "                       Communes  INSEE\n",
       "0           Ambarès-et-Lagrave   33003\n",
       "1                        Ambès   33004\n",
       "2       Artigues-près-Bordeaux   33013\n",
       "3                      Bassens   33032\n",
       "4                       Bègles   33039\n",
       "5                  Blanquefort   33056\n",
       "6                     Bordeaux   33063\n",
       "7                      Bouliac   33065\n",
       "8                   Le Bouscat   33069\n",
       "9                       Bruges   33075\n",
       "10                Carbon-Blanc   33096\n",
       "11                       Cenon   33119\n",
       "12                     Eysines   33162\n",
       "13                     Floirac   33167\n",
       "14                   Gradignan   33192\n",
       "15                  Le Haillan   33200\n",
       "16                     Lormont   33249\n",
       "17         Martignas-sur-Jalle   33273\n",
       "18                    Mérignac   33281\n",
       "19                  Parempuyre   33312\n",
       "20                      Pessac   33318\n",
       "21        Saint-Aubin-de-Médoc   33376\n",
       "22  Saint-Louis-de-Montferrand   33434\n",
       "23      Saint-Médard-en-Jalles   33449\n",
       "24       Saint-Vincent-de-Paul   33487\n",
       "25            Le Taillan-Médoc   33519\n",
       "26                     Talence   33522\n",
       "27           Villenave-d'Ornon   33550"
      ]
     },
     "execution_count": 181,
     "metadata": {},
     "output_type": "execute_result"
    }
   ],
   "source": [
    "df"
   ]
  },
  {
   "cell_type": "markdown",
   "metadata": {},
   "source": [
    "## 2. Bordeaux Towns"
   ]
  },
  {
   "cell_type": "markdown",
   "metadata": {},
   "source": [
    "As this file do not have all towns of Bordeaux Metropole, we have found another dataset at : `\"https://opendata.bordeaux-metropole.fr/explore/dataset/fv_commu_s/table/\"` containing all bordeaux without the inforamtion about neighborhoods. \n",
    "We will add these towns and duplicate town name in neighborhood column.  "
   ]
  },
  {
   "cell_type": "code",
   "execution_count": 182,
   "metadata": {},
   "outputs": [],
   "source": [
    "with open('project_data/communes-33-gironde.geojson') as json_data_communes:\n",
    "    bordeaux_data_comm = json.load(json_data_communes)"
   ]
  },
  {
   "cell_type": "code",
   "execution_count": 188,
   "metadata": {},
   "outputs": [
    {
     "data": {
      "text/plain": [
       "{'type': 'Feature',\n",
       " 'geometry': {'type': 'Polygon',\n",
       "  'coordinates': [[[-0.6806837562335, 44.894819155016],\n",
       "    [-0.6692456744696, 44.895472713766],\n",
       "    [-0.66980499841904, 44.881618090198],\n",
       "    [-0.66389934870288, 44.866818999665],\n",
       "    [-0.66656419148017, 44.858082911212],\n",
       "    [-0.67540635132688, 44.85871506697],\n",
       "    [-0.71941084291414, 44.846929068826],\n",
       "    [-0.71860283362639, 44.850912111652],\n",
       "    [-0.7057123790245, 44.860980504208],\n",
       "    [-0.69426169060185, 44.867092106896],\n",
       "    [-0.68681271159591, 44.881014745771],\n",
       "    [-0.68566096628632, 44.890460137968],\n",
       "    [-0.6806837562335, 44.894819155016]]]},\n",
       " 'properties': {'code': '33200', 'nom': 'Haillan'}}"
      ]
     },
     "execution_count": 188,
     "metadata": {},
     "output_type": "execute_result"
    }
   ],
   "source": [
    "bordeaux_data_comm['features'][0]"
   ]
  },
  {
   "cell_type": "code",
   "execution_count": 191,
   "metadata": {},
   "outputs": [],
   "source": [
    "for data in bordeaux_data_comm['features']: \n",
    "    insee= data['properties']['code']\n",
    "    #latitude= data['fields']['geo_point_2d'][0]\n",
    "    #longitude=data['fields']['geo_point_2d'][1]\n",
    "    geometry =data['geometry']\n",
    "    town= data['properties']['nom']\n",
    "    if insee not in set(bordeaux_neighborhoods['INSEE']) and insee in set (df['INSEE']):\n",
    "        bordeaux_neighborhoods= bordeaux_neighborhoods.append({'Neighborhood':town ,\n",
    "                                                               'INSEE': insee,\n",
    "                                                               #'Latitude':latitude,\n",
    "                                                               #'Longitude':longitude,\n",
    "                                                               'Geometry': geometry\n",
    "                                                              },ignore_index=True)\n",
    "                                                           "
   ]
  },
  {
   "cell_type": "code",
   "execution_count": 192,
   "metadata": {},
   "outputs": [
    {
     "data": {
      "text/html": [
       "<div>\n",
       "<style scoped>\n",
       "    .dataframe tbody tr th:only-of-type {\n",
       "        vertical-align: middle;\n",
       "    }\n",
       "\n",
       "    .dataframe tbody tr th {\n",
       "        vertical-align: top;\n",
       "    }\n",
       "\n",
       "    .dataframe thead th {\n",
       "        text-align: right;\n",
       "    }\n",
       "</style>\n",
       "<table border=\"1\" class=\"dataframe\">\n",
       "  <thead>\n",
       "    <tr style=\"text-align: right;\">\n",
       "      <th></th>\n",
       "      <th>INSEE</th>\n",
       "      <th>Latitude</th>\n",
       "      <th>Longitude</th>\n",
       "      <th>Geometry</th>\n",
       "      <th>postal_code</th>\n",
       "      <th>town</th>\n",
       "      <th>Neighborhood</th>\n",
       "    </tr>\n",
       "  </thead>\n",
       "  <tbody>\n",
       "    <tr>\n",
       "      <th>0</th>\n",
       "      <td>33318</td>\n",
       "      <td>44.766930</td>\n",
       "      <td>-0.733237</td>\n",
       "      <td>{'type': 'Polygon', 'coordinates': [[[-0.64496...</td>\n",
       "      <td>33600</td>\n",
       "      <td>PESSAC</td>\n",
       "      <td>TOCTOUCAU</td>\n",
       "    </tr>\n",
       "    <tr>\n",
       "      <th>1</th>\n",
       "      <td>33318</td>\n",
       "      <td>44.802887</td>\n",
       "      <td>-0.669208</td>\n",
       "      <td>{'type': 'Polygon', 'coordinates': [[[-0.64496...</td>\n",
       "      <td>33600</td>\n",
       "      <td>PESSAC</td>\n",
       "      <td>3M-BOURGAILH</td>\n",
       "    </tr>\n",
       "    <tr>\n",
       "      <th>2</th>\n",
       "      <td>33318</td>\n",
       "      <td>44.786531</td>\n",
       "      <td>-0.635364</td>\n",
       "      <td>{'type': 'Polygon', 'coordinates': [[[-0.64496...</td>\n",
       "      <td>33600</td>\n",
       "      <td>PESSAC</td>\n",
       "      <td>SAIGE</td>\n",
       "    </tr>\n",
       "    <tr>\n",
       "      <th>3</th>\n",
       "      <td>33318</td>\n",
       "      <td>44.807801</td>\n",
       "      <td>-0.628748</td>\n",
       "      <td>{'type': 'Polygon', 'coordinates': [[[-0.64496...</td>\n",
       "      <td>33600</td>\n",
       "      <td>PESSAC</td>\n",
       "      <td>CASINO</td>\n",
       "    </tr>\n",
       "    <tr>\n",
       "      <th>4</th>\n",
       "      <td>33281</td>\n",
       "      <td>44.822855</td>\n",
       "      <td>-0.626316</td>\n",
       "      <td>{'type': 'Polygon', 'coordinates': [[[-0.74630...</td>\n",
       "      <td>33700</td>\n",
       "      <td>MERIGNAC</td>\n",
       "      <td>ARLAC</td>\n",
       "    </tr>\n",
       "    <tr>\n",
       "      <th>...</th>\n",
       "      <td>...</td>\n",
       "      <td>...</td>\n",
       "      <td>...</td>\n",
       "      <td>...</td>\n",
       "      <td>...</td>\n",
       "      <td>...</td>\n",
       "      <td>...</td>\n",
       "    </tr>\n",
       "    <tr>\n",
       "      <th>61</th>\n",
       "      <td>33075</td>\n",
       "      <td>44.884238</td>\n",
       "      <td>-0.611147</td>\n",
       "      <td>{'type': 'Polygon', 'coordinates': [[[-0.62985...</td>\n",
       "      <td>33520</td>\n",
       "      <td>BRUGES</td>\n",
       "      <td>BRUGES</td>\n",
       "    </tr>\n",
       "    <tr>\n",
       "      <th>62</th>\n",
       "      <td>33143</td>\n",
       "      <td>44.971119</td>\n",
       "      <td>-0.454723</td>\n",
       "      <td>{'type': 'Polygon', 'coordinates': [[[-0.47272...</td>\n",
       "      <td>33240</td>\n",
       "      <td>CUBZAC-LES-PONTS</td>\n",
       "      <td>CUBZAC-LES-PONTS</td>\n",
       "    </tr>\n",
       "    <tr>\n",
       "      <th>63</th>\n",
       "      <td>33376</td>\n",
       "      <td>44.913422</td>\n",
       "      <td>-0.724673</td>\n",
       "      <td>{'type': 'Polygon', 'coordinates': [[[-0.71408...</td>\n",
       "      <td>33160</td>\n",
       "      <td>SAINT-AUBIN-DE-MEDOC</td>\n",
       "      <td>SAINT-AUBIN-DE-MEDOC</td>\n",
       "    </tr>\n",
       "    <tr>\n",
       "      <th>64</th>\n",
       "      <td>33056</td>\n",
       "      <td>44.908898</td>\n",
       "      <td>-0.630036</td>\n",
       "      <td>{'type': 'Polygon', 'coordinates': [[[-0.67052...</td>\n",
       "      <td>33290</td>\n",
       "      <td>BLANQUEFORT</td>\n",
       "      <td>BLANQUEFORT</td>\n",
       "    </tr>\n",
       "    <tr>\n",
       "      <th>65</th>\n",
       "      <td>33200</td>\n",
       "      <td>NaN</td>\n",
       "      <td>NaN</td>\n",
       "      <td>{'type': 'Polygon', 'coordinates': [[[-0.68068...</td>\n",
       "      <td>NaN</td>\n",
       "      <td>NaN</td>\n",
       "      <td>Haillan</td>\n",
       "    </tr>\n",
       "  </tbody>\n",
       "</table>\n",
       "<p>66 rows × 7 columns</p>\n",
       "</div>"
      ],
      "text/plain": [
       "    INSEE   Latitude  Longitude  \\\n",
       "0   33318  44.766930  -0.733237   \n",
       "1   33318  44.802887  -0.669208   \n",
       "2   33318  44.786531  -0.635364   \n",
       "3   33318  44.807801  -0.628748   \n",
       "4   33281  44.822855  -0.626316   \n",
       "..    ...        ...        ...   \n",
       "61  33075  44.884238  -0.611147   \n",
       "62  33143  44.971119  -0.454723   \n",
       "63  33376  44.913422  -0.724673   \n",
       "64  33056  44.908898  -0.630036   \n",
       "65  33200        NaN        NaN   \n",
       "\n",
       "                                             Geometry postal_code  \\\n",
       "0   {'type': 'Polygon', 'coordinates': [[[-0.64496...       33600   \n",
       "1   {'type': 'Polygon', 'coordinates': [[[-0.64496...       33600   \n",
       "2   {'type': 'Polygon', 'coordinates': [[[-0.64496...       33600   \n",
       "3   {'type': 'Polygon', 'coordinates': [[[-0.64496...       33600   \n",
       "4   {'type': 'Polygon', 'coordinates': [[[-0.74630...       33700   \n",
       "..                                                ...         ...   \n",
       "61  {'type': 'Polygon', 'coordinates': [[[-0.62985...       33520   \n",
       "62  {'type': 'Polygon', 'coordinates': [[[-0.47272...       33240   \n",
       "63  {'type': 'Polygon', 'coordinates': [[[-0.71408...       33160   \n",
       "64  {'type': 'Polygon', 'coordinates': [[[-0.67052...       33290   \n",
       "65  {'type': 'Polygon', 'coordinates': [[[-0.68068...         NaN   \n",
       "\n",
       "                    town          Neighborhood  \n",
       "0                 PESSAC             TOCTOUCAU  \n",
       "1                 PESSAC          3M-BOURGAILH  \n",
       "2                 PESSAC                 SAIGE  \n",
       "3                 PESSAC                CASINO  \n",
       "4               MERIGNAC                 ARLAC  \n",
       "..                   ...                   ...  \n",
       "61                BRUGES                BRUGES  \n",
       "62      CUBZAC-LES-PONTS      CUBZAC-LES-PONTS  \n",
       "63  SAINT-AUBIN-DE-MEDOC  SAINT-AUBIN-DE-MEDOC  \n",
       "64           BLANQUEFORT           BLANQUEFORT  \n",
       "65                   NaN               Haillan  \n",
       "\n",
       "[66 rows x 7 columns]"
      ]
     },
     "execution_count": 192,
     "metadata": {},
     "output_type": "execute_result"
    }
   ],
   "source": [
    "bordeaux_neighborhoods"
   ]
  },
  {
   "cell_type": "markdown",
   "metadata": {},
   "source": [
    "## 3. Completing missing towns and adding postal codes"
   ]
  },
  {
   "cell_type": "markdown",
   "metadata": {},
   "source": [
    "Now that we have all the coordinates of each neighborhood, we just need to add the town to which they are attached. \n",
    "To do so, we will use an API provided by public opensoft data.\n",
    "\n",
    "`url= 'https://public.opendatasoft.com/api/records/1.0/search/?dataset=correspondance-code-insee-code-postal&facet=insee_com&facet=nom_dept&facet=nom_region&facet=statut&refine.insee_com=33063'`"
   ]
  },
  {
   "cell_type": "code",
   "execution_count": 10,
   "metadata": {
    "scrolled": true
   },
   "outputs": [
    {
     "data": {
      "text/html": [
       "<div>\n",
       "<style scoped>\n",
       "    .dataframe tbody tr th:only-of-type {\n",
       "        vertical-align: middle;\n",
       "    }\n",
       "\n",
       "    .dataframe tbody tr th {\n",
       "        vertical-align: top;\n",
       "    }\n",
       "\n",
       "    .dataframe thead th {\n",
       "        text-align: right;\n",
       "    }\n",
       "</style>\n",
       "<table border=\"1\" class=\"dataframe\">\n",
       "  <thead>\n",
       "    <tr style=\"text-align: right;\">\n",
       "      <th></th>\n",
       "      <th>Neighborhood</th>\n",
       "      <th>INSEE</th>\n",
       "      <th>Latitude</th>\n",
       "      <th>Longitude</th>\n",
       "      <th>Geometry</th>\n",
       "      <th>postal_code</th>\n",
       "      <th>town</th>\n",
       "    </tr>\n",
       "  </thead>\n",
       "  <tbody>\n",
       "    <tr>\n",
       "      <th>0</th>\n",
       "      <td>Toctoucau</td>\n",
       "      <td>33318</td>\n",
       "      <td>44.766930</td>\n",
       "      <td>-0.733237</td>\n",
       "      <td>{'type': 'Polygon', 'coordinates': [[[-0.72364...</td>\n",
       "      <td>33600</td>\n",
       "      <td>PESSAC</td>\n",
       "    </tr>\n",
       "    <tr>\n",
       "      <th>1</th>\n",
       "      <td>3M-Bourgailh</td>\n",
       "      <td>33318</td>\n",
       "      <td>44.802887</td>\n",
       "      <td>-0.669208</td>\n",
       "      <td>{'type': 'Polygon', 'coordinates': [[[-0.67910...</td>\n",
       "      <td>33600</td>\n",
       "      <td>PESSAC</td>\n",
       "    </tr>\n",
       "    <tr>\n",
       "      <th>2</th>\n",
       "      <td>Saige</td>\n",
       "      <td>33318</td>\n",
       "      <td>44.786531</td>\n",
       "      <td>-0.635364</td>\n",
       "      <td>{'type': 'Polygon', 'coordinates': [[[-0.62840...</td>\n",
       "      <td>33600</td>\n",
       "      <td>PESSAC</td>\n",
       "    </tr>\n",
       "    <tr>\n",
       "      <th>3</th>\n",
       "      <td>Casino</td>\n",
       "      <td>33318</td>\n",
       "      <td>44.807801</td>\n",
       "      <td>-0.628748</td>\n",
       "      <td>{'type': 'Polygon', 'coordinates': [[[-0.62803...</td>\n",
       "      <td>33600</td>\n",
       "      <td>PESSAC</td>\n",
       "    </tr>\n",
       "    <tr>\n",
       "      <th>4</th>\n",
       "      <td>Arlac</td>\n",
       "      <td>33281</td>\n",
       "      <td>44.822855</td>\n",
       "      <td>-0.626316</td>\n",
       "      <td>{'type': 'Polygon', 'coordinates': [[[-0.62901...</td>\n",
       "      <td>33700</td>\n",
       "      <td>MERIGNAC</td>\n",
       "    </tr>\n",
       "    <tr>\n",
       "      <th>...</th>\n",
       "      <td>...</td>\n",
       "      <td>...</td>\n",
       "      <td>...</td>\n",
       "      <td>...</td>\n",
       "      <td>...</td>\n",
       "      <td>...</td>\n",
       "      <td>...</td>\n",
       "    </tr>\n",
       "    <tr>\n",
       "      <th>60</th>\n",
       "      <td>Saint-Jean-d'Illac</td>\n",
       "      <td>33422</td>\n",
       "      <td>NaN</td>\n",
       "      <td>NaN</td>\n",
       "      <td>NaN</td>\n",
       "      <td>33127</td>\n",
       "      <td>SAINT-JEAN-D'ILLAC</td>\n",
       "    </tr>\n",
       "    <tr>\n",
       "      <th>61</th>\n",
       "      <td>Bruges</td>\n",
       "      <td>33075</td>\n",
       "      <td>NaN</td>\n",
       "      <td>NaN</td>\n",
       "      <td>NaN</td>\n",
       "      <td>33520</td>\n",
       "      <td>BRUGES</td>\n",
       "    </tr>\n",
       "    <tr>\n",
       "      <th>62</th>\n",
       "      <td>Cubzac-les-Ponts</td>\n",
       "      <td>33143</td>\n",
       "      <td>NaN</td>\n",
       "      <td>NaN</td>\n",
       "      <td>NaN</td>\n",
       "      <td>33240</td>\n",
       "      <td>CUBZAC-LES-PONTS</td>\n",
       "    </tr>\n",
       "    <tr>\n",
       "      <th>63</th>\n",
       "      <td>Saint-Aubin-de-Médoc</td>\n",
       "      <td>33376</td>\n",
       "      <td>NaN</td>\n",
       "      <td>NaN</td>\n",
       "      <td>NaN</td>\n",
       "      <td>33160</td>\n",
       "      <td>SAINT-AUBIN-DE-MEDOC</td>\n",
       "    </tr>\n",
       "    <tr>\n",
       "      <th>64</th>\n",
       "      <td>Blanquefort</td>\n",
       "      <td>33056</td>\n",
       "      <td>NaN</td>\n",
       "      <td>NaN</td>\n",
       "      <td>NaN</td>\n",
       "      <td>33290</td>\n",
       "      <td>BLANQUEFORT</td>\n",
       "    </tr>\n",
       "  </tbody>\n",
       "</table>\n",
       "<p>65 rows × 7 columns</p>\n",
       "</div>"
      ],
      "text/plain": [
       "            Neighborhood  INSEE   Latitude  Longitude  \\\n",
       "0              Toctoucau  33318  44.766930  -0.733237   \n",
       "1           3M-Bourgailh  33318  44.802887  -0.669208   \n",
       "2                  Saige  33318  44.786531  -0.635364   \n",
       "3                 Casino  33318  44.807801  -0.628748   \n",
       "4                  Arlac  33281  44.822855  -0.626316   \n",
       "..                   ...    ...        ...        ...   \n",
       "60    Saint-Jean-d'Illac  33422        NaN        NaN   \n",
       "61                Bruges  33075        NaN        NaN   \n",
       "62      Cubzac-les-Ponts  33143        NaN        NaN   \n",
       "63  Saint-Aubin-de-Médoc  33376        NaN        NaN   \n",
       "64           Blanquefort  33056        NaN        NaN   \n",
       "\n",
       "                                             Geometry postal_code  \\\n",
       "0   {'type': 'Polygon', 'coordinates': [[[-0.72364...       33600   \n",
       "1   {'type': 'Polygon', 'coordinates': [[[-0.67910...       33600   \n",
       "2   {'type': 'Polygon', 'coordinates': [[[-0.62840...       33600   \n",
       "3   {'type': 'Polygon', 'coordinates': [[[-0.62803...       33600   \n",
       "4   {'type': 'Polygon', 'coordinates': [[[-0.62901...       33700   \n",
       "..                                                ...         ...   \n",
       "60                                                NaN       33127   \n",
       "61                                                NaN       33520   \n",
       "62                                                NaN       33240   \n",
       "63                                                NaN       33160   \n",
       "64                                                NaN       33290   \n",
       "\n",
       "                    town  \n",
       "0                 PESSAC  \n",
       "1                 PESSAC  \n",
       "2                 PESSAC  \n",
       "3                 PESSAC  \n",
       "4               MERIGNAC  \n",
       "..                   ...  \n",
       "60    SAINT-JEAN-D'ILLAC  \n",
       "61                BRUGES  \n",
       "62      CUBZAC-LES-PONTS  \n",
       "63  SAINT-AUBIN-DE-MEDOC  \n",
       "64           BLANQUEFORT  \n",
       "\n",
       "[65 rows x 7 columns]"
      ]
     },
     "execution_count": 10,
     "metadata": {},
     "output_type": "execute_result"
    }
   ],
   "source": [
    "for index, CODEINSEE in enumerate(bordeaux_neighborhoods['INSEE']): \n",
    "    url= f'https://public.opendatasoft.com/api/records/1.0/search/?dataset=correspondance-code-insee-code-postal&facet=insee_com&facet=nom_dept&facet=nom_region&facet=statut&refine.insee_com={CODEINSEE}'\n",
    "    results=requests.get(url).json()\n",
    "    bordeaux_neighborhoods.at[index,'postal_code']=results['records'][0]['fields']['postal_code']\n",
    "    bordeaux_neighborhoods.at[index,'town']=results['records'][0]['fields']['nom_comm']\n",
    "bordeaux_neighborhoods"
   ]
  },
  {
   "cell_type": "code",
   "execution_count": 11,
   "metadata": {},
   "outputs": [],
   "source": [
    "# we load the data containing all towns of bordeaux Metropole -- https://france-geojson.gregoiredavid.fr/\n",
    "with open('project_data/communes-33-gironde.geojson') as json_data_communes:\n",
    "    bordeaux_data_comm2 = json.load(json_data_communes)"
   ]
  },
  {
   "cell_type": "code",
   "execution_count": 12,
   "metadata": {},
   "outputs": [
    {
     "data": {
      "text/html": [
       "<div>\n",
       "<style scoped>\n",
       "    .dataframe tbody tr th:only-of-type {\n",
       "        vertical-align: middle;\n",
       "    }\n",
       "\n",
       "    .dataframe tbody tr th {\n",
       "        vertical-align: top;\n",
       "    }\n",
       "\n",
       "    .dataframe thead th {\n",
       "        text-align: right;\n",
       "    }\n",
       "</style>\n",
       "<table border=\"1\" class=\"dataframe\">\n",
       "  <thead>\n",
       "    <tr style=\"text-align: right;\">\n",
       "      <th></th>\n",
       "      <th>Neighborhood</th>\n",
       "      <th>INSEE</th>\n",
       "      <th>Latitude</th>\n",
       "      <th>Longitude</th>\n",
       "      <th>Geometry</th>\n",
       "      <th>postal_code</th>\n",
       "      <th>town</th>\n",
       "    </tr>\n",
       "  </thead>\n",
       "  <tbody>\n",
       "    <tr>\n",
       "      <th>0</th>\n",
       "      <td>Toctoucau</td>\n",
       "      <td>33318</td>\n",
       "      <td>44.766930</td>\n",
       "      <td>-0.733237</td>\n",
       "      <td>{'type': 'Polygon', 'coordinates': [[[-0.64496...</td>\n",
       "      <td>33600</td>\n",
       "      <td>PESSAC</td>\n",
       "    </tr>\n",
       "    <tr>\n",
       "      <th>1</th>\n",
       "      <td>3M-Bourgailh</td>\n",
       "      <td>33318</td>\n",
       "      <td>44.802887</td>\n",
       "      <td>-0.669208</td>\n",
       "      <td>{'type': 'Polygon', 'coordinates': [[[-0.64496...</td>\n",
       "      <td>33600</td>\n",
       "      <td>PESSAC</td>\n",
       "    </tr>\n",
       "    <tr>\n",
       "      <th>2</th>\n",
       "      <td>Saige</td>\n",
       "      <td>33318</td>\n",
       "      <td>44.786531</td>\n",
       "      <td>-0.635364</td>\n",
       "      <td>{'type': 'Polygon', 'coordinates': [[[-0.64496...</td>\n",
       "      <td>33600</td>\n",
       "      <td>PESSAC</td>\n",
       "    </tr>\n",
       "    <tr>\n",
       "      <th>3</th>\n",
       "      <td>Casino</td>\n",
       "      <td>33318</td>\n",
       "      <td>44.807801</td>\n",
       "      <td>-0.628748</td>\n",
       "      <td>{'type': 'Polygon', 'coordinates': [[[-0.64496...</td>\n",
       "      <td>33600</td>\n",
       "      <td>PESSAC</td>\n",
       "    </tr>\n",
       "    <tr>\n",
       "      <th>4</th>\n",
       "      <td>Arlac</td>\n",
       "      <td>33281</td>\n",
       "      <td>44.822855</td>\n",
       "      <td>-0.626316</td>\n",
       "      <td>{'type': 'Polygon', 'coordinates': [[[-0.74630...</td>\n",
       "      <td>33700</td>\n",
       "      <td>MERIGNAC</td>\n",
       "    </tr>\n",
       "    <tr>\n",
       "      <th>...</th>\n",
       "      <td>...</td>\n",
       "      <td>...</td>\n",
       "      <td>...</td>\n",
       "      <td>...</td>\n",
       "      <td>...</td>\n",
       "      <td>...</td>\n",
       "      <td>...</td>\n",
       "    </tr>\n",
       "    <tr>\n",
       "      <th>60</th>\n",
       "      <td>Saint-Jean-d'Illac</td>\n",
       "      <td>33422</td>\n",
       "      <td>NaN</td>\n",
       "      <td>NaN</td>\n",
       "      <td>{'type': 'Polygon', 'coordinates': [[[-0.83708...</td>\n",
       "      <td>33127</td>\n",
       "      <td>SAINT-JEAN-D'ILLAC</td>\n",
       "    </tr>\n",
       "    <tr>\n",
       "      <th>61</th>\n",
       "      <td>Bruges</td>\n",
       "      <td>33075</td>\n",
       "      <td>NaN</td>\n",
       "      <td>NaN</td>\n",
       "      <td>{'type': 'Polygon', 'coordinates': [[[-0.62985...</td>\n",
       "      <td>33520</td>\n",
       "      <td>BRUGES</td>\n",
       "    </tr>\n",
       "    <tr>\n",
       "      <th>62</th>\n",
       "      <td>Cubzac-les-Ponts</td>\n",
       "      <td>33143</td>\n",
       "      <td>NaN</td>\n",
       "      <td>NaN</td>\n",
       "      <td>{'type': 'Polygon', 'coordinates': [[[-0.47272...</td>\n",
       "      <td>33240</td>\n",
       "      <td>CUBZAC-LES-PONTS</td>\n",
       "    </tr>\n",
       "    <tr>\n",
       "      <th>63</th>\n",
       "      <td>Saint-Aubin-de-Médoc</td>\n",
       "      <td>33376</td>\n",
       "      <td>NaN</td>\n",
       "      <td>NaN</td>\n",
       "      <td>{'type': 'Polygon', 'coordinates': [[[-0.71408...</td>\n",
       "      <td>33160</td>\n",
       "      <td>SAINT-AUBIN-DE-MEDOC</td>\n",
       "    </tr>\n",
       "    <tr>\n",
       "      <th>64</th>\n",
       "      <td>Blanquefort</td>\n",
       "      <td>33056</td>\n",
       "      <td>NaN</td>\n",
       "      <td>NaN</td>\n",
       "      <td>{'type': 'Polygon', 'coordinates': [[[-0.67052...</td>\n",
       "      <td>33290</td>\n",
       "      <td>BLANQUEFORT</td>\n",
       "    </tr>\n",
       "  </tbody>\n",
       "</table>\n",
       "<p>65 rows × 7 columns</p>\n",
       "</div>"
      ],
      "text/plain": [
       "            Neighborhood  INSEE   Latitude  Longitude  \\\n",
       "0              Toctoucau  33318  44.766930  -0.733237   \n",
       "1           3M-Bourgailh  33318  44.802887  -0.669208   \n",
       "2                  Saige  33318  44.786531  -0.635364   \n",
       "3                 Casino  33318  44.807801  -0.628748   \n",
       "4                  Arlac  33281  44.822855  -0.626316   \n",
       "..                   ...    ...        ...        ...   \n",
       "60    Saint-Jean-d'Illac  33422        NaN        NaN   \n",
       "61                Bruges  33075        NaN        NaN   \n",
       "62      Cubzac-les-Ponts  33143        NaN        NaN   \n",
       "63  Saint-Aubin-de-Médoc  33376        NaN        NaN   \n",
       "64           Blanquefort  33056        NaN        NaN   \n",
       "\n",
       "                                             Geometry postal_code  \\\n",
       "0   {'type': 'Polygon', 'coordinates': [[[-0.64496...       33600   \n",
       "1   {'type': 'Polygon', 'coordinates': [[[-0.64496...       33600   \n",
       "2   {'type': 'Polygon', 'coordinates': [[[-0.64496...       33600   \n",
       "3   {'type': 'Polygon', 'coordinates': [[[-0.64496...       33600   \n",
       "4   {'type': 'Polygon', 'coordinates': [[[-0.74630...       33700   \n",
       "..                                                ...         ...   \n",
       "60  {'type': 'Polygon', 'coordinates': [[[-0.83708...       33127   \n",
       "61  {'type': 'Polygon', 'coordinates': [[[-0.62985...       33520   \n",
       "62  {'type': 'Polygon', 'coordinates': [[[-0.47272...       33240   \n",
       "63  {'type': 'Polygon', 'coordinates': [[[-0.71408...       33160   \n",
       "64  {'type': 'Polygon', 'coordinates': [[[-0.67052...       33290   \n",
       "\n",
       "                    town  \n",
       "0                 PESSAC  \n",
       "1                 PESSAC  \n",
       "2                 PESSAC  \n",
       "3                 PESSAC  \n",
       "4               MERIGNAC  \n",
       "..                   ...  \n",
       "60    SAINT-JEAN-D'ILLAC  \n",
       "61                BRUGES  \n",
       "62      CUBZAC-LES-PONTS  \n",
       "63  SAINT-AUBIN-DE-MEDOC  \n",
       "64           BLANQUEFORT  \n",
       "\n",
       "[65 rows x 7 columns]"
      ]
     },
     "execution_count": 12,
     "metadata": {},
     "output_type": "execute_result"
    }
   ],
   "source": [
    "for index,town in enumerate(bordeaux_neighborhoods['INSEE']):\n",
    "    try : \n",
    "        for data in bordeaux_data_comm2['features']: \n",
    "            if data['properties']['code'] == town : \n",
    "                bordeaux_neighborhoods.at[index,'Geometry']=data['geometry']\n",
    "    except : \n",
    "        bordeaux_neighborhoods['Geometry']=''\n",
    "bordeaux_neighborhoods"
   ]
  },
  {
   "cell_type": "markdown",
   "metadata": {},
   "source": [
    "Finaly, we can obtain missing coordinates by using the geocoder API. \n",
    "Before doing it, we will remove all special caracters from our neighborhoods."
   ]
  },
  {
   "cell_type": "code",
   "execution_count": 13,
   "metadata": {},
   "outputs": [
    {
     "data": {
      "text/html": [
       "<div>\n",
       "<style scoped>\n",
       "    .dataframe tbody tr th:only-of-type {\n",
       "        vertical-align: middle;\n",
       "    }\n",
       "\n",
       "    .dataframe tbody tr th {\n",
       "        vertical-align: top;\n",
       "    }\n",
       "\n",
       "    .dataframe thead th {\n",
       "        text-align: right;\n",
       "    }\n",
       "</style>\n",
       "<table border=\"1\" class=\"dataframe\">\n",
       "  <thead>\n",
       "    <tr style=\"text-align: right;\">\n",
       "      <th></th>\n",
       "      <th>INSEE</th>\n",
       "      <th>Latitude</th>\n",
       "      <th>Longitude</th>\n",
       "      <th>Geometry</th>\n",
       "      <th>postal_code</th>\n",
       "      <th>town</th>\n",
       "      <th>Neighborhood</th>\n",
       "    </tr>\n",
       "  </thead>\n",
       "  <tbody>\n",
       "    <tr>\n",
       "      <th>0</th>\n",
       "      <td>33318</td>\n",
       "      <td>44.766930</td>\n",
       "      <td>-0.733237</td>\n",
       "      <td>{'type': 'Polygon', 'coordinates': [[[-0.64496...</td>\n",
       "      <td>33600</td>\n",
       "      <td>PESSAC</td>\n",
       "      <td>TOCTOUCAU</td>\n",
       "    </tr>\n",
       "    <tr>\n",
       "      <th>1</th>\n",
       "      <td>33318</td>\n",
       "      <td>44.802887</td>\n",
       "      <td>-0.669208</td>\n",
       "      <td>{'type': 'Polygon', 'coordinates': [[[-0.64496...</td>\n",
       "      <td>33600</td>\n",
       "      <td>PESSAC</td>\n",
       "      <td>3M-BOURGAILH</td>\n",
       "    </tr>\n",
       "    <tr>\n",
       "      <th>2</th>\n",
       "      <td>33318</td>\n",
       "      <td>44.786531</td>\n",
       "      <td>-0.635364</td>\n",
       "      <td>{'type': 'Polygon', 'coordinates': [[[-0.64496...</td>\n",
       "      <td>33600</td>\n",
       "      <td>PESSAC</td>\n",
       "      <td>SAIGE</td>\n",
       "    </tr>\n",
       "    <tr>\n",
       "      <th>3</th>\n",
       "      <td>33318</td>\n",
       "      <td>44.807801</td>\n",
       "      <td>-0.628748</td>\n",
       "      <td>{'type': 'Polygon', 'coordinates': [[[-0.64496...</td>\n",
       "      <td>33600</td>\n",
       "      <td>PESSAC</td>\n",
       "      <td>CASINO</td>\n",
       "    </tr>\n",
       "    <tr>\n",
       "      <th>4</th>\n",
       "      <td>33281</td>\n",
       "      <td>44.822855</td>\n",
       "      <td>-0.626316</td>\n",
       "      <td>{'type': 'Polygon', 'coordinates': [[[-0.74630...</td>\n",
       "      <td>33700</td>\n",
       "      <td>MERIGNAC</td>\n",
       "      <td>ARLAC</td>\n",
       "    </tr>\n",
       "  </tbody>\n",
       "</table>\n",
       "</div>"
      ],
      "text/plain": [
       "   INSEE   Latitude  Longitude  \\\n",
       "0  33318  44.766930  -0.733237   \n",
       "1  33318  44.802887  -0.669208   \n",
       "2  33318  44.786531  -0.635364   \n",
       "3  33318  44.807801  -0.628748   \n",
       "4  33281  44.822855  -0.626316   \n",
       "\n",
       "                                            Geometry postal_code      town  \\\n",
       "0  {'type': 'Polygon', 'coordinates': [[[-0.64496...       33600    PESSAC   \n",
       "1  {'type': 'Polygon', 'coordinates': [[[-0.64496...       33600    PESSAC   \n",
       "2  {'type': 'Polygon', 'coordinates': [[[-0.64496...       33600    PESSAC   \n",
       "3  {'type': 'Polygon', 'coordinates': [[[-0.64496...       33600    PESSAC   \n",
       "4  {'type': 'Polygon', 'coordinates': [[[-0.74630...       33700  MERIGNAC   \n",
       "\n",
       "   Neighborhood  \n",
       "0     TOCTOUCAU  \n",
       "1  3M-BOURGAILH  \n",
       "2         SAIGE  \n",
       "3        CASINO  \n",
       "4         ARLAC  "
      ]
     },
     "execution_count": 13,
     "metadata": {},
     "output_type": "execute_result"
    }
   ],
   "source": [
    "#remove special caracters from neighborhoods column: \n",
    "import unicodedata \n",
    "for index,neil in enumerate(bordeaux_neighborhoods['Neighborhood']):\n",
    "    bordeaux_neighborhoods.at[index,'neil_without_accent'] = ''.join((c for c in unicodedata.normalize('NFD', neil) if unicodedata.category(c) != 'Mn')).upper()\n",
    "bordeaux_neighborhoods.drop(columns=['Neighborhood'],inplace=True)\n",
    "bordeaux_neighborhoods.rename(columns={'neil_without_accent': 'Neighborhood'},inplace=True)\n",
    "bordeaux_neighborhoods.head()"
   ]
  },
  {
   "cell_type": "code",
   "execution_count": 14,
   "metadata": {},
   "outputs": [],
   "source": [
    "import geocoder"
   ]
  },
  {
   "cell_type": "code",
   "execution_count": 15,
   "metadata": {},
   "outputs": [],
   "source": [
    "# initialize your variable to None\n",
    "lat_lng_coords = None\n",
    "for ind, lat,nei, code,town in zip(bordeaux_neighborhoods.index.values,bordeaux_neighborhoods['Latitude'],bordeaux_neighborhoods['Neighborhood'],bordeaux_neighborhoods['postal_code'],bordeaux_neighborhoods['town']) : \n",
    "    #we merge all the geographical data used to find the coordinates : \n",
    "    if nei == town:\n",
    "        geo_data = code + ','+town + ' CENTRE'\n",
    "    else:\n",
    "        geo_data=nei +','+ code +','+town\n",
    "    #we focus our work only on missing coordinates :\n",
    "    if np.isnan(lat) : \n",
    "# loop until we get the coordinates\n",
    "        while(lat_lng_coords is None):\n",
    "            g = geocoder.osm('{}, Gironde, France'.format(geo_data))\n",
    "            lat_lng_coords = g.latlng\n",
    "        bordeaux_neighborhoods.at[ind,'Latitude'] = lat_lng_coords[0]\n",
    "        bordeaux_neighborhoods.at[ind,'Longitude'] = lat_lng_coords[1]\n",
    "        lat_lng_coords = None"
   ]
  },
  {
   "cell_type": "code",
   "execution_count": 16,
   "metadata": {},
   "outputs": [],
   "source": [
    "#we save our dataframe in csv \n",
    "bordeaux_neighborhoods.to_csv('bordeaux_neighborhoods-enrichi2.csv',encoding=\"UTF-8\")"
   ]
  },
  {
   "cell_type": "code",
   "execution_count": null,
   "metadata": {},
   "outputs": [],
   "source": [
    "#bordeaux_neighborhoods=pd.read_csv('bordeaux_neighborhoods-enrichi2.csv',index_col=0,encoding=\"UTF-8\")\n",
    "#bordeaux_neighborhoods"
   ]
  },
  {
   "cell_type": "code",
   "execution_count": null,
   "metadata": {},
   "outputs": [],
   "source": [
    "bordeaux_neighborhoods.dtypes"
   ]
  },
  {
   "cell_type": "code",
   "execution_count": null,
   "metadata": {},
   "outputs": [],
   "source": [
    "len(bordeaux_neighborhoods['Neighborhood'].unique())"
   ]
  },
  {
   "cell_type": "markdown",
   "metadata": {},
   "source": [
    "### Folium map\n",
    "Let's plot our data on a folium map to see if it is accurate :"
   ]
  },
  {
   "cell_type": "code",
   "execution_count": 17,
   "metadata": {
    "scrolled": true
   },
   "outputs": [
    {
     "name": "stdout",
     "output_type": "stream",
     "text": [
      "latitude 44.841225 & longitude -0.5800364\n"
     ]
    }
   ],
   "source": [
    "#coordinates of Bordeaux Metropole\n",
    "import geocoder # import geocoder\n",
    "g2 = geocoder.osm('Bordeaux, Gironde,France')\n",
    "latlong= g2.latlng\n",
    "latitude= latlong[0]\n",
    "longitude = latlong[1]\n",
    "print(f'latitude {latitude} & longitude {longitude}')"
   ]
  },
  {
   "cell_type": "code",
   "execution_count": 18,
   "metadata": {
    "scrolled": true
   },
   "outputs": [
    {
     "data": {
      "text/html": [
       "<div style=\"width:100%;\"><div style=\"position:relative;width:100%;height:0;padding-bottom:60%;\"><iframe src=\"about:blank\" style=\"position:absolute;width:100%;height:100%;left:0;top:0;border:none !important;\" data-html=PCFET0NUWVBFIGh0bWw+CjxoZWFkPiAgICAKICAgIDxtZXRhIGh0dHAtZXF1aXY9ImNvbnRlbnQtdHlwZSIgY29udGVudD0idGV4dC9odG1sOyBjaGFyc2V0PVVURi04IiAvPgogICAgCiAgICAgICAgPHNjcmlwdD4KICAgICAgICAgICAgTF9OT19UT1VDSCA9IGZhbHNlOwogICAgICAgICAgICBMX0RJU0FCTEVfM0QgPSBmYWxzZTsKICAgICAgICA8L3NjcmlwdD4KICAgIAogICAgPHNjcmlwdCBzcmM9Imh0dHBzOi8vY2RuLmpzZGVsaXZyLm5ldC9ucG0vbGVhZmxldEAxLjUuMS9kaXN0L2xlYWZsZXQuanMiPjwvc2NyaXB0PgogICAgPHNjcmlwdCBzcmM9Imh0dHBzOi8vY29kZS5qcXVlcnkuY29tL2pxdWVyeS0xLjEyLjQubWluLmpzIj48L3NjcmlwdD4KICAgIDxzY3JpcHQgc3JjPSJodHRwczovL21heGNkbi5ib290c3RyYXBjZG4uY29tL2Jvb3RzdHJhcC8zLjIuMC9qcy9ib290c3RyYXAubWluLmpzIj48L3NjcmlwdD4KICAgIDxzY3JpcHQgc3JjPSJodHRwczovL2NkbmpzLmNsb3VkZmxhcmUuY29tL2FqYXgvbGlicy9MZWFmbGV0LmF3ZXNvbWUtbWFya2Vycy8yLjAuMi9sZWFmbGV0LmF3ZXNvbWUtbWFya2Vycy5qcyI+PC9zY3JpcHQ+CiAgICA8bGluayByZWw9InN0eWxlc2hlZXQiIGhyZWY9Imh0dHBzOi8vY2RuLmpzZGVsaXZyLm5ldC9ucG0vbGVhZmxldEAxLjUuMS9kaXN0L2xlYWZsZXQuY3NzIi8+CiAgICA8bGluayByZWw9InN0eWxlc2hlZXQiIGhyZWY9Imh0dHBzOi8vbWF4Y2RuLmJvb3RzdHJhcGNkbi5jb20vYm9vdHN0cmFwLzMuMi4wL2Nzcy9ib290c3RyYXAubWluLmNzcyIvPgogICAgPGxpbmsgcmVsPSJzdHlsZXNoZWV0IiBocmVmPSJodHRwczovL21heGNkbi5ib290c3RyYXBjZG4uY29tL2Jvb3RzdHJhcC8zLjIuMC9jc3MvYm9vdHN0cmFwLXRoZW1lLm1pbi5jc3MiLz4KICAgIDxsaW5rIHJlbD0ic3R5bGVzaGVldCIgaHJlZj0iaHR0cHM6Ly9tYXhjZG4uYm9vdHN0cmFwY2RuLmNvbS9mb250LWF3ZXNvbWUvNC42LjMvY3NzL2ZvbnQtYXdlc29tZS5taW4uY3NzIi8+CiAgICA8bGluayByZWw9InN0eWxlc2hlZXQiIGhyZWY9Imh0dHBzOi8vY2RuanMuY2xvdWRmbGFyZS5jb20vYWpheC9saWJzL0xlYWZsZXQuYXdlc29tZS1tYXJrZXJzLzIuMC4yL2xlYWZsZXQuYXdlc29tZS1tYXJrZXJzLmNzcyIvPgogICAgPGxpbmsgcmVsPSJzdHlsZXNoZWV0IiBocmVmPSJodHRwczovL3Jhd2Nkbi5naXRoYWNrLmNvbS9weXRob24tdmlzdWFsaXphdGlvbi9mb2xpdW0vbWFzdGVyL2ZvbGl1bS90ZW1wbGF0ZXMvbGVhZmxldC5hd2Vzb21lLnJvdGF0ZS5jc3MiLz4KICAgIDxzdHlsZT5odG1sLCBib2R5IHt3aWR0aDogMTAwJTtoZWlnaHQ6IDEwMCU7bWFyZ2luOiAwO3BhZGRpbmc6IDA7fTwvc3R5bGU+CiAgICA8c3R5bGU+I21hcCB7cG9zaXRpb246YWJzb2x1dGU7dG9wOjA7Ym90dG9tOjA7cmlnaHQ6MDtsZWZ0OjA7fTwvc3R5bGU+CiAgICAKICAgICAgICAgICAgPG1ldGEgbmFtZT0idmlld3BvcnQiIGNvbnRlbnQ9IndpZHRoPWRldmljZS13aWR0aCwKICAgICAgICAgICAgICAgIGluaXRpYWwtc2NhbGU9MS4wLCBtYXhpbXVtLXNjYWxlPTEuMCwgdXNlci1zY2FsYWJsZT1ubyIgLz4KICAgICAgICAgICAgPHN0eWxlPgogICAgICAgICAgICAgICAgI21hcF8yZTg1ZDRkMDBkYzk0YWUyOGQ0ZTMyYmM0MzU1OTc0ZiB7CiAgICAgICAgICAgICAgICAgICAgcG9zaXRpb246IHJlbGF0aXZlOwogICAgICAgICAgICAgICAgICAgIHdpZHRoOiAxMDAuMCU7CiAgICAgICAgICAgICAgICAgICAgaGVpZ2h0OiAxMDAuMCU7CiAgICAgICAgICAgICAgICAgICAgbGVmdDogMC4wJTsKICAgICAgICAgICAgICAgICAgICB0b3A6IDAuMCU7CiAgICAgICAgICAgICAgICB9CiAgICAgICAgICAgIDwvc3R5bGU+CiAgICAgICAgCjwvaGVhZD4KPGJvZHk+ICAgIAogICAgCiAgICAgICAgICAgIDxkaXYgY2xhc3M9ImZvbGl1bS1tYXAiIGlkPSJtYXBfMmU4NWQ0ZDAwZGM5NGFlMjhkNGUzMmJjNDM1NTk3NGYiID48L2Rpdj4KICAgICAgICAKPC9ib2R5Pgo8c2NyaXB0PiAgICAKICAgIAogICAgICAgICAgICB2YXIgbWFwXzJlODVkNGQwMGRjOTRhZTI4ZDRlMzJiYzQzNTU5NzRmID0gTC5tYXAoCiAgICAgICAgICAgICAgICAibWFwXzJlODVkNGQwMGRjOTRhZTI4ZDRlMzJiYzQzNTU5NzRmIiwKICAgICAgICAgICAgICAgIHsKICAgICAgICAgICAgICAgICAgICBjZW50ZXI6IFs0NC44NDEyMjUsIC0wLjU4MDAzNjRdLAogICAgICAgICAgICAgICAgICAgIGNyczogTC5DUlMuRVBTRzM4NTcsCiAgICAgICAgICAgICAgICAgICAgem9vbTogMTEsCiAgICAgICAgICAgICAgICAgICAgem9vbUNvbnRyb2w6IHRydWUsCiAgICAgICAgICAgICAgICAgICAgcHJlZmVyQ2FudmFzOiBmYWxzZSwKICAgICAgICAgICAgICAgIH0KICAgICAgICAgICAgKTsKCiAgICAgICAgICAgIAoKICAgICAgICAKICAgIAogICAgICAgICAgICB2YXIgdGlsZV9sYXllcl81NTRhMWM1ZDUzODg0Y2M5YWY0NWJlNGI4ZWExODA1OCA9IEwudGlsZUxheWVyKAogICAgICAgICAgICAgICAgImh0dHBzOi8ve3N9LnRpbGUub3BlbnN0cmVldG1hcC5vcmcve3p9L3t4fS97eX0ucG5nIiwKICAgICAgICAgICAgICAgIHsiYXR0cmlidXRpb24iOiAiRGF0YSBieSBcdTAwMjZjb3B5OyBcdTAwM2NhIGhyZWY9XCJodHRwOi8vb3BlbnN0cmVldG1hcC5vcmdcIlx1MDAzZU9wZW5TdHJlZXRNYXBcdTAwM2MvYVx1MDAzZSwgdW5kZXIgXHUwMDNjYSBocmVmPVwiaHR0cDovL3d3dy5vcGVuc3RyZWV0bWFwLm9yZy9jb3B5cmlnaHRcIlx1MDAzZU9EYkxcdTAwM2MvYVx1MDAzZS4iLCAiZGV0ZWN0UmV0aW5hIjogZmFsc2UsICJtYXhOYXRpdmVab29tIjogMTgsICJtYXhab29tIjogMTgsICJtaW5ab29tIjogMCwgIm5vV3JhcCI6IGZhbHNlLCAib3BhY2l0eSI6IDEsICJzdWJkb21haW5zIjogImFiYyIsICJ0bXMiOiBmYWxzZX0KICAgICAgICAgICAgKS5hZGRUbyhtYXBfMmU4NWQ0ZDAwZGM5NGFlMjhkNGUzMmJjNDM1NTk3NGYpOwogICAgICAgIAogICAgCiAgICAgICAgICAgIHZhciBjaXJjbGVfbWFya2VyXzNjOWE1YjM1YWU1ZTQxNWRhYjM1MTUzMWMzYTkxN2QyID0gTC5jaXJjbGVNYXJrZXIoCiAgICAgICAgICAgICAgICBbNDQuNzY2OTMwMDU3LCAtMC43MzMyMzY5NDM5MjVdLAogICAgICAgICAgICAgICAgeyJidWJibGluZ01vdXNlRXZlbnRzIjogdHJ1ZSwgImNvbG9yIjogIiMzMzg4ZmYiLCAiZGFzaEFycmF5IjogbnVsbCwgImRhc2hPZmZzZXQiOiBudWxsLCAiZmlsbCI6IHRydWUsICJmaWxsQ29sb3IiOiAiIzMzODhmZiIsICJmaWxsT3BhY2l0eSI6IDEsICJmaWxsUnVsZSI6ICJldmVub2RkIiwgImxpbmVDYXAiOiAicm91bmQiLCAibGluZUpvaW4iOiAicm91bmQiLCAib3BhY2l0eSI6IDEuMCwgInJhZGl1cyI6IDUsICJzdHJva2UiOiB0cnVlLCAid2VpZ2h0IjogM30KICAgICAgICAgICAgKS5hZGRUbyhtYXBfMmU4NWQ0ZDAwZGM5NGFlMjhkNGUzMmJjNDM1NTk3NGYpOwogICAgICAgIAogICAgCiAgICAgICAgdmFyIHBvcHVwX2M4ZTM4NDcyNTA1NDRkNDI4MDhlZWVmODFlNjRiMmE3ID0gTC5wb3B1cCh7ImVuY29kaW5nIjogImxhdGluXzEiLCAibWF4V2lkdGgiOiAiMTAwJSJ9KTsKCiAgICAgICAgCiAgICAgICAgICAgIHZhciBodG1sXzI5NTBkMWU4M2JlOTQ0MGY5M2MxZmVlOTMxYzU1NDBkID0gJChgPGRpdiBpZD0iaHRtbF8yOTUwZDFlODNiZTk0NDBmOTNjMWZlZTkzMWM1NTQwZCIgc3R5bGU9IndpZHRoOiAxMDAuMCU7IGhlaWdodDogMTAwLjAlOyI+UEVTU0FDIFRPQ1RPVUNBVTwvZGl2PmApWzBdOwogICAgICAgICAgICBwb3B1cF9jOGUzODQ3MjUwNTQ0ZDQyODA4ZWVlZjgxZTY0YjJhNy5zZXRDb250ZW50KGh0bWxfMjk1MGQxZTgzYmU5NDQwZjkzYzFmZWU5MzFjNTU0MGQpOwogICAgICAgIAoKICAgICAgICBjaXJjbGVfbWFya2VyXzNjOWE1YjM1YWU1ZTQxNWRhYjM1MTUzMWMzYTkxN2QyLmJpbmRQb3B1cChwb3B1cF9jOGUzODQ3MjUwNTQ0ZDQyODA4ZWVlZjgxZTY0YjJhNykKICAgICAgICA7CgogICAgICAgIAogICAgCiAgICAKICAgICAgICAgICAgdmFyIGNpcmNsZV9tYXJrZXJfZGFiNzg3MmUzNDA2NDY1MTgxYTcyOTNlOWQzNDFkNWIgPSBMLmNpcmNsZU1hcmtlcigKICAgICAgICAgICAgICAgIFs0NC44MDI4ODcsIC0wLjY2OTIwOF0sCiAgICAgICAgICAgICAgICB7ImJ1YmJsaW5nTW91c2VFdmVudHMiOiB0cnVlLCAiY29sb3IiOiAiIzMzODhmZiIsICJkYXNoQXJyYXkiOiBudWxsLCAiZGFzaE9mZnNldCI6IG51bGwsICJmaWxsIjogdHJ1ZSwgImZpbGxDb2xvciI6ICIjMzM4OGZmIiwgImZpbGxPcGFjaXR5IjogMSwgImZpbGxSdWxlIjogImV2ZW5vZGQiLCAibGluZUNhcCI6ICJyb3VuZCIsICJsaW5lSm9pbiI6ICJyb3VuZCIsICJvcGFjaXR5IjogMS4wLCAicmFkaXVzIjogNSwgInN0cm9rZSI6IHRydWUsICJ3ZWlnaHQiOiAzfQogICAgICAgICAgICApLmFkZFRvKG1hcF8yZTg1ZDRkMDBkYzk0YWUyOGQ0ZTMyYmM0MzU1OTc0Zik7CiAgICAgICAgCiAgICAKICAgICAgICB2YXIgcG9wdXBfZTAyOWVmZTJhMmVmNGRkNWJiMGNhNjNkMzM4NDFhOGYgPSBMLnBvcHVwKHsiZW5jb2RpbmciOiAibGF0aW5fMSIsICJtYXhXaWR0aCI6ICIxMDAlIn0pOwoKICAgICAgICAKICAgICAgICAgICAgdmFyIGh0bWxfYjVmNzNhNDlkZDJhNGVjNDgxOGZjNmVlYTI1NWRkYzkgPSAkKGA8ZGl2IGlkPSJodG1sX2I1ZjczYTQ5ZGQyYTRlYzQ4MThmYzZlZWEyNTVkZGM5IiBzdHlsZT0id2lkdGg6IDEwMC4wJTsgaGVpZ2h0OiAxMDAuMCU7Ij5QRVNTQUMgM00tQk9VUkdBSUxIPC9kaXY+YClbMF07CiAgICAgICAgICAgIHBvcHVwX2UwMjllZmUyYTJlZjRkZDViYjBjYTYzZDMzODQxYThmLnNldENvbnRlbnQoaHRtbF9iNWY3M2E0OWRkMmE0ZWM0ODE4ZmM2ZWVhMjU1ZGRjOSk7CiAgICAgICAgCgogICAgICAgIGNpcmNsZV9tYXJrZXJfZGFiNzg3MmUzNDA2NDY1MTgxYTcyOTNlOWQzNDFkNWIuYmluZFBvcHVwKHBvcHVwX2UwMjllZmUyYTJlZjRkZDViYjBjYTYzZDMzODQxYThmKQogICAgICAgIDsKCiAgICAgICAgCiAgICAKICAgIAogICAgICAgICAgICB2YXIgY2lyY2xlX21hcmtlcl81ZjZhYmY5NTAyMTY0NzY4YmE3NDlhYTQ1ZjRmNjA4MCA9IEwuY2lyY2xlTWFya2VyKAogICAgICAgICAgICAgICAgWzQ0Ljc4NjUzMDY3NDUsIC0wLjYzNTM2NDI5NDk0N10sCiAgICAgICAgICAgICAgICB7ImJ1YmJsaW5nTW91c2VFdmVudHMiOiB0cnVlLCAiY29sb3IiOiAiIzMzODhmZiIsICJkYXNoQXJyYXkiOiBudWxsLCAiZGFzaE9mZnNldCI6IG51bGwsICJmaWxsIjogdHJ1ZSwgImZpbGxDb2xvciI6ICIjMzM4OGZmIiwgImZpbGxPcGFjaXR5IjogMSwgImZpbGxSdWxlIjogImV2ZW5vZGQiLCAibGluZUNhcCI6ICJyb3VuZCIsICJsaW5lSm9pbiI6ICJyb3VuZCIsICJvcGFjaXR5IjogMS4wLCAicmFkaXVzIjogNSwgInN0cm9rZSI6IHRydWUsICJ3ZWlnaHQiOiAzfQogICAgICAgICAgICApLmFkZFRvKG1hcF8yZTg1ZDRkMDBkYzk0YWUyOGQ0ZTMyYmM0MzU1OTc0Zik7CiAgICAgICAgCiAgICAKICAgICAgICB2YXIgcG9wdXBfZGZlOTBhMWY0NDRjNDRjOGFjOTdlMjNlYTdiNmE5MWYgPSBMLnBvcHVwKHsiZW5jb2RpbmciOiAibGF0aW5fMSIsICJtYXhXaWR0aCI6ICIxMDAlIn0pOwoKICAgICAgICAKICAgICAgICAgICAgdmFyIGh0bWxfNDBkMjZlZDQzNDNjNDBiZDg4NWY1NGFmNmMzYzEzZTggPSAkKGA8ZGl2IGlkPSJodG1sXzQwZDI2ZWQ0MzQzYzQwYmQ4ODVmNTRhZjZjM2MxM2U4IiBzdHlsZT0id2lkdGg6IDEwMC4wJTsgaGVpZ2h0OiAxMDAuMCU7Ij5QRVNTQUMgU0FJR0U8L2Rpdj5gKVswXTsKICAgICAgICAgICAgcG9wdXBfZGZlOTBhMWY0NDRjNDRjOGFjOTdlMjNlYTdiNmE5MWYuc2V0Q29udGVudChodG1sXzQwZDI2ZWQ0MzQzYzQwYmQ4ODVmNTRhZjZjM2MxM2U4KTsKICAgICAgICAKCiAgICAgICAgY2lyY2xlX21hcmtlcl81ZjZhYmY5NTAyMTY0NzY4YmE3NDlhYTQ1ZjRmNjA4MC5iaW5kUG9wdXAocG9wdXBfZGZlOTBhMWY0NDRjNDRjOGFjOTdlMjNlYTdiNmE5MWYpCiAgICAgICAgOwoKICAgICAgICAKICAgIAogICAgCiAgICAgICAgICAgIHZhciBjaXJjbGVfbWFya2VyX2ExZDk4YzExY2EwYTRiZmE4NGYyODg4MTYyZWNhYmQ3ID0gTC5jaXJjbGVNYXJrZXIoCiAgICAgICAgICAgICAgICBbNDQuODA3ODAwNTU2OSwgLTAuNjI4NzQ4NDAzNzc3XSwKICAgICAgICAgICAgICAgIHsiYnViYmxpbmdNb3VzZUV2ZW50cyI6IHRydWUsICJjb2xvciI6ICIjMzM4OGZmIiwgImRhc2hBcnJheSI6IG51bGwsICJkYXNoT2Zmc2V0IjogbnVsbCwgImZpbGwiOiB0cnVlLCAiZmlsbENvbG9yIjogIiMzMzg4ZmYiLCAiZmlsbE9wYWNpdHkiOiAxLCAiZmlsbFJ1bGUiOiAiZXZlbm9kZCIsICJsaW5lQ2FwIjogInJvdW5kIiwgImxpbmVKb2luIjogInJvdW5kIiwgIm9wYWNpdHkiOiAxLjAsICJyYWRpdXMiOiA1LCAic3Ryb2tlIjogdHJ1ZSwgIndlaWdodCI6IDN9CiAgICAgICAgICAgICkuYWRkVG8obWFwXzJlODVkNGQwMGRjOTRhZTI4ZDRlMzJiYzQzNTU5NzRmKTsKICAgICAgICAKICAgIAogICAgICAgIHZhciBwb3B1cF8yNTEyODI4ODQxY2I0YzZjYjhkYThhZWRlMjUwMmFiMCA9IEwucG9wdXAoeyJlbmNvZGluZyI6ICJsYXRpbl8xIiwgIm1heFdpZHRoIjogIjEwMCUifSk7CgogICAgICAgIAogICAgICAgICAgICB2YXIgaHRtbF9mNTgyNjgxYTBjNDM0NDAwODc0NDM3ZjNiYTZmNjM1YyA9ICQoYDxkaXYgaWQ9Imh0bWxfZjU4MjY4MWEwYzQzNDQwMDg3NDQzN2YzYmE2ZjYzNWMiIHN0eWxlPSJ3aWR0aDogMTAwLjAlOyBoZWlnaHQ6IDEwMC4wJTsiPlBFU1NBQyBDQVNJTk88L2Rpdj5gKVswXTsKICAgICAgICAgICAgcG9wdXBfMjUxMjgyODg0MWNiNGM2Y2I4ZGE4YWVkZTI1MDJhYjAuc2V0Q29udGVudChodG1sX2Y1ODI2ODFhMGM0MzQ0MDA4NzQ0MzdmM2JhNmY2MzVjKTsKICAgICAgICAKCiAgICAgICAgY2lyY2xlX21hcmtlcl9hMWQ5OGMxMWNhMGE0YmZhODRmMjg4ODE2MmVjYWJkNy5iaW5kUG9wdXAocG9wdXBfMjUxMjgyODg0MWNiNGM2Y2I4ZGE4YWVkZTI1MDJhYjApCiAgICAgICAgOwoKICAgICAgICAKICAgIAogICAgCiAgICAgICAgICAgIHZhciBjaXJjbGVfbWFya2VyXzY1OWFjODNlODE0OTQ4MDE5MDY5OTQ2M2EyM2FiOTFlID0gTC5jaXJjbGVNYXJrZXIoCiAgICAgICAgICAgICAgICBbNDQuODIyODU0ODYzMiwgLTAuNjI2MzE2NDMxMzA0XSwKICAgICAgICAgICAgICAgIHsiYnViYmxpbmdNb3VzZUV2ZW50cyI6IHRydWUsICJjb2xvciI6ICIjMzM4OGZmIiwgImRhc2hBcnJheSI6IG51bGwsICJkYXNoT2Zmc2V0IjogbnVsbCwgImZpbGwiOiB0cnVlLCAiZmlsbENvbG9yIjogIiMzMzg4ZmYiLCAiZmlsbE9wYWNpdHkiOiAxLCAiZmlsbFJ1bGUiOiAiZXZlbm9kZCIsICJsaW5lQ2FwIjogInJvdW5kIiwgImxpbmVKb2luIjogInJvdW5kIiwgIm9wYWNpdHkiOiAxLjAsICJyYWRpdXMiOiA1LCAic3Ryb2tlIjogdHJ1ZSwgIndlaWdodCI6IDN9CiAgICAgICAgICAgICkuYWRkVG8obWFwXzJlODVkNGQwMGRjOTRhZTI4ZDRlMzJiYzQzNTU5NzRmKTsKICAgICAgICAKICAgIAogICAgICAgIHZhciBwb3B1cF82OWU4YjliNDA1NWU0MDA2YTM0NWM3YTk1Y2ExMzNkZiA9IEwucG9wdXAoeyJlbmNvZGluZyI6ICJsYXRpbl8xIiwgIm1heFdpZHRoIjogIjEwMCUifSk7CgogICAgICAgIAogICAgICAgICAgICB2YXIgaHRtbF8yYWRhM2QxYzlkMTc0NDlkYmFkMjVmZjhiM2E5MTdiMSA9ICQoYDxkaXYgaWQ9Imh0bWxfMmFkYTNkMWM5ZDE3NDQ5ZGJhZDI1ZmY4YjNhOTE3YjEiIHN0eWxlPSJ3aWR0aDogMTAwLjAlOyBoZWlnaHQ6IDEwMC4wJTsiPk1FUklHTkFDIEFSTEFDPC9kaXY+YClbMF07CiAgICAgICAgICAgIHBvcHVwXzY5ZThiOWI0MDU1ZTQwMDZhMzQ1YzdhOTVjYTEzM2RmLnNldENvbnRlbnQoaHRtbF8yYWRhM2QxYzlkMTc0NDlkYmFkMjVmZjhiM2E5MTdiMSk7CiAgICAgICAgCgogICAgICAgIGNpcmNsZV9tYXJrZXJfNjU5YWM4M2U4MTQ5NDgwMTkwNjk5NDYzYTIzYWI5MWUuYmluZFBvcHVwKHBvcHVwXzY5ZThiOWI0MDU1ZTQwMDZhMzQ1YzdhOTVjYTEzM2RmKQogICAgICAgIDsKCiAgICAgICAgCiAgICAKICAgIAogICAgICAgICAgICB2YXIgY2lyY2xlX21hcmtlcl82NmZjNDJiZjQxOGY0OWNkYWQ4NDEzNDUxM2MxNmU3OSA9IEwuY2lyY2xlTWFya2VyKAogICAgICAgICAgICAgICAgWzQ0LjgxNjYwMDk0NiwgLTAuNjEzMzc2MjAyNzQ2XSwKICAgICAgICAgICAgICAgIHsiYnViYmxpbmdNb3VzZUV2ZW50cyI6IHRydWUsICJjb2xvciI6ICIjMzM4OGZmIiwgImRhc2hBcnJheSI6IG51bGwsICJkYXNoT2Zmc2V0IjogbnVsbCwgImZpbGwiOiB0cnVlLCAiZmlsbENvbG9yIjogIiMzMzg4ZmYiLCAiZmlsbE9wYWNpdHkiOiAxLCAiZmlsbFJ1bGUiOiAiZXZlbm9kZCIsICJsaW5lQ2FwIjogInJvdW5kIiwgImxpbmVKb2luIjogInJvdW5kIiwgIm9wYWNpdHkiOiAxLjAsICJyYWRpdXMiOiA1LCAic3Ryb2tlIjogdHJ1ZSwgIndlaWdodCI6IDN9CiAgICAgICAgICAgICkuYWRkVG8obWFwXzJlODVkNGQwMGRjOTRhZTI4ZDRlMzJiYzQzNTU5NzRmKTsKICAgICAgICAKICAgIAogICAgICAgIHZhciBwb3B1cF9kYzJkNGVhZGE0NGY0NTU0YWFjMGMwZWYxMWY5OGQzOCA9IEwucG9wdXAoeyJlbmNvZGluZyI6ICJsYXRpbl8xIiwgIm1heFdpZHRoIjogIjEwMCUifSk7CgogICAgICAgIAogICAgICAgICAgICB2YXIgaHRtbF9iZGViN2I5YjE0ODM0NzBkYjkxN2E4ZjZjOWZhMjIwZiA9ICQoYDxkaXYgaWQ9Imh0bWxfYmRlYjdiOWIxNDgzNDcwZGI5MTdhOGY2YzlmYTIyMGYiIHN0eWxlPSJ3aWR0aDogMTAwLjAlOyBoZWlnaHQ6IDEwMC4wJTsiPlBFU1NBQyBWRVJUSEFNT048L2Rpdj5gKVswXTsKICAgICAgICAgICAgcG9wdXBfZGMyZDRlYWRhNDRmNDU1NGFhYzBjMGVmMTFmOThkMzguc2V0Q29udGVudChodG1sX2JkZWI3YjliMTQ4MzQ3MGRiOTE3YThmNmM5ZmEyMjBmKTsKICAgICAgICAKCiAgICAgICAgY2lyY2xlX21hcmtlcl82NmZjNDJiZjQxOGY0OWNkYWQ4NDEzNDUxM2MxNmU3OS5iaW5kUG9wdXAocG9wdXBfZGMyZDRlYWRhNDRmNDU1NGFhYzBjMGVmMTFmOThkMzgpCiAgICAgICAgOwoKICAgICAgICAKICAgIAogICAgCiAgICAgICAgICAgIHZhciBjaXJjbGVfbWFya2VyX2QyOWNiYjZiMjU1NDQyZjVhZmVhNjVlZTEyZTFmNzE2ID0gTC5jaXJjbGVNYXJrZXIoCiAgICAgICAgICAgICAgICBbNDQuODUyNzQ2MzUxNiwgLTAuNTM0NTExNDU4ODgyXSwKICAgICAgICAgICAgICAgIHsiYnViYmxpbmdNb3VzZUV2ZW50cyI6IHRydWUsICJjb2xvciI6ICIjMzM4OGZmIiwgImRhc2hBcnJheSI6IG51bGwsICJkYXNoT2Zmc2V0IjogbnVsbCwgImZpbGwiOiB0cnVlLCAiZmlsbENvbG9yIjogIiMzMzg4ZmYiLCAiZmlsbE9wYWNpdHkiOiAxLCAiZmlsbFJ1bGUiOiAiZXZlbm9kZCIsICJsaW5lQ2FwIjogInJvdW5kIiwgImxpbmVKb2luIjogInJvdW5kIiwgIm9wYWNpdHkiOiAxLjAsICJyYWRpdXMiOiA1LCAic3Ryb2tlIjogdHJ1ZSwgIndlaWdodCI6IDN9CiAgICAgICAgICAgICkuYWRkVG8obWFwXzJlODVkNGQwMGRjOTRhZTI4ZDRlMzJiYzQzNTU5NzRmKTsKICAgICAgICAKICAgIAogICAgICAgIHZhciBwb3B1cF8wODdjMTg4MTlmNzE0MWU3OWU2NTAyMTU5NmRiMmYzZCA9IEwucG9wdXAoeyJlbmNvZGluZyI6ICJsYXRpbl8xIiwgIm1heFdpZHRoIjogIjEwMCUifSk7CgogICAgICAgIAogICAgICAgICAgICB2YXIgaHRtbF84MTM2ZDI0Zjg4MGU0MDUzYmNkYjZkYWQ4ZGEwNjYzOCA9ICQoYDxkaXYgaWQ9Imh0bWxfODEzNmQyNGY4ODBlNDA1M2JjZGI2ZGFkOGRhMDY2MzgiIHN0eWxlPSJ3aWR0aDogMTAwLjAlOyBoZWlnaHQ6IDEwMC4wJTsiPkNFTk9OIEdBTUJFVFRBLU1BSVJJRS1MSVNTQU5EUkU8L2Rpdj5gKVswXTsKICAgICAgICAgICAgcG9wdXBfMDg3YzE4ODE5ZjcxNDFlNzllNjUwMjE1OTZkYjJmM2Quc2V0Q29udGVudChodG1sXzgxMzZkMjRmODgwZTQwNTNiY2RiNmRhZDhkYTA2NjM4KTsKICAgICAgICAKCiAgICAgICAgY2lyY2xlX21hcmtlcl9kMjljYmI2YjI1NTQ0MmY1YWZlYTY1ZWUxMmUxZjcxNi5iaW5kUG9wdXAocG9wdXBfMDg3YzE4ODE5ZjcxNDFlNzllNjUwMjE1OTZkYjJmM2QpCiAgICAgICAgOwoKICAgICAgICAKICAgIAogICAgCiAgICAgICAgICAgIHZhciBjaXJjbGVfbWFya2VyXzZiNjEyYzZhNDVlYjQ5OGZiYjZjMDUzOWZlOTZjZjI3ID0gTC5jaXJjbGVNYXJrZXIoCiAgICAgICAgICAgICAgICBbNDQuNzkwMDk4MTkzNCwgLTAuNjg2MzMxMzk4ODI4XSwKICAgICAgICAgICAgICAgIHsiYnViYmxpbmdNb3VzZUV2ZW50cyI6IHRydWUsICJjb2xvciI6ICIjMzM4OGZmIiwgImRhc2hBcnJheSI6IG51bGwsICJkYXNoT2Zmc2V0IjogbnVsbCwgImZpbGwiOiB0cnVlLCAiZmlsbENvbG9yIjogIiMzMzg4ZmYiLCAiZmlsbE9wYWNpdHkiOiAxLCAiZmlsbFJ1bGUiOiAiZXZlbm9kZCIsICJsaW5lQ2FwIjogInJvdW5kIiwgImxpbmVKb2luIjogInJvdW5kIiwgIm9wYWNpdHkiOiAxLjAsICJyYWRpdXMiOiA1LCAic3Ryb2tlIjogdHJ1ZSwgIndlaWdodCI6IDN9CiAgICAgICAgICAgICkuYWRkVG8obWFwXzJlODVkNGQwMGRjOTRhZTI4ZDRlMzJiYzQzNTU5NzRmKTsKICAgICAgICAKICAgIAogICAgICAgIHZhciBwb3B1cF9mMzVmMzgxMDVhM2Q0OGMwYTAwMzBlMjcyZDBjNTU0ZiA9IEwucG9wdXAoeyJlbmNvZGluZyI6ICJsYXRpbl8xIiwgIm1heFdpZHRoIjogIjEwMCUifSk7CgogICAgICAgIAogICAgICAgICAgICB2YXIgaHRtbF9jOGQ3MzYzNzM1NzY0MTM0OTRkMDhkZGExMjI4MDcyYiA9ICQoYDxkaXYgaWQ9Imh0bWxfYzhkNzM2MzczNTc2NDEzNDk0ZDA4ZGRhMTIyODA3MmIiIHN0eWxlPSJ3aWR0aDogMTAwLjAlOyBoZWlnaHQ6IDEwMC4wJTsiPlBFU1NBQyBDQVAgREUgQk9TPC9kaXY+YClbMF07CiAgICAgICAgICAgIHBvcHVwX2YzNWYzODEwNWEzZDQ4YzBhMDAzMGUyNzJkMGM1NTRmLnNldENvbnRlbnQoaHRtbF9jOGQ3MzYzNzM1NzY0MTM0OTRkMDhkZGExMjI4MDcyYik7CiAgICAgICAgCgogICAgICAgIGNpcmNsZV9tYXJrZXJfNmI2MTJjNmE0NWViNDk4ZmJiNmMwNTM5ZmU5NmNmMjcuYmluZFBvcHVwKHBvcHVwX2YzNWYzODEwNWEzZDQ4YzBhMDAzMGUyNzJkMGM1NTRmKQogICAgICAgIDsKCiAgICAgICAgCiAgICAKICAgIAogICAgICAgICAgICB2YXIgY2lyY2xlX21hcmtlcl8xM2Q3Zjk5NDhlYzM0Zjg2ODA2N2Y5ODJmY2NlNjRiMCA9IEwuY2lyY2xlTWFya2VyKAogICAgICAgICAgICAgICAgWzQ0Ljg0NDQyNDg4MzgsIC0wLjYzNDcwODg4OTgxOF0sCiAgICAgICAgICAgICAgICB7ImJ1YmJsaW5nTW91c2VFdmVudHMiOiB0cnVlLCAiY29sb3IiOiAiIzMzODhmZiIsICJkYXNoQXJyYXkiOiBudWxsLCAiZGFzaE9mZnNldCI6IG51bGwsICJmaWxsIjogdHJ1ZSwgImZpbGxDb2xvciI6ICIjMzM4OGZmIiwgImZpbGxPcGFjaXR5IjogMSwgImZpbGxSdWxlIjogImV2ZW5vZGQiLCAibGluZUNhcCI6ICJyb3VuZCIsICJsaW5lSm9pbiI6ICJyb3VuZCIsICJvcGFjaXR5IjogMS4wLCAicmFkaXVzIjogNSwgInN0cm9rZSI6IHRydWUsICJ3ZWlnaHQiOiAzfQogICAgICAgICAgICApLmFkZFRvKG1hcF8yZTg1ZDRkMDBkYzk0YWUyOGQ0ZTMyYmM0MzU1OTc0Zik7CiAgICAgICAgCiAgICAKICAgICAgICB2YXIgcG9wdXBfOTM0MDcyNzliZTY0NDY5Nzg1Yzk3MmVjMDA0NDIwM2EgPSBMLnBvcHVwKHsiZW5jb2RpbmciOiAibGF0aW5fMSIsICJtYXhXaWR0aCI6ICIxMDAlIn0pOwoKICAgICAgICAKICAgICAgICAgICAgdmFyIGh0bWxfNGMyN2JjMDNhZTA5NGYyNmFiNjAxMmY5YjEwMjg4ZmUgPSAkKGA8ZGl2IGlkPSJodG1sXzRjMjdiYzAzYWUwOTRmMjZhYjYwMTJmOWIxMDI4OGZlIiBzdHlsZT0id2lkdGg6IDEwMC4wJTsgaGVpZ2h0OiAxMDAuMCU7Ij5NRVJJR05BQyBCT1VSUkFOPC9kaXY+YClbMF07CiAgICAgICAgICAgIHBvcHVwXzkzNDA3Mjc5YmU2NDQ2OTc4NWM5NzJlYzAwNDQyMDNhLnNldENvbnRlbnQoaHRtbF80YzI3YmMwM2FlMDk0ZjI2YWI2MDEyZjliMTAyODhmZSk7CiAgICAgICAgCgogICAgICAgIGNpcmNsZV9tYXJrZXJfMTNkN2Y5OTQ4ZWMzNGY4NjgwNjdmOTgyZmNjZTY0YjAuYmluZFBvcHVwKHBvcHVwXzkzNDA3Mjc5YmU2NDQ2OTc4NWM5NzJlYzAwNDQyMDNhKQogICAgICAgIDsKCiAgICAgICAgCiAgICAKICAgIAogICAgICAgICAgICB2YXIgY2lyY2xlX21hcmtlcl8zOTU1NDUzODcwOGM0ZWNhYjVmYTczZmMyZDllMWUwYSA9IEwuY2lyY2xlTWFya2VyKAogICAgICAgICAgICAgICAgWzQ0Ljg1MzcxMDA5OTIsIC0wLjY0OTgyNDk5NTk2N10sCiAgICAgICAgICAgICAgICB7ImJ1YmJsaW5nTW91c2VFdmVudHMiOiB0cnVlLCAiY29sb3IiOiAiIzMzODhmZiIsICJkYXNoQXJyYXkiOiBudWxsLCAiZGFzaE9mZnNldCI6IG51bGwsICJmaWxsIjogdHJ1ZSwgImZpbGxDb2xvciI6ICIjMzM4OGZmIiwgImZpbGxPcGFjaXR5IjogMSwgImZpbGxSdWxlIjogImV2ZW5vZGQiLCAibGluZUNhcCI6ICJyb3VuZCIsICJsaW5lSm9pbiI6ICJyb3VuZCIsICJvcGFjaXR5IjogMS4wLCAicmFkaXVzIjogNSwgInN0cm9rZSI6IHRydWUsICJ3ZWlnaHQiOiAzfQogICAgICAgICAgICApLmFkZFRvKG1hcF8yZTg1ZDRkMDBkYzk0YWUyOGQ0ZTMyYmM0MzU1OTc0Zik7CiAgICAgICAgCiAgICAKICAgICAgICB2YXIgcG9wdXBfM2Y5NmViZDE0YmNjNDk1NWEwMTBiYmE2YzQ1ZmM1MTggPSBMLnBvcHVwKHsiZW5jb2RpbmciOiAibGF0aW5fMSIsICJtYXhXaWR0aCI6ICIxMDAlIn0pOwoKICAgICAgICAKICAgICAgICAgICAgdmFyIGh0bWxfYzIwYThhMWZkNjdmNDI1NThlNmZlZjM4YjE1ZmI2NzggPSAkKGA8ZGl2IGlkPSJodG1sX2MyMGE4YTFmZDY3ZjQyNTU4ZTZmZWYzOGIxNWZiNjc4IiBzdHlsZT0id2lkdGg6IDEwMC4wJTsgaGVpZ2h0OiAxMDAuMCU7Ij5NRVJJR05BQyBDQVBFWVJPTjwvZGl2PmApWzBdOwogICAgICAgICAgICBwb3B1cF8zZjk2ZWJkMTRiY2M0OTU1YTAxMGJiYTZjNDVmYzUxOC5zZXRDb250ZW50KGh0bWxfYzIwYThhMWZkNjdmNDI1NThlNmZlZjM4YjE1ZmI2NzgpOwogICAgICAgIAoKICAgICAgICBjaXJjbGVfbWFya2VyXzM5NTU0NTM4NzA4YzRlY2FiNWZhNzNmYzJkOWUxZTBhLmJpbmRQb3B1cChwb3B1cF8zZjk2ZWJkMTRiY2M0OTU1YTAxMGJiYTZjNDVmYzUxOCkKICAgICAgICA7CgogICAgICAgIAogICAgCiAgICAKICAgICAgICAgICAgdmFyIGNpcmNsZV9tYXJrZXJfNzU0MzIzMjI5MzJlNDlhZmJiNTNhOWJjODBiNzZmYTYgPSBMLmNpcmNsZU1hcmtlcigKICAgICAgICAgICAgICAgIFs0NC44MjkyNDY1OTg1LCAtMC41OTgwNDc1MTIyMTddLAogICAgICAgICAgICAgICAgeyJidWJibGluZ01vdXNlRXZlbnRzIjogdHJ1ZSwgImNvbG9yIjogIiMzMzg4ZmYiLCAiZGFzaEFycmF5IjogbnVsbCwgImRhc2hPZmZzZXQiOiBudWxsLCAiZmlsbCI6IHRydWUsICJmaWxsQ29sb3IiOiAiIzMzODhmZiIsICJmaWxsT3BhY2l0eSI6IDEsICJmaWxsUnVsZSI6ICJldmVub2RkIiwgImxpbmVDYXAiOiAicm91bmQiLCAibGluZUpvaW4iOiAicm91bmQiLCAib3BhY2l0eSI6IDEuMCwgInJhZGl1cyI6IDUsICJzdHJva2UiOiB0cnVlLCAid2VpZ2h0IjogM30KICAgICAgICAgICAgKS5hZGRUbyhtYXBfMmU4NWQ0ZDAwZGM5NGFlMjhkNGUzMmJjNDM1NTk3NGYpOwogICAgICAgIAogICAgCiAgICAgICAgdmFyIHBvcHVwX2FkNDJkZWRjZThlNTQ0YjRiYjQ1ZDZiMDI4ZThhZmEwID0gTC5wb3B1cCh7ImVuY29kaW5nIjogImxhdGluXzEiLCAibWF4V2lkdGgiOiAiMTAwJSJ9KTsKCiAgICAgICAgCiAgICAgICAgICAgIHZhciBodG1sXzlkMzI4Zjg4NmM3YjRmZmZiNGEwZmEwZjQ4NjIyMzljID0gJChgPGRpdiBpZD0iaHRtbF85ZDMyOGY4ODZjN2I0ZmZmYjRhMGZhMGY0ODYyMjM5YyIgc3R5bGU9IndpZHRoOiAxMDAuMCU7IGhlaWdodDogMTAwLjAlOyI+Qk9SREVBVVggU0FJTlQgQVVHVVNUSU4gLSBUQVVaSU4gLSBBTFBIT05TRSBEVVBFVVg8L2Rpdj5gKVswXTsKICAgICAgICAgICAgcG9wdXBfYWQ0MmRlZGNlOGU1NDRiNGJiNDVkNmIwMjhlOGFmYTAuc2V0Q29udGVudChodG1sXzlkMzI4Zjg4NmM3YjRmZmZiNGEwZmEwZjQ4NjIyMzljKTsKICAgICAgICAKCiAgICAgICAgY2lyY2xlX21hcmtlcl83NTQzMjMyMjkzMmU0OWFmYmI1M2E5YmM4MGI3NmZhNi5iaW5kUG9wdXAocG9wdXBfYWQ0MmRlZGNlOGU1NDRiNGJiNDVkNmIwMjhlOGFmYTApCiAgICAgICAgOwoKICAgICAgICAKICAgIAogICAgCiAgICAgICAgICAgIHZhciBjaXJjbGVfbWFya2VyX2FlMmM3OWFhYjBiNzQxMjFiZDU4M2E0YWQ1NzU5NjMzID0gTC5jaXJjbGVNYXJrZXIoCiAgICAgICAgICAgICAgICBbNDQuODQ1OTQyMDk4NiwgLTAuNTQ5ODQ1MjM3MzM0XSwKICAgICAgICAgICAgICAgIHsiYnViYmxpbmdNb3VzZUV2ZW50cyI6IHRydWUsICJjb2xvciI6ICIjMzM4OGZmIiwgImRhc2hBcnJheSI6IG51bGwsICJkYXNoT2Zmc2V0IjogbnVsbCwgImZpbGwiOiB0cnVlLCAiZmlsbENvbG9yIjogIiMzMzg4ZmYiLCAiZmlsbE9wYWNpdHkiOiAxLCAiZmlsbFJ1bGUiOiAiZXZlbm9kZCIsICJsaW5lQ2FwIjogInJvdW5kIiwgImxpbmVKb2luIjogInJvdW5kIiwgIm9wYWNpdHkiOiAxLjAsICJyYWRpdXMiOiA1LCAic3Ryb2tlIjogdHJ1ZSwgIndlaWdodCI6IDN9CiAgICAgICAgICAgICkuYWRkVG8obWFwXzJlODVkNGQwMGRjOTRhZTI4ZDRlMzJiYzQzNTU5NzRmKTsKICAgICAgICAKICAgIAogICAgICAgIHZhciBwb3B1cF8xZmRlYTIzMWZlOGI0NTE4YmJjNjk1YzQ1MzhhMDVhYyA9IEwucG9wdXAoeyJlbmNvZGluZyI6ICJsYXRpbl8xIiwgIm1heFdpZHRoIjogIjEwMCUifSk7CgogICAgICAgIAogICAgICAgICAgICB2YXIgaHRtbF84Y2FlYWZhZjY0ZTk0NWRmOGZmYWFhN2QzNjM5YjFjMCA9ICQoYDxkaXYgaWQ9Imh0bWxfOGNhZWFmYWY2NGU5NDVkZjhmZmFhYTdkMzYzOWIxYzAiIHN0eWxlPSJ3aWR0aDogMTAwLjAlOyBoZWlnaHQ6IDEwMC4wJTsiPkJPUkRFQVVYIExBIEJBU1RJREU8L2Rpdj5gKVswXTsKICAgICAgICAgICAgcG9wdXBfMWZkZWEyMzFmZThiNDUxOGJiYzY5NWM0NTM4YTA1YWMuc2V0Q29udGVudChodG1sXzhjYWVhZmFmNjRlOTQ1ZGY4ZmZhYWE3ZDM2MzliMWMwKTsKICAgICAgICAKCiAgICAgICAgY2lyY2xlX21hcmtlcl9hZTJjNzlhYWIwYjc0MTIxYmQ1ODNhNGFkNTc1OTYzMy5iaW5kUG9wdXAocG9wdXBfMWZkZWEyMzFmZThiNDUxOGJiYzY5NWM0NTM4YTA1YWMpCiAgICAgICAgOwoKICAgICAgICAKICAgIAogICAgCiAgICAgICAgICAgIHZhciBjaXJjbGVfbWFya2VyXzljYmRiNDRjNjhiNDQ4MzM4YWIxM2Q3ZmQ4ZGRhZTYxID0gTC5jaXJjbGVNYXJrZXIoCiAgICAgICAgICAgICAgICBbNDQuODU0OTI2NzU2NywgLTAuNTIzNTMwNzM4NzUxXSwKICAgICAgICAgICAgICAgIHsiYnViYmxpbmdNb3VzZUV2ZW50cyI6IHRydWUsICJjb2xvciI6ICIjMzM4OGZmIiwgImRhc2hBcnJheSI6IG51bGwsICJkYXNoT2Zmc2V0IjogbnVsbCwgImZpbGwiOiB0cnVlLCAiZmlsbENvbG9yIjogIiMzMzg4ZmYiLCAiZmlsbE9wYWNpdHkiOiAxLCAiZmlsbFJ1bGUiOiAiZXZlbm9kZCIsICJsaW5lQ2FwIjogInJvdW5kIiwgImxpbmVKb2luIjogInJvdW5kIiwgIm9wYWNpdHkiOiAxLjAsICJyYWRpdXMiOiA1LCAic3Ryb2tlIjogdHJ1ZSwgIndlaWdodCI6IDN9CiAgICAgICAgICAgICkuYWRkVG8obWFwXzJlODVkNGQwMGRjOTRhZTI4ZDRlMzJiYzQzNTU5NzRmKTsKICAgICAgICAKICAgIAogICAgICAgIHZhciBwb3B1cF8yNTUxZmQxYTVjYzA0NzIzYTNhYTEzNDAzM2RlN2Q5ZCA9IEwucG9wdXAoeyJlbmNvZGluZyI6ICJsYXRpbl8xIiwgIm1heFdpZHRoIjogIjEwMCUifSk7CgogICAgICAgIAogICAgICAgICAgICB2YXIgaHRtbF8zODEyNDBmMTk0OTA0MzkxOGU2OTkzNDQ4NmU2Yjc1ZCA9ICQoYDxkaXYgaWQ9Imh0bWxfMzgxMjQwZjE5NDkwNDM5MThlNjk5MzQ0ODZlNmI3NWQiIHN0eWxlPSJ3aWR0aDogMTAwLjAlOyBoZWlnaHQ6IDEwMC4wJTsiPkNFTk9OIFBBTE1FUi1HUkFWSUVSRVMtQ0FWQUlMTEVTPC9kaXY+YClbMF07CiAgICAgICAgICAgIHBvcHVwXzI1NTFmZDFhNWNjMDQ3MjNhM2FhMTM0MDMzZGU3ZDlkLnNldENvbnRlbnQoaHRtbF8zODEyNDBmMTk0OTA0MzkxOGU2OTkzNDQ4NmU2Yjc1ZCk7CiAgICAgICAgCgogICAgICAgIGNpcmNsZV9tYXJrZXJfOWNiZGI0NGM2OGI0NDgzMzhhYjEzZDdmZDhkZGFlNjEuYmluZFBvcHVwKHBvcHVwXzI1NTFmZDFhNWNjMDQ3MjNhM2FhMTM0MDMzZGU3ZDlkKQogICAgICAgIDsKCiAgICAgICAgCiAgICAKICAgIAogICAgICAgICAgICB2YXIgY2lyY2xlX21hcmtlcl85ZjY0NTY5NzFiNjE0NWQ4YWM3NGMxYjRkMDIwYjJiNyA9IEwuY2lyY2xlTWFya2VyKAogICAgICAgICAgICAgICAgWzQ0Ljc5MDI5ODg1MjYsIC0wLjcxMjI3NjgzOTQ1M10sCiAgICAgICAgICAgICAgICB7ImJ1YmJsaW5nTW91c2VFdmVudHMiOiB0cnVlLCAiY29sb3IiOiAiIzMzODhmZiIsICJkYXNoQXJyYXkiOiBudWxsLCAiZGFzaE9mZnNldCI6IG51bGwsICJmaWxsIjogdHJ1ZSwgImZpbGxDb2xvciI6ICIjMzM4OGZmIiwgImZpbGxPcGFjaXR5IjogMSwgImZpbGxSdWxlIjogImV2ZW5vZGQiLCAibGluZUNhcCI6ICJyb3VuZCIsICJsaW5lSm9pbiI6ICJyb3VuZCIsICJvcGFjaXR5IjogMS4wLCAicmFkaXVzIjogNSwgInN0cm9rZSI6IHRydWUsICJ3ZWlnaHQiOiAzfQogICAgICAgICAgICApLmFkZFRvKG1hcF8yZTg1ZDRkMDBkYzk0YWUyOGQ0ZTMyYmM0MzU1OTc0Zik7CiAgICAgICAgCiAgICAKICAgICAgICB2YXIgcG9wdXBfMjk0YWJkZDJlMTRjNDdmYWEyZjAwNjMyNTcwN2VlYWEgPSBMLnBvcHVwKHsiZW5jb2RpbmciOiAibGF0aW5fMSIsICJtYXhXaWR0aCI6ICIxMDAlIn0pOwoKICAgICAgICAKICAgICAgICAgICAgdmFyIGh0bWxfNmVhOGFhNDI3NWRmNGYxM2JlM2E5MmE3M2FmNzY4YTQgPSAkKGA8ZGl2IGlkPSJodG1sXzZlYThhYTQyNzVkZjRmMTNiZTNhOTJhNzNhZjc2OGE0IiBzdHlsZT0id2lkdGg6IDEwMC4wJTsgaGVpZ2h0OiAxMDAuMCU7Ij5QRVNTQUMgTUFHT05UWTwvZGl2PmApWzBdOwogICAgICAgICAgICBwb3B1cF8yOTRhYmRkMmUxNGM0N2ZhYTJmMDA2MzI1NzA3ZWVhYS5zZXRDb250ZW50KGh0bWxfNmVhOGFhNDI3NWRmNGYxM2JlM2E5MmE3M2FmNzY4YTQpOwogICAgICAgIAoKICAgICAgICBjaXJjbGVfbWFya2VyXzlmNjQ1Njk3MWI2MTQ1ZDhhYzc0YzFiNGQwMjBiMmI3LmJpbmRQb3B1cChwb3B1cF8yOTRhYmRkMmUxNGM0N2ZhYTJmMDA2MzI1NzA3ZWVhYSkKICAgICAgICA7CgogICAgICAgIAogICAgCiAgICAKICAgICAgICAgICAgdmFyIGNpcmNsZV9tYXJrZXJfNGVjMWMxODI3ZDNmNGJmZWE3Zjk0MGYyOGMyMTBhNDEgPSBMLmNpcmNsZU1hcmtlcigKICAgICAgICAgICAgICAgIFs0NC44MDAyODUyMDc1LCAtMC42MjI0NTE1NzU0NTNdLAogICAgICAgICAgICAgICAgeyJidWJibGluZ01vdXNlRXZlbnRzIjogdHJ1ZSwgImNvbG9yIjogIiMzMzg4ZmYiLCAiZGFzaEFycmF5IjogbnVsbCwgImRhc2hPZmZzZXQiOiBudWxsLCAiZmlsbCI6IHRydWUsICJmaWxsQ29sb3IiOiAiIzMzODhmZiIsICJmaWxsT3BhY2l0eSI6IDEsICJmaWxsUnVsZSI6ICJldmVub2RkIiwgImxpbmVDYXAiOiAicm91bmQiLCAibGluZUpvaW4iOiAicm91bmQiLCAib3BhY2l0eSI6IDEuMCwgInJhZGl1cyI6IDUsICJzdHJva2UiOiB0cnVlLCAid2VpZ2h0IjogM30KICAgICAgICAgICAgKS5hZGRUbyhtYXBfMmU4NWQ0ZDAwZGM5NGFlMjhkNGUzMmJjNDM1NTk3NGYpOwogICAgICAgIAogICAgCiAgICAgICAgdmFyIHBvcHVwXzY5NjlmYjU0NWYzMDQ0ZjJiZjliMDFlMTliNTVjNzQwID0gTC5wb3B1cCh7ImVuY29kaW5nIjogImxhdGluXzEiLCAibWF4V2lkdGgiOiAiMTAwJSJ9KTsKCiAgICAgICAgCiAgICAgICAgICAgIHZhciBodG1sX2VhZTJmOTFhMjY0YzQ2YTY4ZjM3Y2ZmMWQ5MTIxMDMwID0gJChgPGRpdiBpZD0iaHRtbF9lYWUyZjkxYTI2NGM0NmE2OGYzN2NmZjFkOTEyMTAzMCIgc3R5bGU9IndpZHRoOiAxMDAuMCU7IGhlaWdodDogMTAwLjAlOyI+UEVTU0FDIENISVFVRVQtRk9OVEFVRElOPC9kaXY+YClbMF07CiAgICAgICAgICAgIHBvcHVwXzY5NjlmYjU0NWYzMDQ0ZjJiZjliMDFlMTliNTVjNzQwLnNldENvbnRlbnQoaHRtbF9lYWUyZjkxYTI2NGM0NmE2OGYzN2NmZjFkOTEyMTAzMCk7CiAgICAgICAgCgogICAgICAgIGNpcmNsZV9tYXJrZXJfNGVjMWMxODI3ZDNmNGJmZWE3Zjk0MGYyOGMyMTBhNDEuYmluZFBvcHVwKHBvcHVwXzY5NjlmYjU0NWYzMDQ0ZjJiZjliMDFlMTliNTVjNzQwKQogICAgICAgIDsKCiAgICAgICAgCiAgICAKICAgIAogICAgICAgICAgICB2YXIgY2lyY2xlX21hcmtlcl9kNDEzYmNmYjBhZjU0M2FiOTMzNTgwYWMzMmUxNWYyZSA9IEwuY2lyY2xlTWFya2VyKAogICAgICAgICAgICAgICAgWzQ0LjgwNTYyMzY2MDgsIC0wLjY1NTAwNDk3MDA1N10sCiAgICAgICAgICAgICAgICB7ImJ1YmJsaW5nTW91c2VFdmVudHMiOiB0cnVlLCAiY29sb3IiOiAiIzMzODhmZiIsICJkYXNoQXJyYXkiOiBudWxsLCAiZGFzaE9mZnNldCI6IG51bGwsICJmaWxsIjogdHJ1ZSwgImZpbGxDb2xvciI6ICIjMzM4OGZmIiwgImZpbGxPcGFjaXR5IjogMSwgImZpbGxSdWxlIjogImV2ZW5vZGQiLCAibGluZUNhcCI6ICJyb3VuZCIsICJsaW5lSm9pbiI6ICJyb3VuZCIsICJvcGFjaXR5IjogMS4wLCAicmFkaXVzIjogNSwgInN0cm9rZSI6IHRydWUsICJ3ZWlnaHQiOiAzfQogICAgICAgICAgICApLmFkZFRvKG1hcF8yZTg1ZDRkMDBkYzk0YWUyOGQ0ZTMyYmM0MzU1OTc0Zik7CiAgICAgICAgCiAgICAKICAgICAgICB2YXIgcG9wdXBfMTZjMTBkNmUxYzI3NDU3MWI2NjZjOTE3NGUwNzg5NjYgPSBMLnBvcHVwKHsiZW5jb2RpbmciOiAibGF0aW5fMSIsICJtYXhXaWR0aCI6ICIxMDAlIn0pOwoKICAgICAgICAKICAgICAgICAgICAgdmFyIGh0bWxfYTEwMGE1NzNhNWIyNDI2MDk0OTdlNGE1ZTAwODc1ZjcgPSAkKGA8ZGl2IGlkPSJodG1sX2ExMDBhNTczYTViMjQyNjA5NDk3ZTRhNWUwMDg3NWY3IiBzdHlsZT0id2lkdGg6IDEwMC4wJTsgaGVpZ2h0OiAxMDAuMCU7Ij5QRVNTQUMgTEUgTU9OVEVJTDwvZGl2PmApWzBdOwogICAgICAgICAgICBwb3B1cF8xNmMxMGQ2ZTFjMjc0NTcxYjY2NmM5MTc0ZTA3ODk2Ni5zZXRDb250ZW50KGh0bWxfYTEwMGE1NzNhNWIyNDI2MDk0OTdlNGE1ZTAwODc1ZjcpOwogICAgICAgIAoKICAgICAgICBjaXJjbGVfbWFya2VyX2Q0MTNiY2ZiMGFmNTQzYWI5MzM1ODBhYzMyZTE1ZjJlLmJpbmRQb3B1cChwb3B1cF8xNmMxMGQ2ZTFjMjc0NTcxYjY2NmM5MTc0ZTA3ODk2NikKICAgICAgICA7CgogICAgICAgIAogICAgCiAgICAKICAgICAgICAgICAgdmFyIGNpcmNsZV9tYXJrZXJfYjJiY2Y1MDFjZmYxNDVjY2EyYWMwYTA5ZGE1OThiMTEgPSBMLmNpcmNsZU1hcmtlcigKICAgICAgICAgICAgICAgIFs0NC44MzQwNzIzNjg3LCAtMC42MjU1ODM5NDgxMDddLAogICAgICAgICAgICAgICAgeyJidWJibGluZ01vdXNlRXZlbnRzIjogdHJ1ZSwgImNvbG9yIjogIiMzMzg4ZmYiLCAiZGFzaEFycmF5IjogbnVsbCwgImRhc2hPZmZzZXQiOiBudWxsLCAiZmlsbCI6IHRydWUsICJmaWxsQ29sb3IiOiAiIzMzODhmZiIsICJmaWxsT3BhY2l0eSI6IDEsICJmaWxsUnVsZSI6ICJldmVub2RkIiwgImxpbmVDYXAiOiAicm91bmQiLCAibGluZUpvaW4iOiAicm91bmQiLCAib3BhY2l0eSI6IDEuMCwgInJhZGl1cyI6IDUsICJzdHJva2UiOiB0cnVlLCAid2VpZ2h0IjogM30KICAgICAgICAgICAgKS5hZGRUbyhtYXBfMmU4NWQ0ZDAwZGM5NGFlMjhkNGUzMmJjNDM1NTk3NGYpOwogICAgICAgIAogICAgCiAgICAgICAgdmFyIHBvcHVwXzllYmY1Y2E4ZGRjNzQzNDk4MzM1NGUwODcxZDhhY2QzID0gTC5wb3B1cCh7ImVuY29kaW5nIjogImxhdGluXzEiLCAibWF4V2lkdGgiOiAiMTAwJSJ9KTsKCiAgICAgICAgCiAgICAgICAgICAgIHZhciBodG1sX2ViOWY4YzVjMWI2ZTRkOWJhMzQ1ZjUzYzBmNzU2Y2IzID0gJChgPGRpdiBpZD0iaHRtbF9lYjlmOGM1YzFiNmU0ZDliYTM0NWY1M2MwZjc1NmNiMyIgc3R5bGU9IndpZHRoOiAxMDAuMCU7IGhlaWdodDogMTAwLjAlOyI+TUVSSUdOQUMgTEEgR0xBQ0lFUkU8L2Rpdj5gKVswXTsKICAgICAgICAgICAgcG9wdXBfOWViZjVjYThkZGM3NDM0OTgzMzU0ZTA4NzFkOGFjZDMuc2V0Q29udGVudChodG1sX2ViOWY4YzVjMWI2ZTRkOWJhMzQ1ZjUzYzBmNzU2Y2IzKTsKICAgICAgICAKCiAgICAgICAgY2lyY2xlX21hcmtlcl9iMmJjZjUwMWNmZjE0NWNjYTJhYzBhMDlkYTU5OGIxMS5iaW5kUG9wdXAocG9wdXBfOWViZjVjYThkZGM3NDM0OTgzMzU0ZTA4NzFkOGFjZDMpCiAgICAgICAgOwoKICAgICAgICAKICAgIAogICAgCiAgICAgICAgICAgIHZhciBjaXJjbGVfbWFya2VyXzgzMjlhYWI3NDkyOTQzOTRiMWIwOWU1MTYwYWQ0ZWYxID0gTC5jaXJjbGVNYXJrZXIoCiAgICAgICAgICAgICAgICBbNDQuODg2NDQ4MjQ3MSwgLTAuNTU4MjQ1Mzk3MzE0XSwKICAgICAgICAgICAgICAgIHsiYnViYmxpbmdNb3VzZUV2ZW50cyI6IHRydWUsICJjb2xvciI6ICIjMzM4OGZmIiwgImRhc2hBcnJheSI6IG51bGwsICJkYXNoT2Zmc2V0IjogbnVsbCwgImZpbGwiOiB0cnVlLCAiZmlsbENvbG9yIjogIiMzMzg4ZmYiLCAiZmlsbE9wYWNpdHkiOiAxLCAiZmlsbFJ1bGUiOiAiZXZlbm9kZCIsICJsaW5lQ2FwIjogInJvdW5kIiwgImxpbmVKb2luIjogInJvdW5kIiwgIm9wYWNpdHkiOiAxLjAsICJyYWRpdXMiOiA1LCAic3Ryb2tlIjogdHJ1ZSwgIndlaWdodCI6IDN9CiAgICAgICAgICAgICkuYWRkVG8obWFwXzJlODVkNGQwMGRjOTRhZTI4ZDRlMzJiYzQzNTU5NzRmKTsKICAgICAgICAKICAgIAogICAgICAgIHZhciBwb3B1cF80MTJjYzk4YmVhODA0MDJlOGU2NzU4OTY4M2QyZTg2MyA9IEwucG9wdXAoeyJlbmNvZGluZyI6ICJsYXRpbl8xIiwgIm1heFdpZHRoIjogIjEwMCUifSk7CgogICAgICAgIAogICAgICAgICAgICB2YXIgaHRtbF8xZDEzNDU2YTA5MmE0MTJiYjg0ZjkzZTEyOTMzMDFlNyA9ICQoYDxkaXYgaWQ9Imh0bWxfMWQxMzQ1NmEwOTJhNDEyYmI4NGY5M2UxMjkzMzAxZTciIHN0eWxlPSJ3aWR0aDogMTAwLjAlOyBoZWlnaHQ6IDEwMC4wJTsiPkJPUkRFQVVYIEJPUkRFQVVYIE1BUklUSU1FPC9kaXY+YClbMF07CiAgICAgICAgICAgIHBvcHVwXzQxMmNjOThiZWE4MDQwMmU4ZTY3NTg5NjgzZDJlODYzLnNldENvbnRlbnQoaHRtbF8xZDEzNDU2YTA5MmE0MTJiYjg0ZjkzZTEyOTMzMDFlNyk7CiAgICAgICAgCgogICAgICAgIGNpcmNsZV9tYXJrZXJfODMyOWFhYjc0OTI5NDM5NGIxYjA5ZTUxNjBhZDRlZjEuYmluZFBvcHVwKHBvcHVwXzQxMmNjOThiZWE4MDQwMmU4ZTY3NTg5NjgzZDJlODYzKQogICAgICAgIDsKCiAgICAgICAgCiAgICAKICAgIAogICAgICAgICAgICB2YXIgY2lyY2xlX21hcmtlcl8wNjMzY2Y1OWJmOWU0YWZlOTg4YzNhYmRmZmYwY2NlNSA9IEwuY2lyY2xlTWFya2VyKAogICAgICAgICAgICAgICAgWzQ0LjgyNTM2MTA4OCwgLTAuNTU4NDE4NTMyMTY3XSwKICAgICAgICAgICAgICAgIHsiYnViYmxpbmdNb3VzZUV2ZW50cyI6IHRydWUsICJjb2xvciI6ICIjMzM4OGZmIiwgImRhc2hBcnJheSI6IG51bGwsICJkYXNoT2Zmc2V0IjogbnVsbCwgImZpbGwiOiB0cnVlLCAiZmlsbENvbG9yIjogIiMzMzg4ZmYiLCAiZmlsbE9wYWNpdHkiOiAxLCAiZmlsbFJ1bGUiOiAiZXZlbm9kZCIsICJsaW5lQ2FwIjogInJvdW5kIiwgImxpbmVKb2luIjogInJvdW5kIiwgIm9wYWNpdHkiOiAxLjAsICJyYWRpdXMiOiA1LCAic3Ryb2tlIjogdHJ1ZSwgIndlaWdodCI6IDN9CiAgICAgICAgICAgICkuYWRkVG8obWFwXzJlODVkNGQwMGRjOTRhZTI4ZDRlMzJiYzQzNTU5NzRmKTsKICAgICAgICAKICAgIAogICAgICAgIHZhciBwb3B1cF80MDU4YmY3N2FlNDE0NGQxYjU0NDFlYWE5NzA3NWJkMiA9IEwucG9wdXAoeyJlbmNvZGluZyI6ICJsYXRpbl8xIiwgIm1heFdpZHRoIjogIjEwMCUifSk7CgogICAgICAgIAogICAgICAgICAgICB2YXIgaHRtbF9kYWI1MTU3NDVjZGY0MjBiYWIxYjlhOGM4OGFlMjQ1YSA9ICQoYDxkaXYgaWQ9Imh0bWxfZGFiNTE1NzQ1Y2RmNDIwYmFiMWI5YThjODhhZTI0NWEiIHN0eWxlPSJ3aWR0aDogMTAwLjAlOyBoZWlnaHQ6IDEwMC4wJTsiPkJPUkRFQVVYIEJPUkRFQVVYIFNVRDwvZGl2PmApWzBdOwogICAgICAgICAgICBwb3B1cF80MDU4YmY3N2FlNDE0NGQxYjU0NDFlYWE5NzA3NWJkMi5zZXRDb250ZW50KGh0bWxfZGFiNTE1NzQ1Y2RmNDIwYmFiMWI5YThjODhhZTI0NWEpOwogICAgICAgIAoKICAgICAgICBjaXJjbGVfbWFya2VyXzA2MzNjZjU5YmY5ZTRhZmU5ODhjM2FiZGZmZjBjY2U1LmJpbmRQb3B1cChwb3B1cF80MDU4YmY3N2FlNDE0NGQxYjU0NDFlYWE5NzA3NWJkMikKICAgICAgICA7CgogICAgICAgIAogICAgCiAgICAKICAgICAgICAgICAgdmFyIGNpcmNsZV9tYXJrZXJfNDVmY2M0YWEwMTM2NDkzZmEyMjc4MWUyZDE5YjA0NzIgPSBMLmNpcmNsZU1hcmtlcigKICAgICAgICAgICAgICAgIFs0NC44MjgzMDczMTcxLCAtMC42NDc1Mzc5NDgwNjFdLAogICAgICAgICAgICAgICAgeyJidWJibGluZ01vdXNlRXZlbnRzIjogdHJ1ZSwgImNvbG9yIjogIiMzMzg4ZmYiLCAiZGFzaEFycmF5IjogbnVsbCwgImRhc2hPZmZzZXQiOiBudWxsLCAiZmlsbCI6IHRydWUsICJmaWxsQ29sb3IiOiAiIzMzODhmZiIsICJmaWxsT3BhY2l0eSI6IDEsICJmaWxsUnVsZSI6ICJldmVub2RkIiwgImxpbmVDYXAiOiAicm91bmQiLCAibGluZUpvaW4iOiAicm91bmQiLCAib3BhY2l0eSI6IDEuMCwgInJhZGl1cyI6IDUsICJzdHJva2UiOiB0cnVlLCAid2VpZ2h0IjogM30KICAgICAgICAgICAgKS5hZGRUbyhtYXBfMmU4NWQ0ZDAwZGM5NGFlMjhkNGUzMmJjNDM1NTk3NGYpOwogICAgICAgIAogICAgCiAgICAgICAgdmFyIHBvcHVwXzU1YjhiNWM1ZDdlNjQyOWQ4NjhhMDBhNmNmZDMxZDZkID0gTC5wb3B1cCh7ImVuY29kaW5nIjogImxhdGluXzEiLCAibWF4V2lkdGgiOiAiMTAwJSJ9KTsKCiAgICAgICAgCiAgICAgICAgICAgIHZhciBodG1sXzk3ZjAxMzU5YTQ0ODRlZWE5MmNhYWRkZjdlN2UwZTAxID0gJChgPGRpdiBpZD0iaHRtbF85N2YwMTM1OWE0NDg0ZWVhOTJjYWFkZGY3ZTdlMGUwMSIgc3R5bGU9IndpZHRoOiAxMDAuMCU7IGhlaWdodDogMTAwLjAlOyI+TUVSSUdOQUMgTEVTIEVZUVVFTVM8L2Rpdj5gKVswXTsKICAgICAgICAgICAgcG9wdXBfNTViOGI1YzVkN2U2NDI5ZDg2OGEwMGE2Y2ZkMzFkNmQuc2V0Q29udGVudChodG1sXzk3ZjAxMzU5YTQ0ODRlZWE5MmNhYWRkZjdlN2UwZTAxKTsKICAgICAgICAKCiAgICAgICAgY2lyY2xlX21hcmtlcl80NWZjYzRhYTAxMzY0OTNmYTIyNzgxZTJkMTliMDQ3Mi5iaW5kUG9wdXAocG9wdXBfNTViOGI1YzVkN2U2NDI5ZDg2OGEwMGE2Y2ZkMzFkNmQpCiAgICAgICAgOwoKICAgICAgICAKICAgIAogICAgCiAgICAgICAgICAgIHZhciBjaXJjbGVfbWFya2VyXzEwNmI4ODc5ODcwZDQ5MGJiZmNjMGU3ZjFjOTY4NWE4ID0gTC5jaXJjbGVNYXJrZXIoCiAgICAgICAgICAgICAgICBbNDQuODEwOTAzODUwMSwgLTAuNjQzNTM5NDA5NTQyXSwKICAgICAgICAgICAgICAgIHsiYnViYmxpbmdNb3VzZUV2ZW50cyI6IHRydWUsICJjb2xvciI6ICIjMzM4OGZmIiwgImRhc2hBcnJheSI6IG51bGwsICJkYXNoT2Zmc2V0IjogbnVsbCwgImZpbGwiOiB0cnVlLCAiZmlsbENvbG9yIjogIiMzMzg4ZmYiLCAiZmlsbE9wYWNpdHkiOiAxLCAiZmlsbFJ1bGUiOiAiZXZlbm9kZCIsICJsaW5lQ2FwIjogInJvdW5kIiwgImxpbmVKb2luIjogInJvdW5kIiwgIm9wYWNpdHkiOiAxLjAsICJyYWRpdXMiOiA1LCAic3Ryb2tlIjogdHJ1ZSwgIndlaWdodCI6IDN9CiAgICAgICAgICAgICkuYWRkVG8obWFwXzJlODVkNGQwMGRjOTRhZTI4ZDRlMzJiYzQzNTU5NzRmKTsKICAgICAgICAKICAgIAogICAgICAgIHZhciBwb3B1cF9lZDNhYmE5YTM1NDA0MGI0YjQzMDBiYzljMTBkMzgyOSA9IEwucG9wdXAoeyJlbmNvZGluZyI6ICJsYXRpbl8xIiwgIm1heFdpZHRoIjogIjEwMCUifSk7CgogICAgICAgIAogICAgICAgICAgICB2YXIgaHRtbF8wNDA1M2NhODA4YTI0N2M1OWNiYTNmZGNkN2FkODkxZCA9ICQoYDxkaXYgaWQ9Imh0bWxfMDQwNTNjYTgwOGEyNDdjNTljYmEzZmRjZDdhZDg5MWQiIHN0eWxlPSJ3aWR0aDogMTAwLjAlOyBoZWlnaHQ6IDEwMC4wJTsiPlBFU1NBQyBOT0VTPC9kaXY+YClbMF07CiAgICAgICAgICAgIHBvcHVwX2VkM2FiYTlhMzU0MDQwYjRiNDMwMGJjOWMxMGQzODI5LnNldENvbnRlbnQoaHRtbF8wNDA1M2NhODA4YTI0N2M1OWNiYTNmZGNkN2FkODkxZCk7CiAgICAgICAgCgogICAgICAgIGNpcmNsZV9tYXJrZXJfMTA2Yjg4Nzk4NzBkNDkwYmJmY2MwZTdmMWM5Njg1YTguYmluZFBvcHVwKHBvcHVwX2VkM2FiYTlhMzU0MDQwYjRiNDMwMGJjOWMxMGQzODI5KQogICAgICAgIDsKCiAgICAgICAgCiAgICAKICAgIAogICAgICAgICAgICB2YXIgY2lyY2xlX21hcmtlcl9lOWQ2NjIxOTk4NDQ0YTNmOTQ4Nzc0ZmU1ODRjZDY1ZCA9IEwuY2lyY2xlTWFya2VyKAogICAgICAgICAgICAgICAgWzQ0Ljc5MTg1MTIyODcsIC0wLjY0NjA0MjE1MzY4N10sCiAgICAgICAgICAgICAgICB7ImJ1YmJsaW5nTW91c2VFdmVudHMiOiB0cnVlLCAiY29sb3IiOiAiIzMzODhmZiIsICJkYXNoQXJyYXkiOiBudWxsLCAiZGFzaE9mZnNldCI6IG51bGwsICJmaWxsIjogdHJ1ZSwgImZpbGxDb2xvciI6ICIjMzM4OGZmIiwgImZpbGxPcGFjaXR5IjogMSwgImZpbGxSdWxlIjogImV2ZW5vZGQiLCAibGluZUNhcCI6ICJyb3VuZCIsICJsaW5lSm9pbiI6ICJyb3VuZCIsICJvcGFjaXR5IjogMS4wLCAicmFkaXVzIjogNSwgInN0cm9rZSI6IHRydWUsICJ3ZWlnaHQiOiAzfQogICAgICAgICAgICApLmFkZFRvKG1hcF8yZTg1ZDRkMDBkYzk0YWUyOGQ0ZTMyYmM0MzU1OTc0Zik7CiAgICAgICAgCiAgICAKICAgICAgICB2YXIgcG9wdXBfYWYxOWY5NDllYzgwNGYzYTg2NmQyMWZhNTk1YTA0ZDkgPSBMLnBvcHVwKHsiZW5jb2RpbmciOiAibGF0aW5fMSIsICJtYXhXaWR0aCI6ICIxMDAlIn0pOwoKICAgICAgICAKICAgICAgICAgICAgdmFyIGh0bWxfNDNhMTVmYzI1NDJmNGFiMzllZjc2NTM5YTUzY2U1NDMgPSAkKGA8ZGl2IGlkPSJodG1sXzQzYTE1ZmMyNTQyZjRhYjM5ZWY3NjUzOWE1M2NlNTQzIiBzdHlsZT0id2lkdGg6IDEwMC4wJTsgaGVpZ2h0OiAxMDAuMCU7Ij5QRVNTQUMgQVJBR08tTEEgQ0hBVEFJR05FUkFJRTwvZGl2PmApWzBdOwogICAgICAgICAgICBwb3B1cF9hZjE5Zjk0OWVjODA0ZjNhODY2ZDIxZmE1OTVhMDRkOS5zZXRDb250ZW50KGh0bWxfNDNhMTVmYzI1NDJmNGFiMzllZjc2NTM5YTUzY2U1NDMpOwogICAgICAgIAoKICAgICAgICBjaXJjbGVfbWFya2VyX2U5ZDY2MjE5OTg0NDRhM2Y5NDg3NzRmZTU4NGNkNjVkLmJpbmRQb3B1cChwb3B1cF9hZjE5Zjk0OWVjODA0ZjNhODY2ZDIxZmE1OTVhMDRkOSkKICAgICAgICA7CgogICAgICAgIAogICAgCiAgICAKICAgICAgICAgICAgdmFyIGNpcmNsZV9tYXJrZXJfNzAyZGRjYWE2NDUyNDE5NzkxODQ2NzhmY2IxYjI5YzYgPSBMLmNpcmNsZU1hcmtlcigKICAgICAgICAgICAgICAgIFs0NC44MTE5Nzk1OTE2LCAtMC42MjUzNDczMDUwODhdLAogICAgICAgICAgICAgICAgeyJidWJibGluZ01vdXNlRXZlbnRzIjogdHJ1ZSwgImNvbG9yIjogIiMzMzg4ZmYiLCAiZGFzaEFycmF5IjogbnVsbCwgImRhc2hPZmZzZXQiOiBudWxsLCAiZmlsbCI6IHRydWUsICJmaWxsQ29sb3IiOiAiIzMzODhmZiIsICJmaWxsT3BhY2l0eSI6IDEsICJmaWxsUnVsZSI6ICJldmVub2RkIiwgImxpbmVDYXAiOiAicm91bmQiLCAibGluZUpvaW4iOiAicm91bmQiLCAib3BhY2l0eSI6IDEuMCwgInJhZGl1cyI6IDUsICJzdHJva2UiOiB0cnVlLCAid2VpZ2h0IjogM30KICAgICAgICAgICAgKS5hZGRUbyhtYXBfMmU4NWQ0ZDAwZGM5NGFlMjhkNGUzMmJjNDM1NTk3NGYpOwogICAgICAgIAogICAgCiAgICAgICAgdmFyIHBvcHVwXzY5MWFkODBiZTQyYTQyOGVhZjlmODdmNzI3MWUwMzU3ID0gTC5wb3B1cCh7ImVuY29kaW5nIjogImxhdGluXzEiLCAibWF4V2lkdGgiOiAiMTAwJSJ9KTsKCiAgICAgICAgCiAgICAgICAgICAgIHZhciBodG1sXzMxOWFiOTQwMGQyYTRmYWQ5ZGVmZmVhNjJmMDNmYWZlID0gJChgPGRpdiBpZD0iaHRtbF8zMTlhYjk0MDBkMmE0ZmFkOWRlZmZlYTYyZjAzZmFmZSIgc3R5bGU9IndpZHRoOiAxMDAuMCU7IGhlaWdodDogMTAwLjAlOyI+UEVTU0FDIExFIFZBTExPTi1MRVMgRUNIT1BQRVM8L2Rpdj5gKVswXTsKICAgICAgICAgICAgcG9wdXBfNjkxYWQ4MGJlNDJhNDI4ZWFmOWY4N2Y3MjcxZTAzNTcuc2V0Q29udGVudChodG1sXzMxOWFiOTQwMGQyYTRmYWQ5ZGVmZmVhNjJmMDNmYWZlKTsKICAgICAgICAKCiAgICAgICAgY2lyY2xlX21hcmtlcl83MDJkZGNhYTY0NTI0MTk3OTE4NDY3OGZjYjFiMjljNi5iaW5kUG9wdXAocG9wdXBfNjkxYWQ4MGJlNDJhNDI4ZWFmOWY4N2Y3MjcxZTAzNTcpCiAgICAgICAgOwoKICAgICAgICAKICAgIAogICAgCiAgICAgICAgICAgIHZhciBjaXJjbGVfbWFya2VyXzM1OTBkMjljMzdjMDQ2N2JhNjIxMGVjNTA2NTEzMDNiID0gTC5jaXJjbGVNYXJrZXIoCiAgICAgICAgICAgICAgICBbNDQuODE5NTQwMTk0NCwgLTAuNjQyMDc2ODczNTYyXSwKICAgICAgICAgICAgICAgIHsiYnViYmxpbmdNb3VzZUV2ZW50cyI6IHRydWUsICJjb2xvciI6ICIjMzM4OGZmIiwgImRhc2hBcnJheSI6IG51bGwsICJkYXNoT2Zmc2V0IjogbnVsbCwgImZpbGwiOiB0cnVlLCAiZmlsbENvbG9yIjogIiMzMzg4ZmYiLCAiZmlsbE9wYWNpdHkiOiAxLCAiZmlsbFJ1bGUiOiAiZXZlbm9kZCIsICJsaW5lQ2FwIjogInJvdW5kIiwgImxpbmVKb2luIjogInJvdW5kIiwgIm9wYWNpdHkiOiAxLjAsICJyYWRpdXMiOiA1LCAic3Ryb2tlIjogdHJ1ZSwgIndlaWdodCI6IDN9CiAgICAgICAgICAgICkuYWRkVG8obWFwXzJlODVkNGQwMGRjOTRhZTI4ZDRlMzJiYzQzNTU5NzRmKTsKICAgICAgICAKICAgIAogICAgICAgIHZhciBwb3B1cF84NGYzZTEzYzFlZDQ0N2M2YjE0NjljMTYxNzcxNTZmNSA9IEwucG9wdXAoeyJlbmNvZGluZyI6ICJsYXRpbl8xIiwgIm1heFdpZHRoIjogIjEwMCUifSk7CgogICAgICAgIAogICAgICAgICAgICB2YXIgaHRtbF85YTUyMTRiZjNlYjc0YjU4YTZhZjIzNjg0Y2U2YzIzOSA9ICQoYDxkaXYgaWQ9Imh0bWxfOWE1MjE0YmYzZWI3NGI1OGE2YWYyMzY4NGNlNmMyMzkiIHN0eWxlPSJ3aWR0aDogMTAwLjAlOyBoZWlnaHQ6IDEwMC4wJTsiPk1FUklHTkFDIExFIEJVUkNLPC9kaXY+YClbMF07CiAgICAgICAgICAgIHBvcHVwXzg0ZjNlMTNjMWVkNDQ3YzZiMTQ2OWMxNjE3NzE1NmY1LnNldENvbnRlbnQoaHRtbF85YTUyMTRiZjNlYjc0YjU4YTZhZjIzNjg0Y2U2YzIzOSk7CiAgICAgICAgCgogICAgICAgIGNpcmNsZV9tYXJrZXJfMzU5MGQyOWMzN2MwNDY3YmE2MjEwZWM1MDY1MTMwM2IuYmluZFBvcHVwKHBvcHVwXzg0ZjNlMTNjMWVkNDQ3YzZiMTQ2OWMxNjE3NzE1NmY1KQogICAgICAgIDsKCiAgICAgICAgCiAgICAKICAgIAogICAgICAgICAgICB2YXIgY2lyY2xlX21hcmtlcl9kMjU2ZjZjZGI1ZGU0M2ZiYmU3NjMzNzRmOTk1MmI1NSA9IEwuY2lyY2xlTWFya2VyKAogICAgICAgICAgICAgICAgWzQ0Ljc5ODQ0NzAzOTQsIC0wLjYzMTU4MjU3NjkwMl0sCiAgICAgICAgICAgICAgICB7ImJ1YmJsaW5nTW91c2VFdmVudHMiOiB0cnVlLCAiY29sb3IiOiAiIzMzODhmZiIsICJkYXNoQXJyYXkiOiBudWxsLCAiZGFzaE9mZnNldCI6IG51bGwsICJmaWxsIjogdHJ1ZSwgImZpbGxDb2xvciI6ICIjMzM4OGZmIiwgImZpbGxPcGFjaXR5IjogMSwgImZpbGxSdWxlIjogImV2ZW5vZGQiLCAibGluZUNhcCI6ICJyb3VuZCIsICJsaW5lSm9pbiI6ICJyb3VuZCIsICJvcGFjaXR5IjogMS4wLCAicmFkaXVzIjogNSwgInN0cm9rZSI6IHRydWUsICJ3ZWlnaHQiOiAzfQogICAgICAgICAgICApLmFkZFRvKG1hcF8yZTg1ZDRkMDBkYzk0YWUyOGQ0ZTMyYmM0MzU1OTc0Zik7CiAgICAgICAgCiAgICAKICAgICAgICB2YXIgcG9wdXBfN2U4ODA2YWI1YjliNDdmOTlhNDUyMzJlNTliMjdlNzggPSBMLnBvcHVwKHsiZW5jb2RpbmciOiAibGF0aW5fMSIsICJtYXhXaWR0aCI6ICIxMDAlIn0pOwoKICAgICAgICAKICAgICAgICAgICAgdmFyIGh0bWxfNTEwOTkwMjM0ZDNjNDAzNmI2NmMyMzhjYTk2NjJjMjMgPSAkKGA8ZGl2IGlkPSJodG1sXzUxMDk5MDIzNGQzYzQwMzZiNjZjMjM4Y2E5NjYyYzIzIiBzdHlsZT0id2lkdGg6IDEwMC4wJTsgaGVpZ2h0OiAxMDAuMCU7Ij5QRVNTQUMgU0FSRElORTwvZGl2PmApWzBdOwogICAgICAgICAgICBwb3B1cF83ZTg4MDZhYjViOWI0N2Y5OWE0NTIzMmU1OWIyN2U3OC5zZXRDb250ZW50KGh0bWxfNTEwOTkwMjM0ZDNjNDAzNmI2NmMyMzhjYTk2NjJjMjMpOwogICAgICAgIAoKICAgICAgICBjaXJjbGVfbWFya2VyX2QyNTZmNmNkYjVkZTQzZmJiZTc2MzM3NGY5OTUyYjU1LmJpbmRQb3B1cChwb3B1cF83ZTg4MDZhYjViOWI0N2Y5OWE0NTIzMmU1OWIyN2U3OCkKICAgICAgICA7CgogICAgICAgIAogICAgCiAgICAKICAgICAgICAgICAgdmFyIGNpcmNsZV9tYXJrZXJfMmMxNzEyODhjOTlmNDFmYWE3MzM4NTJlMGZkNTY1OWQgPSBMLmNpcmNsZU1hcmtlcigKICAgICAgICAgICAgICAgIFs0NC44MTc5NTcsIC0wLjY5OTg2NV0sCiAgICAgICAgICAgICAgICB7ImJ1YmJsaW5nTW91c2VFdmVudHMiOiB0cnVlLCAiY29sb3IiOiAiIzMzODhmZiIsICJkYXNoQXJyYXkiOiBudWxsLCAiZGFzaE9mZnNldCI6IG51bGwsICJmaWxsIjogdHJ1ZSwgImZpbGxDb2xvciI6ICIjMzM4OGZmIiwgImZpbGxPcGFjaXR5IjogMSwgImZpbGxSdWxlIjogImV2ZW5vZGQiLCAibGluZUNhcCI6ICJyb3VuZCIsICJsaW5lSm9pbiI6ICJyb3VuZCIsICJvcGFjaXR5IjogMS4wLCAicmFkaXVzIjogNSwgInN0cm9rZSI6IHRydWUsICJ3ZWlnaHQiOiAzfQogICAgICAgICAgICApLmFkZFRvKG1hcF8yZTg1ZDRkMDBkYzk0YWUyOGQ0ZTMyYmM0MzU1OTc0Zik7CiAgICAgICAgCiAgICAKICAgICAgICB2YXIgcG9wdXBfYjUxZWRlZDEwZGYxNDFmN2FhOTkyODRiNjNhMjJhODcgPSBMLnBvcHVwKHsiZW5jb2RpbmciOiAibGF0aW5fMSIsICJtYXhXaWR0aCI6ICIxMDAlIn0pOwoKICAgICAgICAKICAgICAgICAgICAgdmFyIGh0bWxfMTgwMDA3Y2QwNGVmNGM0NTg0YmYwYWEzOTMxYTllZjggPSAkKGA8ZGl2IGlkPSJodG1sXzE4MDAwN2NkMDRlZjRjNDU4NGJmMGFhMzkzMWE5ZWY4IiBzdHlsZT0id2lkdGg6IDEwMC4wJTsgaGVpZ2h0OiAxMDAuMCU7Ij5NRVJJR05BQyBCRVVUUkU8L2Rpdj5gKVswXTsKICAgICAgICAgICAgcG9wdXBfYjUxZWRlZDEwZGYxNDFmN2FhOTkyODRiNjNhMjJhODcuc2V0Q29udGVudChodG1sXzE4MDAwN2NkMDRlZjRjNDU4NGJmMGFhMzkzMWE5ZWY4KTsKICAgICAgICAKCiAgICAgICAgY2lyY2xlX21hcmtlcl8yYzE3MTI4OGM5OWY0MWZhYTczMzg1MmUwZmQ1NjU5ZC5iaW5kUG9wdXAocG9wdXBfYjUxZWRlZDEwZGYxNDFmN2FhOTkyODRiNjNhMjJhODcpCiAgICAgICAgOwoKICAgICAgICAKICAgIAogICAgCiAgICAgICAgICAgIHZhciBjaXJjbGVfbWFya2VyXzVjNDU3OTBkN2RhMzRmN2ZiMTVjODBiMTE4NmZiYjg4ID0gTC5jaXJjbGVNYXJrZXIoCiAgICAgICAgICAgICAgICBbNDQuNzk0MzcwMzc4NywgLTAuNjE1MjE2NTA2NTg0XSwKICAgICAgICAgICAgICAgIHsiYnViYmxpbmdNb3VzZUV2ZW50cyI6IHRydWUsICJjb2xvciI6ICIjMzM4OGZmIiwgImRhc2hBcnJheSI6IG51bGwsICJkYXNoT2Zmc2V0IjogbnVsbCwgImZpbGwiOiB0cnVlLCAiZmlsbENvbG9yIjogIiMzMzg4ZmYiLCAiZmlsbE9wYWNpdHkiOiAxLCAiZmlsbFJ1bGUiOiAiZXZlbm9kZCIsICJsaW5lQ2FwIjogInJvdW5kIiwgImxpbmVKb2luIjogInJvdW5kIiwgIm9wYWNpdHkiOiAxLjAsICJyYWRpdXMiOiA1LCAic3Ryb2tlIjogdHJ1ZSwgIndlaWdodCI6IDN9CiAgICAgICAgICAgICkuYWRkVG8obWFwXzJlODVkNGQwMGRjOTRhZTI4ZDRlMzJiYzQzNTU5NzRmKTsKICAgICAgICAKICAgIAogICAgICAgIHZhciBwb3B1cF8zYzI3OWNhZWI4NGY0NzllODA3Yzk4OGU0NTc2YjJlNSA9IEwucG9wdXAoeyJlbmNvZGluZyI6ICJsYXRpbl8xIiwgIm1heFdpZHRoIjogIjEwMCUifSk7CgogICAgICAgIAogICAgICAgICAgICB2YXIgaHRtbF9kNGMwNDk2ZTIxMTk0ZjJlYWU3M2I2ZTUyNzg2ZWU3MSA9ICQoYDxkaXYgaWQ9Imh0bWxfZDRjMDQ5NmUyMTE5NGYyZWFlNzNiNmU1Mjc4NmVlNzEiIHN0eWxlPSJ3aWR0aDogMTAwLjAlOyBoZWlnaHQ6IDEwMC4wJTsiPlBFU1NBQyBMQSBQQUlMTEVSRS1DT01QT1NURUxMRTwvZGl2PmApWzBdOwogICAgICAgICAgICBwb3B1cF8zYzI3OWNhZWI4NGY0NzllODA3Yzk4OGU0NTc2YjJlNS5zZXRDb250ZW50KGh0bWxfZDRjMDQ5NmUyMTE5NGYyZWFlNzNiNmU1Mjc4NmVlNzEpOwogICAgICAgIAoKICAgICAgICBjaXJjbGVfbWFya2VyXzVjNDU3OTBkN2RhMzRmN2ZiMTVjODBiMTE4NmZiYjg4LmJpbmRQb3B1cChwb3B1cF8zYzI3OWNhZWI4NGY0NzllODA3Yzk4OGU0NTc2YjJlNSkKICAgICAgICA7CgogICAgICAgIAogICAgCiAgICAKICAgICAgICAgICAgdmFyIGNpcmNsZV9tYXJrZXJfMmZmMWE0MzRkNWM0NDJkOWE0ZjA4NTkwMDBjMzA3ODMgPSBMLmNpcmNsZU1hcmtlcigKICAgICAgICAgICAgICAgIFs0NC44MjE2MDE4MDIsIC0wLjU3NDg4MzQ3NjI3NV0sCiAgICAgICAgICAgICAgICB7ImJ1YmJsaW5nTW91c2VFdmVudHMiOiB0cnVlLCAiY29sb3IiOiAiIzMzODhmZiIsICJkYXNoQXJyYXkiOiBudWxsLCAiZGFzaE9mZnNldCI6IG51bGwsICJmaWxsIjogdHJ1ZSwgImZpbGxDb2xvciI6ICIjMzM4OGZmIiwgImZpbGxPcGFjaXR5IjogMSwgImZpbGxSdWxlIjogImV2ZW5vZGQiLCAibGluZUNhcCI6ICJyb3VuZCIsICJsaW5lSm9pbiI6ICJyb3VuZCIsICJvcGFjaXR5IjogMS4wLCAicmFkaXVzIjogNSwgInN0cm9rZSI6IHRydWUsICJ3ZWlnaHQiOiAzfQogICAgICAgICAgICApLmFkZFRvKG1hcF8yZTg1ZDRkMDBkYzk0YWUyOGQ0ZTMyYmM0MzU1OTc0Zik7CiAgICAgICAgCiAgICAKICAgICAgICB2YXIgcG9wdXBfZTZjNzdmOWQ0ZWNlNGVmYTgwOTIyZWEzOGFhYWM2NjcgPSBMLnBvcHVwKHsiZW5jb2RpbmciOiAibGF0aW5fMSIsICJtYXhXaWR0aCI6ICIxMDAlIn0pOwoKICAgICAgICAKICAgICAgICAgICAgdmFyIGh0bWxfNjMxYTZiNmYxNGM1NDdhNDkxOWZlNTA3MTA5YTBkNDIgPSAkKGA8ZGl2IGlkPSJodG1sXzYzMWE2YjZmMTRjNTQ3YTQ5MTlmZTUwNzEwOWEwZDQyIiBzdHlsZT0id2lkdGg6IDEwMC4wJTsgaGVpZ2h0OiAxMDAuMCU7Ij5CT1JERUFVWCBOQU5TT1VUWSAtIFNBSU5UIEdFTkVTPC9kaXY+YClbMF07CiAgICAgICAgICAgIHBvcHVwX2U2Yzc3ZjlkNGVjZTRlZmE4MDkyMmVhMzhhYWFjNjY3LnNldENvbnRlbnQoaHRtbF82MzFhNmI2ZjE0YzU0N2E0OTE5ZmU1MDcxMDlhMGQ0Mik7CiAgICAgICAgCgogICAgICAgIGNpcmNsZV9tYXJrZXJfMmZmMWE0MzRkNWM0NDJkOWE0ZjA4NTkwMDBjMzA3ODMuYmluZFBvcHVwKHBvcHVwX2U2Yzc3ZjlkNGVjZTRlZmE4MDkyMmVhMzhhYWFjNjY3KQogICAgICAgIDsKCiAgICAgICAgCiAgICAKICAgIAogICAgICAgICAgICB2YXIgY2lyY2xlX21hcmtlcl81ZTE0YmQyZmI2OTc0YzBiYTVjOTY3MWVjMzUxMmM3ZSA9IEwuY2lyY2xlTWFya2VyKAogICAgICAgICAgICAgICAgWzQ0Ljg0MDE2ODk3NCwgLTAuNjU3NzA1MTA4NzJdLAogICAgICAgICAgICAgICAgeyJidWJibGluZ01vdXNlRXZlbnRzIjogdHJ1ZSwgImNvbG9yIjogIiMzMzg4ZmYiLCAiZGFzaEFycmF5IjogbnVsbCwgImRhc2hPZmZzZXQiOiBudWxsLCAiZmlsbCI6IHRydWUsICJmaWxsQ29sb3IiOiAiIzMzODhmZiIsICJmaWxsT3BhY2l0eSI6IDEsICJmaWxsUnVsZSI6ICJldmVub2RkIiwgImxpbmVDYXAiOiAicm91bmQiLCAibGluZUpvaW4iOiAicm91bmQiLCAib3BhY2l0eSI6IDEuMCwgInJhZGl1cyI6IDUsICJzdHJva2UiOiB0cnVlLCAid2VpZ2h0IjogM30KICAgICAgICAgICAgKS5hZGRUbyhtYXBfMmU4NWQ0ZDAwZGM5NGFlMjhkNGUzMmJjNDM1NTk3NGYpOwogICAgICAgIAogICAgCiAgICAgICAgdmFyIHBvcHVwX2VkMTJkYmQ4ODY0ZjQwYmNhMzdmMWI5MGE3NTMyNTE5ID0gTC5wb3B1cCh7ImVuY29kaW5nIjogImxhdGluXzEiLCAibWF4V2lkdGgiOiAiMTAwJSJ9KTsKCiAgICAgICAgCiAgICAgICAgICAgIHZhciBodG1sXzExYzgxN2FiZDI5YzQ0YjJiYWQwYjJlYTQ4ZDBkMDg1ID0gJChgPGRpdiBpZD0iaHRtbF8xMWM4MTdhYmQyOWM0NGIyYmFkMGIyZWE0OGQwZDA4NSIgc3R5bGU9IndpZHRoOiAxMDAuMCU7IGhlaWdodDogMTAwLjAlOyI+TUVSSUdOQUMgQ0VOVFJFIFZJTExFPC9kaXY+YClbMF07CiAgICAgICAgICAgIHBvcHVwX2VkMTJkYmQ4ODY0ZjQwYmNhMzdmMWI5MGE3NTMyNTE5LnNldENvbnRlbnQoaHRtbF8xMWM4MTdhYmQyOWM0NGIyYmFkMGIyZWE0OGQwZDA4NSk7CiAgICAgICAgCgogICAgICAgIGNpcmNsZV9tYXJrZXJfNWUxNGJkMmZiNjk3NGMwYmE1Yzk2NzFlYzM1MTJjN2UuYmluZFBvcHVwKHBvcHVwX2VkMTJkYmQ4ODY0ZjQwYmNhMzdmMWI5MGE3NTMyNTE5KQogICAgICAgIDsKCiAgICAgICAgCiAgICAKICAgIAogICAgICAgICAgICB2YXIgY2lyY2xlX21hcmtlcl80NzE1MDliMGY5ZjU0NjRlYmE0NTk5ZTg1ODFjYjhmOSA9IEwuY2lyY2xlTWFya2VyKAogICAgICAgICAgICAgICAgWzQ0Ljg1NTI2NzA4NzIsIC0wLjU3NzYxMzc3NDYzMl0sCiAgICAgICAgICAgICAgICB7ImJ1YmJsaW5nTW91c2VFdmVudHMiOiB0cnVlLCAiY29sb3IiOiAiIzMzODhmZiIsICJkYXNoQXJyYXkiOiBudWxsLCAiZGFzaE9mZnNldCI6IG51bGwsICJmaWxsIjogdHJ1ZSwgImZpbGxDb2xvciI6ICIjMzM4OGZmIiwgImZpbGxPcGFjaXR5IjogMSwgImZpbGxSdWxlIjogImV2ZW5vZGQiLCAibGluZUNhcCI6ICJyb3VuZCIsICJsaW5lSm9pbiI6ICJyb3VuZCIsICJvcGFjaXR5IjogMS4wLCAicmFkaXVzIjogNSwgInN0cm9rZSI6IHRydWUsICJ3ZWlnaHQiOiAzfQogICAgICAgICAgICApLmFkZFRvKG1hcF8yZTg1ZDRkMDBkYzk0YWUyOGQ0ZTMyYmM0MzU1OTc0Zik7CiAgICAgICAgCiAgICAKICAgICAgICB2YXIgcG9wdXBfNGJmZjIzMzA5YmRlNDFiZjhmOGQ2NzJmN2ExMDcxMTQgPSBMLnBvcHVwKHsiZW5jb2RpbmciOiAibGF0aW5fMSIsICJtYXhXaWR0aCI6ICIxMDAlIn0pOwoKICAgICAgICAKICAgICAgICAgICAgdmFyIGh0bWxfNWJlOTI2MmQ0MmM4NDBiMWJiZDViOWY0OTIwNTkwMWMgPSAkKGA8ZGl2IGlkPSJodG1sXzViZTkyNjJkNDJjODQwYjFiYmQ1YjlmNDkyMDU5MDFjIiBzdHlsZT0id2lkdGg6IDEwMC4wJTsgaGVpZ2h0OiAxMDAuMCU7Ij5CT1JERUFVWCBDSEFSVFJPTlMgLSBHUkFORCBQQVJDIC0gSkFSRElOIFBVQkxJQzwvZGl2PmApWzBdOwogICAgICAgICAgICBwb3B1cF80YmZmMjMzMDliZGU0MWJmOGY4ZDY3MmY3YTEwNzExNC5zZXRDb250ZW50KGh0bWxfNWJlOTI2MmQ0MmM4NDBiMWJiZDViOWY0OTIwNTkwMWMpOwogICAgICAgIAoKICAgICAgICBjaXJjbGVfbWFya2VyXzQ3MTUwOWIwZjlmNTQ2NGViYTQ1OTllODU4MWNiOGY5LmJpbmRQb3B1cChwb3B1cF80YmZmMjMzMDliZGU0MWJmOGY4ZDY3MmY3YTEwNzExNCkKICAgICAgICA7CgogICAgICAgIAogICAgCiAgICAKICAgICAgICAgICAgdmFyIGNpcmNsZV9tYXJrZXJfYjhlM2YyY2VjMGExNDY0MWIzMDhlZWNiZTkyZDQxOWYgPSBMLmNpcmNsZU1hcmtlcigKICAgICAgICAgICAgICAgIFs0NC44MDU1NzM4MjI2LCAtMC42MTI2MDM3MTg0MTVdLAogICAgICAgICAgICAgICAgeyJidWJibGluZ01vdXNlRXZlbnRzIjogdHJ1ZSwgImNvbG9yIjogIiMzMzg4ZmYiLCAiZGFzaEFycmF5IjogbnVsbCwgImRhc2hPZmZzZXQiOiBudWxsLCAiZmlsbCI6IHRydWUsICJmaWxsQ29sb3IiOiAiIzMzODhmZiIsICJmaWxsT3BhY2l0eSI6IDEsICJmaWxsUnVsZSI6ICJldmVub2RkIiwgImxpbmVDYXAiOiAicm91bmQiLCAibGluZUpvaW4iOiAicm91bmQiLCAib3BhY2l0eSI6IDEuMCwgInJhZGl1cyI6IDUsICJzdHJva2UiOiB0cnVlLCAid2VpZ2h0IjogM30KICAgICAgICAgICAgKS5hZGRUbyhtYXBfMmU4NWQ0ZDAwZGM5NGFlMjhkNGUzMmJjNDM1NTk3NGYpOwogICAgICAgIAogICAgCiAgICAgICAgdmFyIHBvcHVwXzNkYzY5NzE3MDQxODQ0ZjY5MzhkMTNmZmI5ZTdkNzJlID0gTC5wb3B1cCh7ImVuY29kaW5nIjogImxhdGluXzEiLCAibWF4V2lkdGgiOiAiMTAwJSJ9KTsKCiAgICAgICAgCiAgICAgICAgICAgIHZhciBodG1sX2Q2YjI0NjhhMzkxMDRmZTViZDEyOGQwNTY2NjM0ZDJiID0gJChgPGRpdiBpZD0iaHRtbF9kNmIyNDY4YTM5MTA0ZmU1YmQxMjhkMDU2NjYzNGQyYiIgc3R5bGU9IndpZHRoOiAxMDAuMCU7IGhlaWdodDogMTAwLjAlOyI+UEVTU0FDIEJSSVZBWkFDLUNBTkRBVTwvZGl2PmApWzBdOwogICAgICAgICAgICBwb3B1cF8zZGM2OTcxNzA0MTg0NGY2OTM4ZDEzZmZiOWU3ZDcyZS5zZXRDb250ZW50KGh0bWxfZDZiMjQ2OGEzOTEwNGZlNWJkMTI4ZDA1NjY2MzRkMmIpOwogICAgICAgIAoKICAgICAgICBjaXJjbGVfbWFya2VyX2I4ZTNmMmNlYzBhMTQ2NDFiMzA4ZWVjYmU5MmQ0MTlmLmJpbmRQb3B1cChwb3B1cF8zZGM2OTcxNzA0MTg0NGY2OTM4ZDEzZmZiOWU3ZDcyZSkKICAgICAgICA7CgogICAgICAgIAogICAgCiAgICAKICAgICAgICAgICAgdmFyIGNpcmNsZV9tYXJrZXJfOTM4YzIyNjAyMjQwNDBmMzljYmFhMTNkYTgyMWY1NjQgPSBMLmNpcmNsZU1hcmtlcigKICAgICAgICAgICAgICAgIFs0NC43ODg4NzMyODg0LCAtMC42NjgwMzM5NjU3NTFdLAogICAgICAgICAgICAgICAgeyJidWJibGluZ01vdXNlRXZlbnRzIjogdHJ1ZSwgImNvbG9yIjogIiMzMzg4ZmYiLCAiZGFzaEFycmF5IjogbnVsbCwgImRhc2hPZmZzZXQiOiBudWxsLCAiZmlsbCI6IHRydWUsICJmaWxsQ29sb3IiOiAiIzMzODhmZiIsICJmaWxsT3BhY2l0eSI6IDEsICJmaWxsUnVsZSI6ICJldmVub2RkIiwgImxpbmVDYXAiOiAicm91bmQiLCAibGluZUpvaW4iOiAicm91bmQiLCAib3BhY2l0eSI6IDEuMCwgInJhZGl1cyI6IDUsICJzdHJva2UiOiB0cnVlLCAid2VpZ2h0IjogM30KICAgICAgICAgICAgKS5hZGRUbyhtYXBfMmU4NWQ0ZDAwZGM5NGFlMjhkNGUzMmJjNDM1NTk3NGYpOwogICAgICAgIAogICAgCiAgICAgICAgdmFyIHBvcHVwXzExMmJmYmY1M2Q5ZjQ2NTdiNmU5ZTc1MGY4MWI4OGRlID0gTC5wb3B1cCh7ImVuY29kaW5nIjogImxhdGluXzEiLCAibWF4V2lkdGgiOiAiMTAwJSJ9KTsKCiAgICAgICAgCiAgICAgICAgICAgIHZhciBodG1sXzEzMTAwYjZmOTc5YTRlNzFiMmQ4NmFjMWQzODhmN2Y1ID0gJChgPGRpdiBpZD0iaHRtbF8xMzEwMGI2Zjk3OWE0ZTcxYjJkODZhYzFkMzg4ZjdmNSIgc3R5bGU9IndpZHRoOiAxMDAuMCU7IGhlaWdodDogMTAwLjAlOyI+UEVTU0FDIEZSQU5DRSBBTE9VRVRURTwvZGl2PmApWzBdOwogICAgICAgICAgICBwb3B1cF8xMTJiZmJmNTNkOWY0NjU3YjZlOWU3NTBmODFiODhkZS5zZXRDb250ZW50KGh0bWxfMTMxMDBiNmY5NzlhNGU3MWIyZDg2YWMxZDM4OGY3ZjUpOwogICAgICAgIAoKICAgICAgICBjaXJjbGVfbWFya2VyXzkzOGMyMjYwMjI0MDQwZjM5Y2JhYTEzZGE4MjFmNTY0LmJpbmRQb3B1cChwb3B1cF8xMTJiZmJmNTNkOWY0NjU3YjZlOWU3NTBmODFiODhkZSkKICAgICAgICA7CgogICAgICAgIAogICAgCiAgICAKICAgICAgICAgICAgdmFyIGNpcmNsZV9tYXJrZXJfOTJlZDQ3ZGU4M2ZjNDBkZmFkNDc5NWNlZmNjZjQyYWMgPSBMLmNpcmNsZU1hcmtlcigKICAgICAgICAgICAgICAgIFs0NC44NDIzNTA3MTE5LCAtMC41ODMzMzQxMzIwMzldLAogICAgICAgICAgICAgICAgeyJidWJibGluZ01vdXNlRXZlbnRzIjogdHJ1ZSwgImNvbG9yIjogIiMzMzg4ZmYiLCAiZGFzaEFycmF5IjogbnVsbCwgImRhc2hPZmZzZXQiOiBudWxsLCAiZmlsbCI6IHRydWUsICJmaWxsQ29sb3IiOiAiIzMzODhmZiIsICJmaWxsT3BhY2l0eSI6IDEsICJmaWxsUnVsZSI6ICJldmVub2RkIiwgImxpbmVDYXAiOiAicm91bmQiLCAibGluZUpvaW4iOiAicm91bmQiLCAib3BhY2l0eSI6IDEuMCwgInJhZGl1cyI6IDUsICJzdHJva2UiOiB0cnVlLCAid2VpZ2h0IjogM30KICAgICAgICAgICAgKS5hZGRUbyhtYXBfMmU4NWQ0ZDAwZGM5NGFlMjhkNGUzMmJjNDM1NTk3NGYpOwogICAgICAgIAogICAgCiAgICAgICAgdmFyIHBvcHVwXzA2OGVmNDc4Y2FhMzRlMDQ5MjU3Y2I4Y2MxNmUyMGNiID0gTC5wb3B1cCh7ImVuY29kaW5nIjogImxhdGluXzEiLCAibWF4V2lkdGgiOiAiMTAwJSJ9KTsKCiAgICAgICAgCiAgICAgICAgICAgIHZhciBodG1sX2QxOTdmNjhmMmM4ZTQ2NmRhNmUyMDIxOThjYjdmNzFkID0gJChgPGRpdiBpZD0iaHRtbF9kMTk3ZjY4ZjJjOGU0NjZkYTZlMjAyMTk4Y2I3ZjcxZCIgc3R5bGU9IndpZHRoOiAxMDAuMCU7IGhlaWdodDogMTAwLjAlOyI+Qk9SREVBVVggQ0VOVFJFIFZJTExFPC9kaXY+YClbMF07CiAgICAgICAgICAgIHBvcHVwXzA2OGVmNDc4Y2FhMzRlMDQ5MjU3Y2I4Y2MxNmUyMGNiLnNldENvbnRlbnQoaHRtbF9kMTk3ZjY4ZjJjOGU0NjZkYTZlMjAyMTk4Y2I3ZjcxZCk7CiAgICAgICAgCgogICAgICAgIGNpcmNsZV9tYXJrZXJfOTJlZDQ3ZGU4M2ZjNDBkZmFkNDc5NWNlZmNjZjQyYWMuYmluZFBvcHVwKHBvcHVwXzA2OGVmNDc4Y2FhMzRlMDQ5MjU3Y2I4Y2MxNmUyMGNiKQogICAgICAgIDsKCiAgICAgICAgCiAgICAKICAgIAogICAgICAgICAgICB2YXIgY2lyY2xlX21hcmtlcl8zNjhkMTY3ZDdiYjA0NmJmOGIzZDFhZmRjOTJiZWRiZSA9IEwuY2lyY2xlTWFya2VyKAogICAgICAgICAgICAgICAgWzQ0Ljg1MTQ4MjUyMjIsIC0wLjYxNzU0NjI2MTMxN10sCiAgICAgICAgICAgICAgICB7ImJ1YmJsaW5nTW91c2VFdmVudHMiOiB0cnVlLCAiY29sb3IiOiAiIzMzODhmZiIsICJkYXNoQXJyYXkiOiBudWxsLCAiZGFzaE9mZnNldCI6IG51bGwsICJmaWxsIjogdHJ1ZSwgImZpbGxDb2xvciI6ICIjMzM4OGZmIiwgImZpbGxPcGFjaXR5IjogMSwgImZpbGxSdWxlIjogImV2ZW5vZGQiLCAibGluZUNhcCI6ICJyb3VuZCIsICJsaW5lSm9pbiI6ICJyb3VuZCIsICJvcGFjaXR5IjogMS4wLCAicmFkaXVzIjogNSwgInN0cm9rZSI6IHRydWUsICJ3ZWlnaHQiOiAzfQogICAgICAgICAgICApLmFkZFRvKG1hcF8yZTg1ZDRkMDBkYzk0YWUyOGQ0ZTMyYmM0MzU1OTc0Zik7CiAgICAgICAgCiAgICAKICAgICAgICB2YXIgcG9wdXBfZGRkODYzN2NiNmU3NGZjY2FhYzE3Y2VmMmNkZDY4ODkgPSBMLnBvcHVwKHsiZW5jb2RpbmciOiAibGF0aW5fMSIsICJtYXhXaWR0aCI6ICIxMDAlIn0pOwoKICAgICAgICAKICAgICAgICAgICAgdmFyIGh0bWxfMGQxMmI3Zjk3ZDViNGU5ZmJhMDRjM2I4MDZiYjI2ZjUgPSAkKGA8ZGl2IGlkPSJodG1sXzBkMTJiN2Y5N2Q1YjRlOWZiYTA0YzNiODA2YmIyNmY1IiBzdHlsZT0id2lkdGg6IDEwMC4wJTsgaGVpZ2h0OiAxMDAuMCU7Ij5CT1JERUFVWCBDQVVERVJBTjwvZGl2PmApWzBdOwogICAgICAgICAgICBwb3B1cF9kZGQ4NjM3Y2I2ZTc0ZmNjYWFjMTdjZWYyY2RkNjg4OS5zZXRDb250ZW50KGh0bWxfMGQxMmI3Zjk3ZDViNGU5ZmJhMDRjM2I4MDZiYjI2ZjUpOwogICAgICAgIAoKICAgICAgICBjaXJjbGVfbWFya2VyXzM2OGQxNjdkN2JiMDQ2YmY4YjNkMWFmZGM5MmJlZGJlLmJpbmRQb3B1cChwb3B1cF9kZGQ4NjM3Y2I2ZTc0ZmNjYWFjMTdjZWYyY2RkNjg4OSkKICAgICAgICA7CgogICAgICAgIAogICAgCiAgICAKICAgICAgICAgICAgdmFyIGNpcmNsZV9tYXJrZXJfZmFiMWUwNWYyNDUxNGU3NThmMGFkYjYxNzE5OTY0ZjkgPSBMLmNpcmNsZU1hcmtlcigKICAgICAgICAgICAgICAgIFs0NC44MjI2ODA1ODk1LCAtMC42NjMzMTAyNTM3OV0sCiAgICAgICAgICAgICAgICB7ImJ1YmJsaW5nTW91c2VFdmVudHMiOiB0cnVlLCAiY29sb3IiOiAiIzMzODhmZiIsICJkYXNoQXJyYXkiOiBudWxsLCAiZGFzaE9mZnNldCI6IG51bGwsICJmaWxsIjogdHJ1ZSwgImZpbGxDb2xvciI6ICIjMzM4OGZmIiwgImZpbGxPcGFjaXR5IjogMSwgImZpbGxSdWxlIjogImV2ZW5vZGQiLCAibGluZUNhcCI6ICJyb3VuZCIsICJsaW5lSm9pbiI6ICJyb3VuZCIsICJvcGFjaXR5IjogMS4wLCAicmFkaXVzIjogNSwgInN0cm9rZSI6IHRydWUsICJ3ZWlnaHQiOiAzfQogICAgICAgICAgICApLmFkZFRvKG1hcF8yZTg1ZDRkMDBkYzk0YWUyOGQ0ZTMyYmM0MzU1OTc0Zik7CiAgICAgICAgCiAgICAKICAgICAgICB2YXIgcG9wdXBfZDdiZWExNTA1MTc1NGYxNTgyZWQ0ZmI4NGEwNzFjYTEgPSBMLnBvcHVwKHsiZW5jb2RpbmciOiAibGF0aW5fMSIsICJtYXhXaWR0aCI6ICIxMDAlIn0pOwoKICAgICAgICAKICAgICAgICAgICAgdmFyIGh0bWxfYWI2OTMzNmYyNDdlNDdlZTlhMzQxOGFiYzUxMjI2OTMgPSAkKGA8ZGl2IGlkPSJodG1sX2FiNjkzMzZmMjQ3ZTQ3ZWU5YTM0MThhYmM1MTIyNjkzIiBzdHlsZT0id2lkdGg6IDEwMC4wJTsgaGVpZ2h0OiAxMDAuMCU7Ij5NRVJJR05BQyBDSEVNSU4gTE9ORzwvZGl2PmApWzBdOwogICAgICAgICAgICBwb3B1cF9kN2JlYTE1MDUxNzU0ZjE1ODJlZDRmYjg0YTA3MWNhMS5zZXRDb250ZW50KGh0bWxfYWI2OTMzNmYyNDdlNDdlZTlhMzQxOGFiYzUxMjI2OTMpOwogICAgICAgIAoKICAgICAgICBjaXJjbGVfbWFya2VyX2ZhYjFlMDVmMjQ1MTRlNzU4ZjBhZGI2MTcxOTk2NGY5LmJpbmRQb3B1cChwb3B1cF9kN2JlYTE1MDUxNzU0ZjE1ODJlZDRmYjg0YTA3MWNhMSkKICAgICAgICA7CgogICAgICAgIAogICAgCiAgICAKICAgICAgICAgICAgdmFyIGNpcmNsZV9tYXJrZXJfMmFjMTUwYmZiODJhNGJmMTg3ZWJjY2YxZjU3Njg2NjUgPSBMLmNpcmNsZU1hcmtlcigKICAgICAgICAgICAgICAgIFs0NC44NDQ5NDIsIC0wLjY4Mzk4N10sCiAgICAgICAgICAgICAgICB7ImJ1YmJsaW5nTW91c2VFdmVudHMiOiB0cnVlLCAiY29sb3IiOiAiIzMzODhmZiIsICJkYXNoQXJyYXkiOiBudWxsLCAiZGFzaE9mZnNldCI6IG51bGwsICJmaWxsIjogdHJ1ZSwgImZpbGxDb2xvciI6ICIjMzM4OGZmIiwgImZpbGxPcGFjaXR5IjogMSwgImZpbGxSdWxlIjogImV2ZW5vZGQiLCAibGluZUNhcCI6ICJyb3VuZCIsICJsaW5lSm9pbiI6ICJyb3VuZCIsICJvcGFjaXR5IjogMS4wLCAicmFkaXVzIjogNSwgInN0cm9rZSI6IHRydWUsICJ3ZWlnaHQiOiAzfQogICAgICAgICAgICApLmFkZFRvKG1hcF8yZTg1ZDRkMDBkYzk0YWUyOGQ0ZTMyYmM0MzU1OTc0Zik7CiAgICAgICAgCiAgICAKICAgICAgICB2YXIgcG9wdXBfNWQ4MjczOGE5YjA2NDgyMzhlYTk4M2NmNzE1ZmZiYjMgPSBMLnBvcHVwKHsiZW5jb2RpbmciOiAibGF0aW5fMSIsICJtYXhXaWR0aCI6ICIxMDAlIn0pOwoKICAgICAgICAKICAgICAgICAgICAgdmFyIGh0bWxfMjY2MWQ0YWI5OWI1NGRkZmFiMTJlY2UwZDhhNjA0ODIgPSAkKGA8ZGl2IGlkPSJodG1sXzI2NjFkNGFiOTliNTRkZGZhYjEyZWNlMGQ4YTYwNDgyIiBzdHlsZT0id2lkdGg6IDEwMC4wJTsgaGVpZ2h0OiAxMDAuMCU7Ij5NRVJJR05BQyBCRUFVREVTRVJUPC9kaXY+YClbMF07CiAgICAgICAgICAgIHBvcHVwXzVkODI3MzhhOWIwNjQ4MjM4ZWE5ODNjZjcxNWZmYmIzLnNldENvbnRlbnQoaHRtbF8yNjYxZDRhYjk5YjU0ZGRmYWIxMmVjZTBkOGE2MDQ4Mik7CiAgICAgICAgCgogICAgICAgIGNpcmNsZV9tYXJrZXJfMmFjMTUwYmZiODJhNGJmMTg3ZWJjY2YxZjU3Njg2NjUuYmluZFBvcHVwKHBvcHVwXzVkODI3MzhhOWIwNjQ4MjM4ZWE5ODNjZjcxNWZmYmIzKQogICAgICAgIDsKCiAgICAgICAgCiAgICAKICAgIAogICAgICAgICAgICB2YXIgY2lyY2xlX21hcmtlcl81NmMzOWVhZWRhNzI0OTg1OWMwODUzOWFiZGRlMWI0ZCA9IEwuY2lyY2xlTWFya2VyKAogICAgICAgICAgICAgICAgWzQ0Ljg1NjI5ODMxODgsIC0wLjUxMDI5MTc4MDUxOV0sCiAgICAgICAgICAgICAgICB7ImJ1YmJsaW5nTW91c2VFdmVudHMiOiB0cnVlLCAiY29sb3IiOiAiIzMzODhmZiIsICJkYXNoQXJyYXkiOiBudWxsLCAiZGFzaE9mZnNldCI6IG51bGwsICJmaWxsIjogdHJ1ZSwgImZpbGxDb2xvciI6ICIjMzM4OGZmIiwgImZpbGxPcGFjaXR5IjogMSwgImZpbGxSdWxlIjogImV2ZW5vZGQiLCAibGluZUNhcCI6ICJyb3VuZCIsICJsaW5lSm9pbiI6ICJyb3VuZCIsICJvcGFjaXR5IjogMS4wLCAicmFkaXVzIjogNSwgInN0cm9rZSI6IHRydWUsICJ3ZWlnaHQiOiAzfQogICAgICAgICAgICApLmFkZFRvKG1hcF8yZTg1ZDRkMDBkYzk0YWUyOGQ0ZTMyYmM0MzU1OTc0Zik7CiAgICAgICAgCiAgICAKICAgICAgICB2YXIgcG9wdXBfOWE1NjlhMDY3YmY3NDcyMThkNzFiNzE4Mzc4MDgzNWUgPSBMLnBvcHVwKHsiZW5jb2RpbmciOiAibGF0aW5fMSIsICJtYXhXaWR0aCI6ICIxMDAlIn0pOwoKICAgICAgICAKICAgICAgICAgICAgdmFyIGh0bWxfNDJhMjU3YmYyZDlhNDJmYmJhMzg2NTk5MmY1YjBiNWUgPSAkKGA8ZGl2IGlkPSJodG1sXzQyYTI1N2JmMmQ5YTQyZmJiYTM4NjU5OTJmNWIwYjVlIiBzdHlsZT0id2lkdGg6IDEwMC4wJTsgaGVpZ2h0OiAxMDAuMCU7Ij5DRU5PTiBQTEFJU0FOQ0UtTE9SRVQtTUFSRUdVRTwvZGl2PmApWzBdOwogICAgICAgICAgICBwb3B1cF85YTU2OWEwNjdiZjc0NzIxOGQ3MWI3MTgzNzgwODM1ZS5zZXRDb250ZW50KGh0bWxfNDJhMjU3YmYyZDlhNDJmYmJhMzg2NTk5MmY1YjBiNWUpOwogICAgICAgIAoKICAgICAgICBjaXJjbGVfbWFya2VyXzU2YzM5ZWFlZGE3MjQ5ODU5YzA4NTM5YWJkZGUxYjRkLmJpbmRQb3B1cChwb3B1cF85YTU2OWEwNjdiZjc0NzIxOGQ3MWI3MTgzNzgwODM1ZSkKICAgICAgICA7CgogICAgICAgIAogICAgCiAgICAKICAgICAgICAgICAgdmFyIGNpcmNsZV9tYXJrZXJfZTU0N2VkYjlhOWJjNDhiNDhmNjQ2MjQ1YmU3NzQ1NTAgPSBMLmNpcmNsZU1hcmtlcigKICAgICAgICAgICAgICAgIFs0NC44MDU1NDMxOTg3LCAtMC42MzM0OTYzMjU0NDFdLAogICAgICAgICAgICAgICAgeyJidWJibGluZ01vdXNlRXZlbnRzIjogdHJ1ZSwgImNvbG9yIjogIiMzMzg4ZmYiLCAiZGFzaEFycmF5IjogbnVsbCwgImRhc2hPZmZzZXQiOiBudWxsLCAiZmlsbCI6IHRydWUsICJmaWxsQ29sb3IiOiAiIzMzODhmZiIsICJmaWxsT3BhY2l0eSI6IDEsICJmaWxsUnVsZSI6ICJldmVub2RkIiwgImxpbmVDYXAiOiAicm91bmQiLCAibGluZUpvaW4iOiAicm91bmQiLCAib3BhY2l0eSI6IDEuMCwgInJhZGl1cyI6IDUsICJzdHJva2UiOiB0cnVlLCAid2VpZ2h0IjogM30KICAgICAgICAgICAgKS5hZGRUbyhtYXBfMmU4NWQ0ZDAwZGM5NGFlMjhkNGUzMmJjNDM1NTk3NGYpOwogICAgICAgIAogICAgCiAgICAgICAgdmFyIHBvcHVwX2Y1YTQ3MDNkZWViYTRlNTc4MmVjM2Q2MzExNTczYjQ0ID0gTC5wb3B1cCh7ImVuY29kaW5nIjogImxhdGluXzEiLCAibWF4V2lkdGgiOiAiMTAwJSJ9KTsKCiAgICAgICAgCiAgICAgICAgICAgIHZhciBodG1sXzZiMDc0MjY5NDY0ZTRjMjJiZGQzMGU2YmE3YWE0NDYzID0gJChgPGRpdiBpZD0iaHRtbF82YjA3NDI2OTQ2NGU0YzIyYmRkMzBlNmJhN2FhNDQ2MyIgc3R5bGU9IndpZHRoOiAxMDAuMCU7IGhlaWdodDogMTAwLjAlOyI+UEVTU0FDIExFIEJPVVJHPC9kaXY+YClbMF07CiAgICAgICAgICAgIHBvcHVwX2Y1YTQ3MDNkZWViYTRlNTc4MmVjM2Q2MzExNTczYjQ0LnNldENvbnRlbnQoaHRtbF82YjA3NDI2OTQ2NGU0YzIyYmRkMzBlNmJhN2FhNDQ2Myk7CiAgICAgICAgCgogICAgICAgIGNpcmNsZV9tYXJrZXJfZTU0N2VkYjlhOWJjNDhiNDhmNjQ2MjQ1YmU3NzQ1NTAuYmluZFBvcHVwKHBvcHVwX2Y1YTQ3MDNkZWViYTRlNTc4MmVjM2Q2MzExNTczYjQ0KQogICAgICAgIDsKCiAgICAgICAgCiAgICAKICAgIAogICAgICAgICAgICB2YXIgY2lyY2xlX21hcmtlcl9hZGRlNzlmZDM4NzM0OTZmOWZiNTY4ZTk3YmYxZTZlYiA9IEwuY2lyY2xlTWFya2VyKAogICAgICAgICAgICAgICAgWzQ0Ljg1OTkyNTIsIC0wLjQ5MjM1M10sCiAgICAgICAgICAgICAgICB7ImJ1YmJsaW5nTW91c2VFdmVudHMiOiB0cnVlLCAiY29sb3IiOiAiIzMzODhmZiIsICJkYXNoQXJyYXkiOiBudWxsLCAiZGFzaE9mZnNldCI6IG51bGwsICJmaWxsIjogdHJ1ZSwgImZpbGxDb2xvciI6ICIjMzM4OGZmIiwgImZpbGxPcGFjaXR5IjogMSwgImZpbGxSdWxlIjogImV2ZW5vZGQiLCAibGluZUNhcCI6ICJyb3VuZCIsICJsaW5lSm9pbiI6ICJyb3VuZCIsICJvcGFjaXR5IjogMS4wLCAicmFkaXVzIjogNSwgInN0cm9rZSI6IHRydWUsICJ3ZWlnaHQiOiAzfQogICAgICAgICAgICApLmFkZFRvKG1hcF8yZTg1ZDRkMDBkYzk0YWUyOGQ0ZTMyYmM0MzU1OTc0Zik7CiAgICAgICAgCiAgICAKICAgICAgICB2YXIgcG9wdXBfMGRhYzE5NjE5ZjYxNDczN2FmNDhjYzI2MjE4Zjg3MjUgPSBMLnBvcHVwKHsiZW5jb2RpbmciOiAibGF0aW5fMSIsICJtYXhXaWR0aCI6ICIxMDAlIn0pOwoKICAgICAgICAKICAgICAgICAgICAgdmFyIGh0bWxfMmZlNzU4NTFiM2YxNGQ3MTg1NzI4MzU5ZWE5ZTlhZTEgPSAkKGA8ZGl2IGlkPSJodG1sXzJmZTc1ODUxYjNmMTRkNzE4NTcyODM1OWVhOWU5YWUxIiBzdHlsZT0id2lkdGg6IDEwMC4wJTsgaGVpZ2h0OiAxMDAuMCU7Ij5BUlRJR1VFUy1QUkVTLUJPUkRFQVVYIEFSVElHVUVTLVBSRVMtQk9SREVBVVg8L2Rpdj5gKVswXTsKICAgICAgICAgICAgcG9wdXBfMGRhYzE5NjE5ZjYxNDczN2FmNDhjYzI2MjE4Zjg3MjUuc2V0Q29udGVudChodG1sXzJmZTc1ODUxYjNmMTRkNzE4NTcyODM1OWVhOWU5YWUxKTsKICAgICAgICAKCiAgICAgICAgY2lyY2xlX21hcmtlcl9hZGRlNzlmZDM4NzM0OTZmOWZiNTY4ZTk3YmYxZTZlYi5iaW5kUG9wdXAocG9wdXBfMGRhYzE5NjE5ZjYxNDczN2FmNDhjYzI2MjE4Zjg3MjUpCiAgICAgICAgOwoKICAgICAgICAKICAgIAogICAgCiAgICAgICAgICAgIHZhciBjaXJjbGVfbWFya2VyXzVjYTYzODNkMjUwNjQ0Zjg5MTlmMjE0MTE1ZWYzODJmID0gTC5jaXJjbGVNYXJrZXIoCiAgICAgICAgICAgICAgICBbNDQuODY2MTc1NSwgLTAuNTk5MjM5OV0sCiAgICAgICAgICAgICAgICB7ImJ1YmJsaW5nTW91c2VFdmVudHMiOiB0cnVlLCAiY29sb3IiOiAiIzMzODhmZiIsICJkYXNoQXJyYXkiOiBudWxsLCAiZGFzaE9mZnNldCI6IG51bGwsICJmaWxsIjogdHJ1ZSwgImZpbGxDb2xvciI6ICIjMzM4OGZmIiwgImZpbGxPcGFjaXR5IjogMSwgImZpbGxSdWxlIjogImV2ZW5vZGQiLCAibGluZUNhcCI6ICJyb3VuZCIsICJsaW5lSm9pbiI6ICJyb3VuZCIsICJvcGFjaXR5IjogMS4wLCAicmFkaXVzIjogNSwgInN0cm9rZSI6IHRydWUsICJ3ZWlnaHQiOiAzfQogICAgICAgICAgICApLmFkZFRvKG1hcF8yZTg1ZDRkMDBkYzk0YWUyOGQ0ZTMyYmM0MzU1OTc0Zik7CiAgICAgICAgCiAgICAKICAgICAgICB2YXIgcG9wdXBfNzU1NWIzZWJiZDc0NGEwM2FmNDBkYWY5ZjI2NDcwZDkgPSBMLnBvcHVwKHsiZW5jb2RpbmciOiAibGF0aW5fMSIsICJtYXhXaWR0aCI6ICIxMDAlIn0pOwoKICAgICAgICAKICAgICAgICAgICAgdmFyIGh0bWxfN2Y5NDRjYThhM2M4NDRhYTg2YzlhMjAwZDc2MWQwYjIgPSAkKGA8ZGl2IGlkPSJodG1sXzdmOTQ0Y2E4YTNjODQ0YWE4NmM5YTIwMGQ3NjFkMGIyIiBzdHlsZT0id2lkdGg6IDEwMC4wJTsgaGVpZ2h0OiAxMDAuMCU7Ij5MRSBCT1VTQ0FUIExFIEJPVVNDQVQ8L2Rpdj5gKVswXTsKICAgICAgICAgICAgcG9wdXBfNzU1NWIzZWJiZDc0NGEwM2FmNDBkYWY5ZjI2NDcwZDkuc2V0Q29udGVudChodG1sXzdmOTQ0Y2E4YTNjODQ0YWE4NmM5YTIwMGQ3NjFkMGIyKTsKICAgICAgICAKCiAgICAgICAgY2lyY2xlX21hcmtlcl81Y2E2MzgzZDI1MDY0NGY4OTE5ZjIxNDExNWVmMzgyZi5iaW5kUG9wdXAocG9wdXBfNzU1NWIzZWJiZDc0NGEwM2FmNDBkYWY5ZjI2NDcwZDkpCiAgICAgICAgOwoKICAgICAgICAKICAgIAogICAgCiAgICAgICAgICAgIHZhciBjaXJjbGVfbWFya2VyXzFiYTYyZmZjNWFhODRlMjliNzZhOGQ3ZjU1MDc5ZWRiID0gTC5jaXJjbGVNYXJrZXIoCiAgICAgICAgICAgICAgICBbNDQuNzczNzg3MiwgLTAuNTU5NTAyOV0sCiAgICAgICAgICAgICAgICB7ImJ1YmJsaW5nTW91c2VFdmVudHMiOiB0cnVlLCAiY29sb3IiOiAiIzMzODhmZiIsICJkYXNoQXJyYXkiOiBudWxsLCAiZGFzaE9mZnNldCI6IG51bGwsICJmaWxsIjogdHJ1ZSwgImZpbGxDb2xvciI6ICIjMzM4OGZmIiwgImZpbGxPcGFjaXR5IjogMSwgImZpbGxSdWxlIjogImV2ZW5vZGQiLCAibGluZUNhcCI6ICJyb3VuZCIsICJsaW5lSm9pbiI6ICJyb3VuZCIsICJvcGFjaXR5IjogMS4wLCAicmFkaXVzIjogNSwgInN0cm9rZSI6IHRydWUsICJ3ZWlnaHQiOiAzfQogICAgICAgICAgICApLmFkZFRvKG1hcF8yZTg1ZDRkMDBkYzk0YWUyOGQ0ZTMyYmM0MzU1OTc0Zik7CiAgICAgICAgCiAgICAKICAgICAgICB2YXIgcG9wdXBfZWQzMDZmY2EyNDQ4NGUyNjgzN2ExZDcyNzM0NDRmYTAgPSBMLnBvcHVwKHsiZW5jb2RpbmciOiAibGF0aW5fMSIsICJtYXhXaWR0aCI6ICIxMDAlIn0pOwoKICAgICAgICAKICAgICAgICAgICAgdmFyIGh0bWxfZmUxN2RmYjQ4OTA5NDdmM2JmODEyZWMxNzJjM2U1ZGYgPSAkKGA8ZGl2IGlkPSJodG1sX2ZlMTdkZmI0ODkwOTQ3ZjNiZjgxMmVjMTcyYzNlNWRmIiBzdHlsZT0id2lkdGg6IDEwMC4wJTsgaGVpZ2h0OiAxMDAuMCU7Ij5WSUxMRU5BVkUtRCYjMzk7T1JOT04gVklMTEVOQVZFLUQmIzM5O09STk9OPC9kaXY+YClbMF07CiAgICAgICAgICAgIHBvcHVwX2VkMzA2ZmNhMjQ0ODRlMjY4MzdhMWQ3MjczNDQ0ZmEwLnNldENvbnRlbnQoaHRtbF9mZTE3ZGZiNDg5MDk0N2YzYmY4MTJlYzE3MmMzZTVkZik7CiAgICAgICAgCgogICAgICAgIGNpcmNsZV9tYXJrZXJfMWJhNjJmZmM1YWE4NGUyOWI3NmE4ZDdmNTUwNzllZGIuYmluZFBvcHVwKHBvcHVwX2VkMzA2ZmNhMjQ0ODRlMjY4MzdhMWQ3MjczNDQ0ZmEwKQogICAgICAgIDsKCiAgICAgICAgCiAgICAKICAgIAogICAgICAgICAgICB2YXIgY2lyY2xlX21hcmtlcl82ZjAzMGQ5ZDIxYzY0MjRjOTFkZTU3MzExYTVlM2IxOCA9IEwuY2lyY2xlTWFya2VyKAogICAgICAgICAgICAgICAgWzQ0LjgwNzQ1NTksIC0wLjU0ODg1NDJdLAogICAgICAgICAgICAgICAgeyJidWJibGluZ01vdXNlRXZlbnRzIjogdHJ1ZSwgImNvbG9yIjogIiMzMzg4ZmYiLCAiZGFzaEFycmF5IjogbnVsbCwgImRhc2hPZmZzZXQiOiBudWxsLCAiZmlsbCI6IHRydWUsICJmaWxsQ29sb3IiOiAiIzMzODhmZiIsICJmaWxsT3BhY2l0eSI6IDEsICJmaWxsUnVsZSI6ICJldmVub2RkIiwgImxpbmVDYXAiOiAicm91bmQiLCAibGluZUpvaW4iOiAicm91bmQiLCAib3BhY2l0eSI6IDEuMCwgInJhZGl1cyI6IDUsICJzdHJva2UiOiB0cnVlLCAid2VpZ2h0IjogM30KICAgICAgICAgICAgKS5hZGRUbyhtYXBfMmU4NWQ0ZDAwZGM5NGFlMjhkNGUzMmJjNDM1NTk3NGYpOwogICAgICAgIAogICAgCiAgICAgICAgdmFyIHBvcHVwXzM4YTU4MTdiMDg0MDQwOTU4ZmU4ZjcwZDI2ODViM2NlID0gTC5wb3B1cCh7ImVuY29kaW5nIjogImxhdGluXzEiLCAibWF4V2lkdGgiOiAiMTAwJSJ9KTsKCiAgICAgICAgCiAgICAgICAgICAgIHZhciBodG1sX2ZlNTdkMzI5MDgzODQ1ZWQ4YWNlZmM4MWQxOGY3MGI5ID0gJChgPGRpdiBpZD0iaHRtbF9mZTU3ZDMyOTA4Mzg0NWVkOGFjZWZjODFkMThmNzBiOSIgc3R5bGU9IndpZHRoOiAxMDAuMCU7IGhlaWdodDogMTAwLjAlOyI+QkVHTEVTIEJFR0xFUzwvZGl2PmApWzBdOwogICAgICAgICAgICBwb3B1cF8zOGE1ODE3YjA4NDA0MDk1OGZlOGY3MGQyNjg1YjNjZS5zZXRDb250ZW50KGh0bWxfZmU1N2QzMjkwODM4NDVlZDhhY2VmYzgxZDE4ZjcwYjkpOwogICAgICAgIAoKICAgICAgICBjaXJjbGVfbWFya2VyXzZmMDMwZDlkMjFjNjQyNGM5MWRlNTczMTFhNWUzYjE4LmJpbmRQb3B1cChwb3B1cF8zOGE1ODE3YjA4NDA0MDk1OGZlOGY3MGQyNjg1YjNjZSkKICAgICAgICA7CgogICAgICAgIAogICAgCiAgICAKICAgICAgICAgICAgdmFyIGNpcmNsZV9tYXJrZXJfZDRhY2I5YjlhM2Y2NGU1ZWFiNTExNTFjYWJiOWE4OGIgPSBMLmNpcmNsZU1hcmtlcigKICAgICAgICAgICAgICAgIFs0NS4wMTIxNTU4LCAtMC41MjkxODQ3XSwKICAgICAgICAgICAgICAgIHsiYnViYmxpbmdNb3VzZUV2ZW50cyI6IHRydWUsICJjb2xvciI6ICIjMzM4OGZmIiwgImRhc2hBcnJheSI6IG51bGwsICJkYXNoT2Zmc2V0IjogbnVsbCwgImZpbGwiOiB0cnVlLCAiZmlsbENvbG9yIjogIiMzMzg4ZmYiLCAiZmlsbE9wYWNpdHkiOiAxLCAiZmlsbFJ1bGUiOiAiZXZlbm9kZCIsICJsaW5lQ2FwIjogInJvdW5kIiwgImxpbmVKb2luIjogInJvdW5kIiwgIm9wYWNpdHkiOiAxLjAsICJyYWRpdXMiOiA1LCAic3Ryb2tlIjogdHJ1ZSwgIndlaWdodCI6IDN9CiAgICAgICAgICAgICkuYWRkVG8obWFwXzJlODVkNGQwMGRjOTRhZTI4ZDRlMzJiYzQzNTU5NzRmKTsKICAgICAgICAKICAgIAogICAgICAgIHZhciBwb3B1cF9kMTMyMDFiZmJiNGU0NGE4ODVhMWYyZmIzMTUxNmIyNCA9IEwucG9wdXAoeyJlbmNvZGluZyI6ICJsYXRpbl8xIiwgIm1heFdpZHRoIjogIjEwMCUifSk7CgogICAgICAgIAogICAgICAgICAgICB2YXIgaHRtbF9jN2YzOGE4Y2NjODM0ZjRkOGVjMjE2NWUzYWNkZDJmMyA9ICQoYDxkaXYgaWQ9Imh0bWxfYzdmMzhhOGNjYzgzNGY0ZDhlYzIxNjVlM2FjZGQyZjMiIHN0eWxlPSJ3aWR0aDogMTAwLjAlOyBoZWlnaHQ6IDEwMC4wJTsiPkFNQkVTIEFNQkVTPC9kaXY+YClbMF07CiAgICAgICAgICAgIHBvcHVwX2QxMzIwMWJmYmI0ZTQ0YTg4NWExZjJmYjMxNTE2YjI0LnNldENvbnRlbnQoaHRtbF9jN2YzOGE4Y2NjODM0ZjRkOGVjMjE2NWUzYWNkZDJmMyk7CiAgICAgICAgCgogICAgICAgIGNpcmNsZV9tYXJrZXJfZDRhY2I5YjlhM2Y2NGU1ZWFiNTExNTFjYWJiOWE4OGIuYmluZFBvcHVwKHBvcHVwX2QxMzIwMWJmYmI0ZTQ0YTg4NWExZjJmYjMxNTE2YjI0KQogICAgICAgIDsKCiAgICAgICAgCiAgICAKICAgIAogICAgICAgICAgICB2YXIgY2lyY2xlX21hcmtlcl81ZTI5MTRhY2VjOGM0ZjQ4ODI3NTk3ODEzZjFhZmIyZSA9IEwuY2lyY2xlTWFya2VyKAogICAgICAgICAgICAgICAgWzQ0Ljk1NDk3OTgsIC0wLjQ2OTI5NTZdLAogICAgICAgICAgICAgICAgeyJidWJibGluZ01vdXNlRXZlbnRzIjogdHJ1ZSwgImNvbG9yIjogIiMzMzg4ZmYiLCAiZGFzaEFycmF5IjogbnVsbCwgImRhc2hPZmZzZXQiOiBudWxsLCAiZmlsbCI6IHRydWUsICJmaWxsQ29sb3IiOiAiIzMzODhmZiIsICJmaWxsT3BhY2l0eSI6IDEsICJmaWxsUnVsZSI6ICJldmVub2RkIiwgImxpbmVDYXAiOiAicm91bmQiLCAibGluZUpvaW4iOiAicm91bmQiLCAib3BhY2l0eSI6IDEuMCwgInJhZGl1cyI6IDUsICJzdHJva2UiOiB0cnVlLCAid2VpZ2h0IjogM30KICAgICAgICAgICAgKS5hZGRUbyhtYXBfMmU4NWQ0ZDAwZGM5NGFlMjhkNGUzMmJjNDM1NTk3NGYpOwogICAgICAgIAogICAgCiAgICAgICAgdmFyIHBvcHVwX2MxZTk4Y2I4ZjBlZTQ2MmQ4N2UyOTdhMDdhN2ViMjlkID0gTC5wb3B1cCh7ImVuY29kaW5nIjogImxhdGluXzEiLCAibWF4V2lkdGgiOiAiMTAwJSJ9KTsKCiAgICAgICAgCiAgICAgICAgICAgIHZhciBodG1sXzA2ZDZmMzM3ZDcwNjRjMDFhNzZhNGM4ZDllMjhhMzdiID0gJChgPGRpdiBpZD0iaHRtbF8wNmQ2ZjMzN2Q3MDY0YzAxYTc2YTRjOGQ5ZTI4YTM3YiIgc3R5bGU9IndpZHRoOiAxMDAuMCU7IGhlaWdodDogMTAwLjAlOyI+U0FJTlQtVklOQ0VOVC1ERS1QQVVMIFNBSU5ULVZJTkNFTlQtREUtUEFVTDwvZGl2PmApWzBdOwogICAgICAgICAgICBwb3B1cF9jMWU5OGNiOGYwZWU0NjJkODdlMjk3YTA3YTdlYjI5ZC5zZXRDb250ZW50KGh0bWxfMDZkNmYzMzdkNzA2NGMwMWE3NmE0YzhkOWUyOGEzN2IpOwogICAgICAgIAoKICAgICAgICBjaXJjbGVfbWFya2VyXzVlMjkxNGFjZWM4YzRmNDg4Mjc1OTc4MTNmMWFmYjJlLmJpbmRQb3B1cChwb3B1cF9jMWU5OGNiOGYwZWU0NjJkODdlMjk3YTA3YTdlYjI5ZCkKICAgICAgICA7CgogICAgICAgIAogICAgCiAgICAKICAgICAgICAgICAgdmFyIGNpcmNsZV9tYXJrZXJfN2E1ZjQwMGJiZGMwNDZkZTg2Mjg1Y2I5MDI4ZjRjY2EgPSBMLmNpcmNsZU1hcmtlcigKICAgICAgICAgICAgICAgIFs0NC45MDE0OTcxLCAtMC41MTYzMjQ0XSwKICAgICAgICAgICAgICAgIHsiYnViYmxpbmdNb3VzZUV2ZW50cyI6IHRydWUsICJjb2xvciI6ICIjMzM4OGZmIiwgImRhc2hBcnJheSI6IG51bGwsICJkYXNoT2Zmc2V0IjogbnVsbCwgImZpbGwiOiB0cnVlLCAiZmlsbENvbG9yIjogIiMzMzg4ZmYiLCAiZmlsbE9wYWNpdHkiOiAxLCAiZmlsbFJ1bGUiOiAiZXZlbm9kZCIsICJsaW5lQ2FwIjogInJvdW5kIiwgImxpbmVKb2luIjogInJvdW5kIiwgIm9wYWNpdHkiOiAxLjAsICJyYWRpdXMiOiA1LCAic3Ryb2tlIjogdHJ1ZSwgIndlaWdodCI6IDN9CiAgICAgICAgICAgICkuYWRkVG8obWFwXzJlODVkNGQwMGRjOTRhZTI4ZDRlMzJiYzQzNTU5NzRmKTsKICAgICAgICAKICAgIAogICAgICAgIHZhciBwb3B1cF80Mjc3YzBlZDIzYWY0ODQzOWQ4MmNjMTVhYTMzNDc5NCA9IEwucG9wdXAoeyJlbmNvZGluZyI6ICJsYXRpbl8xIiwgIm1heFdpZHRoIjogIjEwMCUifSk7CgogICAgICAgIAogICAgICAgICAgICB2YXIgaHRtbF83ZDUzNDNhOWNjOWI0OThiODJjZDA4ZmFhMjY0MGM0ZiA9ICQoYDxkaXYgaWQ9Imh0bWxfN2Q1MzQzYTljYzliNDk4YjgyY2QwOGZhYTI2NDBjNGYiIHN0eWxlPSJ3aWR0aDogMTAwLjAlOyBoZWlnaHQ6IDEwMC4wJTsiPkJBU1NFTlMgQkFTU0VOUzwvZGl2PmApWzBdOwogICAgICAgICAgICBwb3B1cF80Mjc3YzBlZDIzYWY0ODQzOWQ4MmNjMTVhYTMzNDc5NC5zZXRDb250ZW50KGh0bWxfN2Q1MzQzYTljYzliNDk4YjgyY2QwOGZhYTI2NDBjNGYpOwogICAgICAgIAoKICAgICAgICBjaXJjbGVfbWFya2VyXzdhNWY0MDBiYmRjMDQ2ZGU4NjI4NWNiOTAyOGY0Y2NhLmJpbmRQb3B1cChwb3B1cF80Mjc3YzBlZDIzYWY0ODQzOWQ4MmNjMTVhYTMzNDc5NCkKICAgICAgICA7CgogICAgICAgIAogICAgCiAgICAKICAgICAgICAgICAgdmFyIGNpcmNsZV9tYXJrZXJfM2U1N2M4OThiMTQzNGFkNGI5MTY2OWFhNTk2ODNkZDEgPSBMLmNpcmNsZU1hcmtlcigKICAgICAgICAgICAgICAgIFs0NC44OTM3NzIyLCAtMC41MDUwM10sCiAgICAgICAgICAgICAgICB7ImJ1YmJsaW5nTW91c2VFdmVudHMiOiB0cnVlLCAiY29sb3IiOiAiIzMzODhmZiIsICJkYXNoQXJyYXkiOiBudWxsLCAiZGFzaE9mZnNldCI6IG51bGwsICJmaWxsIjogdHJ1ZSwgImZpbGxDb2xvciI6ICIjMzM4OGZmIiwgImZpbGxPcGFjaXR5IjogMSwgImZpbGxSdWxlIjogImV2ZW5vZGQiLCAibGluZUNhcCI6ICJyb3VuZCIsICJsaW5lSm9pbiI6ICJyb3VuZCIsICJvcGFjaXR5IjogMS4wLCAicmFkaXVzIjogNSwgInN0cm9rZSI6IHRydWUsICJ3ZWlnaHQiOiAzfQogICAgICAgICAgICApLmFkZFRvKG1hcF8yZTg1ZDRkMDBkYzk0YWUyOGQ0ZTMyYmM0MzU1OTc0Zik7CiAgICAgICAgCiAgICAKICAgICAgICB2YXIgcG9wdXBfZTdkZDQzNDU0N2M5NDJmY2I0NDBiMDJjMzE4MTAyZmMgPSBMLnBvcHVwKHsiZW5jb2RpbmciOiAibGF0aW5fMSIsICJtYXhXaWR0aCI6ICIxMDAlIn0pOwoKICAgICAgICAKICAgICAgICAgICAgdmFyIGh0bWxfZmVkM2U4NGYxNTJiNDRhM2ExMWY0YWZkNDJkZWU1YmQgPSAkKGA8ZGl2IGlkPSJodG1sX2ZlZDNlODRmMTUyYjQ0YTNhMTFmNGFmZDQyZGVlNWJkIiBzdHlsZT0id2lkdGg6IDEwMC4wJTsgaGVpZ2h0OiAxMDAuMCU7Ij5DQVJCT04tQkxBTkMgQ0FSQk9OLUJMQU5DPC9kaXY+YClbMF07CiAgICAgICAgICAgIHBvcHVwX2U3ZGQ0MzQ1NDdjOTQyZmNiNDQwYjAyYzMxODEwMmZjLnNldENvbnRlbnQoaHRtbF9mZWQzZTg0ZjE1MmI0NGEzYTExZjRhZmQ0MmRlZTViZCk7CiAgICAgICAgCgogICAgICAgIGNpcmNsZV9tYXJrZXJfM2U1N2M4OThiMTQzNGFkNGI5MTY2OWFhNTk2ODNkZDEuYmluZFBvcHVwKHBvcHVwX2U3ZGQ0MzQ1NDdjOTQyZmNiNDQwYjAyYzMxODEwMmZjKQogICAgICAgIDsKCiAgICAgICAgCiAgICAKICAgIAogICAgICAgICAgICB2YXIgY2lyY2xlX21hcmtlcl9kNzc1ZWNkMzcxNjI0NWRjYTgzMzBjZTJmODdkMmZkNSA9IEwuY2lyY2xlTWFya2VyKAogICAgICAgICAgICAgICAgWzQ0LjkyNTkwMTEsIC0wLjQ4ODE4NDZdLAogICAgICAgICAgICAgICAgeyJidWJibGluZ01vdXNlRXZlbnRzIjogdHJ1ZSwgImNvbG9yIjogIiMzMzg4ZmYiLCAiZGFzaEFycmF5IjogbnVsbCwgImRhc2hPZmZzZXQiOiBudWxsLCAiZmlsbCI6IHRydWUsICJmaWxsQ29sb3IiOiAiIzMzODhmZiIsICJmaWxsT3BhY2l0eSI6IDEsICJmaWxsUnVsZSI6ICJldmVub2RkIiwgImxpbmVDYXAiOiAicm91bmQiLCAibGluZUpvaW4iOiAicm91bmQiLCAib3BhY2l0eSI6IDEuMCwgInJhZGl1cyI6IDUsICJzdHJva2UiOiB0cnVlLCAid2VpZ2h0IjogM30KICAgICAgICAgICAgKS5hZGRUbyhtYXBfMmU4NWQ0ZDAwZGM5NGFlMjhkNGUzMmJjNDM1NTk3NGYpOwogICAgICAgIAogICAgCiAgICAgICAgdmFyIHBvcHVwXzIzZjdkYWVmODllYzQ5MDFiYTg3ZjViZjdkYzk5NGY1ID0gTC5wb3B1cCh7ImVuY29kaW5nIjogImxhdGluXzEiLCAibWF4V2lkdGgiOiAiMTAwJSJ9KTsKCiAgICAgICAgCiAgICAgICAgICAgIHZhciBodG1sXzBmYTg5ZDBiZGJkMzQ3ODdiMTZhYjMyYjk1OWI3YWExID0gJChgPGRpdiBpZD0iaHRtbF8wZmE4OWQwYmRiZDM0Nzg3YjE2YWIzMmI5NTliN2FhMSIgc3R5bGU9IndpZHRoOiAxMDAuMCU7IGhlaWdodDogMTAwLjAlOyI+QU1CQVJFUy1FVC1MQUdSQVZFIEFNQkFSRVMtRVQtTEFHUkFWRTwvZGl2PmApWzBdOwogICAgICAgICAgICBwb3B1cF8yM2Y3ZGFlZjg5ZWM0OTAxYmE4N2Y1YmY3ZGM5OTRmNS5zZXRDb250ZW50KGh0bWxfMGZhODlkMGJkYmQzNDc4N2IxNmFiMzJiOTU5YjdhYTEpOwogICAgICAgIAoKICAgICAgICBjaXJjbGVfbWFya2VyX2Q3NzVlY2QzNzE2MjQ1ZGNhODMzMGNlMmY4N2QyZmQ1LmJpbmRQb3B1cChwb3B1cF8yM2Y3ZGFlZjg5ZWM0OTAxYmE4N2Y1YmY3ZGM5OTRmNSkKICAgICAgICA7CgogICAgICAgIAogICAgCiAgICAKICAgICAgICAgICAgdmFyIGNpcmNsZV9tYXJrZXJfMGNkMjg5M2FmZWM3NDhmOWJiMWJkMGNiY2U5MTU2MDYgPSBMLmNpcmNsZU1hcmtlcigKICAgICAgICAgICAgICAgIFs0NC44MTQwMTE1LCAtMC41MDM2NjI2XSwKICAgICAgICAgICAgICAgIHsiYnViYmxpbmdNb3VzZUV2ZW50cyI6IHRydWUsICJjb2xvciI6ICIjMzM4OGZmIiwgImRhc2hBcnJheSI6IG51bGwsICJkYXNoT2Zmc2V0IjogbnVsbCwgImZpbGwiOiB0cnVlLCAiZmlsbENvbG9yIjogIiMzMzg4ZmYiLCAiZmlsbE9wYWNpdHkiOiAxLCAiZmlsbFJ1bGUiOiAiZXZlbm9kZCIsICJsaW5lQ2FwIjogInJvdW5kIiwgImxpbmVKb2luIjogInJvdW5kIiwgIm9wYWNpdHkiOiAxLjAsICJyYWRpdXMiOiA1LCAic3Ryb2tlIjogdHJ1ZSwgIndlaWdodCI6IDN9CiAgICAgICAgICAgICkuYWRkVG8obWFwXzJlODVkNGQwMGRjOTRhZTI4ZDRlMzJiYzQzNTU5NzRmKTsKICAgICAgICAKICAgIAogICAgICAgIHZhciBwb3B1cF9lN2M5YzlhNDM4MjA0MTJkOGQ4ZDRiYTM4ODA3MjVjYiA9IEwucG9wdXAoeyJlbmNvZGluZyI6ICJsYXRpbl8xIiwgIm1heFdpZHRoIjogIjEwMCUifSk7CgogICAgICAgIAogICAgICAgICAgICB2YXIgaHRtbF9mZDFkNjYxNjQxOGY0MTEyODYyMTI4ODg0NDNkZDkzNCA9ICQoYDxkaXYgaWQ9Imh0bWxfZmQxZDY2MTY0MThmNDExMjg2MjEyODg4NDQzZGQ5MzQiIHN0eWxlPSJ3aWR0aDogMTAwLjAlOyBoZWlnaHQ6IDEwMC4wJTsiPkJPVUxJQUMgQk9VTElBQzwvZGl2PmApWzBdOwogICAgICAgICAgICBwb3B1cF9lN2M5YzlhNDM4MjA0MTJkOGQ4ZDRiYTM4ODA3MjVjYi5zZXRDb250ZW50KGh0bWxfZmQxZDY2MTY0MThmNDExMjg2MjEyODg4NDQzZGQ5MzQpOwogICAgICAgIAoKICAgICAgICBjaXJjbGVfbWFya2VyXzBjZDI4OTNhZmVjNzQ4ZjliYjFiZDBjYmNlOTE1NjA2LmJpbmRQb3B1cChwb3B1cF9lN2M5YzlhNDM4MjA0MTJkOGQ4ZDRiYTM4ODA3MjVjYikKICAgICAgICA7CgogICAgICAgIAogICAgCiAgICAKICAgICAgICAgICAgdmFyIGNpcmNsZV9tYXJrZXJfYjNmZDY4ZmZiOTRkNGI5ZGIzNDZlNTU5YzJhMGYxYzIgPSBMLmNpcmNsZU1hcmtlcigKICAgICAgICAgICAgICAgIFs0NC44ODU0NjY3LCAtMC42NDg2OTQzXSwKICAgICAgICAgICAgICAgIHsiYnViYmxpbmdNb3VzZUV2ZW50cyI6IHRydWUsICJjb2xvciI6ICIjMzM4OGZmIiwgImRhc2hBcnJheSI6IG51bGwsICJkYXNoT2Zmc2V0IjogbnVsbCwgImZpbGwiOiB0cnVlLCAiZmlsbENvbG9yIjogIiMzMzg4ZmYiLCAiZmlsbE9wYWNpdHkiOiAxLCAiZmlsbFJ1bGUiOiAiZXZlbm9kZCIsICJsaW5lQ2FwIjogInJvdW5kIiwgImxpbmVKb2luIjogInJvdW5kIiwgIm9wYWNpdHkiOiAxLjAsICJyYWRpdXMiOiA1LCAic3Ryb2tlIjogdHJ1ZSwgIndlaWdodCI6IDN9CiAgICAgICAgICAgICkuYWRkVG8obWFwXzJlODVkNGQwMGRjOTRhZTI4ZDRlMzJiYzQzNTU5NzRmKTsKICAgICAgICAKICAgIAogICAgICAgIHZhciBwb3B1cF8zNjVjZTkwNjdkNjE0ODE5YTA1OTQyZTI1NDk5NTA4YSA9IEwucG9wdXAoeyJlbmNvZGluZyI6ICJsYXRpbl8xIiwgIm1heFdpZHRoIjogIjEwMCUifSk7CgogICAgICAgIAogICAgICAgICAgICB2YXIgaHRtbF81NTM4ZTc0Y2ZkNDY0ZmE2ODkwZGQ5ZGFjMTI4YTE5OCA9ICQoYDxkaXYgaWQ9Imh0bWxfNTUzOGU3NGNmZDQ2NGZhNjg5MGRkOWRhYzEyOGExOTgiIHN0eWxlPSJ3aWR0aDogMTAwLjAlOyBoZWlnaHQ6IDEwMC4wJTsiPkVZU0lORVMgRVlTSU5FUzwvZGl2PmApWzBdOwogICAgICAgICAgICBwb3B1cF8zNjVjZTkwNjdkNjE0ODE5YTA1OTQyZTI1NDk5NTA4YS5zZXRDb250ZW50KGh0bWxfNTUzOGU3NGNmZDQ2NGZhNjg5MGRkOWRhYzEyOGExOTgpOwogICAgICAgIAoKICAgICAgICBjaXJjbGVfbWFya2VyX2IzZmQ2OGZmYjk0ZDRiOWRiMzQ2ZTU1OWMyYTBmMWMyLmJpbmRQb3B1cChwb3B1cF8zNjVjZTkwNjdkNjE0ODE5YTA1OTQyZTI1NDk5NTA4YSkKICAgICAgICA7CgogICAgICAgIAogICAgCiAgICAKICAgICAgICAgICAgdmFyIGNpcmNsZV9tYXJrZXJfMjk0Nzg0MTJkN2MwNGYzYWJjOTdkNzUyODhhN2VhN2EgPSBMLmNpcmNsZU1hcmtlcigKICAgICAgICAgICAgICAgIFs0NC43NzM5NzAxLCAtMC42MTM5MDddLAogICAgICAgICAgICAgICAgeyJidWJibGluZ01vdXNlRXZlbnRzIjogdHJ1ZSwgImNvbG9yIjogIiMzMzg4ZmYiLCAiZGFzaEFycmF5IjogbnVsbCwgImRhc2hPZmZzZXQiOiBudWxsLCAiZmlsbCI6IHRydWUsICJmaWxsQ29sb3IiOiAiIzMzODhmZiIsICJmaWxsT3BhY2l0eSI6IDEsICJmaWxsUnVsZSI6ICJldmVub2RkIiwgImxpbmVDYXAiOiAicm91bmQiLCAibGluZUpvaW4iOiAicm91bmQiLCAib3BhY2l0eSI6IDEuMCwgInJhZGl1cyI6IDUsICJzdHJva2UiOiB0cnVlLCAid2VpZ2h0IjogM30KICAgICAgICAgICAgKS5hZGRUbyhtYXBfMmU4NWQ0ZDAwZGM5NGFlMjhkNGUzMmJjNDM1NTk3NGYpOwogICAgICAgIAogICAgCiAgICAgICAgdmFyIHBvcHVwX2Y5MjZkMjk5MTllMDRjN2Y5YWU1OTVlMGNmNWU0MzM5ID0gTC5wb3B1cCh7ImVuY29kaW5nIjogImxhdGluXzEiLCAibWF4V2lkdGgiOiAiMTAwJSJ9KTsKCiAgICAgICAgCiAgICAgICAgICAgIHZhciBodG1sX2JmNWM4MWJkNjhmODQ3NjE5MDNkMWNiNDNkYTdmYzU2ID0gJChgPGRpdiBpZD0iaHRtbF9iZjVjODFiZDY4Zjg0NzYxOTAzZDFjYjQzZGE3ZmM1NiIgc3R5bGU9IndpZHRoOiAxMDAuMCU7IGhlaWdodDogMTAwLjAlOyI+R1JBRElHTkFOIEdSQURJR05BTjwvZGl2PmApWzBdOwogICAgICAgICAgICBwb3B1cF9mOTI2ZDI5OTE5ZTA0YzdmOWFlNTk1ZTBjZjVlNDMzOS5zZXRDb250ZW50KGh0bWxfYmY1YzgxYmQ2OGY4NDc2MTkwM2QxY2I0M2RhN2ZjNTYpOwogICAgICAgIAoKICAgICAgICBjaXJjbGVfbWFya2VyXzI5NDc4NDEyZDdjMDRmM2FiYzk3ZDc1Mjg4YTdlYTdhLmJpbmRQb3B1cChwb3B1cF9mOTI2ZDI5OTE5ZTA0YzdmOWFlNTk1ZTBjZjVlNDMzOSkKICAgICAgICA7CgogICAgICAgIAogICAgCiAgICAKICAgICAgICAgICAgdmFyIGNpcmNsZV9tYXJrZXJfYzk2Yjg3NDc0MDcxNDQxNDk5NjdkYzYwZmMzMmIwNjcgPSBMLmNpcmNsZU1hcmtlcigKICAgICAgICAgICAgICAgIFs0NC44MDg4NDM4LCAtMC41ODc5NjI5XSwKICAgICAgICAgICAgICAgIHsiYnViYmxpbmdNb3VzZUV2ZW50cyI6IHRydWUsICJjb2xvciI6ICIjMzM4OGZmIiwgImRhc2hBcnJheSI6IG51bGwsICJkYXNoT2Zmc2V0IjogbnVsbCwgImZpbGwiOiB0cnVlLCAiZmlsbENvbG9yIjogIiMzMzg4ZmYiLCAiZmlsbE9wYWNpdHkiOiAxLCAiZmlsbFJ1bGUiOiAiZXZlbm9kZCIsICJsaW5lQ2FwIjogInJvdW5kIiwgImxpbmVKb2luIjogInJvdW5kIiwgIm9wYWNpdHkiOiAxLjAsICJyYWRpdXMiOiA1LCAic3Ryb2tlIjogdHJ1ZSwgIndlaWdodCI6IDN9CiAgICAgICAgICAgICkuYWRkVG8obWFwXzJlODVkNGQwMGRjOTRhZTI4ZDRlMzJiYzQzNTU5NzRmKTsKICAgICAgICAKICAgIAogICAgICAgIHZhciBwb3B1cF9kY2YzOGY0YmZjYjU0MTYxOGY3NmViYTFkZDI0OWYwZCA9IEwucG9wdXAoeyJlbmNvZGluZyI6ICJsYXRpbl8xIiwgIm1heFdpZHRoIjogIjEwMCUifSk7CgogICAgICAgIAogICAgICAgICAgICB2YXIgaHRtbF82ZTdjMGQyMDcwM2Y0OWEzOGRmNjQ4NTJmOWViOGZlYiA9ICQoYDxkaXYgaWQ9Imh0bWxfNmU3YzBkMjA3MDNmNDlhMzhkZjY0ODUyZjllYjhmZWIiIHN0eWxlPSJ3aWR0aDogMTAwLjAlOyBoZWlnaHQ6IDEwMC4wJTsiPlRBTEVOQ0UgVEFMRU5DRTwvZGl2PmApWzBdOwogICAgICAgICAgICBwb3B1cF9kY2YzOGY0YmZjYjU0MTYxOGY3NmViYTFkZDI0OWYwZC5zZXRDb250ZW50KGh0bWxfNmU3YzBkMjA3MDNmNDlhMzhkZjY0ODUyZjllYjhmZWIpOwogICAgICAgIAoKICAgICAgICBjaXJjbGVfbWFya2VyX2M5NmI4NzQ3NDA3MTQ0MTQ5OTY3ZGM2MGZjMzJiMDY3LmJpbmRQb3B1cChwb3B1cF9kY2YzOGY0YmZjYjU0MTYxOGY3NmViYTFkZDI0OWYwZCkKICAgICAgICA7CgogICAgICAgIAogICAgCiAgICAKICAgICAgICAgICAgdmFyIGNpcmNsZV9tYXJrZXJfNzY4ZTZkOTg0YzYzNDFhNGJhOGE5MjZkNTg1YWE2NjIgPSBMLmNpcmNsZU1hcmtlcigKICAgICAgICAgICAgICAgIFs0NC45MDQ0MDQ5LCAtMC42NjkzNDAyXSwKICAgICAgICAgICAgICAgIHsiYnViYmxpbmdNb3VzZUV2ZW50cyI6IHRydWUsICJjb2xvciI6ICIjMzM4OGZmIiwgImRhc2hBcnJheSI6IG51bGwsICJkYXNoT2Zmc2V0IjogbnVsbCwgImZpbGwiOiB0cnVlLCAiZmlsbENvbG9yIjogIiMzMzg4ZmYiLCAiZmlsbE9wYWNpdHkiOiAxLCAiZmlsbFJ1bGUiOiAiZXZlbm9kZCIsICJsaW5lQ2FwIjogInJvdW5kIiwgImxpbmVKb2luIjogInJvdW5kIiwgIm9wYWNpdHkiOiAxLjAsICJyYWRpdXMiOiA1LCAic3Ryb2tlIjogdHJ1ZSwgIndlaWdodCI6IDN9CiAgICAgICAgICAgICkuYWRkVG8obWFwXzJlODVkNGQwMGRjOTRhZTI4ZDRlMzJiYzQzNTU5NzRmKTsKICAgICAgICAKICAgIAogICAgICAgIHZhciBwb3B1cF81OGM5YzhlZjQ2YmM0YzI3YjcyZjMxNDRlZWVjYjBlYSA9IEwucG9wdXAoeyJlbmNvZGluZyI6ICJsYXRpbl8xIiwgIm1heFdpZHRoIjogIjEwMCUifSk7CgogICAgICAgIAogICAgICAgICAgICB2YXIgaHRtbF8zOGQzMzUzZjYzMGU0NjBlYjljYjhiYTFhNGJlNzg1NCA9ICQoYDxkaXYgaWQ9Imh0bWxfMzhkMzM1M2Y2MzBlNDYwZWI5Y2I4YmExYTRiZTc4NTQiIHN0eWxlPSJ3aWR0aDogMTAwLjAlOyBoZWlnaHQ6IDEwMC4wJTsiPkxFIFRBSUxMQU4tTUVET0MgTEUgVEFJTExBTi1NRURPQzwvZGl2PmApWzBdOwogICAgICAgICAgICBwb3B1cF81OGM5YzhlZjQ2YmM0YzI3YjcyZjMxNDRlZWVjYjBlYS5zZXRDb250ZW50KGh0bWxfMzhkMzM1M2Y2MzBlNDYwZWI5Y2I4YmExYTRiZTc4NTQpOwogICAgICAgIAoKICAgICAgICBjaXJjbGVfbWFya2VyXzc2OGU2ZDk4NGM2MzQxYTRiYThhOTI2ZDU4NWFhNjYyLmJpbmRQb3B1cChwb3B1cF81OGM5YzhlZjQ2YmM0YzI3YjcyZjMxNDRlZWVjYjBlYSkKICAgICAgICA7CgogICAgICAgIAogICAgCiAgICAKICAgICAgICAgICAgdmFyIGNpcmNsZV9tYXJrZXJfZDFhYzc3ODQ2ZGQxNDJkN2JmNjZjZjg1YjUwZjRmMzUgPSBMLmNpcmNsZU1hcmtlcigKICAgICAgICAgICAgICAgIFs0NC44NDA1MzY0LCAtMC43NzYxNDg5XSwKICAgICAgICAgICAgICAgIHsiYnViYmxpbmdNb3VzZUV2ZW50cyI6IHRydWUsICJjb2xvciI6ICIjMzM4OGZmIiwgImRhc2hBcnJheSI6IG51bGwsICJkYXNoT2Zmc2V0IjogbnVsbCwgImZpbGwiOiB0cnVlLCAiZmlsbENvbG9yIjogIiMzMzg4ZmYiLCAiZmlsbE9wYWNpdHkiOiAxLCAiZmlsbFJ1bGUiOiAiZXZlbm9kZCIsICJsaW5lQ2FwIjogInJvdW5kIiwgImxpbmVKb2luIjogInJvdW5kIiwgIm9wYWNpdHkiOiAxLjAsICJyYWRpdXMiOiA1LCAic3Ryb2tlIjogdHJ1ZSwgIndlaWdodCI6IDN9CiAgICAgICAgICAgICkuYWRkVG8obWFwXzJlODVkNGQwMGRjOTRhZTI4ZDRlMzJiYzQzNTU5NzRmKTsKICAgICAgICAKICAgIAogICAgICAgIHZhciBwb3B1cF81YmVkZDg3YTg3Yzk0ZWUzYmM1ZDRkMzRmZmViN2I4NCA9IEwucG9wdXAoeyJlbmNvZGluZyI6ICJsYXRpbl8xIiwgIm1heFdpZHRoIjogIjEwMCUifSk7CgogICAgICAgIAogICAgICAgICAgICB2YXIgaHRtbF85NWQ5MzZlODYwMDk0MzE2OTBhMjE3ZGRkMjZiMDRiNiA9ICQoYDxkaXYgaWQ9Imh0bWxfOTVkOTM2ZTg2MDA5NDMxNjkwYTIxN2RkZDI2YjA0YjYiIHN0eWxlPSJ3aWR0aDogMTAwLjAlOyBoZWlnaHQ6IDEwMC4wJTsiPk1BUlRJR05BUy1TVVItSkFMTEUgTUFSVElHTkFTLVNVUi1KQUxMRTwvZGl2PmApWzBdOwogICAgICAgICAgICBwb3B1cF81YmVkZDg3YTg3Yzk0ZWUzYmM1ZDRkMzRmZmViN2I4NC5zZXRDb250ZW50KGh0bWxfOTVkOTM2ZTg2MDA5NDMxNjkwYTIxN2RkZDI2YjA0YjYpOwogICAgICAgIAoKICAgICAgICBjaXJjbGVfbWFya2VyX2QxYWM3Nzg0NmRkMTQyZDdiZjY2Y2Y4NWI1MGY0ZjM1LmJpbmRQb3B1cChwb3B1cF81YmVkZDg3YTg3Yzk0ZWUzYmM1ZDRkMzRmZmViN2I4NCkKICAgICAgICA7CgogICAgICAgIAogICAgCiAgICAKICAgICAgICAgICAgdmFyIGNpcmNsZV9tYXJrZXJfOWI2YjMzY2VmZWZiNGJlNWFiYTcyMzNkMTdlMzc1Y2QgPSBMLmNpcmNsZU1hcmtlcigKICAgICAgICAgICAgICAgIFs0NC44OTU4ODg3LCAtMC43MTcwNzY0XSwKICAgICAgICAgICAgICAgIHsiYnViYmxpbmdNb3VzZUV2ZW50cyI6IHRydWUsICJjb2xvciI6ICIjMzM4OGZmIiwgImRhc2hBcnJheSI6IG51bGwsICJkYXNoT2Zmc2V0IjogbnVsbCwgImZpbGwiOiB0cnVlLCAiZmlsbENvbG9yIjogIiMzMzg4ZmYiLCAiZmlsbE9wYWNpdHkiOiAxLCAiZmlsbFJ1bGUiOiAiZXZlbm9kZCIsICJsaW5lQ2FwIjogInJvdW5kIiwgImxpbmVKb2luIjogInJvdW5kIiwgIm9wYWNpdHkiOiAxLjAsICJyYWRpdXMiOiA1LCAic3Ryb2tlIjogdHJ1ZSwgIndlaWdodCI6IDN9CiAgICAgICAgICAgICkuYWRkVG8obWFwXzJlODVkNGQwMGRjOTRhZTI4ZDRlMzJiYzQzNTU5NzRmKTsKICAgICAgICAKICAgIAogICAgICAgIHZhciBwb3B1cF8yNDA5NTAyMTM4OTk0NzQ5YTg1YTQ5NjYzZjg2ZmRhNSA9IEwucG9wdXAoeyJlbmNvZGluZyI6ICJsYXRpbl8xIiwgIm1heFdpZHRoIjogIjEwMCUifSk7CgogICAgICAgIAogICAgICAgICAgICB2YXIgaHRtbF83Mzc5YjdlZDBmYzQ0MDdkOGEyY2RkNWIwZDY4ZDE4ZCA9ICQoYDxkaXYgaWQ9Imh0bWxfNzM3OWI3ZWQwZmM0NDA3ZDhhMmNkZDViMGQ2OGQxOGQiIHN0eWxlPSJ3aWR0aDogMTAwLjAlOyBoZWlnaHQ6IDEwMC4wJTsiPlNBSU5ULU1FREFSRC1FTi1KQUxMRVMgU0FJTlQtTUVEQVJELUVOLUpBTExFUzwvZGl2PmApWzBdOwogICAgICAgICAgICBwb3B1cF8yNDA5NTAyMTM4OTk0NzQ5YTg1YTQ5NjYzZjg2ZmRhNS5zZXRDb250ZW50KGh0bWxfNzM3OWI3ZWQwZmM0NDA3ZDhhMmNkZDViMGQ2OGQxOGQpOwogICAgICAgIAoKICAgICAgICBjaXJjbGVfbWFya2VyXzliNmIzM2NlZmVmYjRiZTVhYmE3MjMzZDE3ZTM3NWNkLmJpbmRQb3B1cChwb3B1cF8yNDA5NTAyMTM4OTk0NzQ5YTg1YTQ5NjYzZjg2ZmRhNSkKICAgICAgICA7CgogICAgICAgIAogICAgCiAgICAKICAgICAgICAgICAgdmFyIGNpcmNsZV9tYXJrZXJfYTE5MmRjNGY0NTYyNDg4ZWIyMWJmOTM3ZGM1MWUwODQgPSBMLmNpcmNsZU1hcmtlcigKICAgICAgICAgICAgICAgIFs0NC45ODE4Nzc3LCAtMC42MDM3MDMyXSwKICAgICAgICAgICAgICAgIHsiYnViYmxpbmdNb3VzZUV2ZW50cyI6IHRydWUsICJjb2xvciI6ICIjMzM4OGZmIiwgImRhc2hBcnJheSI6IG51bGwsICJkYXNoT2Zmc2V0IjogbnVsbCwgImZpbGwiOiB0cnVlLCAiZmlsbENvbG9yIjogIiMzMzg4ZmYiLCAiZmlsbE9wYWNpdHkiOiAxLCAiZmlsbFJ1bGUiOiAiZXZlbm9kZCIsICJsaW5lQ2FwIjogInJvdW5kIiwgImxpbmVKb2luIjogInJvdW5kIiwgIm9wYWNpdHkiOiAxLjAsICJyYWRpdXMiOiA1LCAic3Ryb2tlIjogdHJ1ZSwgIndlaWdodCI6IDN9CiAgICAgICAgICAgICkuYWRkVG8obWFwXzJlODVkNGQwMGRjOTRhZTI4ZDRlMzJiYzQzNTU5NzRmKTsKICAgICAgICAKICAgIAogICAgICAgIHZhciBwb3B1cF85NWNlM2ZmZmJmMGI0NTI0ODA1ZDc4Y2Y0YzgzYmNiZCA9IEwucG9wdXAoeyJlbmNvZGluZyI6ICJsYXRpbl8xIiwgIm1heFdpZHRoIjogIjEwMCUifSk7CgogICAgICAgIAogICAgICAgICAgICB2YXIgaHRtbF8xYTRiNjM5NTE4ZGE0MzA0ODkzNjFiOWQ4YWI3ZWM3YyA9ICQoYDxkaXYgaWQ9Imh0bWxfMWE0YjYzOTUxOGRhNDMwNDg5MzYxYjlkOGFiN2VjN2MiIHN0eWxlPSJ3aWR0aDogMTAwLjAlOyBoZWlnaHQ6IDEwMC4wJTsiPkxVRE9OLU1FRE9DIExVRE9OLU1FRE9DPC9kaXY+YClbMF07CiAgICAgICAgICAgIHBvcHVwXzk1Y2UzZmZmYmYwYjQ1MjQ4MDVkNzhjZjRjODNiY2JkLnNldENvbnRlbnQoaHRtbF8xYTRiNjM5NTE4ZGE0MzA0ODkzNjFiOWQ4YWI3ZWM3Yyk7CiAgICAgICAgCgogICAgICAgIGNpcmNsZV9tYXJrZXJfYTE5MmRjNGY0NTYyNDg4ZWIyMWJmOTM3ZGM1MWUwODQuYmluZFBvcHVwKHBvcHVwXzk1Y2UzZmZmYmYwYjQ1MjQ4MDVkNzhjZjRjODNiY2JkKQogICAgICAgIDsKCiAgICAgICAgCiAgICAKICAgIAogICAgICAgICAgICB2YXIgY2lyY2xlX21hcmtlcl9jZGRjNGE5ZjBmOWM0Mjk3YTE0OGFmODA3YTMyMmRjMCA9IEwuY2lyY2xlTWFya2VyKAogICAgICAgICAgICAgICAgWzQ0Ljk0ODUzNzksIC0wLjYwNTI3MDhdLAogICAgICAgICAgICAgICAgeyJidWJibGluZ01vdXNlRXZlbnRzIjogdHJ1ZSwgImNvbG9yIjogIiMzMzg4ZmYiLCAiZGFzaEFycmF5IjogbnVsbCwgImRhc2hPZmZzZXQiOiBudWxsLCAiZmlsbCI6IHRydWUsICJmaWxsQ29sb3IiOiAiIzMzODhmZiIsICJmaWxsT3BhY2l0eSI6IDEsICJmaWxsUnVsZSI6ICJldmVub2RkIiwgImxpbmVDYXAiOiAicm91bmQiLCAibGluZUpvaW4iOiAicm91bmQiLCAib3BhY2l0eSI6IDEuMCwgInJhZGl1cyI6IDUsICJzdHJva2UiOiB0cnVlLCAid2VpZ2h0IjogM30KICAgICAgICAgICAgKS5hZGRUbyhtYXBfMmU4NWQ0ZDAwZGM5NGFlMjhkNGUzMmJjNDM1NTk3NGYpOwogICAgICAgIAogICAgCiAgICAgICAgdmFyIHBvcHVwXzYyZTg4ZjQ5ZmM1NDRjMTk4NDM1MDg1NWUwMDk2OGUwID0gTC5wb3B1cCh7ImVuY29kaW5nIjogImxhdGluXzEiLCAibWF4V2lkdGgiOiAiMTAwJSJ9KTsKCiAgICAgICAgCiAgICAgICAgICAgIHZhciBodG1sX2Q5YTdmMzZjNDNjNDQyY2E5ZDM3Mzk1YTkxOTdiMWUxID0gJChgPGRpdiBpZD0iaHRtbF9kOWE3ZjM2YzQzYzQ0MmNhOWQzNzM5NWE5MTk3YjFlMSIgc3R5bGU9IndpZHRoOiAxMDAuMCU7IGhlaWdodDogMTAwLjAlOyI+UEFSRU1QVVlSRSBQQVJFTVBVWVJFPC9kaXY+YClbMF07CiAgICAgICAgICAgIHBvcHVwXzYyZTg4ZjQ5ZmM1NDRjMTk4NDM1MDg1NWUwMDk2OGUwLnNldENvbnRlbnQoaHRtbF9kOWE3ZjM2YzQzYzQ0MmNhOWQzNzM5NWE5MTk3YjFlMSk7CiAgICAgICAgCgogICAgICAgIGNpcmNsZV9tYXJrZXJfY2RkYzRhOWYwZjljNDI5N2ExNDhhZjgwN2EzMjJkYzAuYmluZFBvcHVwKHBvcHVwXzYyZTg4ZjQ5ZmM1NDRjMTk4NDM1MDg1NWUwMDk2OGUwKQogICAgICAgIDsKCiAgICAgICAgCiAgICAKICAgIAogICAgICAgICAgICB2YXIgY2lyY2xlX21hcmtlcl9mNGQ4OTBjMjJkODU0OGY2YjYzYTMwMjIzN2Y5ZTA0YiA9IEwuY2lyY2xlTWFya2VyKAogICAgICAgICAgICAgICAgWzQ0Ljk1MzY2OTgsIC0wLjUzMzk2NzJdLAogICAgICAgICAgICAgICAgeyJidWJibGluZ01vdXNlRXZlbnRzIjogdHJ1ZSwgImNvbG9yIjogIiMzMzg4ZmYiLCAiZGFzaEFycmF5IjogbnVsbCwgImRhc2hPZmZzZXQiOiBudWxsLCAiZmlsbCI6IHRydWUsICJmaWxsQ29sb3IiOiAiIzMzODhmZiIsICJmaWxsT3BhY2l0eSI6IDEsICJmaWxsUnVsZSI6ICJldmVub2RkIiwgImxpbmVDYXAiOiAicm91bmQiLCAibGluZUpvaW4iOiAicm91bmQiLCAib3BhY2l0eSI6IDEuMCwgInJhZGl1cyI6IDUsICJzdHJva2UiOiB0cnVlLCAid2VpZ2h0IjogM30KICAgICAgICAgICAgKS5hZGRUbyhtYXBfMmU4NWQ0ZDAwZGM5NGFlMjhkNGUzMmJjNDM1NTk3NGYpOwogICAgICAgIAogICAgCiAgICAgICAgdmFyIHBvcHVwX2RmMThiYzhlZGIzODQwOWZhMDZhNDc1MzY1ZDExOWZjID0gTC5wb3B1cCh7ImVuY29kaW5nIjogImxhdGluXzEiLCAibWF4V2lkdGgiOiAiMTAwJSJ9KTsKCiAgICAgICAgCiAgICAgICAgICAgIHZhciBodG1sXzZhMTEwNDhkN2JmNjQwZTA4N2UwYWE2YWNhMTZkMzI1ID0gJChgPGRpdiBpZD0iaHRtbF82YTExMDQ4ZDdiZjY0MGUwODdlMGFhNmFjYTE2ZDMyNSIgc3R5bGU9IndpZHRoOiAxMDAuMCU7IGhlaWdodDogMTAwLjAlOyI+U0FJTlQtTE9VSVMtREUtTU9OVEZFUlJBTkQgU0FJTlQtTE9VSVMtREUtTU9OVEZFUlJBTkQ8L2Rpdj5gKVswXTsKICAgICAgICAgICAgcG9wdXBfZGYxOGJjOGVkYjM4NDA5ZmEwNmE0NzUzNjVkMTE5ZmMuc2V0Q29udGVudChodG1sXzZhMTEwNDhkN2JmNjQwZTA4N2UwYWE2YWNhMTZkMzI1KTsKICAgICAgICAKCiAgICAgICAgY2lyY2xlX21hcmtlcl9mNGQ4OTBjMjJkODU0OGY2YjYzYTMwMjIzN2Y5ZTA0Yi5iaW5kUG9wdXAocG9wdXBfZGYxOGJjOGVkYjM4NDA5ZmEwNmE0NzUzNjVkMTE5ZmMpCiAgICAgICAgOwoKICAgICAgICAKICAgIAogICAgCiAgICAgICAgICAgIHZhciBjaXJjbGVfbWFya2VyX2VlYTEzMDk0ODZlNDQ5MGNhY2M4ZTY2ZDdjZmVhNjYxID0gTC5jaXJjbGVNYXJrZXIoCiAgICAgICAgICAgICAgICBbNDQuNzg0NjQyNCwgLTAuNDk2ODg4OF0sCiAgICAgICAgICAgICAgICB7ImJ1YmJsaW5nTW91c2VFdmVudHMiOiB0cnVlLCAiY29sb3IiOiAiIzMzODhmZiIsICJkYXNoQXJyYXkiOiBudWxsLCAiZGFzaE9mZnNldCI6IG51bGwsICJmaWxsIjogdHJ1ZSwgImZpbGxDb2xvciI6ICIjMzM4OGZmIiwgImZpbGxPcGFjaXR5IjogMSwgImZpbGxSdWxlIjogImV2ZW5vZGQiLCAibGluZUNhcCI6ICJyb3VuZCIsICJsaW5lSm9pbiI6ICJyb3VuZCIsICJvcGFjaXR5IjogMS4wLCAicmFkaXVzIjogNSwgInN0cm9rZSI6IHRydWUsICJ3ZWlnaHQiOiAzfQogICAgICAgICAgICApLmFkZFRvKG1hcF8yZTg1ZDRkMDBkYzk0YWUyOGQ0ZTMyYmM0MzU1OTc0Zik7CiAgICAgICAgCiAgICAKICAgICAgICB2YXIgcG9wdXBfOGY5NDJiMTFhZGQwNGUxM2ExYzYxNzViNWFjYmRjOWQgPSBMLnBvcHVwKHsiZW5jb2RpbmciOiAibGF0aW5fMSIsICJtYXhXaWR0aCI6ICIxMDAlIn0pOwoKICAgICAgICAKICAgICAgICAgICAgdmFyIGh0bWxfMWUyMWEwNTQ2MjkzNDJhOTlkMDQyODY4NmJjZTkwMGUgPSAkKGA8ZGl2IGlkPSJodG1sXzFlMjFhMDU0NjI5MzQyYTk5ZDA0Mjg2ODZiY2U5MDBlIiBzdHlsZT0id2lkdGg6IDEwMC4wJTsgaGVpZ2h0OiAxMDAuMCU7Ij5MQVRSRVNORSBMQVRSRVNORTwvZGl2PmApWzBdOwogICAgICAgICAgICBwb3B1cF84Zjk0MmIxMWFkZDA0ZTEzYTFjNjE3NWI1YWNiZGM5ZC5zZXRDb250ZW50KGh0bWxfMWUyMWEwNTQ2MjkzNDJhOTlkMDQyODY4NmJjZTkwMGUpOwogICAgICAgIAoKICAgICAgICBjaXJjbGVfbWFya2VyX2VlYTEzMDk0ODZlNDQ5MGNhY2M4ZTY2ZDdjZmVhNjYxLmJpbmRQb3B1cChwb3B1cF84Zjk0MmIxMWFkZDA0ZTEzYTFjNjE3NWI1YWNiZGM5ZCkKICAgICAgICA7CgogICAgICAgIAogICAgCiAgICAKICAgICAgICAgICAgdmFyIGNpcmNsZV9tYXJrZXJfODAyMTBlYjNmMGU3NDU5MmE1ZGU1MWJiMDRiMDM3M2MgPSBMLmNpcmNsZU1hcmtlcigKICAgICAgICAgICAgICAgIFs0NC44MjE2NzczLCAtMC41MTY5MjJdLAogICAgICAgICAgICAgICAgeyJidWJibGluZ01vdXNlRXZlbnRzIjogdHJ1ZSwgImNvbG9yIjogIiMzMzg4ZmYiLCAiZGFzaEFycmF5IjogbnVsbCwgImRhc2hPZmZzZXQiOiBudWxsLCAiZmlsbCI6IHRydWUsICJmaWxsQ29sb3IiOiAiIzMzODhmZiIsICJmaWxsT3BhY2l0eSI6IDEsICJmaWxsUnVsZSI6ICJldmVub2RkIiwgImxpbmVDYXAiOiAicm91bmQiLCAibGluZUpvaW4iOiAicm91bmQiLCAib3BhY2l0eSI6IDEuMCwgInJhZGl1cyI6IDUsICJzdHJva2UiOiB0cnVlLCAid2VpZ2h0IjogM30KICAgICAgICAgICAgKS5hZGRUbyhtYXBfMmU4NWQ0ZDAwZGM5NGFlMjhkNGUzMmJjNDM1NTk3NGYpOwogICAgICAgIAogICAgCiAgICAgICAgdmFyIHBvcHVwX2ExNmNlMGQ3N2QxMzQ5NWFhZTQ2NmYzYzdlMzBkNWRmID0gTC5wb3B1cCh7ImVuY29kaW5nIjogImxhdGluXzEiLCAibWF4V2lkdGgiOiAiMTAwJSJ9KTsKCiAgICAgICAgCiAgICAgICAgICAgIHZhciBodG1sXzI0ZTVhNzk3NGM4MDQyZDZiNWFlMDg2YmY2OGVlZDk2ID0gJChgPGRpdiBpZD0iaHRtbF8yNGU1YTc5NzRjODA0MmQ2YjVhZTA4NmJmNjhlZWQ5NiIgc3R5bGU9IndpZHRoOiAxMDAuMCU7IGhlaWdodDogMTAwLjAlOyI+RkxPSVJBQyBGTE9JUkFDPC9kaXY+YClbMF07CiAgICAgICAgICAgIHBvcHVwX2ExNmNlMGQ3N2QxMzQ5NWFhZTQ2NmYzYzdlMzBkNWRmLnNldENvbnRlbnQoaHRtbF8yNGU1YTc5NzRjODA0MmQ2YjVhZTA4NmJmNjhlZWQ5Nik7CiAgICAgICAgCgogICAgICAgIGNpcmNsZV9tYXJrZXJfODAyMTBlYjNmMGU3NDU5MmE1ZGU1MWJiMDRiMDM3M2MuYmluZFBvcHVwKHBvcHVwX2ExNmNlMGQ3N2QxMzQ5NWFhZTQ2NmYzYzdlMzBkNWRmKQogICAgICAgIDsKCiAgICAgICAgCiAgICAKICAgIAogICAgICAgICAgICB2YXIgY2lyY2xlX21hcmtlcl80Zjg5ZDcyZjhmM2E0YmNhOTE5OTNkNmYzNTk3MTZlNyA9IEwuY2lyY2xlTWFya2VyKAogICAgICAgICAgICAgICAgWzQ0Ljg3OTE3MDgsIC0wLjUyMTY2ODNdLAogICAgICAgICAgICAgICAgeyJidWJibGluZ01vdXNlRXZlbnRzIjogdHJ1ZSwgImNvbG9yIjogIiMzMzg4ZmYiLCAiZGFzaEFycmF5IjogbnVsbCwgImRhc2hPZmZzZXQiOiBudWxsLCAiZmlsbCI6IHRydWUsICJmaWxsQ29sb3IiOiAiIzMzODhmZiIsICJmaWxsT3BhY2l0eSI6IDEsICJmaWxsUnVsZSI6ICJldmVub2RkIiwgImxpbmVDYXAiOiAicm91bmQiLCAibGluZUpvaW4iOiAicm91bmQiLCAib3BhY2l0eSI6IDEuMCwgInJhZGl1cyI6IDUsICJzdHJva2UiOiB0cnVlLCAid2VpZ2h0IjogM30KICAgICAgICAgICAgKS5hZGRUbyhtYXBfMmU4NWQ0ZDAwZGM5NGFlMjhkNGUzMmJjNDM1NTk3NGYpOwogICAgICAgIAogICAgCiAgICAgICAgdmFyIHBvcHVwXzNjMjRlMjczOTkwZjQzNDk5MzhkNzY1NjdhYTYzYWEwID0gTC5wb3B1cCh7ImVuY29kaW5nIjogImxhdGluXzEiLCAibWF4V2lkdGgiOiAiMTAwJSJ9KTsKCiAgICAgICAgCiAgICAgICAgICAgIHZhciBodG1sXzlkMDUyZjBjZjAzZTRiNzFhMmMwYmRiNjJiOGRhN2U5ID0gJChgPGRpdiBpZD0iaHRtbF85ZDA1MmYwY2YwM2U0YjcxYTJjMGJkYjYyYjhkYTdlOSIgc3R5bGU9IndpZHRoOiAxMDAuMCU7IGhlaWdodDogMTAwLjAlOyI+TE9STU9OVCBMT1JNT05UPC9kaXY+YClbMF07CiAgICAgICAgICAgIHBvcHVwXzNjMjRlMjczOTkwZjQzNDk5MzhkNzY1NjdhYTYzYWEwLnNldENvbnRlbnQoaHRtbF85ZDA1MmYwY2YwM2U0YjcxYTJjMGJkYjYyYjhkYTdlOSk7CiAgICAgICAgCgogICAgICAgIGNpcmNsZV9tYXJrZXJfNGY4OWQ3MmY4ZjNhNGJjYTkxOTkzZDZmMzU5NzE2ZTcuYmluZFBvcHVwKHBvcHVwXzNjMjRlMjczOTkwZjQzNDk5MzhkNzY1NjdhYTYzYWEwKQogICAgICAgIDsKCiAgICAgICAgCiAgICAKICAgIAogICAgICAgICAgICB2YXIgY2lyY2xlX21hcmtlcl9iZGFkN2Q0YjMwZWM0NzFjODJmODBmMmU5ZDg2MGNhMiA9IEwuY2lyY2xlTWFya2VyKAogICAgICAgICAgICAgICAgWzQ0LjgxMDE4NTYsIC0wLjc4MTUyNTddLAogICAgICAgICAgICAgICAgeyJidWJibGluZ01vdXNlRXZlbnRzIjogdHJ1ZSwgImNvbG9yIjogIiMzMzg4ZmYiLCAiZGFzaEFycmF5IjogbnVsbCwgImRhc2hPZmZzZXQiOiBudWxsLCAiZmlsbCI6IHRydWUsICJmaWxsQ29sb3IiOiAiIzMzODhmZiIsICJmaWxsT3BhY2l0eSI6IDEsICJmaWxsUnVsZSI6ICJldmVub2RkIiwgImxpbmVDYXAiOiAicm91bmQiLCAibGluZUpvaW4iOiAicm91bmQiLCAib3BhY2l0eSI6IDEuMCwgInJhZGl1cyI6IDUsICJzdHJva2UiOiB0cnVlLCAid2VpZ2h0IjogM30KICAgICAgICAgICAgKS5hZGRUbyhtYXBfMmU4NWQ0ZDAwZGM5NGFlMjhkNGUzMmJjNDM1NTk3NGYpOwogICAgICAgIAogICAgCiAgICAgICAgdmFyIHBvcHVwXzJjNThhMjdhMzQ0ZDQ4MzA4NjBiYTJkMmRkNzVjMWQwID0gTC5wb3B1cCh7ImVuY29kaW5nIjogImxhdGluXzEiLCAibWF4V2lkdGgiOiAiMTAwJSJ9KTsKCiAgICAgICAgCiAgICAgICAgICAgIHZhciBodG1sX2NlMGYyNGE1Njg0YzQ5YWFhYjU3MDc4YmY2OWQyZWY4ID0gJChgPGRpdiBpZD0iaHRtbF9jZTBmMjRhNTY4NGM0OWFhYWI1NzA3OGJmNjlkMmVmOCIgc3R5bGU9IndpZHRoOiAxMDAuMCU7IGhlaWdodDogMTAwLjAlOyI+U0FJTlQtSkVBTi1EJiMzOTtJTExBQyBTQUlOVC1KRUFOLUQmIzM5O0lMTEFDPC9kaXY+YClbMF07CiAgICAgICAgICAgIHBvcHVwXzJjNThhMjdhMzQ0ZDQ4MzA4NjBiYTJkMmRkNzVjMWQwLnNldENvbnRlbnQoaHRtbF9jZTBmMjRhNTY4NGM0OWFhYWI1NzA3OGJmNjlkMmVmOCk7CiAgICAgICAgCgogICAgICAgIGNpcmNsZV9tYXJrZXJfYmRhZDdkNGIzMGVjNDcxYzgyZjgwZjJlOWQ4NjBjYTIuYmluZFBvcHVwKHBvcHVwXzJjNThhMjdhMzQ0ZDQ4MzA4NjBiYTJkMmRkNzVjMWQwKQogICAgICAgIDsKCiAgICAgICAgCiAgICAKICAgIAogICAgICAgICAgICB2YXIgY2lyY2xlX21hcmtlcl8xNzBlYzcyYTVhODk0YmU4OThhM2E5YzkwZDQ4MGQ2YyA9IEwuY2lyY2xlTWFya2VyKAogICAgICAgICAgICAgICAgWzQ0Ljg4NDIzNzksIC0wLjYxMTE0NzRdLAogICAgICAgICAgICAgICAgeyJidWJibGluZ01vdXNlRXZlbnRzIjogdHJ1ZSwgImNvbG9yIjogIiMzMzg4ZmYiLCAiZGFzaEFycmF5IjogbnVsbCwgImRhc2hPZmZzZXQiOiBudWxsLCAiZmlsbCI6IHRydWUsICJmaWxsQ29sb3IiOiAiIzMzODhmZiIsICJmaWxsT3BhY2l0eSI6IDEsICJmaWxsUnVsZSI6ICJldmVub2RkIiwgImxpbmVDYXAiOiAicm91bmQiLCAibGluZUpvaW4iOiAicm91bmQiLCAib3BhY2l0eSI6IDEuMCwgInJhZGl1cyI6IDUsICJzdHJva2UiOiB0cnVlLCAid2VpZ2h0IjogM30KICAgICAgICAgICAgKS5hZGRUbyhtYXBfMmU4NWQ0ZDAwZGM5NGFlMjhkNGUzMmJjNDM1NTk3NGYpOwogICAgICAgIAogICAgCiAgICAgICAgdmFyIHBvcHVwX2FhY2RlMDI1MmUzNTRmNzc5ZmJkN2Y5NTcxNzM5NzgzID0gTC5wb3B1cCh7ImVuY29kaW5nIjogImxhdGluXzEiLCAibWF4V2lkdGgiOiAiMTAwJSJ9KTsKCiAgICAgICAgCiAgICAgICAgICAgIHZhciBodG1sXzZkMTU4NjBmYTcxYTQwMWNiZWIzZTAxZDU0ODJiNjk4ID0gJChgPGRpdiBpZD0iaHRtbF82ZDE1ODYwZmE3MWE0MDFjYmViM2UwMWQ1NDgyYjY5OCIgc3R5bGU9IndpZHRoOiAxMDAuMCU7IGhlaWdodDogMTAwLjAlOyI+QlJVR0VTIEJSVUdFUzwvZGl2PmApWzBdOwogICAgICAgICAgICBwb3B1cF9hYWNkZTAyNTJlMzU0Zjc3OWZiZDdmOTU3MTczOTc4My5zZXRDb250ZW50KGh0bWxfNmQxNTg2MGZhNzFhNDAxY2JlYjNlMDFkNTQ4MmI2OTgpOwogICAgICAgIAoKICAgICAgICBjaXJjbGVfbWFya2VyXzE3MGVjNzJhNWE4OTRiZTg5OGEzYTljOTBkNDgwZDZjLmJpbmRQb3B1cChwb3B1cF9hYWNkZTAyNTJlMzU0Zjc3OWZiZDdmOTU3MTczOTc4MykKICAgICAgICA7CgogICAgICAgIAogICAgCiAgICAKICAgICAgICAgICAgdmFyIGNpcmNsZV9tYXJrZXJfZDIyM2ZiYTJkYTUzNDFhOGJiMThhZjA0OGE0NTk2NzAgPSBMLmNpcmNsZU1hcmtlcigKICAgICAgICAgICAgICAgIFs0NC45NzExMTkyLCAtMC40NTQ3MjNdLAogICAgICAgICAgICAgICAgeyJidWJibGluZ01vdXNlRXZlbnRzIjogdHJ1ZSwgImNvbG9yIjogIiMzMzg4ZmYiLCAiZGFzaEFycmF5IjogbnVsbCwgImRhc2hPZmZzZXQiOiBudWxsLCAiZmlsbCI6IHRydWUsICJmaWxsQ29sb3IiOiAiIzMzODhmZiIsICJmaWxsT3BhY2l0eSI6IDEsICJmaWxsUnVsZSI6ICJldmVub2RkIiwgImxpbmVDYXAiOiAicm91bmQiLCAibGluZUpvaW4iOiAicm91bmQiLCAib3BhY2l0eSI6IDEuMCwgInJhZGl1cyI6IDUsICJzdHJva2UiOiB0cnVlLCAid2VpZ2h0IjogM30KICAgICAgICAgICAgKS5hZGRUbyhtYXBfMmU4NWQ0ZDAwZGM5NGFlMjhkNGUzMmJjNDM1NTk3NGYpOwogICAgICAgIAogICAgCiAgICAgICAgdmFyIHBvcHVwXzNlM2VjMzlmNjU5ZTRkNmI5MzllM2E0NDZjMjg2MmQyID0gTC5wb3B1cCh7ImVuY29kaW5nIjogImxhdGluXzEiLCAibWF4V2lkdGgiOiAiMTAwJSJ9KTsKCiAgICAgICAgCiAgICAgICAgICAgIHZhciBodG1sXzhlZmJiMjgyYzRkNzRlYjhhMzkwNGQ0YjYwNjM4OWE2ID0gJChgPGRpdiBpZD0iaHRtbF84ZWZiYjI4MmM0ZDc0ZWI4YTM5MDRkNGI2MDYzODlhNiIgc3R5bGU9IndpZHRoOiAxMDAuMCU7IGhlaWdodDogMTAwLjAlOyI+Q1VCWkFDLUxFUy1QT05UUyBDVUJaQUMtTEVTLVBPTlRTPC9kaXY+YClbMF07CiAgICAgICAgICAgIHBvcHVwXzNlM2VjMzlmNjU5ZTRkNmI5MzllM2E0NDZjMjg2MmQyLnNldENvbnRlbnQoaHRtbF84ZWZiYjI4MmM0ZDc0ZWI4YTM5MDRkNGI2MDYzODlhNik7CiAgICAgICAgCgogICAgICAgIGNpcmNsZV9tYXJrZXJfZDIyM2ZiYTJkYTUzNDFhOGJiMThhZjA0OGE0NTk2NzAuYmluZFBvcHVwKHBvcHVwXzNlM2VjMzlmNjU5ZTRkNmI5MzllM2E0NDZjMjg2MmQyKQogICAgICAgIDsKCiAgICAgICAgCiAgICAKICAgIAogICAgICAgICAgICB2YXIgY2lyY2xlX21hcmtlcl8yZTVmZGNhYWNlYWI0YmI4ODI2MWQ3MzhjOGY3MWJiZCA9IEwuY2lyY2xlTWFya2VyKAogICAgICAgICAgICAgICAgWzQ0LjkxMzQyMTksIC0wLjcyNDY3MzRdLAogICAgICAgICAgICAgICAgeyJidWJibGluZ01vdXNlRXZlbnRzIjogdHJ1ZSwgImNvbG9yIjogIiMzMzg4ZmYiLCAiZGFzaEFycmF5IjogbnVsbCwgImRhc2hPZmZzZXQiOiBudWxsLCAiZmlsbCI6IHRydWUsICJmaWxsQ29sb3IiOiAiIzMzODhmZiIsICJmaWxsT3BhY2l0eSI6IDEsICJmaWxsUnVsZSI6ICJldmVub2RkIiwgImxpbmVDYXAiOiAicm91bmQiLCAibGluZUpvaW4iOiAicm91bmQiLCAib3BhY2l0eSI6IDEuMCwgInJhZGl1cyI6IDUsICJzdHJva2UiOiB0cnVlLCAid2VpZ2h0IjogM30KICAgICAgICAgICAgKS5hZGRUbyhtYXBfMmU4NWQ0ZDAwZGM5NGFlMjhkNGUzMmJjNDM1NTk3NGYpOwogICAgICAgIAogICAgCiAgICAgICAgdmFyIHBvcHVwX2JlYzA2ZjlhMGI4ZDRmNjlhNzkzYWRlZGQ5ZDZkMGIyID0gTC5wb3B1cCh7ImVuY29kaW5nIjogImxhdGluXzEiLCAibWF4V2lkdGgiOiAiMTAwJSJ9KTsKCiAgICAgICAgCiAgICAgICAgICAgIHZhciBodG1sXzIwZGUxYzNkYjQ0NzRjY2VhYTc2MWRjYjNiNDVkZGExID0gJChgPGRpdiBpZD0iaHRtbF8yMGRlMWMzZGI0NDc0Y2NlYWE3NjFkY2IzYjQ1ZGRhMSIgc3R5bGU9IndpZHRoOiAxMDAuMCU7IGhlaWdodDogMTAwLjAlOyI+U0FJTlQtQVVCSU4tREUtTUVET0MgU0FJTlQtQVVCSU4tREUtTUVET0M8L2Rpdj5gKVswXTsKICAgICAgICAgICAgcG9wdXBfYmVjMDZmOWEwYjhkNGY2OWE3OTNhZGVkZDlkNmQwYjIuc2V0Q29udGVudChodG1sXzIwZGUxYzNkYjQ0NzRjY2VhYTc2MWRjYjNiNDVkZGExKTsKICAgICAgICAKCiAgICAgICAgY2lyY2xlX21hcmtlcl8yZTVmZGNhYWNlYWI0YmI4ODI2MWQ3MzhjOGY3MWJiZC5iaW5kUG9wdXAocG9wdXBfYmVjMDZmOWEwYjhkNGY2OWE3OTNhZGVkZDlkNmQwYjIpCiAgICAgICAgOwoKICAgICAgICAKICAgIAogICAgCiAgICAgICAgICAgIHZhciBjaXJjbGVfbWFya2VyXzhmYzQ2ZjE0YzViYzQ2MjFiODQ1ZjQyMzQ3ZGJmY2NmID0gTC5jaXJjbGVNYXJrZXIoCiAgICAgICAgICAgICAgICBbNDQuOTA4ODk4MiwgLTAuNjMwMDM2M10sCiAgICAgICAgICAgICAgICB7ImJ1YmJsaW5nTW91c2VFdmVudHMiOiB0cnVlLCAiY29sb3IiOiAiIzMzODhmZiIsICJkYXNoQXJyYXkiOiBudWxsLCAiZGFzaE9mZnNldCI6IG51bGwsICJmaWxsIjogdHJ1ZSwgImZpbGxDb2xvciI6ICIjMzM4OGZmIiwgImZpbGxPcGFjaXR5IjogMSwgImZpbGxSdWxlIjogImV2ZW5vZGQiLCAibGluZUNhcCI6ICJyb3VuZCIsICJsaW5lSm9pbiI6ICJyb3VuZCIsICJvcGFjaXR5IjogMS4wLCAicmFkaXVzIjogNSwgInN0cm9rZSI6IHRydWUsICJ3ZWlnaHQiOiAzfQogICAgICAgICAgICApLmFkZFRvKG1hcF8yZTg1ZDRkMDBkYzk0YWUyOGQ0ZTMyYmM0MzU1OTc0Zik7CiAgICAgICAgCiAgICAKICAgICAgICB2YXIgcG9wdXBfZTA3MDU5ZTM4MjU5NGYzN2I2NWNjMDI0MTBiZmQ3MzEgPSBMLnBvcHVwKHsiZW5jb2RpbmciOiAibGF0aW5fMSIsICJtYXhXaWR0aCI6ICIxMDAlIn0pOwoKICAgICAgICAKICAgICAgICAgICAgdmFyIGh0bWxfNDczMDc0ZWUwZjQyNDgzZDg0MjhkNjhjNzdiMWQwNmUgPSAkKGA8ZGl2IGlkPSJodG1sXzQ3MzA3NGVlMGY0MjQ4M2Q4NDI4ZDY4Yzc3YjFkMDZlIiBzdHlsZT0id2lkdGg6IDEwMC4wJTsgaGVpZ2h0OiAxMDAuMCU7Ij5CTEFOUVVFRk9SVCBCTEFOUVVFRk9SVDwvZGl2PmApWzBdOwogICAgICAgICAgICBwb3B1cF9lMDcwNTllMzgyNTk0ZjM3YjY1Y2MwMjQxMGJmZDczMS5zZXRDb250ZW50KGh0bWxfNDczMDc0ZWUwZjQyNDgzZDg0MjhkNjhjNzdiMWQwNmUpOwogICAgICAgIAoKICAgICAgICBjaXJjbGVfbWFya2VyXzhmYzQ2ZjE0YzViYzQ2MjFiODQ1ZjQyMzQ3ZGJmY2NmLmJpbmRQb3B1cChwb3B1cF9lMDcwNTllMzgyNTk0ZjM3YjY1Y2MwMjQxMGJmZDczMSkKICAgICAgICA7CgogICAgICAgIAogICAgCjwvc2NyaXB0Pg== onload=\"this.contentDocument.open();this.contentDocument.write(atob(this.getAttribute('data-html')));this.contentDocument.close();\" allowfullscreen webkitallowfullscreen mozallowfullscreen></iframe></div></div>"
      ],
      "text/plain": [
       "<folium.folium.Map at 0x194f51fba08>"
      ]
     },
     "execution_count": 18,
     "metadata": {},
     "output_type": "execute_result"
    }
   ],
   "source": [
    "neighborhoods= folium.Map(location=[latitude,longitude],zoom_start=11)\n",
    "for lat,long,bo,nei,geo in zip(bordeaux_neighborhoods['Latitude'],bordeaux_neighborhoods['Longitude'],bordeaux_neighborhoods['town'],bordeaux_neighborhoods['Neighborhood'],bordeaux_neighborhoods['Geometry']):\n",
    "    label=(f'{bo}\\n{nei}')\n",
    "    label=folium.Popup(label, parse_html=True, encoding=\"latin_1\")\n",
    "    #pour ajouter les limites des quartiers : \n",
    "    #gj=folium.GeoJson(data=geo)\n",
    "    #gj.add_to(neighborhoods)\n",
    "    folium.CircleMarker(location=[lat,long],\n",
    "                        popup=label,\n",
    "                        radius=5,\n",
    "                        fill=True,\n",
    "                        fill_color='#3388ff',\n",
    "                        fill_opacity=1,\n",
    "                        parse_html=False).add_to(neighborhoods)\n",
    "neighborhoods"
   ]
  },
  {
   "cell_type": "markdown",
   "metadata": {},
   "source": [
    "# B. Real Estates \n",
    "\n",
    "It seems that our data set is ready. Now, we will add to the neighborhoods some information about real estates market"
   ]
  },
  {
   "cell_type": "markdown",
   "metadata": {},
   "source": [
    "http://api.cquest.org/dvf?lat=48.85&lon=2.35&dist=200"
   ]
  },
  {
   "cell_type": "markdown",
   "metadata": {},
   "source": [
    "Here again, let's give a look at the result returned from the API\n",
    "The information we will keep is located in the `results['features']` section. \n",
    "In detail, we want to keep : \n",
    "* Value of the property: `['valeur_fonciere']`\n",
    "* kind of property : `['type_local']`\n",
    "* Area of the property :`['surface_relle_bati'`]\n",
    "* Number of rooms : `['nombre_pieces_principales']`\n",
    "* latitute :`['lat']`\n",
    "* longitude: `['lon']`\n",
    "* surface of parcel:  `['surface_terrain']`\n"
   ]
  },
  {
   "cell_type": "code",
   "execution_count": 41,
   "metadata": {},
   "outputs": [
    {
     "data": {
      "text/plain": [
       "INSEE            object\n",
       "Latitude        float64\n",
       "Longitude       float64\n",
       "Geometry         object\n",
       "postal_code      object\n",
       "town             object\n",
       "Neighborhood     object\n",
       "dtype: object"
      ]
     },
     "execution_count": 41,
     "metadata": {},
     "output_type": "execute_result"
    }
   ],
   "source": [
    "bordeaux_neighborhoods.dtypes"
   ]
  },
  {
   "cell_type": "code",
   "execution_count": 51,
   "metadata": {
    "scrolled": true
   },
   "outputs": [
    {
     "data": {
      "text/html": [
       "<div>\n",
       "<style scoped>\n",
       "    .dataframe tbody tr th:only-of-type {\n",
       "        vertical-align: middle;\n",
       "    }\n",
       "\n",
       "    .dataframe tbody tr th {\n",
       "        vertical-align: top;\n",
       "    }\n",
       "\n",
       "    .dataframe thead th {\n",
       "        text-align: right;\n",
       "    }\n",
       "</style>\n",
       "<table border=\"1\" class=\"dataframe\">\n",
       "  <thead>\n",
       "    <tr style=\"text-align: right;\">\n",
       "      <th></th>\n",
       "      <th>town</th>\n",
       "      <th>INSEE</th>\n",
       "      <th>neighborhood</th>\n",
       "      <th>latitude</th>\n",
       "      <th>longitude</th>\n",
       "      <th>property</th>\n",
       "      <th>property_value</th>\n",
       "      <th>area</th>\n",
       "      <th>nb_rooms</th>\n",
       "      <th>parcel_surface</th>\n",
       "    </tr>\n",
       "  </thead>\n",
       "  <tbody>\n",
       "    <tr>\n",
       "      <th>0</th>\n",
       "      <td>PESSAC</td>\n",
       "      <td>33318</td>\n",
       "      <td>TOCTOUCAU</td>\n",
       "      <td>44.766930</td>\n",
       "      <td>-0.733237</td>\n",
       "      <td>None</td>\n",
       "      <td>199000.0</td>\n",
       "      <td>NaN</td>\n",
       "      <td>NaN</td>\n",
       "      <td>1813.0</td>\n",
       "    </tr>\n",
       "    <tr>\n",
       "      <th>1</th>\n",
       "      <td>PESSAC</td>\n",
       "      <td>33318</td>\n",
       "      <td>TOCTOUCAU</td>\n",
       "      <td>44.766930</td>\n",
       "      <td>-0.733237</td>\n",
       "      <td>Maison</td>\n",
       "      <td>199000.0</td>\n",
       "      <td>25.0</td>\n",
       "      <td>3.0</td>\n",
       "      <td>1177.0</td>\n",
       "    </tr>\n",
       "    <tr>\n",
       "      <th>2</th>\n",
       "      <td>PESSAC</td>\n",
       "      <td>33318</td>\n",
       "      <td>TOCTOUCAU</td>\n",
       "      <td>44.766930</td>\n",
       "      <td>-0.733237</td>\n",
       "      <td>None</td>\n",
       "      <td>925300.0</td>\n",
       "      <td>NaN</td>\n",
       "      <td>NaN</td>\n",
       "      <td>614.0</td>\n",
       "    </tr>\n",
       "    <tr>\n",
       "      <th>3</th>\n",
       "      <td>PESSAC</td>\n",
       "      <td>33318</td>\n",
       "      <td>TOCTOUCAU</td>\n",
       "      <td>44.766930</td>\n",
       "      <td>-0.733237</td>\n",
       "      <td>None</td>\n",
       "      <td>925300.0</td>\n",
       "      <td>NaN</td>\n",
       "      <td>NaN</td>\n",
       "      <td>1033.0</td>\n",
       "    </tr>\n",
       "    <tr>\n",
       "      <th>4</th>\n",
       "      <td>PESSAC</td>\n",
       "      <td>33318</td>\n",
       "      <td>TOCTOUCAU</td>\n",
       "      <td>44.766930</td>\n",
       "      <td>-0.733237</td>\n",
       "      <td>None</td>\n",
       "      <td>867010.0</td>\n",
       "      <td>NaN</td>\n",
       "      <td>NaN</td>\n",
       "      <td>1033.0</td>\n",
       "    </tr>\n",
       "    <tr>\n",
       "      <th>...</th>\n",
       "      <td>...</td>\n",
       "      <td>...</td>\n",
       "      <td>...</td>\n",
       "      <td>...</td>\n",
       "      <td>...</td>\n",
       "      <td>...</td>\n",
       "      <td>...</td>\n",
       "      <td>...</td>\n",
       "      <td>...</td>\n",
       "      <td>...</td>\n",
       "    </tr>\n",
       "    <tr>\n",
       "      <th>164312</th>\n",
       "      <td>BORDEAUX</td>\n",
       "      <td>33063</td>\n",
       "      <td>CENTRE VILLE</td>\n",
       "      <td>44.842351</td>\n",
       "      <td>-0.583334</td>\n",
       "      <td>Appartement</td>\n",
       "      <td>447000.0</td>\n",
       "      <td>49.0</td>\n",
       "      <td>2.0</td>\n",
       "      <td>66.0</td>\n",
       "    </tr>\n",
       "    <tr>\n",
       "      <th>164313</th>\n",
       "      <td>BORDEAUX</td>\n",
       "      <td>33063</td>\n",
       "      <td>CENTRE VILLE</td>\n",
       "      <td>44.842351</td>\n",
       "      <td>-0.583334</td>\n",
       "      <td>Appartement</td>\n",
       "      <td>447000.0</td>\n",
       "      <td>48.0</td>\n",
       "      <td>2.0</td>\n",
       "      <td>66.0</td>\n",
       "    </tr>\n",
       "    <tr>\n",
       "      <th>164314</th>\n",
       "      <td>BORDEAUX</td>\n",
       "      <td>33063</td>\n",
       "      <td>CENTRE VILLE</td>\n",
       "      <td>44.842351</td>\n",
       "      <td>-0.583334</td>\n",
       "      <td>Appartement</td>\n",
       "      <td>630000.0</td>\n",
       "      <td>49.0</td>\n",
       "      <td>2.0</td>\n",
       "      <td>66.0</td>\n",
       "    </tr>\n",
       "    <tr>\n",
       "      <th>164315</th>\n",
       "      <td>BORDEAUX</td>\n",
       "      <td>33063</td>\n",
       "      <td>CENTRE VILLE</td>\n",
       "      <td>44.842351</td>\n",
       "      <td>-0.583334</td>\n",
       "      <td>Local industriel. commercial ou assimilé</td>\n",
       "      <td>630000.0</td>\n",
       "      <td>107.0</td>\n",
       "      <td>0.0</td>\n",
       "      <td>66.0</td>\n",
       "    </tr>\n",
       "    <tr>\n",
       "      <th>164316</th>\n",
       "      <td>BORDEAUX</td>\n",
       "      <td>33063</td>\n",
       "      <td>CENTRE VILLE</td>\n",
       "      <td>44.842351</td>\n",
       "      <td>-0.583334</td>\n",
       "      <td>Appartement</td>\n",
       "      <td>630000.0</td>\n",
       "      <td>48.0</td>\n",
       "      <td>2.0</td>\n",
       "      <td>66.0</td>\n",
       "    </tr>\n",
       "  </tbody>\n",
       "</table>\n",
       "<p>164317 rows × 10 columns</p>\n",
       "</div>"
      ],
      "text/plain": [
       "            town  INSEE  neighborhood   latitude  longitude  \\\n",
       "0         PESSAC  33318     TOCTOUCAU  44.766930  -0.733237   \n",
       "1         PESSAC  33318     TOCTOUCAU  44.766930  -0.733237   \n",
       "2         PESSAC  33318     TOCTOUCAU  44.766930  -0.733237   \n",
       "3         PESSAC  33318     TOCTOUCAU  44.766930  -0.733237   \n",
       "4         PESSAC  33318     TOCTOUCAU  44.766930  -0.733237   \n",
       "...          ...    ...           ...        ...        ...   \n",
       "164312  BORDEAUX  33063  CENTRE VILLE  44.842351  -0.583334   \n",
       "164313  BORDEAUX  33063  CENTRE VILLE  44.842351  -0.583334   \n",
       "164314  BORDEAUX  33063  CENTRE VILLE  44.842351  -0.583334   \n",
       "164315  BORDEAUX  33063  CENTRE VILLE  44.842351  -0.583334   \n",
       "164316  BORDEAUX  33063  CENTRE VILLE  44.842351  -0.583334   \n",
       "\n",
       "                                        property  property_value   area  \\\n",
       "0                                           None        199000.0    NaN   \n",
       "1                                         Maison        199000.0   25.0   \n",
       "2                                           None        925300.0    NaN   \n",
       "3                                           None        925300.0    NaN   \n",
       "4                                           None        867010.0    NaN   \n",
       "...                                          ...             ...    ...   \n",
       "164312                               Appartement        447000.0   49.0   \n",
       "164313                               Appartement        447000.0   48.0   \n",
       "164314                               Appartement        630000.0   49.0   \n",
       "164315  Local industriel. commercial ou assimilé        630000.0  107.0   \n",
       "164316                               Appartement        630000.0   48.0   \n",
       "\n",
       "        nb_rooms  parcel_surface  \n",
       "0            NaN          1813.0  \n",
       "1            3.0          1177.0  \n",
       "2            NaN           614.0  \n",
       "3            NaN          1033.0  \n",
       "4            NaN          1033.0  \n",
       "...          ...             ...  \n",
       "164312       2.0            66.0  \n",
       "164313       2.0            66.0  \n",
       "164314       2.0            66.0  \n",
       "164315       0.0            66.0  \n",
       "164316       2.0            66.0  \n",
       "\n",
       "[164317 rows x 10 columns]"
      ]
     },
     "execution_count": 51,
     "metadata": {},
     "output_type": "execute_result"
    }
   ],
   "source": [
    "# connect to foursquare and get the venues for ONLY TORONTO BOROUGH\n",
    "RADIUS=500\n",
    "temp=pd.DataFrame()\n",
    "url_dvf='http://api.cquest.org/dvf?'\n",
    "dvf_values = pd.DataFrame(columns=['town', 'INSEE','neighborhood', 'latitude', 'longitude','property','property_value','area', 'nb_rooms','parcel_surface'])\n",
    "for to, insee,nei,lat,long in zip(bordeaux_neighborhoods['town'],bordeaux_neighborhoods['INSEE'],bordeaux_neighborhoods['Neighborhood'],bordeaux_neighborhoods['Latitude'],bordeaux_neighborhoods['Longitude']):\n",
    "    url=url_dvf+f'lat={round(lat,2)}&lon={round(long,2)}&dist={RADIUS}'\n",
    "    results=requests.get(url).json()    \n",
    "    for i in range(len(results['features'])):\n",
    "        temp.at[i,'town']=to\n",
    "        temp.at[i,'INSEE']=insee\n",
    "        temp.at[i,'neighborhood']=nei\n",
    "        temp.at[i,'latitude']=lat\n",
    "        temp.at[i,'longitude']=long\n",
    "        temp.at[i,'property']=str(results['features'][i]['properties'].get('type_local'))\n",
    "        temp.at[i,'property_value']=results['features'][i]['properties'].get('valeur_fonciere')\n",
    "        temp.at[i,'area']=results['features'][i]['properties'].get('surface_relle_bati')\n",
    "        temp.at[i,'nb_rooms']=results['features'][i]['properties'].get('nombre_pieces_principales')\n",
    "        temp.at[i,'parcel_surface']=results['features'][i]['properties'].get('surface_terrain')\n",
    "    dvf_values=dvf_values.append(temp,ignore_index=True)\n",
    "dvf_values.to_csv('dvf_values.csv')\n",
    "dvf_values"
   ]
  },
  {
   "cell_type": "code",
   "execution_count": 52,
   "metadata": {},
   "outputs": [],
   "source": [
    "#dvf_values=pd.read_csv('dvf_values.csv',index_col=0,encoding=\"UTF-8\")"
   ]
  },
  {
   "cell_type": "code",
   "execution_count": 57,
   "metadata": {},
   "outputs": [],
   "source": [
    "#we clean the results by droping the row with missing values \n",
    "dvf_values_clean=dvf_values\n",
    "dvf_values_clean['area']=dvf_values_clean['area'].replace(0.0,np.nan)\n",
    "dvf_values_clean=dvf_values_clean.dropna(subset=['area']).reset_index(drop=True)"
   ]
  },
  {
   "cell_type": "code",
   "execution_count": 58,
   "metadata": {},
   "outputs": [
    {
     "data": {
      "text/plain": [
       "(86292, 10)"
      ]
     },
     "execution_count": 58,
     "metadata": {},
     "output_type": "execute_result"
    }
   ],
   "source": [
    "dvf_values_clean.shape"
   ]
  },
  {
   "cell_type": "code",
   "execution_count": 59,
   "metadata": {},
   "outputs": [],
   "source": [
    "# we group by town & neighborhood, we apply mean value on numerical values and we extract most common value from string column( property type)\n",
    "dvf_values_grouped=dvf_values_clean.groupby(['town','INSEE','neighborhood','latitude','longitude'],as_index=False).agg({\n",
    "    'property':lambda x: x.value_counts().index[0],\n",
    "    'property_value':'mean',\n",
    "    'area':'mean',\n",
    "    'nb_rooms':'mean',\n",
    "    'parcel_surface':'mean'})"
   ]
  },
  {
   "cell_type": "markdown",
   "metadata": {},
   "source": [
    "Finaly, we will add a new column with the average price per square meter. "
   ]
  },
  {
   "cell_type": "code",
   "execution_count": 60,
   "metadata": {},
   "outputs": [],
   "source": [
    "dvf_values_grouped['avg_price']=dvf_values_grouped['property_value']/dvf_values_grouped['area']"
   ]
  },
  {
   "cell_type": "code",
   "execution_count": 63,
   "metadata": {},
   "outputs": [],
   "source": [
    "dvf_values_grouped=dvf_values_grouped.merge(bordeaux_neighborhoods[[\"Neighborhood\",\"Geometry\"]],left_on='neighborhood', right_on='Neighborhood',)"
   ]
  },
  {
   "cell_type": "code",
   "execution_count": 99,
   "metadata": {},
   "outputs": [
    {
     "data": {
      "text/html": [
       "<div>\n",
       "<style scoped>\n",
       "    .dataframe tbody tr th:only-of-type {\n",
       "        vertical-align: middle;\n",
       "    }\n",
       "\n",
       "    .dataframe tbody tr th {\n",
       "        vertical-align: top;\n",
       "    }\n",
       "\n",
       "    .dataframe thead th {\n",
       "        text-align: right;\n",
       "    }\n",
       "</style>\n",
       "<table border=\"1\" class=\"dataframe\">\n",
       "  <thead>\n",
       "    <tr style=\"text-align: right;\">\n",
       "      <th></th>\n",
       "      <th>town</th>\n",
       "      <th>INSEE</th>\n",
       "      <th>neighborhood</th>\n",
       "      <th>latitude</th>\n",
       "      <th>longitude</th>\n",
       "      <th>property</th>\n",
       "      <th>property_value</th>\n",
       "      <th>area</th>\n",
       "      <th>nb_rooms</th>\n",
       "      <th>parcel_surface</th>\n",
       "      <th>avg_price</th>\n",
       "      <th>Neighborhood</th>\n",
       "      <th>Geometry</th>\n",
       "    </tr>\n",
       "  </thead>\n",
       "  <tbody>\n",
       "  </tbody>\n",
       "</table>\n",
       "</div>"
      ],
      "text/plain": [
       "Empty DataFrame\n",
       "Columns: [town, INSEE, neighborhood, latitude, longitude, property, property_value, area, nb_rooms, parcel_surface, avg_price, Neighborhood, Geometry]\n",
       "Index: []"
      ]
     },
     "execution_count": 99,
     "metadata": {},
     "output_type": "execute_result"
    }
   ],
   "source": [
    "dvf_values_grouped[dvf_values_grouped['neighborhood']=='LE HAILLAN']"
   ]
  },
  {
   "cell_type": "code",
   "execution_count": 100,
   "metadata": {},
   "outputs": [
    {
     "data": {
      "text/plain": [
       "array(['AMBARES-ET-LAGRAVE', 'AMBES', 'ARTIGUES-PRES-BORDEAUX', 'BASSENS',\n",
       "       'BEGLES', 'BLANQUEFORT', 'BORDEAUX MARITIME', 'BORDEAUX SUD',\n",
       "       'CAUDERAN', 'CENTRE VILLE',\n",
       "       'CHARTRONS - GRAND PARC - JARDIN PUBLIC', 'LA BASTIDE',\n",
       "       'NANSOUTY - SAINT GENES',\n",
       "       'SAINT AUGUSTIN - TAUZIN - ALPHONSE DUPEUX', 'BOULIAC', 'BRUGES',\n",
       "       'CARBON-BLANC', 'GAMBETTA-MAIRIE-LISSANDRE',\n",
       "       'PALMER-GRAVIERES-CAVAILLES', 'PLAISANCE-LORET-MAREGUE',\n",
       "       'CUBZAC-LES-PONTS', 'EYSINES', 'FLOIRAC', 'GRADIGNAN', 'LATRESNE',\n",
       "       'LE BOUSCAT', 'LE TAILLAN-MEDOC', 'LORMONT', 'LUDON-MEDOC',\n",
       "       'MARTIGNAS-SUR-JALLE', 'ARLAC', 'BEAUDESERT', 'BEUTRE', 'BOURRAN',\n",
       "       'CAPEYRON', 'CHEMIN LONG', 'LA GLACIERE', 'LE BURCK',\n",
       "       'LES EYQUEMS', 'PAREMPUYRE', '3M-BOURGAILH',\n",
       "       'ARAGO-LA CHATAIGNERAIE', 'BRIVAZAC-CANDAU', 'CAP DE BOS',\n",
       "       'CASINO', 'CHIQUET-FONTAUDIN', 'FRANCE ALOUETTE',\n",
       "       'LA PAILLERE-COMPOSTELLE', 'LE BOURG', 'LE MONTEIL',\n",
       "       'LE VALLON-LES ECHOPPES', 'MAGONTY', 'NOES', 'SAIGE', 'SARDINE',\n",
       "       'TOCTOUCAU', 'VERTHAMON', 'SAINT-AUBIN-DE-MEDOC',\n",
       "       \"SAINT-JEAN-D'ILLAC\", 'SAINT-LOUIS-DE-MONTFERRAND',\n",
       "       'SAINT-MEDARD-EN-JALLES', 'SAINT-VINCENT-DE-PAUL', 'TALENCE',\n",
       "       \"VILLENAVE-D'ORNON\"], dtype=object)"
      ]
     },
     "execution_count": 100,
     "metadata": {},
     "output_type": "execute_result"
    }
   ],
   "source": [
    "dvf_values_grouped['neighborhood'].unique()"
   ]
  },
  {
   "cell_type": "code",
   "execution_count": 87,
   "metadata": {},
   "outputs": [
    {
     "data": {
      "text/plain": [
       "67"
      ]
     },
     "execution_count": 87,
     "metadata": {},
     "output_type": "execute_result"
    }
   ],
   "source": [
    "x=17+11+9+3+1+1+1+1+1+1+1+1+1+1+1+1+1+1+1+1+1+1+1+1+1+1+1+1+1+1+1\n",
    "x"
   ]
  },
  {
   "cell_type": "code",
   "execution_count": 86,
   "metadata": {},
   "outputs": [
    {
     "data": {
      "text/plain": [
       "{'type': 'Polygon', 'coordinates': [[[-0.64496310384397, 44.777885513185], [-0.67891986484403, 44.777033449891], [-0.68867295921326, 44.782365662507], [-0.71386684011783, 44.772022387573], [-0.72961742630482, 44.761287605265], [-0.75016898968063, 44.74953527528], [-0.75855903831499, 44.755294175699], [-0.73408850408192, 44.775538184749], [-0.7393538912752, 44.783051560326], [-0.72925729025875, 44.801550804568], [-0.71290295579149, 44.799780825427], [-0.70128380303582, 44.802558859962], [-0.67905484037887, 44.812826623796], [-0.62650739633697, 44.814592392518], [-0.61064704577714, 44.82246984876], [-0.60305240861582, 44.818478272987], [-0.60604334492289, 44.800117866352], [-0.60525418966645, 44.793028114867], [-0.61373541635762, 44.793261073566], [-0.62805111349274, 44.785055929072], [-0.64496310384397, 44.777885513185]]]}                                                                                                                                                                                                                                                                                                                17\n",
       "{'type': 'Polygon', 'coordinates': [[[-0.74630839416279, 44.850313325316], [-0.71941084291414, 44.846929068826], [-0.67540635132688, 44.85871506697], [-0.66656419148017, 44.858082911212], [-0.6602523348292, 44.857209775464], [-0.65319205568216, 44.862667339764], [-0.63834136716608, 44.86066505712], [-0.63723147566721, 44.853844419987], [-0.62744414474411, 44.839801133597], [-0.60958691020495, 44.835233893837], [-0.61433341362944, 44.825519504459], [-0.61064704577714, 44.82246984876], [-0.62650739633697, 44.814592392518], [-0.67905484037887, 44.812826623796], [-0.70128380303582, 44.802558859962], [-0.71290295579149, 44.799780825427], [-0.72925729025875, 44.801550804568], [-0.72595659917788, 44.81353316761], [-0.73810509864425, 44.829325655288], [-0.75371532764088, 44.832553291055], [-0.75522328511085, 44.846652525404], [-0.74630839416279, 44.850313325316]]]}                                                                                                                                                                                                                                                                            11\n",
       "{'type': 'Polygon', 'coordinates': [[[-0.57388017236751, 44.810793072954], [-0.5757644934203, 44.816825637079], [-0.59298239883517, 44.823237473305], [-0.60305240861582, 44.818478272987], [-0.61064704577714, 44.82246984876], [-0.61433341362944, 44.825519504459], [-0.60958691020495, 44.835233893837], [-0.62744414474411, 44.839801133597], [-0.63723147566721, 44.853844419987], [-0.63834136716608, 44.86066505712], [-0.63309293114372, 44.861944737411], [-0.6310521945089, 44.871652659997], [-0.61654958634651, 44.862192312635], [-0.60196424298267, 44.856004565178], [-0.59152524025415, 44.856272712145], [-0.5760896049593, 44.869182625231], [-0.58088526841282, 44.909397730329], [-0.54773427525747, 44.916667005584], [-0.53833909380154, 44.90000691681], [-0.53553519499407, 44.889100992109], [-0.53845657516714, 44.876243530896], [-0.53785048530098, 44.861264355466], [-0.5382328050169, 44.851872053543], [-0.54223063388524, 44.842384192817], [-0.54812393405153, 44.835975460743], [-0.53756490214784, 44.829895998569], [-0.53766712027503, 44.822773911961], [-0.55185469553581, 44.815401532258], [-0.57388017236751, 44.810793072954]]]}     9\n",
       "{'type': 'Polygon', 'coordinates': [[[-0.50486526925144, 44.867887115402], [-0.50318556614518, 44.847984376576], [-0.54223063388524, 44.842384192817], [-0.5382328050169, 44.851872053543], [-0.53785048530098, 44.861264355466], [-0.52113554122309, 44.863795015055], [-0.50486526925144, 44.867887115402]]]}                                                                                                                                                                                                                                                                                                                                                                                                                                                                                                                                                                                                                                                                                                                                                                                                                                                                   3\n",
       "{'type': 'Polygon', 'coordinates': [[[-0.62985454365161, 44.898202564684], [-0.61889638488434, 44.900530540618], [-0.59975241626208, 44.9092761903], [-0.58088526841282, 44.909397730329], [-0.5760896049593, 44.869182625231], [-0.59505059060938, 44.871429675564], [-0.61214103006, 44.87131179226], [-0.62237701639753, 44.876827485879], [-0.62755969998905, 44.884955506642], [-0.62985454365161, 44.898202564684]]]}                                                                                                                                                                                                                                                                                                                                                                                                                                                                                                                                                                                                                                                                                                                                                       1\n",
       "{'type': 'Polygon', 'coordinates': [[[-0.71408385528734, 44.904883354891], [-0.71034193610294, 44.923124637184], [-0.69714323016276, 44.927619928701], [-0.68724974684077, 44.931158467578], [-0.67052223907285, 44.929975604391], [-0.67077980703025, 44.922768177216], [-0.65580710218768, 44.916232638068], [-0.65066290953086, 44.905297673142], [-0.64210578825409, 44.894964909341], [-0.66040249059682, 44.8964469498], [-0.6692456744696, 44.895472713766], [-0.6806837562335, 44.894819155016], [-0.71408385528734, 44.904883354891]]]}                                                                                                                                                                                                                                                                                                                                                                                                                                                                                                                                                                                                                                  1\n",
       "{'type': 'Polygon', 'coordinates': [[[-0.6310521945089, 44.871652659997], [-0.62237701639753, 44.876827485879], [-0.61214103006, 44.87131179226], [-0.59505059060938, 44.871429675564], [-0.5760896049593, 44.869182625231], [-0.59152524025415, 44.856272712145], [-0.60196424298267, 44.856004565178], [-0.61654958634651, 44.862192312635], [-0.6310521945089, 44.871652659997]]]}                                                                                                                                                                                                                                                                                                                                                                                                                                                                                                                                                                                                                                                                                                                                                                                             1\n",
       "{'type': 'Polygon', 'coordinates': [[[-0.63271360027123, 44.742168053396], [-0.63166971659421, 44.75533720563], [-0.64327795042076, 44.766256885952], [-0.64496310384397, 44.777885513185], [-0.62805111349274, 44.785055929072], [-0.61373541635762, 44.793261073566], [-0.60525418966645, 44.793028114867], [-0.5918286966407, 44.786964280847], [-0.58808864996685, 44.778158633707], [-0.59014195574912, 44.762702518704], [-0.60918387840712, 44.756768082487], [-0.6191705282487, 44.748049719252], [-0.63271360027123, 44.742168053396]]]}                                                                                                                                                                                                                                                                                                                                                                                                                                                                                                                                                                                                                                 1\n",
       "{'type': 'Polygon', 'coordinates': [[[-0.53234936566061, 44.816242836611], [-0.53766712027503, 44.822773911961], [-0.53756490214784, 44.829895998569], [-0.54812393405153, 44.835975460743], [-0.54223063388524, 44.842384192817], [-0.50318556614518, 44.847984376576], [-0.49619264941434, 44.841517981139], [-0.50188350409743, 44.829874082914], [-0.51355786712744, 44.821437085252], [-0.53234936566061, 44.816242836611]]]}                                                                                                                                                                                                                                                                                                                                                                                                                                                                                                                                                                                                                                                                                                                                                1\n",
       "{'type': 'Polygon', 'coordinates': [[[-0.57262495577015, 44.805828026404], [-0.585550239296, 44.790195806772], [-0.5918286966407, 44.786964280847], [-0.60525418966645, 44.793028114867], [-0.60604334492289, 44.800117866352], [-0.60305240861582, 44.818478272987], [-0.59298239883517, 44.823237473305], [-0.5757644934203, 44.816825637079], [-0.57388017236751, 44.810793072954], [-0.57262495577015, 44.805828026404]]]}                                                                                                                                                                                                                                                                                                                                                                                                                                                                                                                                                                                                                                                                                                                                                    1\n",
       "{'type': 'Polygon', 'coordinates': [[[-0.50486526925144, 44.867887115402], [-0.49706874177373, 44.876854243083], [-0.47935751356723, 44.871798138178], [-0.472028662682, 44.865495705428], [-0.47684512186093, 44.852973079848], [-0.48205702375686, 44.84777995824], [-0.49059202970158, 44.846175209394], [-0.49619264941434, 44.841517981139], [-0.50318556614518, 44.847984376576], [-0.50486526925144, 44.867887115402]]]}                                                                                                                                                                                                                                                                                                                                                                                                                                                                                                                                                                                                                                                                                                                                                   1\n",
       "{'type': 'Polygon', 'coordinates': [[[-0.53234936566061, 44.816242836611], [-0.51355786712744, 44.821437085252], [-0.50188350409743, 44.829874082914], [-0.49490455283511, 44.830674634567], [-0.4745883511455, 44.82531647145], [-0.47332242660393, 44.82278411376], [-0.4933584410383, 44.813110153828], [-0.49822610124733, 44.805379317539], [-0.51724201707363, 44.803431124101], [-0.5265683292027, 44.806143949916], [-0.53234936566061, 44.816242836611]]]}                                                                                                                                                                                                                                                                                                                                                                                                                                                                                                                                                                                                                                                                                                               1\n",
       "{'type': 'Polygon', 'coordinates': [[[-0.50827715686813, 44.987553847178], [-0.50028716630717, 44.979604215917], [-0.49685515767629, 44.96771204725], [-0.47623111354257, 44.948948977213], [-0.47142608835156, 44.938846784596], [-0.46382648008822, 44.936419950657], [-0.46420229213445, 44.922689810799], [-0.46645617593765, 44.919649063838], [-0.47211091581103, 44.919996944248], [-0.48428730103682, 44.915880024257], [-0.50166937757915, 44.918075793512], [-0.52313836198192, 44.922121172268], [-0.53613240406737, 44.925826084059], [-0.52711443579181, 44.946122513797], [-0.51805773500875, 44.959093014689], [-0.51871499174106, 44.984332781136], [-0.51737883002339, 44.988191914912], [-0.50827715686813, 44.987553847178]]]}                                                                                                                                                                                                                                                                                                                                                                                                                                 1\n",
       "{'type': 'Polygon', 'coordinates': [[[-0.57262495577015, 44.805828026404], [-0.5686856202782, 44.797642793761], [-0.56620402147917, 44.783433593346], [-0.56037499934117, 44.783128082383], [-0.54707371832227, 44.789137786406], [-0.53583100596794, 44.788039826753], [-0.52308597981929, 44.791129589106], [-0.5195039601422, 44.788981372807], [-0.51135565081871, 44.773495836647], [-0.51089245532916, 44.769098238104], [-0.52946072706156, 44.767554685072], [-0.54187642975559, 44.761214873915], [-0.5542942692748, 44.758653237887], [-0.56275199650258, 44.753175120559], [-0.5622582721577, 44.741928462539], [-0.57162195234379, 44.743500439818], [-0.58423870472298, 44.75306755488], [-0.59014195574912, 44.762702518704], [-0.58808864996685, 44.778158633707], [-0.5918286966407, 44.786964280847], [-0.585550239296, 44.790195806772], [-0.57262495577015, 44.805828026404]]]}                                                                                                                                                                                                                                                                                1\n",
       "{'type': 'Polygon', 'coordinates': [[[-0.54054530596258, 44.974063745077], [-0.54005532607658, 44.961610251352], [-0.549069891093, 44.938828819793], [-0.56497656833133, 44.942525805588], [-0.57343279040771, 44.934076831345], [-0.59441324441585, 44.935439587929], [-0.61688747799981, 44.941642975659], [-0.62164196958298, 44.947307840256], [-0.62796992850364, 44.957654885742], [-0.62833417669934, 44.964239725526], [-0.59728330060096, 44.964716347284], [-0.56332658232217, 44.971741487731], [-0.54054530596258, 44.974063745077]]]}                                                                                                                                                                                                                                                                                                                                                                                                                                                                                                                                                                                                                                1\n",
       "{'type': 'Polygon', 'coordinates': [[[-0.67052223907285, 44.929975604391], [-0.66556169888542, 44.938346909147], [-0.63107749507895, 44.946569069128], [-0.62164196958298, 44.947307840256], [-0.61688747799981, 44.941642975659], [-0.59441324441585, 44.935439587929], [-0.57343279040771, 44.934076831345], [-0.56497656833133, 44.942525805588], [-0.549069891093, 44.938828819793], [-0.54983320067586, 44.923453148571], [-0.54773427525747, 44.916667005584], [-0.58088526841282, 44.909397730329], [-0.59975241626208, 44.9092761903], [-0.61889638488434, 44.900530540618], [-0.62985454365161, 44.898202564684], [-0.64210578825409, 44.894964909341], [-0.65066290953086, 44.905297673142], [-0.65580710218768, 44.916232638068], [-0.67077980703025, 44.922768177216], [-0.67052223907285, 44.929975604391]]]}                                                                                                                                                                                                                                                                                                                                                        1\n",
       "{'type': 'Polygon', 'coordinates': [[[-0.57262495577015, 44.805828026404], [-0.57388017236751, 44.810793072954], [-0.55185469553581, 44.815401532258], [-0.53766712027503, 44.822773911961], [-0.53234936566061, 44.816242836611], [-0.5265683292027, 44.806143949916], [-0.52308597981929, 44.791129589106], [-0.53583100596794, 44.788039826753], [-0.54707371832227, 44.789137786406], [-0.56037499934117, 44.783128082383], [-0.56620402147917, 44.783433593346], [-0.5686856202782, 44.797642793761], [-0.57262495577015, 44.805828026404]]]}                                                                                                                                                                                                                                                                                                                                                                                                                                                                                                                                                                                                                                1\n",
       "{'type': 'Polygon', 'coordinates': [[[-0.47272362101388, 44.980226123565], [-0.44179755641801, 44.98020992123], [-0.42149704975301, 44.97602758963], [-0.41224507972788, 44.970196326657], [-0.43407306632197, 44.959868527381], [-0.45494590676761, 44.953421365594], [-0.46838087029862, 44.96903132287], [-0.47272362101388, 44.980226123565]]]}                                                                                                                                                                                                                                                                                                                                                                                                                                                                                                                                                                                                                                                                                                                                                                                                                               1\n",
       "{'type': 'Polygon', 'coordinates': [[[-0.71408385528734, 44.904883354891], [-0.6806837562335, 44.894819155016], [-0.68566096628632, 44.890460137968], [-0.68681271159591, 44.881014745771], [-0.69426169060185, 44.867092106896], [-0.7057123790245, 44.860980504208], [-0.71860283362639, 44.850912111652], [-0.71941084291414, 44.846929068826], [-0.74630839416279, 44.850313325316], [-0.7583869456716, 44.866879972221], [-0.76933570116005, 44.864601261518], [-0.81704958305173, 44.860476669748], [-0.83282973877133, 44.856171954575], [-0.85492775243036, 44.848001131079], [-0.87289103403207, 44.85142358606], [-0.88094870320109, 44.857499681952], [-0.88394996362594, 44.88542731746], [-0.86614747156631, 44.88434160747], [-0.84275649815839, 44.895613078184], [-0.83231363812075, 44.924944593704], [-0.82183973002933, 44.924596104496], [-0.79844904086089, 44.918753457433], [-0.76534218329597, 44.915771533396], [-0.74013756969502, 44.905322921347], [-0.72726592291954, 44.902736242928], [-0.71408385528734, 44.904883354891]]]}                                                                                                                      1\n",
       "{'type': 'Polygon', 'coordinates': [[[-0.59674669704312, 45.040178768819], [-0.59056638673881, 45.037890692852], [-0.57403111788643, 45.036886201513], [-0.55584852172572, 45.034031085592], [-0.53680778950846, 45.025791724601], [-0.52475854397554, 45.017218966564], [-0.5147171154703, 45.010312958872], [-0.49474629042496, 45.002976820611], [-0.50827715686813, 44.987553847178], [-0.51737883002339, 44.988191914912], [-0.51862890723788, 44.990319911863], [-0.54269322841186, 44.984414971635], [-0.55740048574071, 44.994405726604], [-0.55826285768444, 44.999860677082], [-0.58957106784689, 45.017582878288], [-0.59523056751509, 45.02434114762], [-0.60233161508152, 45.034555060403], [-0.59674669704312, 45.040178768819]]]}                                                                                                                                                                                                                                                                                                                                                                                                                                  1\n",
       "{'type': 'Polygon', 'coordinates': [[[-0.71408385528734, 44.904883354891], [-0.72726592291954, 44.902736242928], [-0.74013756969502, 44.905322921347], [-0.76534218329597, 44.915771533396], [-0.79844904086089, 44.918753457433], [-0.79466933928104, 44.945100725137], [-0.78644312687948, 44.945324596422], [-0.75454232227768, 44.966663957796], [-0.72564766605965, 44.956359244592], [-0.70487686150197, 44.937452838762], [-0.69714323016276, 44.927619928701], [-0.71034193610294, 44.923124637184], [-0.71408385528734, 44.904883354891]]]}                                                                                                                                                                                                                                                                                                                                                                                                                                                                                                                                                                                                                              1\n",
       "{'type': 'Polygon', 'coordinates': [[[-0.6310521945089, 44.871652659997], [-0.63309293114372, 44.861944737411], [-0.63834136716608, 44.86066505712], [-0.65319205568216, 44.862667339764], [-0.6602523348292, 44.857209775464], [-0.66656419148017, 44.858082911212], [-0.66389934870288, 44.866818999665], [-0.66980499841904, 44.881618090198], [-0.6692456744696, 44.895472713766], [-0.66040249059682, 44.8964469498], [-0.64210578825409, 44.894964909341], [-0.62985454365161, 44.898202564684], [-0.62755969998905, 44.884955506642], [-0.62237701639753, 44.876827485879], [-0.6310521945089, 44.871652659997]]]}                                                                                                                                                                                                                                                                                                                                                                                                                                                                                                                                                         1\n",
       "{'type': 'Polygon', 'coordinates': [[[-0.54983320067586, 44.923453148571], [-0.53613240406737, 44.925826084059], [-0.52313836198192, 44.922121172268], [-0.50166937757915, 44.918075793512], [-0.50290024863893, 44.90565847403], [-0.51705118469582, 44.887896509196], [-0.53553519499407, 44.889100992109], [-0.53833909380154, 44.90000691681], [-0.54773427525747, 44.916667005584], [-0.54983320067586, 44.923453148571]]]}                                                                                                                                                                                                                                                                                                                                                                                                                                                                                                                                                                                                                                                                                                                                                  1\n",
       "{'type': 'Polygon', 'coordinates': [[[-0.85492775243036, 44.848001131079], [-0.83282973877133, 44.856171954575], [-0.81704958305173, 44.860476669748], [-0.76933570116005, 44.864601261518], [-0.7583869456716, 44.866879972221], [-0.74630839416279, 44.850313325316], [-0.75522328511085, 44.846652525404], [-0.75371532764088, 44.832553291055], [-0.76016253852626, 44.832246517755], [-0.79060258143599, 44.826428333756], [-0.80301067843742, 44.823033395558], [-0.83558172900132, 44.828628457016], [-0.83614878122441, 44.840413479907], [-0.85492775243036, 44.848001131079]]]}                                                                                                                                                                                                                                                                                                                                                                                                                                                                                                                                                                                         1\n",
       "{'type': 'Polygon', 'coordinates': [[[-0.54054530596258, 44.974063745077], [-0.56332658232217, 44.971741487731], [-0.59728330060096, 44.964716347284], [-0.62833417669934, 44.964239725526], [-0.62590500891801, 44.976511114806], [-0.64018955483022, 44.982761883665], [-0.62017656109826, 44.992362706521], [-0.60120138490934, 44.992012614736], [-0.58647950531425, 44.997339206964], [-0.56337449245272, 44.990696729808], [-0.55740048574071, 44.994405726604], [-0.54269322841186, 44.984414971635], [-0.54054530596258, 44.974063745077]]]}                                                                                                                                                                                                                                                                                                                                                                                                                                                                                                                                                                                                                              1\n",
       "{'type': 'Polygon', 'coordinates': [[[-0.51705118469582, 44.887896509196], [-0.50290024863893, 44.90565847403], [-0.50166937757915, 44.918075793512], [-0.48428730103682, 44.915880024257], [-0.49121997074325, 44.907482723234], [-0.49638310368443, 44.896382018354], [-0.5038156470334, 44.887813992298], [-0.51705118469582, 44.887896509196]]]}                                                                                                                                                                                                                                                                                                                                                                                                                                                                                                                                                                                                                                                                                                                                                                                                                              1\n",
       "{'type': 'Polygon', 'coordinates': [[[-0.8370864263503, 44.736769280934], [-0.88135651785153, 44.759996087126], [-0.90492371190621, 44.807835896704], [-0.88470272376607, 44.849738612895], [-0.88094870320109, 44.857499681952], [-0.87289103403207, 44.85142358606], [-0.85492775243036, 44.848001131079], [-0.83614878122441, 44.840413479907], [-0.83558172900132, 44.828628457016], [-0.80301067843742, 44.823033395558], [-0.79060258143599, 44.826428333756], [-0.76016253852626, 44.832246517755], [-0.75371532764088, 44.832553291055], [-0.73810509864425, 44.829325655288], [-0.72595659917788, 44.81353316761], [-0.72925729025875, 44.801550804568], [-0.7393538912752, 44.783051560326], [-0.73408850408192, 44.775538184749], [-0.75855903831499, 44.755294175699], [-0.79499392934737, 44.744048380457], [-0.8370864263503, 44.736769280934]]]}                                                                                                                                                                                                                                                                                                                   1\n",
       "{'type': 'Polygon', 'coordinates': [[[-0.51135565081871, 44.773495836647], [-0.5195039601422, 44.788981372807], [-0.52308597981929, 44.791129589106], [-0.5265683292027, 44.806143949916], [-0.51724201707363, 44.803431124101], [-0.49822610124733, 44.805379317539], [-0.47016702512035, 44.79116548818], [-0.47852060643042, 44.779343136384], [-0.51135565081871, 44.773495836647]]]}                                                                                                                                                                                                                                                                                                                                                                                                                                                                                                                                                                                                                                                                                                                                                                                         1\n",
       "{'type': 'Polygon', 'coordinates': [[[-0.53553519499407, 44.889100992109], [-0.51705118469582, 44.887896509196], [-0.5038156470334, 44.887813992298], [-0.4942362514691, 44.882416596621], [-0.49706874177373, 44.876854243083], [-0.50486526925144, 44.867887115402], [-0.52113554122309, 44.863795015055], [-0.53785048530098, 44.861264355466], [-0.53845657516714, 44.876243530896], [-0.53553519499407, 44.889100992109]]]}                                                                                                                                                                                                                                                                                                                                                                                                                                                                                                                                                                                                                                                                                                                                                  1\n",
       "{'type': 'Polygon', 'coordinates': [[[-0.54054530596258, 44.974063745077], [-0.54269322841186, 44.984414971635], [-0.51862890723788, 44.990319911863], [-0.51737883002339, 44.988191914912], [-0.51871499174106, 44.984332781136], [-0.51805773500875, 44.959093014689], [-0.52711443579181, 44.946122513797], [-0.53613240406737, 44.925826084059], [-0.54983320067586, 44.923453148571], [-0.549069891093, 44.938828819793], [-0.54005532607658, 44.961610251352], [-0.54054530596258, 44.974063745077]]]}                                                                                                                                                                                                                                                                                                                                                                                                                                                                                                                                                                                                                                                                      1\n",
       "{'type': 'Polygon', 'coordinates': [[[-0.46382648008822, 44.936419950657], [-0.47142608835156, 44.938846784596], [-0.47623111354257, 44.948948977213], [-0.49685515767629, 44.96771204725], [-0.50028716630717, 44.979604215917], [-0.50827715686813, 44.987553847178], [-0.49474629042496, 45.002976820611], [-0.49089567473405, 45.004461339454], [-0.48318798732604, 45.002578719721], [-0.47434311995683, 44.994234928845], [-0.47272362101388, 44.980226123565], [-0.46838087029862, 44.96903132287], [-0.45494590676761, 44.953421365594], [-0.45983942941659, 44.951932605347], [-0.46382648008822, 44.936419950657]]]}                                                                                                                                                                                                                                                                                                                                                                                                                                                                                                                                                    1\n",
       "Name: Geometry, dtype: int64"
      ]
     },
     "execution_count": 86,
     "metadata": {},
     "output_type": "execute_result"
    }
   ],
   "source": [
    "dvf_values_grouped['Geometry'].value_counts()"
   ]
  },
  {
   "cell_type": "code",
   "execution_count": 71,
   "metadata": {},
   "outputs": [
    {
     "data": {
      "text/html": [
       "<svg height=\"50\" width=\"500\"><line x1=\"0\" y1=\"0\" x2=\"0\" y2=\"20\" style=\"stroke:#ffffe5ff;stroke-width:3;\" /><line x1=\"1\" y1=\"0\" x2=\"1\" y2=\"20\" style=\"stroke:#ffffe5ff;stroke-width:3;\" /><line x1=\"2\" y1=\"0\" x2=\"2\" y2=\"20\" style=\"stroke:#ffffe4ff;stroke-width:3;\" /><line x1=\"3\" y1=\"0\" x2=\"3\" y2=\"20\" style=\"stroke:#ffffe3ff;stroke-width:3;\" /><line x1=\"4\" y1=\"0\" x2=\"4\" y2=\"20\" style=\"stroke:#ffffe3ff;stroke-width:3;\" /><line x1=\"5\" y1=\"0\" x2=\"5\" y2=\"20\" style=\"stroke:#ffffe2ff;stroke-width:3;\" /><line x1=\"6\" y1=\"0\" x2=\"6\" y2=\"20\" style=\"stroke:#ffffe1ff;stroke-width:3;\" /><line x1=\"7\" y1=\"0\" x2=\"7\" y2=\"20\" style=\"stroke:#ffffe0ff;stroke-width:3;\" /><line x1=\"8\" y1=\"0\" x2=\"8\" y2=\"20\" style=\"stroke:#feffe0ff;stroke-width:3;\" /><line x1=\"9\" y1=\"0\" x2=\"9\" y2=\"20\" style=\"stroke:#feffdfff;stroke-width:3;\" /><line x1=\"10\" y1=\"0\" x2=\"10\" y2=\"20\" style=\"stroke:#feffdeff;stroke-width:3;\" /><line x1=\"11\" y1=\"0\" x2=\"11\" y2=\"20\" style=\"stroke:#feffdeff;stroke-width:3;\" /><line x1=\"12\" y1=\"0\" x2=\"12\" y2=\"20\" style=\"stroke:#feffddff;stroke-width:3;\" /><line x1=\"13\" y1=\"0\" x2=\"13\" y2=\"20\" style=\"stroke:#feffdcff;stroke-width:3;\" /><line x1=\"14\" y1=\"0\" x2=\"14\" y2=\"20\" style=\"stroke:#feffdbff;stroke-width:3;\" /><line x1=\"15\" y1=\"0\" x2=\"15\" y2=\"20\" style=\"stroke:#feffdbff;stroke-width:3;\" /><line x1=\"16\" y1=\"0\" x2=\"16\" y2=\"20\" style=\"stroke:#fdffdaff;stroke-width:3;\" /><line x1=\"17\" y1=\"0\" x2=\"17\" y2=\"20\" style=\"stroke:#fdffd9ff;stroke-width:3;\" /><line x1=\"18\" y1=\"0\" x2=\"18\" y2=\"20\" style=\"stroke:#fdffd9ff;stroke-width:3;\" /><line x1=\"19\" y1=\"0\" x2=\"19\" y2=\"20\" style=\"stroke:#fdffd8ff;stroke-width:3;\" /><line x1=\"20\" y1=\"0\" x2=\"20\" y2=\"20\" style=\"stroke:#fdffd7ff;stroke-width:3;\" /><line x1=\"21\" y1=\"0\" x2=\"21\" y2=\"20\" style=\"stroke:#fdfed7ff;stroke-width:3;\" /><line x1=\"22\" y1=\"0\" x2=\"22\" y2=\"20\" style=\"stroke:#fdfed6ff;stroke-width:3;\" /><line x1=\"23\" y1=\"0\" x2=\"23\" y2=\"20\" style=\"stroke:#fdfed5ff;stroke-width:3;\" /><line x1=\"24\" y1=\"0\" x2=\"24\" y2=\"20\" style=\"stroke:#fcfed4ff;stroke-width:3;\" /><line x1=\"25\" y1=\"0\" x2=\"25\" y2=\"20\" style=\"stroke:#fcfed4ff;stroke-width:3;\" /><line x1=\"26\" y1=\"0\" x2=\"26\" y2=\"20\" style=\"stroke:#fcfed3ff;stroke-width:3;\" /><line x1=\"27\" y1=\"0\" x2=\"27\" y2=\"20\" style=\"stroke:#fcfed2ff;stroke-width:3;\" /><line x1=\"28\" y1=\"0\" x2=\"28\" y2=\"20\" style=\"stroke:#fcfed2ff;stroke-width:3;\" /><line x1=\"29\" y1=\"0\" x2=\"29\" y2=\"20\" style=\"stroke:#fcfed1ff;stroke-width:3;\" /><line x1=\"30\" y1=\"0\" x2=\"30\" y2=\"20\" style=\"stroke:#fcfed0ff;stroke-width:3;\" /><line x1=\"31\" y1=\"0\" x2=\"31\" y2=\"20\" style=\"stroke:#fcfecfff;stroke-width:3;\" /><line x1=\"32\" y1=\"0\" x2=\"32\" y2=\"20\" style=\"stroke:#fbfecfff;stroke-width:3;\" /><line x1=\"33\" y1=\"0\" x2=\"33\" y2=\"20\" style=\"stroke:#fbfeceff;stroke-width:3;\" /><line x1=\"34\" y1=\"0\" x2=\"34\" y2=\"20\" style=\"stroke:#fbfecdff;stroke-width:3;\" /><line x1=\"35\" y1=\"0\" x2=\"35\" y2=\"20\" style=\"stroke:#fbfecdff;stroke-width:3;\" /><line x1=\"36\" y1=\"0\" x2=\"36\" y2=\"20\" style=\"stroke:#fbfeccff;stroke-width:3;\" /><line x1=\"37\" y1=\"0\" x2=\"37\" y2=\"20\" style=\"stroke:#fbfecbff;stroke-width:3;\" /><line x1=\"38\" y1=\"0\" x2=\"38\" y2=\"20\" style=\"stroke:#fbfecaff;stroke-width:3;\" /><line x1=\"39\" y1=\"0\" x2=\"39\" y2=\"20\" style=\"stroke:#fafecaff;stroke-width:3;\" /><line x1=\"40\" y1=\"0\" x2=\"40\" y2=\"20\" style=\"stroke:#fafec9ff;stroke-width:3;\" /><line x1=\"41\" y1=\"0\" x2=\"41\" y2=\"20\" style=\"stroke:#fafec8ff;stroke-width:3;\" /><line x1=\"42\" y1=\"0\" x2=\"42\" y2=\"20\" style=\"stroke:#fafdc8ff;stroke-width:3;\" /><line x1=\"43\" y1=\"0\" x2=\"43\" y2=\"20\" style=\"stroke:#fafdc7ff;stroke-width:3;\" /><line x1=\"44\" y1=\"0\" x2=\"44\" y2=\"20\" style=\"stroke:#fafdc6ff;stroke-width:3;\" /><line x1=\"45\" y1=\"0\" x2=\"45\" y2=\"20\" style=\"stroke:#fafdc6ff;stroke-width:3;\" /><line x1=\"46\" y1=\"0\" x2=\"46\" y2=\"20\" style=\"stroke:#fafdc5ff;stroke-width:3;\" /><line x1=\"47\" y1=\"0\" x2=\"47\" y2=\"20\" style=\"stroke:#f9fdc4ff;stroke-width:3;\" /><line x1=\"48\" y1=\"0\" x2=\"48\" y2=\"20\" style=\"stroke:#f9fdc3ff;stroke-width:3;\" /><line x1=\"49\" y1=\"0\" x2=\"49\" y2=\"20\" style=\"stroke:#f9fdc3ff;stroke-width:3;\" /><line x1=\"50\" y1=\"0\" x2=\"50\" y2=\"20\" style=\"stroke:#f9fdc2ff;stroke-width:3;\" /><line x1=\"51\" y1=\"0\" x2=\"51\" y2=\"20\" style=\"stroke:#f9fdc1ff;stroke-width:3;\" /><line x1=\"52\" y1=\"0\" x2=\"52\" y2=\"20\" style=\"stroke:#f9fdc1ff;stroke-width:3;\" /><line x1=\"53\" y1=\"0\" x2=\"53\" y2=\"20\" style=\"stroke:#f9fdc0ff;stroke-width:3;\" /><line x1=\"54\" y1=\"0\" x2=\"54\" y2=\"20\" style=\"stroke:#f9fdbfff;stroke-width:3;\" /><line x1=\"55\" y1=\"0\" x2=\"55\" y2=\"20\" style=\"stroke:#f8fdbeff;stroke-width:3;\" /><line x1=\"56\" y1=\"0\" x2=\"56\" y2=\"20\" style=\"stroke:#f8fdbeff;stroke-width:3;\" /><line x1=\"57\" y1=\"0\" x2=\"57\" y2=\"20\" style=\"stroke:#f8fdbdff;stroke-width:3;\" /><line x1=\"58\" y1=\"0\" x2=\"58\" y2=\"20\" style=\"stroke:#f8fdbcff;stroke-width:3;\" /><line x1=\"59\" y1=\"0\" x2=\"59\" y2=\"20\" style=\"stroke:#f8fdbcff;stroke-width:3;\" /><line x1=\"60\" y1=\"0\" x2=\"60\" y2=\"20\" style=\"stroke:#f8fdbbff;stroke-width:3;\" /><line x1=\"61\" y1=\"0\" x2=\"61\" y2=\"20\" style=\"stroke:#f8fdbaff;stroke-width:3;\" /><line x1=\"62\" y1=\"0\" x2=\"62\" y2=\"20\" style=\"stroke:#f8fdb9ff;stroke-width:3;\" /><line x1=\"63\" y1=\"0\" x2=\"63\" y2=\"20\" style=\"stroke:#f7fcb9ff;stroke-width:3;\" /><line x1=\"64\" y1=\"0\" x2=\"64\" y2=\"20\" style=\"stroke:#f7fcb9ff;stroke-width:3;\" /><line x1=\"65\" y1=\"0\" x2=\"65\" y2=\"20\" style=\"stroke:#f6fcb8ff;stroke-width:3;\" /><line x1=\"66\" y1=\"0\" x2=\"66\" y2=\"20\" style=\"stroke:#f6fcb8ff;stroke-width:3;\" /><line x1=\"67\" y1=\"0\" x2=\"67\" y2=\"20\" style=\"stroke:#f5fcb8ff;stroke-width:3;\" /><line x1=\"68\" y1=\"0\" x2=\"68\" y2=\"20\" style=\"stroke:#f5fbb7ff;stroke-width:3;\" /><line x1=\"69\" y1=\"0\" x2=\"69\" y2=\"20\" style=\"stroke:#f4fbb7ff;stroke-width:3;\" /><line x1=\"70\" y1=\"0\" x2=\"70\" y2=\"20\" style=\"stroke:#f4fbb7ff;stroke-width:3;\" /><line x1=\"71\" y1=\"0\" x2=\"71\" y2=\"20\" style=\"stroke:#f3fbb6ff;stroke-width:3;\" /><line x1=\"72\" y1=\"0\" x2=\"72\" y2=\"20\" style=\"stroke:#f3fbb6ff;stroke-width:3;\" /><line x1=\"73\" y1=\"0\" x2=\"73\" y2=\"20\" style=\"stroke:#f2fab5ff;stroke-width:3;\" /><line x1=\"74\" y1=\"0\" x2=\"74\" y2=\"20\" style=\"stroke:#f2fab5ff;stroke-width:3;\" /><line x1=\"75\" y1=\"0\" x2=\"75\" y2=\"20\" style=\"stroke:#f1fab5ff;stroke-width:3;\" /><line x1=\"76\" y1=\"0\" x2=\"76\" y2=\"20\" style=\"stroke:#f1fab4ff;stroke-width:3;\" /><line x1=\"77\" y1=\"0\" x2=\"77\" y2=\"20\" style=\"stroke:#f0fab4ff;stroke-width:3;\" /><line x1=\"78\" y1=\"0\" x2=\"78\" y2=\"20\" style=\"stroke:#f0f9b4ff;stroke-width:3;\" /><line x1=\"79\" y1=\"0\" x2=\"79\" y2=\"20\" style=\"stroke:#eff9b3ff;stroke-width:3;\" /><line x1=\"80\" y1=\"0\" x2=\"80\" y2=\"20\" style=\"stroke:#eff9b3ff;stroke-width:3;\" /><line x1=\"81\" y1=\"0\" x2=\"81\" y2=\"20\" style=\"stroke:#eef9b3ff;stroke-width:3;\" /><line x1=\"82\" y1=\"0\" x2=\"82\" y2=\"20\" style=\"stroke:#eef9b2ff;stroke-width:3;\" /><line x1=\"83\" y1=\"0\" x2=\"83\" y2=\"20\" style=\"stroke:#eef9b2ff;stroke-width:3;\" /><line x1=\"84\" y1=\"0\" x2=\"84\" y2=\"20\" style=\"stroke:#edf8b2ff;stroke-width:3;\" /><line x1=\"85\" y1=\"0\" x2=\"85\" y2=\"20\" style=\"stroke:#edf8b1ff;stroke-width:3;\" /><line x1=\"86\" y1=\"0\" x2=\"86\" y2=\"20\" style=\"stroke:#ecf8b1ff;stroke-width:3;\" /><line x1=\"87\" y1=\"0\" x2=\"87\" y2=\"20\" style=\"stroke:#ecf8b1ff;stroke-width:3;\" /><line x1=\"88\" y1=\"0\" x2=\"88\" y2=\"20\" style=\"stroke:#ebf8b0ff;stroke-width:3;\" /><line x1=\"89\" y1=\"0\" x2=\"89\" y2=\"20\" style=\"stroke:#ebf7b0ff;stroke-width:3;\" /><line x1=\"90\" y1=\"0\" x2=\"90\" y2=\"20\" style=\"stroke:#eaf7afff;stroke-width:3;\" /><line x1=\"91\" y1=\"0\" x2=\"91\" y2=\"20\" style=\"stroke:#eaf7afff;stroke-width:3;\" /><line x1=\"92\" y1=\"0\" x2=\"92\" y2=\"20\" style=\"stroke:#e9f7afff;stroke-width:3;\" /><line x1=\"93\" y1=\"0\" x2=\"93\" y2=\"20\" style=\"stroke:#e9f7aeff;stroke-width:3;\" /><line x1=\"94\" y1=\"0\" x2=\"94\" y2=\"20\" style=\"stroke:#e8f6aeff;stroke-width:3;\" /><line x1=\"95\" y1=\"0\" x2=\"95\" y2=\"20\" style=\"stroke:#e8f6aeff;stroke-width:3;\" /><line x1=\"96\" y1=\"0\" x2=\"96\" y2=\"20\" style=\"stroke:#e7f6adff;stroke-width:3;\" /><line x1=\"97\" y1=\"0\" x2=\"97\" y2=\"20\" style=\"stroke:#e7f6adff;stroke-width:3;\" /><line x1=\"98\" y1=\"0\" x2=\"98\" y2=\"20\" style=\"stroke:#e6f6adff;stroke-width:3;\" /><line x1=\"99\" y1=\"0\" x2=\"99\" y2=\"20\" style=\"stroke:#e6f5acff;stroke-width:3;\" /><line x1=\"100\" y1=\"0\" x2=\"100\" y2=\"20\" style=\"stroke:#e5f5acff;stroke-width:3;\" /><line x1=\"101\" y1=\"0\" x2=\"101\" y2=\"20\" style=\"stroke:#e5f5acff;stroke-width:3;\" /><line x1=\"102\" y1=\"0\" x2=\"102\" y2=\"20\" style=\"stroke:#e4f5abff;stroke-width:3;\" /><line x1=\"103\" y1=\"0\" x2=\"103\" y2=\"20\" style=\"stroke:#e4f5abff;stroke-width:3;\" /><line x1=\"104\" y1=\"0\" x2=\"104\" y2=\"20\" style=\"stroke:#e3f4aaff;stroke-width:3;\" /><line x1=\"105\" y1=\"0\" x2=\"105\" y2=\"20\" style=\"stroke:#e3f4aaff;stroke-width:3;\" /><line x1=\"106\" y1=\"0\" x2=\"106\" y2=\"20\" style=\"stroke:#e2f4aaff;stroke-width:3;\" /><line x1=\"107\" y1=\"0\" x2=\"107\" y2=\"20\" style=\"stroke:#e2f4a9ff;stroke-width:3;\" /><line x1=\"108\" y1=\"0\" x2=\"108\" y2=\"20\" style=\"stroke:#e1f4a9ff;stroke-width:3;\" /><line x1=\"109\" y1=\"0\" x2=\"109\" y2=\"20\" style=\"stroke:#e1f3a9ff;stroke-width:3;\" /><line x1=\"110\" y1=\"0\" x2=\"110\" y2=\"20\" style=\"stroke:#e0f3a8ff;stroke-width:3;\" /><line x1=\"111\" y1=\"0\" x2=\"111\" y2=\"20\" style=\"stroke:#e0f3a8ff;stroke-width:3;\" /><line x1=\"112\" y1=\"0\" x2=\"112\" y2=\"20\" style=\"stroke:#e0f3a8ff;stroke-width:3;\" /><line x1=\"113\" y1=\"0\" x2=\"113\" y2=\"20\" style=\"stroke:#dff3a7ff;stroke-width:3;\" /><line x1=\"114\" y1=\"0\" x2=\"114\" y2=\"20\" style=\"stroke:#dff3a7ff;stroke-width:3;\" /><line x1=\"115\" y1=\"0\" x2=\"115\" y2=\"20\" style=\"stroke:#def2a7ff;stroke-width:3;\" /><line x1=\"116\" y1=\"0\" x2=\"116\" y2=\"20\" style=\"stroke:#def2a6ff;stroke-width:3;\" /><line x1=\"117\" y1=\"0\" x2=\"117\" y2=\"20\" style=\"stroke:#ddf2a6ff;stroke-width:3;\" /><line x1=\"118\" y1=\"0\" x2=\"118\" y2=\"20\" style=\"stroke:#ddf2a6ff;stroke-width:3;\" /><line x1=\"119\" y1=\"0\" x2=\"119\" y2=\"20\" style=\"stroke:#dcf2a5ff;stroke-width:3;\" /><line x1=\"120\" y1=\"0\" x2=\"120\" y2=\"20\" style=\"stroke:#dcf1a5ff;stroke-width:3;\" /><line x1=\"121\" y1=\"0\" x2=\"121\" y2=\"20\" style=\"stroke:#dbf1a4ff;stroke-width:3;\" /><line x1=\"122\" y1=\"0\" x2=\"122\" y2=\"20\" style=\"stroke:#dbf1a4ff;stroke-width:3;\" /><line x1=\"123\" y1=\"0\" x2=\"123\" y2=\"20\" style=\"stroke:#daf1a4ff;stroke-width:3;\" /><line x1=\"124\" y1=\"0\" x2=\"124\" y2=\"20\" style=\"stroke:#daf1a3ff;stroke-width:3;\" /><line x1=\"125\" y1=\"0\" x2=\"125\" y2=\"20\" style=\"stroke:#d9f0a3ff;stroke-width:3;\" /><line x1=\"126\" y1=\"0\" x2=\"126\" y2=\"20\" style=\"stroke:#d8f0a3ff;stroke-width:3;\" /><line x1=\"127\" y1=\"0\" x2=\"127\" y2=\"20\" style=\"stroke:#d8f0a2ff;stroke-width:3;\" /><line x1=\"128\" y1=\"0\" x2=\"128\" y2=\"20\" style=\"stroke:#d7efa2ff;stroke-width:3;\" /><line x1=\"129\" y1=\"0\" x2=\"129\" y2=\"20\" style=\"stroke:#d6efa2ff;stroke-width:3;\" /><line x1=\"130\" y1=\"0\" x2=\"130\" y2=\"20\" style=\"stroke:#d6efa1ff;stroke-width:3;\" /><line x1=\"131\" y1=\"0\" x2=\"131\" y2=\"20\" style=\"stroke:#d5efa1ff;stroke-width:3;\" /><line x1=\"132\" y1=\"0\" x2=\"132\" y2=\"20\" style=\"stroke:#d4eea1ff;stroke-width:3;\" /><line x1=\"133\" y1=\"0\" x2=\"133\" y2=\"20\" style=\"stroke:#d4eea0ff;stroke-width:3;\" /><line x1=\"134\" y1=\"0\" x2=\"134\" y2=\"20\" style=\"stroke:#d3eea0ff;stroke-width:3;\" /><line x1=\"135\" y1=\"0\" x2=\"135\" y2=\"20\" style=\"stroke:#d2eda0ff;stroke-width:3;\" /><line x1=\"136\" y1=\"0\" x2=\"136\" y2=\"20\" style=\"stroke:#d1ed9fff;stroke-width:3;\" /><line x1=\"137\" y1=\"0\" x2=\"137\" y2=\"20\" style=\"stroke:#d1ed9fff;stroke-width:3;\" /><line x1=\"138\" y1=\"0\" x2=\"138\" y2=\"20\" style=\"stroke:#d0ec9fff;stroke-width:3;\" /><line x1=\"139\" y1=\"0\" x2=\"139\" y2=\"20\" style=\"stroke:#cfec9eff;stroke-width:3;\" /><line x1=\"140\" y1=\"0\" x2=\"140\" y2=\"20\" style=\"stroke:#cfec9eff;stroke-width:3;\" /><line x1=\"141\" y1=\"0\" x2=\"141\" y2=\"20\" style=\"stroke:#ceeb9eff;stroke-width:3;\" /><line x1=\"142\" y1=\"0\" x2=\"142\" y2=\"20\" style=\"stroke:#cdeb9dff;stroke-width:3;\" /><line x1=\"143\" y1=\"0\" x2=\"143\" y2=\"20\" style=\"stroke:#cceb9dff;stroke-width:3;\" /><line x1=\"144\" y1=\"0\" x2=\"144\" y2=\"20\" style=\"stroke:#cceb9dff;stroke-width:3;\" /><line x1=\"145\" y1=\"0\" x2=\"145\" y2=\"20\" style=\"stroke:#cbea9cff;stroke-width:3;\" /><line x1=\"146\" y1=\"0\" x2=\"146\" y2=\"20\" style=\"stroke:#caea9cff;stroke-width:3;\" /><line x1=\"147\" y1=\"0\" x2=\"147\" y2=\"20\" style=\"stroke:#caea9cff;stroke-width:3;\" /><line x1=\"148\" y1=\"0\" x2=\"148\" y2=\"20\" style=\"stroke:#c9e99bff;stroke-width:3;\" /><line x1=\"149\" y1=\"0\" x2=\"149\" y2=\"20\" style=\"stroke:#c8e99bff;stroke-width:3;\" /><line x1=\"150\" y1=\"0\" x2=\"150\" y2=\"20\" style=\"stroke:#c7e99bff;stroke-width:3;\" /><line x1=\"151\" y1=\"0\" x2=\"151\" y2=\"20\" style=\"stroke:#c7e89aff;stroke-width:3;\" /><line x1=\"152\" y1=\"0\" x2=\"152\" y2=\"20\" style=\"stroke:#c6e89aff;stroke-width:3;\" /><line x1=\"153\" y1=\"0\" x2=\"153\" y2=\"20\" style=\"stroke:#c5e89aff;stroke-width:3;\" /><line x1=\"154\" y1=\"0\" x2=\"154\" y2=\"20\" style=\"stroke:#c5e799ff;stroke-width:3;\" /><line x1=\"155\" y1=\"0\" x2=\"155\" y2=\"20\" style=\"stroke:#c4e799ff;stroke-width:3;\" /><line x1=\"156\" y1=\"0\" x2=\"156\" y2=\"20\" style=\"stroke:#c3e799ff;stroke-width:3;\" /><line x1=\"157\" y1=\"0\" x2=\"157\" y2=\"20\" style=\"stroke:#c3e798ff;stroke-width:3;\" /><line x1=\"158\" y1=\"0\" x2=\"158\" y2=\"20\" style=\"stroke:#c2e698ff;stroke-width:3;\" /><line x1=\"159\" y1=\"0\" x2=\"159\" y2=\"20\" style=\"stroke:#c1e698ff;stroke-width:3;\" /><line x1=\"160\" y1=\"0\" x2=\"160\" y2=\"20\" style=\"stroke:#c0e697ff;stroke-width:3;\" /><line x1=\"161\" y1=\"0\" x2=\"161\" y2=\"20\" style=\"stroke:#c0e597ff;stroke-width:3;\" /><line x1=\"162\" y1=\"0\" x2=\"162\" y2=\"20\" style=\"stroke:#bfe597ff;stroke-width:3;\" /><line x1=\"163\" y1=\"0\" x2=\"163\" y2=\"20\" style=\"stroke:#bee596ff;stroke-width:3;\" /><line x1=\"164\" y1=\"0\" x2=\"164\" y2=\"20\" style=\"stroke:#bee496ff;stroke-width:3;\" /><line x1=\"165\" y1=\"0\" x2=\"165\" y2=\"20\" style=\"stroke:#bde496ff;stroke-width:3;\" /><line x1=\"166\" y1=\"0\" x2=\"166\" y2=\"20\" style=\"stroke:#bce495ff;stroke-width:3;\" /><line x1=\"167\" y1=\"0\" x2=\"167\" y2=\"20\" style=\"stroke:#bbe495ff;stroke-width:3;\" /><line x1=\"168\" y1=\"0\" x2=\"168\" y2=\"20\" style=\"stroke:#bbe395ff;stroke-width:3;\" /><line x1=\"169\" y1=\"0\" x2=\"169\" y2=\"20\" style=\"stroke:#bae394ff;stroke-width:3;\" /><line x1=\"170\" y1=\"0\" x2=\"170\" y2=\"20\" style=\"stroke:#b9e394ff;stroke-width:3;\" /><line x1=\"171\" y1=\"0\" x2=\"171\" y2=\"20\" style=\"stroke:#b9e294ff;stroke-width:3;\" /><line x1=\"172\" y1=\"0\" x2=\"172\" y2=\"20\" style=\"stroke:#b8e293ff;stroke-width:3;\" /><line x1=\"173\" y1=\"0\" x2=\"173\" y2=\"20\" style=\"stroke:#b7e293ff;stroke-width:3;\" /><line x1=\"174\" y1=\"0\" x2=\"174\" y2=\"20\" style=\"stroke:#b6e192ff;stroke-width:3;\" /><line x1=\"175\" y1=\"0\" x2=\"175\" y2=\"20\" style=\"stroke:#b6e192ff;stroke-width:3;\" /><line x1=\"176\" y1=\"0\" x2=\"176\" y2=\"20\" style=\"stroke:#b5e192ff;stroke-width:3;\" /><line x1=\"177\" y1=\"0\" x2=\"177\" y2=\"20\" style=\"stroke:#b4e091ff;stroke-width:3;\" /><line x1=\"178\" y1=\"0\" x2=\"178\" y2=\"20\" style=\"stroke:#b4e091ff;stroke-width:3;\" /><line x1=\"179\" y1=\"0\" x2=\"179\" y2=\"20\" style=\"stroke:#b3e091ff;stroke-width:3;\" /><line x1=\"180\" y1=\"0\" x2=\"180\" y2=\"20\" style=\"stroke:#b2e090ff;stroke-width:3;\" /><line x1=\"181\" y1=\"0\" x2=\"181\" y2=\"20\" style=\"stroke:#b2df90ff;stroke-width:3;\" /><line x1=\"182\" y1=\"0\" x2=\"182\" y2=\"20\" style=\"stroke:#b1df90ff;stroke-width:3;\" /><line x1=\"183\" y1=\"0\" x2=\"183\" y2=\"20\" style=\"stroke:#b0df8fff;stroke-width:3;\" /><line x1=\"184\" y1=\"0\" x2=\"184\" y2=\"20\" style=\"stroke:#afde8fff;stroke-width:3;\" /><line x1=\"185\" y1=\"0\" x2=\"185\" y2=\"20\" style=\"stroke:#afde8fff;stroke-width:3;\" /><line x1=\"186\" y1=\"0\" x2=\"186\" y2=\"20\" style=\"stroke:#aede8eff;stroke-width:3;\" /><line x1=\"187\" y1=\"0\" x2=\"187\" y2=\"20\" style=\"stroke:#addd8eff;stroke-width:3;\" /><line x1=\"188\" y1=\"0\" x2=\"188\" y2=\"20\" style=\"stroke:#acdd8eff;stroke-width:3;\" /><line x1=\"189\" y1=\"0\" x2=\"189\" y2=\"20\" style=\"stroke:#acdd8dff;stroke-width:3;\" /><line x1=\"190\" y1=\"0\" x2=\"190\" y2=\"20\" style=\"stroke:#abdc8dff;stroke-width:3;\" /><line x1=\"191\" y1=\"0\" x2=\"191\" y2=\"20\" style=\"stroke:#aadc8dff;stroke-width:3;\" /><line x1=\"192\" y1=\"0\" x2=\"192\" y2=\"20\" style=\"stroke:#a9dc8cff;stroke-width:3;\" /><line x1=\"193\" y1=\"0\" x2=\"193\" y2=\"20\" style=\"stroke:#a8db8cff;stroke-width:3;\" /><line x1=\"194\" y1=\"0\" x2=\"194\" y2=\"20\" style=\"stroke:#a7db8cff;stroke-width:3;\" /><line x1=\"195\" y1=\"0\" x2=\"195\" y2=\"20\" style=\"stroke:#a6da8bff;stroke-width:3;\" /><line x1=\"196\" y1=\"0\" x2=\"196\" y2=\"20\" style=\"stroke:#a6da8bff;stroke-width:3;\" /><line x1=\"197\" y1=\"0\" x2=\"197\" y2=\"20\" style=\"stroke:#a5da8bff;stroke-width:3;\" /><line x1=\"198\" y1=\"0\" x2=\"198\" y2=\"20\" style=\"stroke:#a4d98aff;stroke-width:3;\" /><line x1=\"199\" y1=\"0\" x2=\"199\" y2=\"20\" style=\"stroke:#a3d98aff;stroke-width:3;\" /><line x1=\"200\" y1=\"0\" x2=\"200\" y2=\"20\" style=\"stroke:#a2d98aff;stroke-width:3;\" /><line x1=\"201\" y1=\"0\" x2=\"201\" y2=\"20\" style=\"stroke:#a1d889ff;stroke-width:3;\" /><line x1=\"202\" y1=\"0\" x2=\"202\" y2=\"20\" style=\"stroke:#a0d889ff;stroke-width:3;\" /><line x1=\"203\" y1=\"0\" x2=\"203\" y2=\"20\" style=\"stroke:#a0d789ff;stroke-width:3;\" /><line x1=\"204\" y1=\"0\" x2=\"204\" y2=\"20\" style=\"stroke:#9fd788ff;stroke-width:3;\" /><line x1=\"205\" y1=\"0\" x2=\"205\" y2=\"20\" style=\"stroke:#9ed788ff;stroke-width:3;\" /><line x1=\"206\" y1=\"0\" x2=\"206\" y2=\"20\" style=\"stroke:#9dd688ff;stroke-width:3;\" /><line x1=\"207\" y1=\"0\" x2=\"207\" y2=\"20\" style=\"stroke:#9cd687ff;stroke-width:3;\" /><line x1=\"208\" y1=\"0\" x2=\"208\" y2=\"20\" style=\"stroke:#9bd687ff;stroke-width:3;\" /><line x1=\"209\" y1=\"0\" x2=\"209\" y2=\"20\" style=\"stroke:#9bd587ff;stroke-width:3;\" /><line x1=\"210\" y1=\"0\" x2=\"210\" y2=\"20\" style=\"stroke:#9ad586ff;stroke-width:3;\" /><line x1=\"211\" y1=\"0\" x2=\"211\" y2=\"20\" style=\"stroke:#99d586ff;stroke-width:3;\" /><line x1=\"212\" y1=\"0\" x2=\"212\" y2=\"20\" style=\"stroke:#98d486ff;stroke-width:3;\" /><line x1=\"213\" y1=\"0\" x2=\"213\" y2=\"20\" style=\"stroke:#97d485ff;stroke-width:3;\" /><line x1=\"214\" y1=\"0\" x2=\"214\" y2=\"20\" style=\"stroke:#96d385ff;stroke-width:3;\" /><line x1=\"215\" y1=\"0\" x2=\"215\" y2=\"20\" style=\"stroke:#95d385ff;stroke-width:3;\" /><line x1=\"216\" y1=\"0\" x2=\"216\" y2=\"20\" style=\"stroke:#95d384ff;stroke-width:3;\" /><line x1=\"217\" y1=\"0\" x2=\"217\" y2=\"20\" style=\"stroke:#94d284ff;stroke-width:3;\" /><line x1=\"218\" y1=\"0\" x2=\"218\" y2=\"20\" style=\"stroke:#93d284ff;stroke-width:3;\" /><line x1=\"219\" y1=\"0\" x2=\"219\" y2=\"20\" style=\"stroke:#92d283ff;stroke-width:3;\" /><line x1=\"220\" y1=\"0\" x2=\"220\" y2=\"20\" style=\"stroke:#91d183ff;stroke-width:3;\" /><line x1=\"221\" y1=\"0\" x2=\"221\" y2=\"20\" style=\"stroke:#90d183ff;stroke-width:3;\" /><line x1=\"222\" y1=\"0\" x2=\"222\" y2=\"20\" style=\"stroke:#8fd082ff;stroke-width:3;\" /><line x1=\"223\" y1=\"0\" x2=\"223\" y2=\"20\" style=\"stroke:#8fd082ff;stroke-width:3;\" /><line x1=\"224\" y1=\"0\" x2=\"224\" y2=\"20\" style=\"stroke:#8ed082ff;stroke-width:3;\" /><line x1=\"225\" y1=\"0\" x2=\"225\" y2=\"20\" style=\"stroke:#8dcf81ff;stroke-width:3;\" /><line x1=\"226\" y1=\"0\" x2=\"226\" y2=\"20\" style=\"stroke:#8ccf81ff;stroke-width:3;\" /><line x1=\"227\" y1=\"0\" x2=\"227\" y2=\"20\" style=\"stroke:#8bcf81ff;stroke-width:3;\" /><line x1=\"228\" y1=\"0\" x2=\"228\" y2=\"20\" style=\"stroke:#8ace80ff;stroke-width:3;\" /><line x1=\"229\" y1=\"0\" x2=\"229\" y2=\"20\" style=\"stroke:#89ce80ff;stroke-width:3;\" /><line x1=\"230\" y1=\"0\" x2=\"230\" y2=\"20\" style=\"stroke:#89cd80ff;stroke-width:3;\" /><line x1=\"231\" y1=\"0\" x2=\"231\" y2=\"20\" style=\"stroke:#88cd7fff;stroke-width:3;\" /><line x1=\"232\" y1=\"0\" x2=\"232\" y2=\"20\" style=\"stroke:#87cd7fff;stroke-width:3;\" /><line x1=\"233\" y1=\"0\" x2=\"233\" y2=\"20\" style=\"stroke:#86cc7fff;stroke-width:3;\" /><line x1=\"234\" y1=\"0\" x2=\"234\" y2=\"20\" style=\"stroke:#85cc7eff;stroke-width:3;\" /><line x1=\"235\" y1=\"0\" x2=\"235\" y2=\"20\" style=\"stroke:#84cc7eff;stroke-width:3;\" /><line x1=\"236\" y1=\"0\" x2=\"236\" y2=\"20\" style=\"stroke:#83cb7eff;stroke-width:3;\" /><line x1=\"237\" y1=\"0\" x2=\"237\" y2=\"20\" style=\"stroke:#83cb7dff;stroke-width:3;\" /><line x1=\"238\" y1=\"0\" x2=\"238\" y2=\"20\" style=\"stroke:#82cb7dff;stroke-width:3;\" /><line x1=\"239\" y1=\"0\" x2=\"239\" y2=\"20\" style=\"stroke:#81ca7dff;stroke-width:3;\" /><line x1=\"240\" y1=\"0\" x2=\"240\" y2=\"20\" style=\"stroke:#80ca7cff;stroke-width:3;\" /><line x1=\"241\" y1=\"0\" x2=\"241\" y2=\"20\" style=\"stroke:#7fc97cff;stroke-width:3;\" /><line x1=\"242\" y1=\"0\" x2=\"242\" y2=\"20\" style=\"stroke:#7ec97cff;stroke-width:3;\" /><line x1=\"243\" y1=\"0\" x2=\"243\" y2=\"20\" style=\"stroke:#7ec97bff;stroke-width:3;\" /><line x1=\"244\" y1=\"0\" x2=\"244\" y2=\"20\" style=\"stroke:#7dc87bff;stroke-width:3;\" /><line x1=\"245\" y1=\"0\" x2=\"245\" y2=\"20\" style=\"stroke:#7cc87aff;stroke-width:3;\" /><line x1=\"246\" y1=\"0\" x2=\"246\" y2=\"20\" style=\"stroke:#7bc87aff;stroke-width:3;\" /><line x1=\"247\" y1=\"0\" x2=\"247\" y2=\"20\" style=\"stroke:#7ac77aff;stroke-width:3;\" /><line x1=\"248\" y1=\"0\" x2=\"248\" y2=\"20\" style=\"stroke:#79c779ff;stroke-width:3;\" /><line x1=\"249\" y1=\"0\" x2=\"249\" y2=\"20\" style=\"stroke:#78c679ff;stroke-width:3;\" /><line x1=\"250\" y1=\"0\" x2=\"250\" y2=\"20\" style=\"stroke:#78c679ff;stroke-width:3;\" /><line x1=\"251\" y1=\"0\" x2=\"251\" y2=\"20\" style=\"stroke:#77c678ff;stroke-width:3;\" /><line x1=\"252\" y1=\"0\" x2=\"252\" y2=\"20\" style=\"stroke:#76c578ff;stroke-width:3;\" /><line x1=\"253\" y1=\"0\" x2=\"253\" y2=\"20\" style=\"stroke:#75c577ff;stroke-width:3;\" /><line x1=\"254\" y1=\"0\" x2=\"254\" y2=\"20\" style=\"stroke:#74c477ff;stroke-width:3;\" /><line x1=\"255\" y1=\"0\" x2=\"255\" y2=\"20\" style=\"stroke:#73c476ff;stroke-width:3;\" /><line x1=\"256\" y1=\"0\" x2=\"256\" y2=\"20\" style=\"stroke:#72c376ff;stroke-width:3;\" /><line x1=\"257\" y1=\"0\" x2=\"257\" y2=\"20\" style=\"stroke:#71c376ff;stroke-width:3;\" /><line x1=\"258\" y1=\"0\" x2=\"258\" y2=\"20\" style=\"stroke:#70c375ff;stroke-width:3;\" /><line x1=\"259\" y1=\"0\" x2=\"259\" y2=\"20\" style=\"stroke:#70c275ff;stroke-width:3;\" /><line x1=\"260\" y1=\"0\" x2=\"260\" y2=\"20\" style=\"stroke:#6fc274ff;stroke-width:3;\" /><line x1=\"261\" y1=\"0\" x2=\"261\" y2=\"20\" style=\"stroke:#6ec174ff;stroke-width:3;\" /><line x1=\"262\" y1=\"0\" x2=\"262\" y2=\"20\" style=\"stroke:#6dc173ff;stroke-width:3;\" /><line x1=\"263\" y1=\"0\" x2=\"263\" y2=\"20\" style=\"stroke:#6cc073ff;stroke-width:3;\" /><line x1=\"264\" y1=\"0\" x2=\"264\" y2=\"20\" style=\"stroke:#6bc072ff;stroke-width:3;\" /><line x1=\"265\" y1=\"0\" x2=\"265\" y2=\"20\" style=\"stroke:#6ac072ff;stroke-width:3;\" /><line x1=\"266\" y1=\"0\" x2=\"266\" y2=\"20\" style=\"stroke:#69bf72ff;stroke-width:3;\" /><line x1=\"267\" y1=\"0\" x2=\"267\" y2=\"20\" style=\"stroke:#68bf71ff;stroke-width:3;\" /><line x1=\"268\" y1=\"0\" x2=\"268\" y2=\"20\" style=\"stroke:#68be71ff;stroke-width:3;\" /><line x1=\"269\" y1=\"0\" x2=\"269\" y2=\"20\" style=\"stroke:#67be70ff;stroke-width:3;\" /><line x1=\"270\" y1=\"0\" x2=\"270\" y2=\"20\" style=\"stroke:#66bd70ff;stroke-width:3;\" /><line x1=\"271\" y1=\"0\" x2=\"271\" y2=\"20\" style=\"stroke:#65bd6fff;stroke-width:3;\" /><line x1=\"272\" y1=\"0\" x2=\"272\" y2=\"20\" style=\"stroke:#64bc6fff;stroke-width:3;\" /><line x1=\"273\" y1=\"0\" x2=\"273\" y2=\"20\" style=\"stroke:#63bc6eff;stroke-width:3;\" /><line x1=\"274\" y1=\"0\" x2=\"274\" y2=\"20\" style=\"stroke:#62bc6eff;stroke-width:3;\" /><line x1=\"275\" y1=\"0\" x2=\"275\" y2=\"20\" style=\"stroke:#61bb6dff;stroke-width:3;\" /><line x1=\"276\" y1=\"0\" x2=\"276\" y2=\"20\" style=\"stroke:#61bb6dff;stroke-width:3;\" /><line x1=\"277\" y1=\"0\" x2=\"277\" y2=\"20\" style=\"stroke:#60ba6dff;stroke-width:3;\" /><line x1=\"278\" y1=\"0\" x2=\"278\" y2=\"20\" style=\"stroke:#5fba6cff;stroke-width:3;\" /><line x1=\"279\" y1=\"0\" x2=\"279\" y2=\"20\" style=\"stroke:#5eb96cff;stroke-width:3;\" /><line x1=\"280\" y1=\"0\" x2=\"280\" y2=\"20\" style=\"stroke:#5db96bff;stroke-width:3;\" /><line x1=\"281\" y1=\"0\" x2=\"281\" y2=\"20\" style=\"stroke:#5cb96bff;stroke-width:3;\" /><line x1=\"282\" y1=\"0\" x2=\"282\" y2=\"20\" style=\"stroke:#5bb86aff;stroke-width:3;\" /><line x1=\"283\" y1=\"0\" x2=\"283\" y2=\"20\" style=\"stroke:#5ab86aff;stroke-width:3;\" /><line x1=\"284\" y1=\"0\" x2=\"284\" y2=\"20\" style=\"stroke:#59b769ff;stroke-width:3;\" /><line x1=\"285\" y1=\"0\" x2=\"285\" y2=\"20\" style=\"stroke:#59b769ff;stroke-width:3;\" /><line x1=\"286\" y1=\"0\" x2=\"286\" y2=\"20\" style=\"stroke:#58b669ff;stroke-width:3;\" /><line x1=\"287\" y1=\"0\" x2=\"287\" y2=\"20\" style=\"stroke:#57b668ff;stroke-width:3;\" /><line x1=\"288\" y1=\"0\" x2=\"288\" y2=\"20\" style=\"stroke:#56b668ff;stroke-width:3;\" /><line x1=\"289\" y1=\"0\" x2=\"289\" y2=\"20\" style=\"stroke:#55b567ff;stroke-width:3;\" /><line x1=\"290\" y1=\"0\" x2=\"290\" y2=\"20\" style=\"stroke:#54b567ff;stroke-width:3;\" /><line x1=\"291\" y1=\"0\" x2=\"291\" y2=\"20\" style=\"stroke:#53b466ff;stroke-width:3;\" /><line x1=\"292\" y1=\"0\" x2=\"292\" y2=\"20\" style=\"stroke:#52b466ff;stroke-width:3;\" /><line x1=\"293\" y1=\"0\" x2=\"293\" y2=\"20\" style=\"stroke:#51b365ff;stroke-width:3;\" /><line x1=\"294\" y1=\"0\" x2=\"294\" y2=\"20\" style=\"stroke:#51b365ff;stroke-width:3;\" /><line x1=\"295\" y1=\"0\" x2=\"295\" y2=\"20\" style=\"stroke:#50b364ff;stroke-width:3;\" /><line x1=\"296\" y1=\"0\" x2=\"296\" y2=\"20\" style=\"stroke:#4fb264ff;stroke-width:3;\" /><line x1=\"297\" y1=\"0\" x2=\"297\" y2=\"20\" style=\"stroke:#4eb264ff;stroke-width:3;\" /><line x1=\"298\" y1=\"0\" x2=\"298\" y2=\"20\" style=\"stroke:#4db163ff;stroke-width:3;\" /><line x1=\"299\" y1=\"0\" x2=\"299\" y2=\"20\" style=\"stroke:#4cb163ff;stroke-width:3;\" /><line x1=\"300\" y1=\"0\" x2=\"300\" y2=\"20\" style=\"stroke:#4bb062ff;stroke-width:3;\" /><line x1=\"301\" y1=\"0\" x2=\"301\" y2=\"20\" style=\"stroke:#4ab062ff;stroke-width:3;\" /><line x1=\"302\" y1=\"0\" x2=\"302\" y2=\"20\" style=\"stroke:#49af61ff;stroke-width:3;\" /><line x1=\"303\" y1=\"0\" x2=\"303\" y2=\"20\" style=\"stroke:#49af61ff;stroke-width:3;\" /><line x1=\"304\" y1=\"0\" x2=\"304\" y2=\"20\" style=\"stroke:#48af60ff;stroke-width:3;\" /><line x1=\"305\" y1=\"0\" x2=\"305\" y2=\"20\" style=\"stroke:#47ae60ff;stroke-width:3;\" /><line x1=\"306\" y1=\"0\" x2=\"306\" y2=\"20\" style=\"stroke:#46ae60ff;stroke-width:3;\" /><line x1=\"307\" y1=\"0\" x2=\"307\" y2=\"20\" style=\"stroke:#45ad5fff;stroke-width:3;\" /><line x1=\"308\" y1=\"0\" x2=\"308\" y2=\"20\" style=\"stroke:#44ad5fff;stroke-width:3;\" /><line x1=\"309\" y1=\"0\" x2=\"309\" y2=\"20\" style=\"stroke:#43ac5eff;stroke-width:3;\" /><line x1=\"310\" y1=\"0\" x2=\"310\" y2=\"20\" style=\"stroke:#42ac5eff;stroke-width:3;\" /><line x1=\"311\" y1=\"0\" x2=\"311\" y2=\"20\" style=\"stroke:#42ac5dff;stroke-width:3;\" /><line x1=\"312\" y1=\"0\" x2=\"312\" y2=\"20\" style=\"stroke:#41ab5dff;stroke-width:3;\" /><line x1=\"313\" y1=\"0\" x2=\"313\" y2=\"20\" style=\"stroke:#40aa5cff;stroke-width:3;\" /><line x1=\"314\" y1=\"0\" x2=\"314\" y2=\"20\" style=\"stroke:#40aa5cff;stroke-width:3;\" /><line x1=\"315\" y1=\"0\" x2=\"315\" y2=\"20\" style=\"stroke:#3fa95cff;stroke-width:3;\" /><line x1=\"316\" y1=\"0\" x2=\"316\" y2=\"20\" style=\"stroke:#3fa95bff;stroke-width:3;\" /><line x1=\"317\" y1=\"0\" x2=\"317\" y2=\"20\" style=\"stroke:#3ea85bff;stroke-width:3;\" /><line x1=\"318\" y1=\"0\" x2=\"318\" y2=\"20\" style=\"stroke:#3ea75aff;stroke-width:3;\" /><line x1=\"319\" y1=\"0\" x2=\"319\" y2=\"20\" style=\"stroke:#3da75aff;stroke-width:3;\" /><line x1=\"320\" y1=\"0\" x2=\"320\" y2=\"20\" style=\"stroke:#3da659ff;stroke-width:3;\" /><line x1=\"321\" y1=\"0\" x2=\"321\" y2=\"20\" style=\"stroke:#3ca559ff;stroke-width:3;\" /><line x1=\"322\" y1=\"0\" x2=\"322\" y2=\"20\" style=\"stroke:#3ca559ff;stroke-width:3;\" /><line x1=\"323\" y1=\"0\" x2=\"323\" y2=\"20\" style=\"stroke:#3ba458ff;stroke-width:3;\" /><line x1=\"324\" y1=\"0\" x2=\"324\" y2=\"20\" style=\"stroke:#3ba458ff;stroke-width:3;\" /><line x1=\"325\" y1=\"0\" x2=\"325\" y2=\"20\" style=\"stroke:#3aa357ff;stroke-width:3;\" /><line x1=\"326\" y1=\"0\" x2=\"326\" y2=\"20\" style=\"stroke:#3aa257ff;stroke-width:3;\" /><line x1=\"327\" y1=\"0\" x2=\"327\" y2=\"20\" style=\"stroke:#39a257ff;stroke-width:3;\" /><line x1=\"328\" y1=\"0\" x2=\"328\" y2=\"20\" style=\"stroke:#39a156ff;stroke-width:3;\" /><line x1=\"329\" y1=\"0\" x2=\"329\" y2=\"20\" style=\"stroke:#38a056ff;stroke-width:3;\" /><line x1=\"330\" y1=\"0\" x2=\"330\" y2=\"20\" style=\"stroke:#38a055ff;stroke-width:3;\" /><line x1=\"331\" y1=\"0\" x2=\"331\" y2=\"20\" style=\"stroke:#389f55ff;stroke-width:3;\" /><line x1=\"332\" y1=\"0\" x2=\"332\" y2=\"20\" style=\"stroke:#379f54ff;stroke-width:3;\" /><line x1=\"333\" y1=\"0\" x2=\"333\" y2=\"20\" style=\"stroke:#379e54ff;stroke-width:3;\" /><line x1=\"334\" y1=\"0\" x2=\"334\" y2=\"20\" style=\"stroke:#369d54ff;stroke-width:3;\" /><line x1=\"335\" y1=\"0\" x2=\"335\" y2=\"20\" style=\"stroke:#369d53ff;stroke-width:3;\" /><line x1=\"336\" y1=\"0\" x2=\"336\" y2=\"20\" style=\"stroke:#359c53ff;stroke-width:3;\" /><line x1=\"337\" y1=\"0\" x2=\"337\" y2=\"20\" style=\"stroke:#359b52ff;stroke-width:3;\" /><line x1=\"338\" y1=\"0\" x2=\"338\" y2=\"20\" style=\"stroke:#349b52ff;stroke-width:3;\" /><line x1=\"339\" y1=\"0\" x2=\"339\" y2=\"20\" style=\"stroke:#349a52ff;stroke-width:3;\" /><line x1=\"340\" y1=\"0\" x2=\"340\" y2=\"20\" style=\"stroke:#339a51ff;stroke-width:3;\" /><line x1=\"341\" y1=\"0\" x2=\"341\" y2=\"20\" style=\"stroke:#339951ff;stroke-width:3;\" /><line x1=\"342\" y1=\"0\" x2=\"342\" y2=\"20\" style=\"stroke:#329850ff;stroke-width:3;\" /><line x1=\"343\" y1=\"0\" x2=\"343\" y2=\"20\" style=\"stroke:#329850ff;stroke-width:3;\" /><line x1=\"344\" y1=\"0\" x2=\"344\" y2=\"20\" style=\"stroke:#31974fff;stroke-width:3;\" /><line x1=\"345\" y1=\"0\" x2=\"345\" y2=\"20\" style=\"stroke:#31964fff;stroke-width:3;\" /><line x1=\"346\" y1=\"0\" x2=\"346\" y2=\"20\" style=\"stroke:#30964fff;stroke-width:3;\" /><line x1=\"347\" y1=\"0\" x2=\"347\" y2=\"20\" style=\"stroke:#30954eff;stroke-width:3;\" /><line x1=\"348\" y1=\"0\" x2=\"348\" y2=\"20\" style=\"stroke:#2f944eff;stroke-width:3;\" /><line x1=\"349\" y1=\"0\" x2=\"349\" y2=\"20\" style=\"stroke:#2f944dff;stroke-width:3;\" /><line x1=\"350\" y1=\"0\" x2=\"350\" y2=\"20\" style=\"stroke:#2e934dff;stroke-width:3;\" /><line x1=\"351\" y1=\"0\" x2=\"351\" y2=\"20\" style=\"stroke:#2e934cff;stroke-width:3;\" /><line x1=\"352\" y1=\"0\" x2=\"352\" y2=\"20\" style=\"stroke:#2d924cff;stroke-width:3;\" /><line x1=\"353\" y1=\"0\" x2=\"353\" y2=\"20\" style=\"stroke:#2d914cff;stroke-width:3;\" /><line x1=\"354\" y1=\"0\" x2=\"354\" y2=\"20\" style=\"stroke:#2c914bff;stroke-width:3;\" /><line x1=\"355\" y1=\"0\" x2=\"355\" y2=\"20\" style=\"stroke:#2c904bff;stroke-width:3;\" /><line x1=\"356\" y1=\"0\" x2=\"356\" y2=\"20\" style=\"stroke:#2b8f4aff;stroke-width:3;\" /><line x1=\"357\" y1=\"0\" x2=\"357\" y2=\"20\" style=\"stroke:#2b8f4aff;stroke-width:3;\" /><line x1=\"358\" y1=\"0\" x2=\"358\" y2=\"20\" style=\"stroke:#2a8e4aff;stroke-width:3;\" /><line x1=\"359\" y1=\"0\" x2=\"359\" y2=\"20\" style=\"stroke:#2a8e49ff;stroke-width:3;\" /><line x1=\"360\" y1=\"0\" x2=\"360\" y2=\"20\" style=\"stroke:#2a8d49ff;stroke-width:3;\" /><line x1=\"361\" y1=\"0\" x2=\"361\" y2=\"20\" style=\"stroke:#298c48ff;stroke-width:3;\" /><line x1=\"362\" y1=\"0\" x2=\"362\" y2=\"20\" style=\"stroke:#298c48ff;stroke-width:3;\" /><line x1=\"363\" y1=\"0\" x2=\"363\" y2=\"20\" style=\"stroke:#288b47ff;stroke-width:3;\" /><line x1=\"364\" y1=\"0\" x2=\"364\" y2=\"20\" style=\"stroke:#288a47ff;stroke-width:3;\" /><line x1=\"365\" y1=\"0\" x2=\"365\" y2=\"20\" style=\"stroke:#278a47ff;stroke-width:3;\" /><line x1=\"366\" y1=\"0\" x2=\"366\" y2=\"20\" style=\"stroke:#278946ff;stroke-width:3;\" /><line x1=\"367\" y1=\"0\" x2=\"367\" y2=\"20\" style=\"stroke:#268946ff;stroke-width:3;\" /><line x1=\"368\" y1=\"0\" x2=\"368\" y2=\"20\" style=\"stroke:#268845ff;stroke-width:3;\" /><line x1=\"369\" y1=\"0\" x2=\"369\" y2=\"20\" style=\"stroke:#258745ff;stroke-width:3;\" /><line x1=\"370\" y1=\"0\" x2=\"370\" y2=\"20\" style=\"stroke:#258745ff;stroke-width:3;\" /><line x1=\"371\" y1=\"0\" x2=\"371\" y2=\"20\" style=\"stroke:#248644ff;stroke-width:3;\" /><line x1=\"372\" y1=\"0\" x2=\"372\" y2=\"20\" style=\"stroke:#248544ff;stroke-width:3;\" /><line x1=\"373\" y1=\"0\" x2=\"373\" y2=\"20\" style=\"stroke:#238543ff;stroke-width:3;\" /><line x1=\"374\" y1=\"0\" x2=\"374\" y2=\"20\" style=\"stroke:#238443ff;stroke-width:3;\" /><line x1=\"375\" y1=\"0\" x2=\"375\" y2=\"20\" style=\"stroke:#228443ff;stroke-width:3;\" /><line x1=\"376\" y1=\"0\" x2=\"376\" y2=\"20\" style=\"stroke:#228342ff;stroke-width:3;\" /><line x1=\"377\" y1=\"0\" x2=\"377\" y2=\"20\" style=\"stroke:#218342ff;stroke-width:3;\" /><line x1=\"378\" y1=\"0\" x2=\"378\" y2=\"20\" style=\"stroke:#218242ff;stroke-width:3;\" /><line x1=\"379\" y1=\"0\" x2=\"379\" y2=\"20\" style=\"stroke:#208242ff;stroke-width:3;\" /><line x1=\"380\" y1=\"0\" x2=\"380\" y2=\"20\" style=\"stroke:#1f8142ff;stroke-width:3;\" /><line x1=\"381\" y1=\"0\" x2=\"381\" y2=\"20\" style=\"stroke:#1f8141ff;stroke-width:3;\" /><line x1=\"382\" y1=\"0\" x2=\"382\" y2=\"20\" style=\"stroke:#1e8141ff;stroke-width:3;\" /><line x1=\"383\" y1=\"0\" x2=\"383\" y2=\"20\" style=\"stroke:#1e8041ff;stroke-width:3;\" /><line x1=\"384\" y1=\"0\" x2=\"384\" y2=\"20\" style=\"stroke:#1d8041ff;stroke-width:3;\" /><line x1=\"385\" y1=\"0\" x2=\"385\" y2=\"20\" style=\"stroke:#1d7f41ff;stroke-width:3;\" /><line x1=\"386\" y1=\"0\" x2=\"386\" y2=\"20\" style=\"stroke:#1c7f40ff;stroke-width:3;\" /><line x1=\"387\" y1=\"0\" x2=\"387\" y2=\"20\" style=\"stroke:#1b7e40ff;stroke-width:3;\" /><line x1=\"388\" y1=\"0\" x2=\"388\" y2=\"20\" style=\"stroke:#1b7e40ff;stroke-width:3;\" /><line x1=\"389\" y1=\"0\" x2=\"389\" y2=\"20\" style=\"stroke:#1a7d40ff;stroke-width:3;\" /><line x1=\"390\" y1=\"0\" x2=\"390\" y2=\"20\" style=\"stroke:#1a7d40ff;stroke-width:3;\" /><line x1=\"391\" y1=\"0\" x2=\"391\" y2=\"20\" style=\"stroke:#197c40ff;stroke-width:3;\" /><line x1=\"392\" y1=\"0\" x2=\"392\" y2=\"20\" style=\"stroke:#197c3fff;stroke-width:3;\" /><line x1=\"393\" y1=\"0\" x2=\"393\" y2=\"20\" style=\"stroke:#187c3fff;stroke-width:3;\" /><line x1=\"394\" y1=\"0\" x2=\"394\" y2=\"20\" style=\"stroke:#187b3fff;stroke-width:3;\" /><line x1=\"395\" y1=\"0\" x2=\"395\" y2=\"20\" style=\"stroke:#177b3fff;stroke-width:3;\" /><line x1=\"396\" y1=\"0\" x2=\"396\" y2=\"20\" style=\"stroke:#167a3fff;stroke-width:3;\" /><line x1=\"397\" y1=\"0\" x2=\"397\" y2=\"20\" style=\"stroke:#167a3eff;stroke-width:3;\" /><line x1=\"398\" y1=\"0\" x2=\"398\" y2=\"20\" style=\"stroke:#15793eff;stroke-width:3;\" /><line x1=\"399\" y1=\"0\" x2=\"399\" y2=\"20\" style=\"stroke:#15793eff;stroke-width:3;\" /><line x1=\"400\" y1=\"0\" x2=\"400\" y2=\"20\" style=\"stroke:#14783eff;stroke-width:3;\" /><line x1=\"401\" y1=\"0\" x2=\"401\" y2=\"20\" style=\"stroke:#14783eff;stroke-width:3;\" /><line x1=\"402\" y1=\"0\" x2=\"402\" y2=\"20\" style=\"stroke:#13783dff;stroke-width:3;\" /><line x1=\"403\" y1=\"0\" x2=\"403\" y2=\"20\" style=\"stroke:#12773dff;stroke-width:3;\" /><line x1=\"404\" y1=\"0\" x2=\"404\" y2=\"20\" style=\"stroke:#12773dff;stroke-width:3;\" /><line x1=\"405\" y1=\"0\" x2=\"405\" y2=\"20\" style=\"stroke:#11763dff;stroke-width:3;\" /><line x1=\"406\" y1=\"0\" x2=\"406\" y2=\"20\" style=\"stroke:#11763dff;stroke-width:3;\" /><line x1=\"407\" y1=\"0\" x2=\"407\" y2=\"20\" style=\"stroke:#10753cff;stroke-width:3;\" /><line x1=\"408\" y1=\"0\" x2=\"408\" y2=\"20\" style=\"stroke:#10753cff;stroke-width:3;\" /><line x1=\"409\" y1=\"0\" x2=\"409\" y2=\"20\" style=\"stroke:#0f743cff;stroke-width:3;\" /><line x1=\"410\" y1=\"0\" x2=\"410\" y2=\"20\" style=\"stroke:#0e743cff;stroke-width:3;\" /><line x1=\"411\" y1=\"0\" x2=\"411\" y2=\"20\" style=\"stroke:#0e733cff;stroke-width:3;\" /><line x1=\"412\" y1=\"0\" x2=\"412\" y2=\"20\" style=\"stroke:#0d733bff;stroke-width:3;\" /><line x1=\"413\" y1=\"0\" x2=\"413\" y2=\"20\" style=\"stroke:#0d733bff;stroke-width:3;\" /><line x1=\"414\" y1=\"0\" x2=\"414\" y2=\"20\" style=\"stroke:#0c723bff;stroke-width:3;\" /><line x1=\"415\" y1=\"0\" x2=\"415\" y2=\"20\" style=\"stroke:#0c723bff;stroke-width:3;\" /><line x1=\"416\" y1=\"0\" x2=\"416\" y2=\"20\" style=\"stroke:#0b713bff;stroke-width:3;\" /><line x1=\"417\" y1=\"0\" x2=\"417\" y2=\"20\" style=\"stroke:#0b713bff;stroke-width:3;\" /><line x1=\"418\" y1=\"0\" x2=\"418\" y2=\"20\" style=\"stroke:#0a703aff;stroke-width:3;\" /><line x1=\"419\" y1=\"0\" x2=\"419\" y2=\"20\" style=\"stroke:#09703aff;stroke-width:3;\" /><line x1=\"420\" y1=\"0\" x2=\"420\" y2=\"20\" style=\"stroke:#096f3aff;stroke-width:3;\" /><line x1=\"421\" y1=\"0\" x2=\"421\" y2=\"20\" style=\"stroke:#086f3aff;stroke-width:3;\" /><line x1=\"422\" y1=\"0\" x2=\"422\" y2=\"20\" style=\"stroke:#086e3aff;stroke-width:3;\" /><line x1=\"423\" y1=\"0\" x2=\"423\" y2=\"20\" style=\"stroke:#076e39ff;stroke-width:3;\" /><line x1=\"424\" y1=\"0\" x2=\"424\" y2=\"20\" style=\"stroke:#076e39ff;stroke-width:3;\" /><line x1=\"425\" y1=\"0\" x2=\"425\" y2=\"20\" style=\"stroke:#066d39ff;stroke-width:3;\" /><line x1=\"426\" y1=\"0\" x2=\"426\" y2=\"20\" style=\"stroke:#056d39ff;stroke-width:3;\" /><line x1=\"427\" y1=\"0\" x2=\"427\" y2=\"20\" style=\"stroke:#056c39ff;stroke-width:3;\" /><line x1=\"428\" y1=\"0\" x2=\"428\" y2=\"20\" style=\"stroke:#046c38ff;stroke-width:3;\" /><line x1=\"429\" y1=\"0\" x2=\"429\" y2=\"20\" style=\"stroke:#046b38ff;stroke-width:3;\" /><line x1=\"430\" y1=\"0\" x2=\"430\" y2=\"20\" style=\"stroke:#036b38ff;stroke-width:3;\" /><line x1=\"431\" y1=\"0\" x2=\"431\" y2=\"20\" style=\"stroke:#036a38ff;stroke-width:3;\" /><line x1=\"432\" y1=\"0\" x2=\"432\" y2=\"20\" style=\"stroke:#026a38ff;stroke-width:3;\" /><line x1=\"433\" y1=\"0\" x2=\"433\" y2=\"20\" style=\"stroke:#026a37ff;stroke-width:3;\" /><line x1=\"434\" y1=\"0\" x2=\"434\" y2=\"20\" style=\"stroke:#016937ff;stroke-width:3;\" /><line x1=\"435\" y1=\"0\" x2=\"435\" y2=\"20\" style=\"stroke:#006937ff;stroke-width:3;\" /><line x1=\"436\" y1=\"0\" x2=\"436\" y2=\"20\" style=\"stroke:#006837ff;stroke-width:3;\" /><line x1=\"437\" y1=\"0\" x2=\"437\" y2=\"20\" style=\"stroke:#006837ff;stroke-width:3;\" /><line x1=\"438\" y1=\"0\" x2=\"438\" y2=\"20\" style=\"stroke:#006736ff;stroke-width:3;\" /><line x1=\"439\" y1=\"0\" x2=\"439\" y2=\"20\" style=\"stroke:#006736ff;stroke-width:3;\" /><line x1=\"440\" y1=\"0\" x2=\"440\" y2=\"20\" style=\"stroke:#006636ff;stroke-width:3;\" /><line x1=\"441\" y1=\"0\" x2=\"441\" y2=\"20\" style=\"stroke:#006536ff;stroke-width:3;\" /><line x1=\"442\" y1=\"0\" x2=\"442\" y2=\"20\" style=\"stroke:#006536ff;stroke-width:3;\" /><line x1=\"443\" y1=\"0\" x2=\"443\" y2=\"20\" style=\"stroke:#006435ff;stroke-width:3;\" /><line x1=\"444\" y1=\"0\" x2=\"444\" y2=\"20\" style=\"stroke:#006435ff;stroke-width:3;\" /><line x1=\"445\" y1=\"0\" x2=\"445\" y2=\"20\" style=\"stroke:#006335ff;stroke-width:3;\" /><line x1=\"446\" y1=\"0\" x2=\"446\" y2=\"20\" style=\"stroke:#006335ff;stroke-width:3;\" /><line x1=\"447\" y1=\"0\" x2=\"447\" y2=\"20\" style=\"stroke:#006234ff;stroke-width:3;\" /><line x1=\"448\" y1=\"0\" x2=\"448\" y2=\"20\" style=\"stroke:#006234ff;stroke-width:3;\" /><line x1=\"449\" y1=\"0\" x2=\"449\" y2=\"20\" style=\"stroke:#006134ff;stroke-width:3;\" /><line x1=\"450\" y1=\"0\" x2=\"450\" y2=\"20\" style=\"stroke:#006034ff;stroke-width:3;\" /><line x1=\"451\" y1=\"0\" x2=\"451\" y2=\"20\" style=\"stroke:#006033ff;stroke-width:3;\" /><line x1=\"452\" y1=\"0\" x2=\"452\" y2=\"20\" style=\"stroke:#005f33ff;stroke-width:3;\" /><line x1=\"453\" y1=\"0\" x2=\"453\" y2=\"20\" style=\"stroke:#005f33ff;stroke-width:3;\" /><line x1=\"454\" y1=\"0\" x2=\"454\" y2=\"20\" style=\"stroke:#005e33ff;stroke-width:3;\" /><line x1=\"455\" y1=\"0\" x2=\"455\" y2=\"20\" style=\"stroke:#005e33ff;stroke-width:3;\" /><line x1=\"456\" y1=\"0\" x2=\"456\" y2=\"20\" style=\"stroke:#005d32ff;stroke-width:3;\" /><line x1=\"457\" y1=\"0\" x2=\"457\" y2=\"20\" style=\"stroke:#005c32ff;stroke-width:3;\" /><line x1=\"458\" y1=\"0\" x2=\"458\" y2=\"20\" style=\"stroke:#005c32ff;stroke-width:3;\" /><line x1=\"459\" y1=\"0\" x2=\"459\" y2=\"20\" style=\"stroke:#005b32ff;stroke-width:3;\" /><line x1=\"460\" y1=\"0\" x2=\"460\" y2=\"20\" style=\"stroke:#005b31ff;stroke-width:3;\" /><line x1=\"461\" y1=\"0\" x2=\"461\" y2=\"20\" style=\"stroke:#005a31ff;stroke-width:3;\" /><line x1=\"462\" y1=\"0\" x2=\"462\" y2=\"20\" style=\"stroke:#005a31ff;stroke-width:3;\" /><line x1=\"463\" y1=\"0\" x2=\"463\" y2=\"20\" style=\"stroke:#005931ff;stroke-width:3;\" /><line x1=\"464\" y1=\"0\" x2=\"464\" y2=\"20\" style=\"stroke:#005831ff;stroke-width:3;\" /><line x1=\"465\" y1=\"0\" x2=\"465\" y2=\"20\" style=\"stroke:#005830ff;stroke-width:3;\" /><line x1=\"466\" y1=\"0\" x2=\"466\" y2=\"20\" style=\"stroke:#005730ff;stroke-width:3;\" /><line x1=\"467\" y1=\"0\" x2=\"467\" y2=\"20\" style=\"stroke:#005730ff;stroke-width:3;\" /><line x1=\"468\" y1=\"0\" x2=\"468\" y2=\"20\" style=\"stroke:#005630ff;stroke-width:3;\" /><line x1=\"469\" y1=\"0\" x2=\"469\" y2=\"20\" style=\"stroke:#00562fff;stroke-width:3;\" /><line x1=\"470\" y1=\"0\" x2=\"470\" y2=\"20\" style=\"stroke:#00552fff;stroke-width:3;\" /><line x1=\"471\" y1=\"0\" x2=\"471\" y2=\"20\" style=\"stroke:#00552fff;stroke-width:3;\" /><line x1=\"472\" y1=\"0\" x2=\"472\" y2=\"20\" style=\"stroke:#00542fff;stroke-width:3;\" /><line x1=\"473\" y1=\"0\" x2=\"473\" y2=\"20\" style=\"stroke:#00532fff;stroke-width:3;\" /><line x1=\"474\" y1=\"0\" x2=\"474\" y2=\"20\" style=\"stroke:#00532eff;stroke-width:3;\" /><line x1=\"475\" y1=\"0\" x2=\"475\" y2=\"20\" style=\"stroke:#00522eff;stroke-width:3;\" /><line x1=\"476\" y1=\"0\" x2=\"476\" y2=\"20\" style=\"stroke:#00522eff;stroke-width:3;\" /><line x1=\"477\" y1=\"0\" x2=\"477\" y2=\"20\" style=\"stroke:#00512eff;stroke-width:3;\" /><line x1=\"478\" y1=\"0\" x2=\"478\" y2=\"20\" style=\"stroke:#00512dff;stroke-width:3;\" /><line x1=\"479\" y1=\"0\" x2=\"479\" y2=\"20\" style=\"stroke:#00502dff;stroke-width:3;\" /><line x1=\"480\" y1=\"0\" x2=\"480\" y2=\"20\" style=\"stroke:#004f2dff;stroke-width:3;\" /><line x1=\"481\" y1=\"0\" x2=\"481\" y2=\"20\" style=\"stroke:#004f2dff;stroke-width:3;\" /><line x1=\"482\" y1=\"0\" x2=\"482\" y2=\"20\" style=\"stroke:#004e2cff;stroke-width:3;\" /><line x1=\"483\" y1=\"0\" x2=\"483\" y2=\"20\" style=\"stroke:#004e2cff;stroke-width:3;\" /><line x1=\"484\" y1=\"0\" x2=\"484\" y2=\"20\" style=\"stroke:#004d2cff;stroke-width:3;\" /><line x1=\"485\" y1=\"0\" x2=\"485\" y2=\"20\" style=\"stroke:#004d2cff;stroke-width:3;\" /><line x1=\"486\" y1=\"0\" x2=\"486\" y2=\"20\" style=\"stroke:#004c2cff;stroke-width:3;\" /><line x1=\"487\" y1=\"0\" x2=\"487\" y2=\"20\" style=\"stroke:#004c2bff;stroke-width:3;\" /><line x1=\"488\" y1=\"0\" x2=\"488\" y2=\"20\" style=\"stroke:#004b2bff;stroke-width:3;\" /><line x1=\"489\" y1=\"0\" x2=\"489\" y2=\"20\" style=\"stroke:#004a2bff;stroke-width:3;\" /><line x1=\"490\" y1=\"0\" x2=\"490\" y2=\"20\" style=\"stroke:#004a2bff;stroke-width:3;\" /><line x1=\"491\" y1=\"0\" x2=\"491\" y2=\"20\" style=\"stroke:#00492aff;stroke-width:3;\" /><line x1=\"492\" y1=\"0\" x2=\"492\" y2=\"20\" style=\"stroke:#00492aff;stroke-width:3;\" /><line x1=\"493\" y1=\"0\" x2=\"493\" y2=\"20\" style=\"stroke:#00482aff;stroke-width:3;\" /><line x1=\"494\" y1=\"0\" x2=\"494\" y2=\"20\" style=\"stroke:#00482aff;stroke-width:3;\" /><line x1=\"495\" y1=\"0\" x2=\"495\" y2=\"20\" style=\"stroke:#00472aff;stroke-width:3;\" /><line x1=\"496\" y1=\"0\" x2=\"496\" y2=\"20\" style=\"stroke:#004629ff;stroke-width:3;\" /><line x1=\"497\" y1=\"0\" x2=\"497\" y2=\"20\" style=\"stroke:#004629ff;stroke-width:3;\" /><line x1=\"498\" y1=\"0\" x2=\"498\" y2=\"20\" style=\"stroke:#004529ff;stroke-width:3;\" /><line x1=\"499\" y1=\"0\" x2=\"499\" y2=\"20\" style=\"stroke:#004529ff;stroke-width:3;\" /><text x=\"0\" y=\"35\">262.8386575010109</text><text x=\"500\" y=\"35\" style=\"text-anchor:end;\">21025.417784911624</text></svg>"
      ],
      "text/plain": [
       "<branca.colormap.LinearColormap at 0x194822cb488>"
      ]
     },
     "execution_count": 71,
     "metadata": {},
     "output_type": "execute_result"
    }
   ],
   "source": [
    "from branca.colormap import linear\n",
    "\n",
    "colormap = linear.YlGn_09.scale(\n",
    "    dvf_values_grouped.avg_price.min(),\n",
    "    dvf_values_grouped.avg_price.max())\n",
    "colormap"
   ]
  },
  {
   "cell_type": "code",
   "execution_count": 97,
   "metadata": {},
   "outputs": [
    {
     "data": {
      "text/plain": [
       "2430.6122871255234"
      ]
     },
     "execution_count": 97,
     "metadata": {},
     "output_type": "execute_result"
    }
   ],
   "source": [
    "price_dict = dvf_values_grouped.set_index('INSEE')['avg_price']\n",
    "price_dict['33003']"
   ]
  },
  {
   "cell_type": "code",
   "execution_count": null,
   "metadata": {},
   "outputs": [],
   "source": [
    "color_dict = {key: colormap(price_dict[key]) for key in price_dict.keys()}"
   ]
  },
  {
   "cell_type": "code",
   "execution_count": 90,
   "metadata": {},
   "outputs": [],
   "source": [
    "with open('project_data/communes-33-gironde.geojson',encoding=\"UTF-8\") as json_data:\n",
    "    contenu = json.load(json_data)"
   ]
  },
  {
   "cell_type": "code",
   "execution_count": 94,
   "metadata": {},
   "outputs": [
    {
     "data": {
      "text/plain": [
       "{'type': 'Feature',\n",
       " 'geometry': {'type': 'Polygon',\n",
       "  'coordinates': [[[-0.6806837562335, 44.894819155016],\n",
       "    [-0.6692456744696, 44.895472713766],\n",
       "    [-0.66980499841904, 44.881618090198],\n",
       "    [-0.66389934870288, 44.866818999665],\n",
       "    [-0.66656419148017, 44.858082911212],\n",
       "    [-0.67540635132688, 44.85871506697],\n",
       "    [-0.71941084291414, 44.846929068826],\n",
       "    [-0.71860283362639, 44.850912111652],\n",
       "    [-0.7057123790245, 44.860980504208],\n",
       "    [-0.69426169060185, 44.867092106896],\n",
       "    [-0.68681271159591, 44.881014745771],\n",
       "    [-0.68566096628632, 44.890460137968],\n",
       "    [-0.6806837562335, 44.894819155016]]]},\n",
       " 'properties': {'code': '33200', 'nom': 'Haillan'}}"
      ]
     },
     "execution_count": 94,
     "metadata": {},
     "output_type": "execute_result"
    }
   ],
   "source": [
    "contenu['features'][0]"
   ]
  },
  {
   "cell_type": "code",
   "execution_count": 107,
   "metadata": {},
   "outputs": [
    {
     "ename": "TypeError",
     "evalue": "unsupported operand type(s) for +=: 'dict' and 'dict'",
     "output_type": "error",
     "traceback": [
      "\u001b[1;31m---------------------------------------------------------------------------\u001b[0m",
      "\u001b[1;31mTypeError\u001b[0m                                 Traceback (most recent call last)",
      "\u001b[1;32m<ipython-input-107-ae4657d21d95>\u001b[0m in \u001b[0;36m<module>\u001b[1;34m\u001b[0m\n\u001b[0;32m      3\u001b[0m     \u001b[1;32mfor\u001b[0m \u001b[0mdata\u001b[0m \u001b[1;32min\u001b[0m \u001b[0mcontenu\u001b[0m\u001b[1;33m[\u001b[0m\u001b[1;34m'features'\u001b[0m\u001b[1;33m]\u001b[0m\u001b[1;33m:\u001b[0m\u001b[1;33m\u001b[0m\u001b[1;33m\u001b[0m\u001b[0m\n\u001b[0;32m      4\u001b[0m         \u001b[1;32mif\u001b[0m \u001b[0mdata\u001b[0m\u001b[1;33m[\u001b[0m\u001b[1;34m'properties'\u001b[0m\u001b[1;33m]\u001b[0m\u001b[1;33m[\u001b[0m\u001b[1;34m'code'\u001b[0m\u001b[1;33m]\u001b[0m\u001b[1;33m==\u001b[0m\u001b[0mvalue\u001b[0m \u001b[1;33m:\u001b[0m\u001b[1;33m\u001b[0m\u001b[1;33m\u001b[0m\u001b[0m\n\u001b[1;32m----> 5\u001b[1;33m             \u001b[0mgironde\u001b[0m \u001b[1;33m+=\u001b[0m \u001b[0mdata\u001b[0m\u001b[1;33m\u001b[0m\u001b[1;33m\u001b[0m\u001b[0m\n\u001b[0m\u001b[0;32m      6\u001b[0m         \u001b[1;32melse\u001b[0m\u001b[1;33m:\u001b[0m\u001b[1;33m\u001b[0m\u001b[1;33m\u001b[0m\u001b[0m\n\u001b[0;32m      7\u001b[0m             \u001b[1;32mpass\u001b[0m\u001b[1;33m\u001b[0m\u001b[1;33m\u001b[0m\u001b[0m\n",
      "\u001b[1;31mTypeError\u001b[0m: unsupported operand type(s) for +=: 'dict' and 'dict'"
     ]
    }
   ],
   "source": [
    "gironde ={}\n",
    "for index, value in enumerate(dvf_values_grouped['INSEE']): \n",
    "    for data in contenu['features']: \n",
    "        if data['properties']['code']==value : \n",
    "            gironde += data\n",
    "        else: \n",
    "            pass\n",
    "gironde"
   ]
  },
  {
   "cell_type": "code",
   "execution_count": 101,
   "metadata": {},
   "outputs": [
    {
     "ename": "KeyError",
     "evalue": "'33200'",
     "output_type": "error",
     "traceback": [
      "\u001b[1;31m---------------------------------------------------------------------------\u001b[0m",
      "\u001b[1;31mTypeError\u001b[0m                                 Traceback (most recent call last)",
      "\u001b[1;32mc:\\users\\pierre beylard\\appdata\\local\\programs\\python\\python37\\lib\\site-packages\\pandas\\core\\indexes\\base.py\u001b[0m in \u001b[0;36mget_value\u001b[1;34m(self, series, key)\u001b[0m\n\u001b[0;32m   4735\u001b[0m             \u001b[1;32mtry\u001b[0m\u001b[1;33m:\u001b[0m\u001b[1;33m\u001b[0m\u001b[1;33m\u001b[0m\u001b[0m\n\u001b[1;32m-> 4736\u001b[1;33m                 \u001b[1;32mreturn\u001b[0m \u001b[0mlibindex\u001b[0m\u001b[1;33m.\u001b[0m\u001b[0mget_value_box\u001b[0m\u001b[1;33m(\u001b[0m\u001b[0ms\u001b[0m\u001b[1;33m,\u001b[0m \u001b[0mkey\u001b[0m\u001b[1;33m)\u001b[0m\u001b[1;33m\u001b[0m\u001b[1;33m\u001b[0m\u001b[0m\n\u001b[0m\u001b[0;32m   4737\u001b[0m             \u001b[1;32mexcept\u001b[0m \u001b[0mIndexError\u001b[0m\u001b[1;33m:\u001b[0m\u001b[1;33m\u001b[0m\u001b[1;33m\u001b[0m\u001b[0m\n",
      "\u001b[1;32mpandas/_libs/index.pyx\u001b[0m in \u001b[0;36mpandas._libs.index.get_value_box\u001b[1;34m()\u001b[0m\n",
      "\u001b[1;32mpandas/_libs/index.pyx\u001b[0m in \u001b[0;36mpandas._libs.index.get_value_at\u001b[1;34m()\u001b[0m\n",
      "\u001b[1;32mpandas/_libs/util.pxd\u001b[0m in \u001b[0;36mpandas._libs.util.get_value_at\u001b[1;34m()\u001b[0m\n",
      "\u001b[1;32mpandas/_libs/util.pxd\u001b[0m in \u001b[0;36mpandas._libs.util.validate_indexer\u001b[1;34m()\u001b[0m\n",
      "\u001b[1;31mTypeError\u001b[0m: 'str' object cannot be interpreted as an integer",
      "\nDuring handling of the above exception, another exception occurred:\n",
      "\u001b[1;31mKeyError\u001b[0m                                  Traceback (most recent call last)",
      "\u001b[1;32m<ipython-input-101-3707f9174be6>\u001b[0m in \u001b[0;36m<module>\u001b[1;34m\u001b[0m\n\u001b[0;32m      6\u001b[0m     gj=folium.GeoJson(data=contenu,\n\u001b[0;32m      7\u001b[0m     \u001b[0mname\u001b[0m\u001b[1;33m=\u001b[0m\u001b[1;34m'avg_price'\u001b[0m\u001b[1;33m,\u001b[0m\u001b[1;33m\u001b[0m\u001b[1;33m\u001b[0m\u001b[0m\n\u001b[1;32m----> 8\u001b[1;33m     style_function=lambda feature: {\n\u001b[0m\u001b[0;32m      9\u001b[0m         \u001b[1;34m'fillColor'\u001b[0m\u001b[1;33m:\u001b[0m \u001b[0mcolormap\u001b[0m\u001b[1;33m(\u001b[0m\u001b[0mprice_dict\u001b[0m\u001b[1;33m[\u001b[0m\u001b[0mfeature\u001b[0m\u001b[1;33m[\u001b[0m\u001b[1;34m'properties'\u001b[0m\u001b[1;33m]\u001b[0m\u001b[1;33m[\u001b[0m\u001b[1;34m'code'\u001b[0m\u001b[1;33m]\u001b[0m\u001b[1;33m]\u001b[0m\u001b[1;33m)\u001b[0m\u001b[1;33m,\u001b[0m\u001b[1;33m\u001b[0m\u001b[1;33m\u001b[0m\u001b[0m\n\u001b[0;32m     10\u001b[0m         \u001b[1;34m'color'\u001b[0m\u001b[1;33m:\u001b[0m \u001b[1;34m'black'\u001b[0m\u001b[1;33m,\u001b[0m\u001b[1;33m\u001b[0m\u001b[1;33m\u001b[0m\u001b[0m\n",
      "\u001b[1;32mc:\\users\\pierre beylard\\appdata\\local\\programs\\python\\python37\\lib\\site-packages\\folium\\features.py\u001b[0m in \u001b[0;36m__init__\u001b[1;34m(self, data, style_function, highlight_function, name, overlay, control, show, smooth_factor, tooltip, embed)\u001b[0m\n\u001b[0;32m    455\u001b[0m             \u001b[0mself\u001b[0m\u001b[1;33m.\u001b[0m\u001b[0mconvert_to_feature_collection\u001b[0m\u001b[1;33m(\u001b[0m\u001b[1;33m)\u001b[0m\u001b[1;33m\u001b[0m\u001b[1;33m\u001b[0m\u001b[0m\n\u001b[0;32m    456\u001b[0m             \u001b[1;32mif\u001b[0m \u001b[0mself\u001b[0m\u001b[1;33m.\u001b[0m\u001b[0mstyle\u001b[0m\u001b[1;33m:\u001b[0m\u001b[1;33m\u001b[0m\u001b[1;33m\u001b[0m\u001b[0m\n\u001b[1;32m--> 457\u001b[1;33m                 \u001b[0mself\u001b[0m\u001b[1;33m.\u001b[0m\u001b[0m_validate_function\u001b[0m\u001b[1;33m(\u001b[0m\u001b[0mstyle_function\u001b[0m\u001b[1;33m,\u001b[0m \u001b[1;34m'style_function'\u001b[0m\u001b[1;33m)\u001b[0m\u001b[1;33m\u001b[0m\u001b[1;33m\u001b[0m\u001b[0m\n\u001b[0m\u001b[0;32m    458\u001b[0m                 \u001b[0mself\u001b[0m\u001b[1;33m.\u001b[0m\u001b[0mstyle_function\u001b[0m \u001b[1;33m=\u001b[0m \u001b[0mstyle_function\u001b[0m\u001b[1;33m\u001b[0m\u001b[1;33m\u001b[0m\u001b[0m\n\u001b[0;32m    459\u001b[0m                 \u001b[0mself\u001b[0m\u001b[1;33m.\u001b[0m\u001b[0mstyle_map\u001b[0m \u001b[1;33m=\u001b[0m \u001b[1;33m{\u001b[0m\u001b[1;33m}\u001b[0m\u001b[1;33m\u001b[0m\u001b[1;33m\u001b[0m\u001b[0m\n",
      "\u001b[1;32mc:\\users\\pierre beylard\\appdata\\local\\programs\\python\\python37\\lib\\site-packages\\folium\\features.py\u001b[0m in \u001b[0;36m_validate_function\u001b[1;34m(self, func, name)\u001b[0m\n\u001b[0;32m    518\u001b[0m         \"\"\"\n\u001b[0;32m    519\u001b[0m         \u001b[0mtest_feature\u001b[0m \u001b[1;33m=\u001b[0m \u001b[0mself\u001b[0m\u001b[1;33m.\u001b[0m\u001b[0mdata\u001b[0m\u001b[1;33m[\u001b[0m\u001b[1;34m'features'\u001b[0m\u001b[1;33m]\u001b[0m\u001b[1;33m[\u001b[0m\u001b[1;36m0\u001b[0m\u001b[1;33m]\u001b[0m\u001b[1;33m\u001b[0m\u001b[1;33m\u001b[0m\u001b[0m\n\u001b[1;32m--> 520\u001b[1;33m         \u001b[1;32mif\u001b[0m \u001b[1;32mnot\u001b[0m \u001b[0mcallable\u001b[0m\u001b[1;33m(\u001b[0m\u001b[0mfunc\u001b[0m\u001b[1;33m)\u001b[0m \u001b[1;32mor\u001b[0m \u001b[1;32mnot\u001b[0m \u001b[0misinstance\u001b[0m\u001b[1;33m(\u001b[0m\u001b[0mfunc\u001b[0m\u001b[1;33m(\u001b[0m\u001b[0mtest_feature\u001b[0m\u001b[1;33m)\u001b[0m\u001b[1;33m,\u001b[0m \u001b[0mdict\u001b[0m\u001b[1;33m)\u001b[0m\u001b[1;33m:\u001b[0m\u001b[1;33m\u001b[0m\u001b[1;33m\u001b[0m\u001b[0m\n\u001b[0m\u001b[0;32m    521\u001b[0m             raise ValueError('{} should be a function that accepts items from '\n\u001b[0;32m    522\u001b[0m                              \u001b[1;34m'data[\\'features\\'] and returns a dictionary.'\u001b[0m\u001b[1;33m\u001b[0m\u001b[1;33m\u001b[0m\u001b[0m\n",
      "\u001b[1;32m<ipython-input-101-3707f9174be6>\u001b[0m in \u001b[0;36m<lambda>\u001b[1;34m(feature)\u001b[0m\n\u001b[0;32m      7\u001b[0m     \u001b[0mname\u001b[0m\u001b[1;33m=\u001b[0m\u001b[1;34m'avg_price'\u001b[0m\u001b[1;33m,\u001b[0m\u001b[1;33m\u001b[0m\u001b[1;33m\u001b[0m\u001b[0m\n\u001b[0;32m      8\u001b[0m     style_function=lambda feature: {\n\u001b[1;32m----> 9\u001b[1;33m         \u001b[1;34m'fillColor'\u001b[0m\u001b[1;33m:\u001b[0m \u001b[0mcolormap\u001b[0m\u001b[1;33m(\u001b[0m\u001b[0mprice_dict\u001b[0m\u001b[1;33m[\u001b[0m\u001b[0mfeature\u001b[0m\u001b[1;33m[\u001b[0m\u001b[1;34m'properties'\u001b[0m\u001b[1;33m]\u001b[0m\u001b[1;33m[\u001b[0m\u001b[1;34m'code'\u001b[0m\u001b[1;33m]\u001b[0m\u001b[1;33m]\u001b[0m\u001b[1;33m)\u001b[0m\u001b[1;33m,\u001b[0m\u001b[1;33m\u001b[0m\u001b[1;33m\u001b[0m\u001b[0m\n\u001b[0m\u001b[0;32m     10\u001b[0m         \u001b[1;34m'color'\u001b[0m\u001b[1;33m:\u001b[0m \u001b[1;34m'black'\u001b[0m\u001b[1;33m,\u001b[0m\u001b[1;33m\u001b[0m\u001b[1;33m\u001b[0m\u001b[0m\n\u001b[0;32m     11\u001b[0m         \u001b[1;34m'weight'\u001b[0m\u001b[1;33m:\u001b[0m \u001b[1;36m1\u001b[0m\u001b[1;33m,\u001b[0m\u001b[1;33m\u001b[0m\u001b[1;33m\u001b[0m\u001b[0m\n",
      "\u001b[1;32mc:\\users\\pierre beylard\\appdata\\local\\programs\\python\\python37\\lib\\site-packages\\pandas\\core\\series.py\u001b[0m in \u001b[0;36m__getitem__\u001b[1;34m(self, key)\u001b[0m\n\u001b[0;32m   1069\u001b[0m         \u001b[0mkey\u001b[0m \u001b[1;33m=\u001b[0m \u001b[0mcom\u001b[0m\u001b[1;33m.\u001b[0m\u001b[0mapply_if_callable\u001b[0m\u001b[1;33m(\u001b[0m\u001b[0mkey\u001b[0m\u001b[1;33m,\u001b[0m \u001b[0mself\u001b[0m\u001b[1;33m)\u001b[0m\u001b[1;33m\u001b[0m\u001b[1;33m\u001b[0m\u001b[0m\n\u001b[0;32m   1070\u001b[0m         \u001b[1;32mtry\u001b[0m\u001b[1;33m:\u001b[0m\u001b[1;33m\u001b[0m\u001b[1;33m\u001b[0m\u001b[0m\n\u001b[1;32m-> 1071\u001b[1;33m             \u001b[0mresult\u001b[0m \u001b[1;33m=\u001b[0m \u001b[0mself\u001b[0m\u001b[1;33m.\u001b[0m\u001b[0mindex\u001b[0m\u001b[1;33m.\u001b[0m\u001b[0mget_value\u001b[0m\u001b[1;33m(\u001b[0m\u001b[0mself\u001b[0m\u001b[1;33m,\u001b[0m \u001b[0mkey\u001b[0m\u001b[1;33m)\u001b[0m\u001b[1;33m\u001b[0m\u001b[1;33m\u001b[0m\u001b[0m\n\u001b[0m\u001b[0;32m   1072\u001b[0m \u001b[1;33m\u001b[0m\u001b[0m\n\u001b[0;32m   1073\u001b[0m             \u001b[1;32mif\u001b[0m \u001b[1;32mnot\u001b[0m \u001b[0mis_scalar\u001b[0m\u001b[1;33m(\u001b[0m\u001b[0mresult\u001b[0m\u001b[1;33m)\u001b[0m\u001b[1;33m:\u001b[0m\u001b[1;33m\u001b[0m\u001b[1;33m\u001b[0m\u001b[0m\n",
      "\u001b[1;32mc:\\users\\pierre beylard\\appdata\\local\\programs\\python\\python37\\lib\\site-packages\\pandas\\core\\indexes\\base.py\u001b[0m in \u001b[0;36mget_value\u001b[1;34m(self, series, key)\u001b[0m\n\u001b[0;32m   4742\u001b[0m                     \u001b[1;32mraise\u001b[0m \u001b[0mInvalidIndexError\u001b[0m\u001b[1;33m(\u001b[0m\u001b[0mkey\u001b[0m\u001b[1;33m)\u001b[0m\u001b[1;33m\u001b[0m\u001b[1;33m\u001b[0m\u001b[0m\n\u001b[0;32m   4743\u001b[0m                 \u001b[1;32melse\u001b[0m\u001b[1;33m:\u001b[0m\u001b[1;33m\u001b[0m\u001b[1;33m\u001b[0m\u001b[0m\n\u001b[1;32m-> 4744\u001b[1;33m                     \u001b[1;32mraise\u001b[0m \u001b[0me1\u001b[0m\u001b[1;33m\u001b[0m\u001b[1;33m\u001b[0m\u001b[0m\n\u001b[0m\u001b[0;32m   4745\u001b[0m             \u001b[1;32mexcept\u001b[0m \u001b[0mException\u001b[0m\u001b[1;33m:\u001b[0m  \u001b[1;31m# pragma: no cover\u001b[0m\u001b[1;33m\u001b[0m\u001b[1;33m\u001b[0m\u001b[0m\n\u001b[0;32m   4746\u001b[0m                 \u001b[1;32mraise\u001b[0m \u001b[0me1\u001b[0m\u001b[1;33m\u001b[0m\u001b[1;33m\u001b[0m\u001b[0m\n",
      "\u001b[1;32mc:\\users\\pierre beylard\\appdata\\local\\programs\\python\\python37\\lib\\site-packages\\pandas\\core\\indexes\\base.py\u001b[0m in \u001b[0;36mget_value\u001b[1;34m(self, series, key)\u001b[0m\n\u001b[0;32m   4728\u001b[0m         \u001b[0mk\u001b[0m \u001b[1;33m=\u001b[0m \u001b[0mself\u001b[0m\u001b[1;33m.\u001b[0m\u001b[0m_convert_scalar_indexer\u001b[0m\u001b[1;33m(\u001b[0m\u001b[0mk\u001b[0m\u001b[1;33m,\u001b[0m \u001b[0mkind\u001b[0m\u001b[1;33m=\u001b[0m\u001b[1;34m\"getitem\"\u001b[0m\u001b[1;33m)\u001b[0m\u001b[1;33m\u001b[0m\u001b[1;33m\u001b[0m\u001b[0m\n\u001b[0;32m   4729\u001b[0m         \u001b[1;32mtry\u001b[0m\u001b[1;33m:\u001b[0m\u001b[1;33m\u001b[0m\u001b[1;33m\u001b[0m\u001b[0m\n\u001b[1;32m-> 4730\u001b[1;33m             \u001b[1;32mreturn\u001b[0m \u001b[0mself\u001b[0m\u001b[1;33m.\u001b[0m\u001b[0m_engine\u001b[0m\u001b[1;33m.\u001b[0m\u001b[0mget_value\u001b[0m\u001b[1;33m(\u001b[0m\u001b[0ms\u001b[0m\u001b[1;33m,\u001b[0m \u001b[0mk\u001b[0m\u001b[1;33m,\u001b[0m \u001b[0mtz\u001b[0m\u001b[1;33m=\u001b[0m\u001b[0mgetattr\u001b[0m\u001b[1;33m(\u001b[0m\u001b[0mseries\u001b[0m\u001b[1;33m.\u001b[0m\u001b[0mdtype\u001b[0m\u001b[1;33m,\u001b[0m \u001b[1;34m\"tz\"\u001b[0m\u001b[1;33m,\u001b[0m \u001b[1;32mNone\u001b[0m\u001b[1;33m)\u001b[0m\u001b[1;33m)\u001b[0m\u001b[1;33m\u001b[0m\u001b[1;33m\u001b[0m\u001b[0m\n\u001b[0m\u001b[0;32m   4731\u001b[0m         \u001b[1;32mexcept\u001b[0m \u001b[0mKeyError\u001b[0m \u001b[1;32mas\u001b[0m \u001b[0me1\u001b[0m\u001b[1;33m:\u001b[0m\u001b[1;33m\u001b[0m\u001b[1;33m\u001b[0m\u001b[0m\n\u001b[0;32m   4732\u001b[0m             \u001b[1;32mif\u001b[0m \u001b[0mlen\u001b[0m\u001b[1;33m(\u001b[0m\u001b[0mself\u001b[0m\u001b[1;33m)\u001b[0m \u001b[1;33m>\u001b[0m \u001b[1;36m0\u001b[0m \u001b[1;32mand\u001b[0m \u001b[1;33m(\u001b[0m\u001b[0mself\u001b[0m\u001b[1;33m.\u001b[0m\u001b[0mholds_integer\u001b[0m\u001b[1;33m(\u001b[0m\u001b[1;33m)\u001b[0m \u001b[1;32mor\u001b[0m \u001b[0mself\u001b[0m\u001b[1;33m.\u001b[0m\u001b[0mis_boolean\u001b[0m\u001b[1;33m(\u001b[0m\u001b[1;33m)\u001b[0m\u001b[1;33m)\u001b[0m\u001b[1;33m:\u001b[0m\u001b[1;33m\u001b[0m\u001b[1;33m\u001b[0m\u001b[0m\n",
      "\u001b[1;32mpandas/_libs/index.pyx\u001b[0m in \u001b[0;36mpandas._libs.index.IndexEngine.get_value\u001b[1;34m()\u001b[0m\n",
      "\u001b[1;32mpandas/_libs/index.pyx\u001b[0m in \u001b[0;36mpandas._libs.index.IndexEngine.get_value\u001b[1;34m()\u001b[0m\n",
      "\u001b[1;32mpandas/_libs/index.pyx\u001b[0m in \u001b[0;36mpandas._libs.index.IndexEngine.get_loc\u001b[1;34m()\u001b[0m\n",
      "\u001b[1;32mpandas/_libs/index.pyx\u001b[0m in \u001b[0;36mpandas._libs.index.IndexEngine._get_loc_duplicates\u001b[1;34m()\u001b[0m\n",
      "\u001b[1;32mpandas/_libs/index.pyx\u001b[0m in \u001b[0;36mpandas._libs.index.IndexEngine._maybe_get_bool_indexer\u001b[1;34m()\u001b[0m\n",
      "\u001b[1;31mKeyError\u001b[0m: '33200'"
     ]
    }
   ],
   "source": [
    "neighborhoods= folium.Map(location=[latitude,longitude],zoom_start=10)\n",
    "for lat,long,bo,nei,geo in zip(dvf_values_grouped['latitude'],dvf_values_grouped['longitude'],dvf_values_grouped['town'],dvf_values_grouped['neighborhood'],dvf_values_grouped['Geometry']):\n",
    "    label=(f'{bo}\\n{nei}')\n",
    "    label=folium.Popup(label, parse_html=True, encoding=\"latin_1\")\n",
    "    #pour ajouter les limites des quartiers : \n",
    "    gj=folium.GeoJson(data=contenu,\n",
    "    name='avg_price',\n",
    "    style_function=lambda feature: {\n",
    "        'fillColor': colormap(price_dict[feature['properties']['code']]),\n",
    "        'color': 'black',\n",
    "        'weight': 1,\n",
    "        'dashArray': '5, 5',\n",
    "        'fillOpacity': 0.9,\n",
    "    })\n",
    "    gj.add_to(neighborhoods)\n",
    "\n",
    "    folium.CircleMarker(location=[lat,long],\n",
    "                        popup=label,\n",
    "                        radius=5,\n",
    "                        fill=True,\n",
    "                        fill_color='#3388ff',\n",
    "                        fill_opacity=1,\n",
    "                        parse_html=False).add_to(neighborhoods)\n",
    "colormap.caption = 'Price per square meter scale'\n",
    "colormap.add_to(neighborhoods)\n",
    "neighborhoods"
   ]
  },
  {
   "cell_type": "code",
   "execution_count": null,
   "metadata": {},
   "outputs": [],
   "source": []
  },
  {
   "cell_type": "code",
   "execution_count": null,
   "metadata": {},
   "outputs": [],
   "source": []
  },
  {
   "cell_type": "code",
   "execution_count": null,
   "metadata": {},
   "outputs": [],
   "source": []
  },
  {
   "cell_type": "code",
   "execution_count": null,
   "metadata": {},
   "outputs": [],
   "source": [
    "for index, value in enumerate(bordeaux_neighborhoods['neil_without_accent']):\n",
    "    if value in set(dvf_values_grouped['neighborhood']): \n",
    "        print('ok',value)\n",
    "    else : \n",
    "        print('############valeur non trouvée',value)"
   ]
  },
  {
   "cell_type": "markdown",
   "metadata": {},
   "source": [
    "valeurs non trouvée précédentes : \n",
    "############valeur non trouvée Beaudésert\n",
    "############valeur non trouvée Beutre\n",
    "############valeur non trouvée 3M-Bourgailh"
   ]
  },
  {
   "cell_type": "code",
   "execution_count": null,
   "metadata": {},
   "outputs": [],
   "source": [
    "for coord,nei in zip(dvf_values_grouped['cooor'],dvf_values_grouped['neighborhood']):\n",
    "    print(coord)\n",
    "    print(nei)\n",
    "    print()"
   ]
  },
  {
   "cell_type": "code",
   "execution_count": null,
   "metadata": {},
   "outputs": [],
   "source": [
    "temp.at[1,'feature']"
   ]
  },
  {
   "cell_type": "code",
   "execution_count": null,
   "metadata": {},
   "outputs": [],
   "source": [
    "temp=pd.DataFrame(columns=['neigborhood','feature'])\n",
    "temp['neigborhood']=dvf_values_grouped['neighborhood']\n",
    "i=0\n",
    "fea=\"Feature\"\n",
    "for coord,nei in zip(dvf_values_grouped['cooor'],dvf_values_grouped['neighborhood']):\n",
    "    temp['feature'][i]={ \"type\": fea, \"properties\":{\"nom\": nei }, \"geometry\":coord}\n",
    "    i+=1\n",
    "temp['feature'][0]"
   ]
  },
  {
   "cell_type": "code",
   "execution_count": null,
   "metadata": {},
   "outputs": [],
   "source": [
    "{ \"type\": \"Feature\", \n",
    " \"properties\": { \"nom\": \"Toctoucau\",\n",
    "                \"insee\": \"33318\",\n",
    "                \"mdate\": \"2016\\/12\\/02 10:36:56+01\",\n",
    "                \"valide\": \"1\",\n",
    "                \"quarpoli\": \"1\",\n",
    "                \"geo_point_2d\": [ 44.766930057000003, -0.73323694392500005 ],\n",
    "                \"cdate\": \"2016\\/03\\/31 19:45:28+02\",\n",
    "                \"gid\": 135 },\n",
    " \"geometry\": { \"type\": \"Polygon\",\n",
    "              \"coordinates\": [ [ [ -0.7236434, 44.7806362 ], [ -0.7263344, 44.7792995 ], [ -0.7291259, 44.7779141 ], [ -0.7307535, 44.7770885 ], [ -0.7332663, 44.7758391 ], [ -0.7338081, 44.7755676 ], [ -0.7338882, 44.7755114 ], [ -0.7339438, 44.7755508 ], [ -0.7339448, 44.7755444 ], [ -0.7339489, 44.7755483 ], [ -0.7343875, 44.7753319 ], [ -0.7403993, 44.7703313 ], [ -0.7408029, 44.77 ], [ -0.7441674, 44.7672699 ], [ -0.7512356, 44.7615481 ], [ -0.7517709, 44.761106 ], [ -0.7522809, 44.7606862 ], [ -0.752645, 44.7604251 ], [ -0.7587161, 44.7555004 ], [ -0.7531676, 44.7516568 ], [ -0.7506216, 44.7498913 ], [ -0.7501806, 44.7495772 ], [ -0.7501583, 44.7495867 ], [ -0.7461762, 44.7518437 ], [ -0.744993, 44.7525111 ], [ -0.7432294, 44.7535073 ], [ -0.7415752, 44.7544483 ], [ -0.7398473, 44.7554301 ], [ -0.7383658, 44.7562666 ], [ -0.7369807, 44.7570635 ], [ -0.7358568, 44.7577103 ], [ -0.7346792, 44.7583909 ], [ -0.733496, 44.7590618 ], [ -0.7334125, 44.7591081 ], [ -0.7318751, 44.7599938 ], [ -0.7310721, 44.7604924 ], [ -0.7301527, 44.7610626 ], [ -0.7298029, 44.7612852 ], [ -0.7292661, 44.7616309 ], [ -0.7286767, 44.7620095 ], [ -0.7279221, 44.7624933 ], [ -0.7267476, 44.7632629 ], [ -0.7255845, 44.7640322 ], [ -0.7247718, 44.7645895 ], [ -0.7238283, 44.7652324 ], [ -0.7226662, 44.7660241 ], [ -0.7219158, 44.7665402 ], [ -0.7213382, 44.7669292 ], [ -0.7206889, 44.7673742 ], [ -0.720003, 44.7678435 ], [ -0.7193501, 44.7682922 ], [ -0.718482, 44.7688798 ], [ -0.7173891, 44.7696183 ], [ -0.7163044, 44.7703693 ], [ -0.7159031, 44.7706509 ], [ -0.7153362, 44.7710018 ], [ -0.7147121, 44.7714001 ], [ -0.7141807, 44.7717303 ], [ -0.7140252, 44.7718271 ], [ -0.713864, 44.7719106 ], [ -0.7135251, 44.7720799 ], [ -0.7133895, 44.7721465 ], [ -0.7131956, 44.7722317 ], [ -0.7129189, 44.7723354 ], [ -0.7122732, 44.7725839 ], [ -0.7113451, 44.7729425 ], [ -0.7105917, 44.7732379 ], [ -0.7093439, 44.773723 ], [ -0.7085256, 44.7740317 ], [ -0.7076706, 44.7743628 ], [ -0.7090333, 44.775623 ], [ -0.7111102, 44.7775287 ], [ -0.7135943, 44.7797863 ], [ -0.7152666, 44.7813197 ], [ -0.7163516, 44.7822999 ], [ -0.7177187, 44.7835489 ], [ -0.7181763, 44.7839586 ], [ -0.7182575, 44.7838916 ], [ -0.719818, 44.7829206 ], [ -0.7201645, 44.7826982 ], [ -0.7214576, 44.7820243 ], [ -0.7234886, 44.7809898 ], [ -0.7236111, 44.7808838 ], [ -0.7236185, 44.7807896 ], [ -0.7235718, 44.7806851 ], [ -0.7236434, 44.7806362 ] ] ]\n",
    "             } \n",
    "},\n"
   ]
  },
  {
   "cell_type": "markdown",
   "metadata": {},
   "source": [
    "# Draft"
   ]
  },
  {
   "cell_type": "code",
   "execution_count": null,
   "metadata": {},
   "outputs": [],
   "source": [
    "for line in temp['feature'] :\n",
    "    print(line)\n",
    "    print()"
   ]
  },
  {
   "cell_type": "code",
   "execution_count": null,
   "metadata": {},
   "outputs": [],
   "source": [
    "with open (\"project_data/fichier2.json\",\"w\") as fichier:\n",
    "    fichier.write('{\"type\": \"FeatureCollection\",\"name\": \"test\",\"features\":[')\n",
    "    for line in temp['feature'] : \n",
    "        fichier.write(str(line)+',')\n",
    "    fichier.write(']}')\n",
    "with open (\"project_data/fichier2.json\",\"r\") as fichier:\n",
    "    contenu=fichier.read()\n",
    "    print(contenu)"
   ]
  },
  {
   "cell_type": "code",
   "execution_count": null,
   "metadata": {},
   "outputs": [],
   "source": [
    "with open('project_data/se_quart_s.json',encoding=\"UTF-8\") as json_data:\n",
    "    nei_data = json.load(json_data)"
   ]
  },
  {
   "cell_type": "code",
   "execution_count": null,
   "metadata": {},
   "outputs": [],
   "source": [
    "dvf_values_grouped['cooor'][0]"
   ]
  },
  {
   "cell_type": "code",
   "execution_count": null,
   "metadata": {},
   "outputs": [],
   "source": [
    "nei_data.keys()"
   ]
  },
  {
   "cell_type": "code",
   "execution_count": null,
   "metadata": {},
   "outputs": [],
   "source": [
    "df = pd.DataFrame([['a', 'b'], ['c', 'd']],\n",
    "                  index=['row 1', 'row 2'],\n",
    "                  columns=['col 1', 'col 2'])\n",
    "df.to_json(orient='index')"
   ]
  },
  {
   "cell_type": "code",
   "execution_count": null,
   "metadata": {},
   "outputs": [],
   "source": [
    "bordeaux_neighborhoods.columns"
   ]
  },
  {
   "cell_type": "code",
   "execution_count": null,
   "metadata": {},
   "outputs": [],
   "source": [
    "bordeaux_neighborhoods['Geometry'].astype(dict)"
   ]
  },
  {
   "cell_type": "code",
   "execution_count": null,
   "metadata": {},
   "outputs": [],
   "source": [
    "bordeaux_neighborhoods['Geometry']"
   ]
  },
  {
   "cell_type": "code",
   "execution_count": null,
   "metadata": {},
   "outputs": [],
   "source": [
    "temp=bordeaux_neighborhoods['Geometry'].str.split(':',expand=True)\n",
    "temp[[1,3]]=temp[1].str.split(',',expand=True)\n",
    "columns= ['typol','poly','data','coordo']\n",
    "temp.columns =columns\n",
    "temp['typol']='type'\n",
    "temp['poly']='Polygon'\n",
    "temp['coordo']='coordinates'\n",
    "temp['data'][0]=temp['data'][0][:-1]\n",
    "temp['geometry']=''\n",
    "#for index,value in enumerate(temp['typol']):\n",
    " #   temp.at[index,'typol']=value[2:6]\n",
    "i=0\n",
    "for typ,pol,dat,coo in zip(temp['typol'],temp['poly'],temp['data'],temp['coordo']):\n",
    "    temp['geometry'][i]={typ:pol,coo:dat}\n",
    "    i+=1\n",
    "#temp[\"{'type'\"]\n",
    "temp"
   ]
  },
  {
   "cell_type": "code",
   "execution_count": null,
   "metadata": {},
   "outputs": [],
   "source": [
    "temp['coordo'].value_counts()"
   ]
  },
  {
   "cell_type": "code",
   "execution_count": null,
   "metadata": {
    "scrolled": true
   },
   "outputs": [],
   "source": [
    "temp=bordeaux_neighborhoods['Geometry'].str.split(':',expand=True)\n",
    "temp[[1,3]]=temp[1].str.split(',',expand=True)\n",
    "columns= ['typol','poly','data','coordo']\n",
    "temp.columns =columns\n",
    "temp['typol']='type'\n",
    "temp['poly']='Polygon'\n",
    "temp['coordo']='coordinates'\n",
    "temp['data'][0]=temp['data'][0][:-1]\n",
    "temp['geometry']=''\n",
    "#for index,value in enumerate(temp['typol']):\n",
    " #   temp.at[index,'typol']=value[2:6]\n",
    "i=0\n",
    "for pol,dat in zip(temp['poly'],temp['data']):\n",
    "    dat=dat.replace(']',')')\n",
    "    temp.at[i,'geometry']=pol +dat.replace('[','(')\n",
    "    i+=1\n",
    "#temp[\"{'type'\"]\n",
    "temp"
   ]
  },
  {
   "cell_type": "code",
   "execution_count": null,
   "metadata": {},
   "outputs": [],
   "source": [
    "bordeaux_neighborhoods['INSEE'].values"
   ]
  },
  {
   "cell_type": "code",
   "execution_count": null,
   "metadata": {},
   "outputs": [],
   "source": [
    "bordeaux_neighborhoods[bordeaux_neighborhoods['Neighborhood']=='3M-Bourgailh']"
   ]
  },
  {
   "cell_type": "code",
   "execution_count": null,
   "metadata": {
    "scrolled": true
   },
   "outputs": [],
   "source": [
    "dvf_values_grouped['cooor'] =bordeaux_neighborhoods['Geometry']\n",
    "dvf_values_grouped"
   ]
  },
  {
   "cell_type": "code",
   "execution_count": null,
   "metadata": {},
   "outputs": [],
   "source": [
    "dvf_values_grouped[['INSEE','neighborhood','cooor']].to_json('test.json',orient='index')"
   ]
  },
  {
   "cell_type": "code",
   "execution_count": null,
   "metadata": {},
   "outputs": [],
   "source": []
  },
  {
   "cell_type": "code",
   "execution_count": null,
   "metadata": {},
   "outputs": [],
   "source": [
    "merged_file=merged_file.drop(columns=['Latitude','Longitude','latitude','longitude'])\n",
    "merged_file"
   ]
  },
  {
   "cell_type": "code",
   "execution_count": null,
   "metadata": {},
   "outputs": [],
   "source": [
    "for i in range (len(merged_file['Geometry'])) : \n",
    "    merged_file['geo'][i]=merged_file['Geometry'][i]['type']+'(('+ str(merged_file['Geometry'][i]['coordinates'])+'))'"
   ]
  },
  {
   "cell_type": "code",
   "execution_count": null,
   "metadata": {},
   "outputs": [],
   "source": [
    "merged_file['Geometry'][0]"
   ]
  },
  {
   "cell_type": "code",
   "execution_count": null,
   "metadata": {},
   "outputs": [],
   "source": [
    "#plot merged file. use dropna to remove any country with no revenue value\n",
    "ax = borde.dropna().plot(column='property_value', cmap =    \n",
    "                                'YlGnBu', figsize=(15,9),   \n",
    "                                 scheme='quantiles', k=3, legend =  \n",
    "                                  True);"
   ]
  },
  {
   "cell_type": "code",
   "execution_count": null,
   "metadata": {},
   "outputs": [],
   "source": [
    "bordeaux_neighborhoods.dropna(subset=['Geometry'],axis=0,inplace=True)"
   ]
  },
  {
   "cell_type": "code",
   "execution_count": null,
   "metadata": {
    "scrolled": false
   },
   "outputs": [],
   "source": [
    "with open('project_data/communes-33-gironde.geojson',encoding=\"UTF-8\") as json_data:\n",
    "    contenu = json.load(json_data)"
   ]
  },
  {
   "cell_type": "code",
   "execution_count": null,
   "metadata": {},
   "outputs": [],
   "source": [
    "contenu[51650:51678]"
   ]
  },
  {
   "cell_type": "code",
   "execution_count": 69,
   "metadata": {},
   "outputs": [
    {
     "ename": "TypeError",
     "evalue": "'float' object is not iterable",
     "output_type": "error",
     "traceback": [
      "\u001b[1;31m---------------------------------------------------------------------------\u001b[0m",
      "\u001b[1;31mTypeError\u001b[0m                                 Traceback (most recent call last)",
      "\u001b[1;32m<ipython-input-69-68bed9fbaa4a>\u001b[0m in \u001b[0;36m<module>\u001b[1;34m\u001b[0m\n\u001b[0;32m     11\u001b[0m     \u001b[0mfill_color\u001b[0m\u001b[1;33m=\u001b[0m\u001b[1;34m'YlOrRd'\u001b[0m\u001b[1;33m,\u001b[0m\u001b[1;33m\u001b[0m\u001b[1;33m\u001b[0m\u001b[0m\n\u001b[0;32m     12\u001b[0m     \u001b[0mfill_opacity\u001b[0m\u001b[1;33m=\u001b[0m\u001b[1;36m0.7\u001b[0m\u001b[1;33m,\u001b[0m\u001b[1;33m\u001b[0m\u001b[1;33m\u001b[0m\u001b[0m\n\u001b[1;32m---> 13\u001b[1;33m     \u001b[0mline_opacity\u001b[0m\u001b[1;33m=\u001b[0m\u001b[1;36m0.2\u001b[0m\u001b[1;33m\u001b[0m\u001b[1;33m\u001b[0m\u001b[0m\n\u001b[0m\u001b[0;32m     14\u001b[0m )\n\u001b[0;32m     15\u001b[0m \u001b[1;33m\u001b[0m\u001b[0m\n",
      "\u001b[1;32mc:\\users\\pierre beylard\\appdata\\local\\programs\\python\\python37\\lib\\site-packages\\folium\\folium.py\u001b[0m in \u001b[0;36mchoropleth\u001b[1;34m(self, *args, **kwargs)\u001b[0m\n\u001b[0;32m    416\u001b[0m         )\n\u001b[0;32m    417\u001b[0m         \u001b[1;32mfrom\u001b[0m \u001b[0mfolium\u001b[0m\u001b[1;33m.\u001b[0m\u001b[0mfeatures\u001b[0m \u001b[1;32mimport\u001b[0m \u001b[0mChoropleth\u001b[0m\u001b[1;33m\u001b[0m\u001b[1;33m\u001b[0m\u001b[0m\n\u001b[1;32m--> 418\u001b[1;33m         \u001b[0mself\u001b[0m\u001b[1;33m.\u001b[0m\u001b[0madd_child\u001b[0m\u001b[1;33m(\u001b[0m\u001b[0mChoropleth\u001b[0m\u001b[1;33m(\u001b[0m\u001b[1;33m*\u001b[0m\u001b[0margs\u001b[0m\u001b[1;33m,\u001b[0m \u001b[1;33m**\u001b[0m\u001b[0mkwargs\u001b[0m\u001b[1;33m)\u001b[0m\u001b[1;33m)\u001b[0m\u001b[1;33m\u001b[0m\u001b[1;33m\u001b[0m\u001b[0m\n\u001b[0m\u001b[0;32m    419\u001b[0m \u001b[1;33m\u001b[0m\u001b[0m\n\u001b[0;32m    420\u001b[0m     \u001b[1;32mdef\u001b[0m \u001b[0mkeep_in_front\u001b[0m\u001b[1;33m(\u001b[0m\u001b[0mself\u001b[0m\u001b[1;33m,\u001b[0m \u001b[1;33m*\u001b[0m\u001b[0margs\u001b[0m\u001b[1;33m)\u001b[0m\u001b[1;33m:\u001b[0m\u001b[1;33m\u001b[0m\u001b[1;33m\u001b[0m\u001b[0m\n",
      "\u001b[1;32mc:\\users\\pierre beylard\\appdata\\local\\programs\\python\\python37\\lib\\site-packages\\folium\\features.py\u001b[0m in \u001b[0;36m__init__\u001b[1;34m(self, geo_data, data, columns, key_on, bins, fill_color, nan_fill_color, fill_opacity, nan_fill_opacity, line_color, line_weight, line_opacity, name, legend_name, overlay, control, show, topojson, smooth_factor, highlight, **kwargs)\u001b[0m\n\u001b[0;32m   1068\u001b[0m             \u001b[0mcolor_data\u001b[0m \u001b[1;33m=\u001b[0m \u001b[0mdata\u001b[0m\u001b[1;33m.\u001b[0m\u001b[0mto_dict\u001b[0m\u001b[1;33m(\u001b[0m\u001b[1;33m)\u001b[0m\u001b[1;33m\u001b[0m\u001b[1;33m\u001b[0m\u001b[0m\n\u001b[0;32m   1069\u001b[0m         \u001b[1;32melif\u001b[0m \u001b[0mdata\u001b[0m\u001b[1;33m:\u001b[0m\u001b[1;33m\u001b[0m\u001b[1;33m\u001b[0m\u001b[0m\n\u001b[1;32m-> 1070\u001b[1;33m             \u001b[0mcolor_data\u001b[0m \u001b[1;33m=\u001b[0m \u001b[0mdict\u001b[0m\u001b[1;33m(\u001b[0m\u001b[0mdata\u001b[0m\u001b[1;33m)\u001b[0m\u001b[1;33m\u001b[0m\u001b[1;33m\u001b[0m\u001b[0m\n\u001b[0m\u001b[0;32m   1071\u001b[0m         \u001b[1;32melse\u001b[0m\u001b[1;33m:\u001b[0m\u001b[1;33m\u001b[0m\u001b[1;33m\u001b[0m\u001b[0m\n\u001b[0;32m   1072\u001b[0m             \u001b[0mcolor_data\u001b[0m \u001b[1;33m=\u001b[0m \u001b[1;32mNone\u001b[0m\u001b[1;33m\u001b[0m\u001b[1;33m\u001b[0m\u001b[0m\n",
      "\u001b[1;31mTypeError\u001b[0m: 'float' object is not iterable"
     ]
    }
   ],
   "source": [
    "with open('project_data/fichier2.json',encoding=\"UTF-8\") as json_data:\n",
    "    contenu = json.load(json_data)\n",
    "\n",
    "# create a plain world map\n",
    "world_map = folium.Map(location=[latitude, longitude], zoom_start=10, tiles='Mapbox Bright')\n",
    "# generate choropleth map using the total immigration of each country to Canada from 1980 to 2013\n",
    "for data,geo in zip(dvf_values_grouped['avg_price'],dvf_values_grouped['Geometry']):\n",
    "    world_map.choropleth(\n",
    "    geo_data=geo,\n",
    "    data=data,\n",
    "    fill_color='YlOrRd', \n",
    "    fill_opacity=0.7, \n",
    "    line_opacity=0.2\n",
    ")\n",
    "\n",
    "# display map\n",
    "world_map"
   ]
  },
  {
   "cell_type": "code",
   "execution_count": null,
   "metadata": {},
   "outputs": [],
   "source": [
    "with open('project_data/communes-33-gironde.geojson',encoding=\"UTF-8\") as json_data:\n",
    "    world_geo = json.load(json_data)\n",
    "\n",
    "# create a plain world map\n",
    "world_map = folium.Map(location=[latitude, longitude], zoom_start=10, tiles='Mapbox Bright')\n",
    "# generate choropleth map using the total immigration of each country to Canada from 1980 to 2013\n",
    "world_map.choropleth(\n",
    "    geo_data=world_geo,\n",
    "    data=dvf_values_grouped,\n",
    "    columns=['INSEE', 'avg_price'],\n",
    "    key_on='feature.properties.code',\n",
    "    fill_color='YlOrRd', \n",
    "    fill_opacity=0.7, \n",
    "    line_opacity=0.2\n",
    ")\n",
    "\n",
    "# display map\n",
    "world_map"
   ]
  },
  {
   "cell_type": "code",
   "execution_count": null,
   "metadata": {},
   "outputs": [],
   "source": [
    "world_geo"
   ]
  },
  {
   "cell_type": "code",
   "execution_count": null,
   "metadata": {},
   "outputs": [],
   "source": []
  },
  {
   "cell_type": "code",
   "execution_count": null,
   "metadata": {},
   "outputs": [],
   "source": []
  },
  {
   "cell_type": "code",
   "execution_count": null,
   "metadata": {},
   "outputs": [],
   "source": []
  },
  {
   "cell_type": "code",
   "execution_count": null,
   "metadata": {},
   "outputs": [],
   "source": []
  }
 ],
 "metadata": {
  "kernelspec": {
   "display_name": "Python 3",
   "language": "python",
   "name": "python3"
  },
  "language_info": {
   "codemirror_mode": {
    "name": "ipython",
    "version": 3
   },
   "file_extension": ".py",
   "mimetype": "text/x-python",
   "name": "python",
   "nbconvert_exporter": "python",
   "pygments_lexer": "ipython3",
   "version": "3.7.5"
  }
 },
 "nbformat": 4,
 "nbformat_minor": 2
}
